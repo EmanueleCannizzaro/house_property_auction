{
 "cells": [
  {
   "cell_type": "code",
   "execution_count": 1,
   "id": "0249c7af-8d3b-415f-bd09-26d40142f8bb",
   "metadata": {},
   "outputs": [],
   "source": [
    "%load_ext autoreload\n",
    "%autoreload 2"
   ]
  },
  {
   "cell_type": "code",
   "execution_count": 11,
   "id": "5fd85159-9cfc-49ac-bd73-2810ebdea690",
   "metadata": {},
   "outputs": [],
   "source": [
    "import os\n",
    "import pandas as pd\n",
    "\n",
    "from property_scraper.pdf import check_all_files, extract_text_from_pdf"
   ]
  },
  {
   "cell_type": "code",
   "execution_count": 8,
   "id": "e9b205f1-6fcd-4c05-94c9-54d3b9cd7e07",
   "metadata": {},
   "outputs": [],
   "source": [
    "folder = '../www/pvp/documents'"
   ]
  },
  {
   "cell_type": "code",
   "execution_count": 9,
   "id": "ab564668-b5f8-4a4e-a3fe-c3cbd77d9878",
   "metadata": {},
   "outputs": [
    {
     "data": {
      "application/vnd.jupyter.widget-view+json": {
       "model_id": "04357f9c52bc45e58bab8f00e4419aa7",
       "version_major": 2,
       "version_minor": 0
      },
      "text/plain": [
       "  0%|          | 0/10 [00:00<?, ?it/s]"
      ]
     },
     "metadata": {},
     "output_type": "display_data"
    },
    {
     "name": "stdout",
     "output_type": "stream",
     "text": [
      "Total Text Area : 0.0, Total Image Area : 749840.0\n",
      "Total Text Area : 8850.390004451387, Total Image Area : 922949.006653564\n",
      "Total Text Area : 4391077.113166746, Total Image Area : 0.0\n",
      "Total Text Area : 60411.83959576918, Total Image Area : 2590696.457489161\n",
      "Total Text Area : 0.0, Total Image Area : 0.0\n",
      "Total Text Area : 5366541.928908933, Total Image Area : 592580.8186668637\n",
      "Total Text Area : 40849.53597495463, Total Image Area : 1144398.6255519204\n",
      "Total Text Area : 222156.5374589215, Total Image Area : 1696291.8048228614\n",
      "Total Text Area : 5818086.475712233, Total Image Area : 160982.5939620207\n",
      "Total Text Area : 1125170.1528644487, Total Image Area : 8100.0\n"
     ]
    }
   ],
   "source": [
    "results = check_all_files(folder)"
   ]
  },
  {
   "cell_type": "code",
   "execution_count": 31,
   "id": "670a9624-aadb-4d40-83b7-34bd7334c1a5",
   "metadata": {},
   "outputs": [
    {
     "name": "stdout",
     "output_type": "stream",
     "text": [
      "\n",
      "Document contains 3 pages.\n",
      "The following informations area stored in the file: \n",
      "Foto 230_2014 L9\n",
      "19697512f8d33c63792bfd2393d82c8c.pdf ->  Il retro dello stabile di cui l’immobile è parte  \n",
      " Il portico interno su cui si affacciano le vetrine  Ambiente principale  \n",
      " Ambiente principale   Ambiente principale  \n",
      " Bagno \n",
      "\n",
      "\n",
      "Document contains 13 pages.\n",
      "The following informations area stored in the file: \n",
      "paolo\n",
      "Bullzip PDF Printer (12.0.0.2872)\n",
      "PDF Printer / www.bullzip.com / FG / Freeware Edition (max 10 users)\n",
      "Microsoft Word - Avviso vendita 15-07-21 - Categoria A ver.24-04-21\n",
      "8d6c92efa081bc21e2aaffa7703d70a1.pdf -> 1 TRIBUNALE DI GENOVA \n",
      "SEZIONE VII CIVILE \n",
      "UFFICIO ESECUZIONI IMMOBILIARI \n",
      " \n",
      "AVVISO DI VENDITA \n",
      " \n",
      "Nella procedura esecutiva immobiliare R.G.E. N.708/2015 . \n",
      "IL GIUDICE DELL’ESECUZIONE, DOTT. ANDREA BALBA, HA DELEGATO le \n",
      "operazioni di vendita al professionista Rag. Paolo Pedrazzi,  con studio in Genova, Via \n",
      "Fieschi 20/1, telefono 0105705425 – 0105705825, e-mail pedrazzi@santiepedrazzi.com  di \n",
      "pr\n",
      "\n",
      "\n",
      "Document contains 9 pages.\n",
      "The following informations area stored in the file: \n",
      "Anteprima\n",
      "Mac OS X 10.11.6 Quartz PDFContext; modified using iText 2.1.7 by 1T3XT\n",
      "ALLEGATO\n",
      "8763ba1065f63b39dc9cb4e8ca7720fc.pdf -> * Scala originale non disponibile. *\n",
      "Ultima planimetria in attiData presentazione:10/12/1992 - Data: 21/05/2018 - n. T255433 - Richiedente: CHVMRA75C17A944RData presentazione:10/12/1992 - Data: 21/05/2018 - n. T255433 - Richiedente: CHVMRA75C17A944R\n",
      "Totale schede: 3 - Formato di acquisizione: A3(297x420)  - Formato stampa richiesto: A4(210x297)\n",
      "Catasto dei Fabbricati - Situazione al 21/05/2018 - C\n",
      "\n",
      "\n",
      "Document contains 23 pages.\n",
      "The following informations area stored in the file: \n",
      "Cristina Tabacchi\n",
      "Microsoft® Word 2016\n",
      "Microsoft® Word 2016; modified using iText® 5.5.13 ©2000-2018 iText Group NV (AGPL-version)\n",
      "bf31c0e80e9e7ae1ad4c590a52c5ba2e.pdf -> BANCA  Banco di Sardegna  \n",
      "Ribadita la concessione del  privilegio fondiario ove richiesto;  \n",
      "APPORTA i seguenti aggiornamenti di delega e istruzioni (vers. 2jul21)  \n",
      " \n",
      "1) La modalità dell’asta sarà quella sincrona mista di cui al  d.m. 32 \n",
      "del 2015;  \n",
      "2) Per la modulistica inerente gli AVVISI DI VENDITA, le relazioni \n",
      "periodiche da inoltrare, gli adempimenti per la liberazione ex art. 560 c.p.c. \n",
      "\n",
      "\n",
      "Document contains 7 pages.\n",
      "The following informations area stored in the file: \n",
      "Bernardetta\n",
      "PDF Architect 4\n",
      "iLovePDF; modified using iText 2.1.7 by 1T3XT\n",
      "ALLEGATO\n",
      "acc84a5a95ffb8406df059a8807abbf5.pdf -> ES RG N. 103 / 20 -  LOTTO UNICO  -  UNITA'  IMMOBILIAR E  (APPARTAMENTO  AL  PIANO SECONDO  E  CANTINA  \n",
      "AL  PIANO INTERRATO ),  EDIFICIO SITO NEL  COMUNE DI BOLOGNA ,  VIA FRASSINAGO  N. 8  \n",
      " \n",
      "Vista aerea della zona  \n",
      " \n",
      "Vista del fabbricato dalla strada Comunale  di via Frassinago  \n",
      " \n",
      "Vista del cortile interno  \n",
      " \n",
      "Vista  dello stabile dov’è ubicata l’unità immobiliare  \n",
      " \n",
      "Vista  del pianerottolo\n",
      "\n",
      "\n",
      "Document contains 6 pages.\n",
      "The following informations area stored in the file: \n",
      "Utente3\n",
      "PDFCreator 3.2.0.11758\n",
      "PDFCreator 3.2.0.11758\n",
      "\n",
      "allegati lotto a\n",
      "089e649a0fa3815597e36c133bd641d3.pdf -> ESEC. IMM. R.ES. 502/2015 \n",
      "C.T.U. Arch. Stefania Martino  \n",
      "     Documentazione fotografica Immobile sito a Palermo in Via Bernardo Cabrera n.29 P.2° - LOTTO A \n",
      " \n",
      "     \n",
      "Portoncino di ingresso al civico 29 di Via Bernardo Cabrera e vano  scala \n",
      " \n",
      " \n",
      "      \n",
      "Porta di ingresso blindata     Vano ingresso     \n",
      "Firmato Da: MARTINO STEFANIA Emesso Da: ARUBAPEC S.P.A. NG CA 3 Serial#: 723a0eb2d83c57bacf18f0f\n",
      "\n",
      "\n",
      "Document contains 20 pages.\n",
      "The following informations area stored in the file: \n",
      "Magistrati\n",
      "Microsoft® Word per Microsoft 365\n",
      "Microsoft® Word per Microsoft 365; modified using iText® 5.5.13 ©2000-2018 iText Group NV (AGPL-version)\n",
      " \n",
      "6982c3089005b65f401119e0ffeca526.pdf ->  \n",
      "TRIBUNALE DI GENOVA  \n",
      "Sezione VII Civile  \n",
      "Ufficio Esecuzioni Immobiliari  \n",
      " \n",
      "  \n",
      "Nel procedimento espropriativo iscritto al nr. R.G.  169/2020    \n",
      " \n",
      "Il Giudice  dell’Esecuzione  \n",
      "Letta l’istanza depositata nella presente procedura esecutiva, con la quale si chiede di \n",
      "procedere alla vendita forzata dei beni pignorati ai sensi degli artt. 567 e ss. c.p.c. ; \n",
      "Rilevato che l’esperto ausiliario nomi\n",
      "\n",
      "\n",
      "Document contains 9 pages.\n",
      "The following informations area stored in the file: \n",
      ".\n",
      "Writer\n",
      "LibreOffice 5.2; modified using iText® 5.4.5 ©2000-2013 1T3XT BVBA (AGPL-version)\n",
      "RIFERIMENTI FOTOGRAFICI\n",
      "375366850ffd4542f4132bfdd5ddbcb1.pdf -> - 1 -\n",
      "TRIBUNALE CIVILE DI GENOVA\n",
      "UFFICIO ESECUZIONI IMMOBILIARI\n",
      "G.E. Dott. R. BONINO\n",
      "ESECUZIONE R.E. n° 458/2017\n",
      "*****\n",
      "Procedura promossa da:\n",
      "Condominio Via Fassicomo 3\n",
      "contro:\n",
      "MAZZEO Daniel\n",
      "*****\n",
      "RELAZIONE TECNICA DEL C.T.U.\n",
      "GENERALITÀ - QUESITO E GIURAMENTO\n",
      "Il sottoscritto Geom. Jonny Antichi, libero professionista con studio in Via Carlo Barabino\n",
      "30/2 (GE), iscritto al Collegio dei Geometri del\n",
      "\n"
     ]
    }
   ],
   "source": [
    "contents = {}\n",
    "n = 400\n",
    "for key in results.keys():\n",
    "    if results[key]:\n",
    "        print()\n",
    "        filename = os.path.join(folder, key)\n",
    "        contents[key] = extract_text_from_pdf(filename)\n",
    "        print(f'{key} -> {contents[key][:n]}' + '\\n')"
   ]
  },
  {
   "cell_type": "code",
   "execution_count": null,
   "id": "8b60f3b7-ccda-4e89-8086-c998405afe92",
   "metadata": {},
   "outputs": [],
   "source": []
  }
 ],
 "metadata": {
  "kernelspec": {
   "display_name": "Python 3.10 (py310)",
   "language": "python",
   "name": "py310"
  },
  "language_info": {
   "codemirror_mode": {
    "name": "ipython",
    "version": 3
   },
   "file_extension": ".py",
   "mimetype": "text/x-python",
   "name": "python",
   "nbconvert_exporter": "python",
   "pygments_lexer": "ipython3",
   "version": "3.10.4"
  }
 },
 "nbformat": 4,
 "nbformat_minor": 5
}
