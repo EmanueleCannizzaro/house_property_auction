{
 "cells": [
  {
   "cell_type": "code",
   "execution_count": 1,
   "id": "82727e32-5075-460f-91db-668033faf9fc",
   "metadata": {},
   "outputs": [],
   "source": [
    "%load_ext autoreload\n",
    "%autoreload 2"
   ]
  },
  {
   "cell_type": "markdown",
   "id": "69e5d0ed-eef6-46a2-afeb-6c133d7190b0",
   "metadata": {},
   "source": [
    "# [Recrowd](https://www.recrowd.com)"
   ]
  },
  {
   "cell_type": "code",
   "execution_count": 2,
   "id": "04a941c5-e3f2-4fbc-904e-3684eaa8c793",
   "metadata": {},
   "outputs": [],
   "source": [
    "import json\n",
    "import locale\n",
    "import os\n",
    "import pandas as pd\n",
    "from tqdm.auto import tqdm\n",
    "\n",
    "from property_scraper.recrowd_scraper import RecrowdScraper"
   ]
  },
  {
   "cell_type": "code",
   "execution_count": 3,
   "id": "372f8f70-c590-425c-a80d-f8783f2292a4",
   "metadata": {},
   "outputs": [],
   "source": [
    "pd.set_option('display.max_colwidth', None)"
   ]
  },
  {
   "cell_type": "code",
   "execution_count": 4,
   "id": "c3cdbc19-1acc-401c-aed1-5dd962b8b897",
   "metadata": {},
   "outputs": [],
   "source": [
    "first_execution_flag = True"
   ]
  },
  {
   "cell_type": "code",
   "execution_count": 5,
   "id": "a217d5df-514d-4246-a02f-76be55877b77",
   "metadata": {},
   "outputs": [],
   "source": [
    "scraper = RecrowdScraper()"
   ]
  },
  {
   "cell_type": "code",
   "execution_count": 6,
   "id": "662783f6-7696-47b6-9feb-57ae8a88aa0a",
   "metadata": {},
   "outputs": [],
   "source": [
    "await scraper.init()"
   ]
  },
  {
   "cell_type": "code",
   "execution_count": 7,
   "id": "9a7c1da3-5493-46ef-9c45-84fc90113a3d",
   "metadata": {},
   "outputs": [
    {
     "name": "stdout",
     "output_type": "stream",
     "text": [
      "/home/emanuele/property_scraper.json\n"
     ]
    }
   ],
   "source": [
    "configuration_filename = os.path.join(os.path.expanduser('~'), 'property_scraper.json')\n",
    "print(configuration_filename)"
   ]
  },
  {
   "cell_type": "code",
   "execution_count": 8,
   "id": "a513b350-3902-49b8-bcea-99e0bc4dd1aa",
   "metadata": {},
   "outputs": [
    {
     "name": "stdout",
     "output_type": "stream",
     "text": [
      "dict_keys(['username', 'password', 'purchase_tax', 'cadastal_value', 'real_estate_capital_gain', 'dry_coupon', 'planimetric_surfaces', 'income_capitalization', 'real_estate_profitability', 'bare_ownership_value', 'commercial_surface_coefficients', 'real_estate_trading_business_plan', 'inheritance_shares'])\n"
     ]
    }
   ],
   "source": [
    "scraper.configuration = scraper.read_configuration(configuration_filename)"
   ]
  },
  {
   "cell_type": "code",
   "execution_count": 9,
   "id": "d06701cb-7ae0-4796-94ec-54b898bd1922",
   "metadata": {},
   "outputs": [],
   "source": [
    "#await scraper.login()\n",
    "#self = scraper"
   ]
  },
  {
   "cell_type": "code",
   "execution_count": 12,
   "id": "0ce96b66-ca66-4435-a7f9-13d1ac21c403",
   "metadata": {},
   "outputs": [],
   "source": [
    "label = 'controlla tutti i movimenti >'\n",
    "await scraper.page.get_by_text(label).click()"
   ]
  },
  {
   "cell_type": "code",
   "execution_count": 44,
   "id": "4f4175a8-f024-420e-9fbb-5a7a1651ecb5",
   "metadata": {},
   "outputs": [
    {
     "name": "stdout",
     "output_type": "stream",
     "text": [
      "13\n"
     ]
    },
    {
     "data": {
      "application/vnd.jupyter.widget-view+json": {
       "model_id": "6f4507b997a24565a8291d1f4e50033f",
       "version_major": 2,
       "version_minor": 0
      },
      "text/plain": [
       "  0%|          | 0/13 [00:00<?, ?it/s]"
      ]
     },
     "metadata": {},
     "output_type": "display_data"
    },
    {
     "data": {
      "text/html": [
       "<div>\n",
       "<style scoped>\n",
       "    .dataframe tbody tr th:only-of-type {\n",
       "        vertical-align: middle;\n",
       "    }\n",
       "\n",
       "    .dataframe tbody tr th {\n",
       "        vertical-align: top;\n",
       "    }\n",
       "\n",
       "    .dataframe thead th {\n",
       "        text-align: right;\n",
       "    }\n",
       "</style>\n",
       "<table border=\"1\" class=\"dataframe\">\n",
       "  <thead>\n",
       "    <tr style=\"text-align: right;\">\n",
       "      <th></th>\n",
       "      <th>Data</th>\n",
       "      <th>Tipologia</th>\n",
       "      <th>Azione</th>\n",
       "      <th>Importo</th>\n",
       "    </tr>\n",
       "  </thead>\n",
       "  <tbody>\n",
       "    <tr>\n",
       "      <th>0</th>\n",
       "      <td>2022-08-02</td>\n",
       "      <td>Investimento progetto \"VIA TAZZOLI\"</td>\n",
       "      <td>Investment</td>\n",
       "      <td>-500.00</td>\n",
       "    </tr>\n",
       "    <tr>\n",
       "      <th>3</th>\n",
       "      <td>2023-08-02</td>\n",
       "      <td>Restituzione rata n.4 del progetto MARINA DI SCARLINO 2</td>\n",
       "      <td>Investment</td>\n",
       "      <td>32.51</td>\n",
       "    </tr>\n",
       "    <tr>\n",
       "      <th>4</th>\n",
       "      <td>2023-08-02</td>\n",
       "      <td>Restituzione rata n.8 - tranche 1 del progetto VIA PONCHIELLI</td>\n",
       "      <td>Investment</td>\n",
       "      <td>52.00</td>\n",
       "    </tr>\n",
       "    <tr>\n",
       "      <th>0</th>\n",
       "      <td>2023-02-02</td>\n",
       "      <td>STORNO (PID: 119) Ritenuta acconto rata 2 del progetto MARINA DI SCARLINO</td>\n",
       "      <td>Investment</td>\n",
       "      <td>26.40</td>\n",
       "    </tr>\n",
       "    <tr>\n",
       "      <th>1</th>\n",
       "      <td>2023-02-02</td>\n",
       "      <td>Restituzione rata n.2 - tranche 1 del progetto VIA PONCHIELLI</td>\n",
       "      <td>Investment</td>\n",
       "      <td>52.00</td>\n",
       "    </tr>\n",
       "  </tbody>\n",
       "</table>\n",
       "</div>"
      ],
      "text/plain": [
       "        Data  \\\n",
       "0 2022-08-02   \n",
       "3 2023-08-02   \n",
       "4 2023-08-02   \n",
       "0 2023-02-02   \n",
       "1 2023-02-02   \n",
       "\n",
       "                                                                   Tipologia  \\\n",
       "0                                        Investimento progetto \"VIA TAZZOLI\"   \n",
       "3                    Restituzione rata n.4 del progetto MARINA DI SCARLINO 2   \n",
       "4              Restituzione rata n.8 - tranche 1 del progetto VIA PONCHIELLI   \n",
       "0  STORNO (PID: 119) Ritenuta acconto rata 2 del progetto MARINA DI SCARLINO   \n",
       "1              Restituzione rata n.2 - tranche 1 del progetto VIA PONCHIELLI   \n",
       "\n",
       "       Azione  Importo  \n",
       "0  Investment  -500.00  \n",
       "3  Investment    32.51  \n",
       "4  Investment    52.00  \n",
       "0  Investment    26.40  \n",
       "1  Investment    52.00  "
      ]
     },
     "metadata": {},
     "output_type": "display_data"
    }
   ],
   "source": [
    "scraper.data = await scraper.extract_data()"
   ]
  },
  {
   "cell_type": "code",
   "execution_count": 45,
   "id": "11b30368-640a-450c-8bcc-c92150a3a94e",
   "metadata": {},
   "outputs": [
    {
     "name": "stdout",
     "output_type": "stream",
     "text": [
      "/home/emanuele/Downloads/recrowd.xlsx\n"
     ]
    }
   ],
   "source": [
    "filename = os.path.join(os.path.expanduser('~'), 'gdrive/eeee/emanuele/finance', 'recrowd.xlsx')\n",
    "print(filename)"
   ]
  },
  {
   "cell_type": "code",
   "execution_count": 21,
   "id": "6ebd7500-8af3-430e-b2eb-ddee26681705",
   "metadata": {},
   "outputs": [
    {
     "name": "stdout",
     "output_type": "stream",
     "text": [
      "/home/emanuele/Downloads/recrowd.xlsx\n"
     ]
    }
   ],
   "source": [
    "if 0 == 1:\n",
    "    filename = os.path.join(os.path.expanduser('~'), 'Downloads', 'recrowd.xlsx')\n",
    "    print(filename)\n",
    "    df = pd.read_excel(filename)"
   ]
  },
  {
   "cell_type": "code",
   "execution_count": null,
   "id": "2a06cab8-8d51-46b5-b490-8856d6615694",
   "metadata": {},
   "outputs": [],
   "source": []
  }
 ],
 "metadata": {
  "kernelspec": {
   "display_name": "Python 3.11 (py311)",
   "language": "python",
   "name": "py311"
  },
  "language_info": {
   "codemirror_mode": {
    "name": "ipython",
    "version": 3
   },
   "file_extension": ".py",
   "mimetype": "text/x-python",
   "name": "python",
   "nbconvert_exporter": "python",
   "pygments_lexer": "ipython3",
   "version": "3.11.0"
  }
 },
 "nbformat": 4,
 "nbformat_minor": 5
}
