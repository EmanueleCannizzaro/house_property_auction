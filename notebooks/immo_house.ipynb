{
 "cells": [
  {
   "cell_type": "markdown",
   "id": "9816442d",
   "metadata": {},
   "source": [
    "# Analyse des loyers parisiens"
   ]
  },
  {
   "cell_type": "code",
   "execution_count": 1,
   "id": "180e60cd-7445-428d-aea1-dd281874443b",
   "metadata": {},
   "outputs": [
    {
     "name": "stderr",
     "output_type": "stream",
     "text": [
      "/home/emanuele/.conda/envs/py310/lib/python3.10/site-packages/marshmallow/schema.py:200: ChangedInMarshmallow3Warning: The dateformat option is renamed to datetimeformat in marshmallow 3.\n",
      "  warnings.warn(\n"
     ]
    }
   ],
   "source": [
    "import property_scraper\n",
    "from property_scraper.immobilier_notaires_house import House"
   ]
  },
  {
   "cell_type": "code",
   "execution_count": 2,
   "id": "6b3d50fd-9050-453e-802e-835eb65fa0ec",
   "metadata": {},
   "outputs": [],
   "source": [
    "house = House()"
   ]
  },
  {
   "cell_type": "code",
   "execution_count": 3,
   "id": "ed856832-414f-4d84-8d65-0c18edbece81",
   "metadata": {},
   "outputs": [],
   "source": [
    "results = house.get_pages()"
   ]
  },
  {
   "cell_type": "code",
   "execution_count": 4,
   "id": "2aa1d09d",
   "metadata": {},
   "outputs": [
    {
     "ename": "FileNotFoundError",
     "evalue": "[Errno 2] No such file or directory: 'data'",
     "output_type": "error",
     "traceback": [
      "\u001b[0;31m---------------------------------------------------------------------------\u001b[0m",
      "\u001b[0;31mFileNotFoundError\u001b[0m                         Traceback (most recent call last)",
      "Input \u001b[0;32mIn [4]\u001b[0m, in \u001b[0;36m<cell line: 1>\u001b[0;34m()\u001b[0m\n\u001b[0;32m----> 1\u001b[0m results \u001b[38;5;241m=\u001b[39m \u001b[43mhouse\u001b[49m\u001b[38;5;241;43m.\u001b[39;49m\u001b[43mparse_pages\u001b[49m\u001b[43m(\u001b[49m\u001b[43m)\u001b[49m\n",
      "File \u001b[0;32m~/.conda/envs/py310/lib/python3.10/site-packages/property_scraper/immobilier_notaires_house.py:83\u001b[0m, in \u001b[0;36mHouse.parse_pages\u001b[0;34m(self)\u001b[0m\n\u001b[1;32m     77\u001b[0m \u001b[38;5;124;03m\"\"\"Parse all pages from the data folder\u001b[39;00m\n\u001b[1;32m     78\u001b[0m \n\u001b[1;32m     79\u001b[0m \u001b[38;5;124;03mReturns:\u001b[39;00m\n\u001b[1;32m     80\u001b[0m \u001b[38;5;124;03m    pd.DataFrame: parsed data\u001b[39;00m\n\u001b[1;32m     81\u001b[0m \u001b[38;5;124;03m\"\"\"\u001b[39;00m\n\u001b[1;32m     82\u001b[0m results \u001b[38;5;241m=\u001b[39m pd\u001b[38;5;241m.\u001b[39mDataFrame()\n\u001b[0;32m---> 83\u001b[0m pages_paths \u001b[38;5;241m=\u001b[39m \u001b[43mos\u001b[49m\u001b[38;5;241;43m.\u001b[39;49m\u001b[43mlistdir\u001b[49m\u001b[43m(\u001b[49m\u001b[38;5;124;43m\"\u001b[39;49m\u001b[38;5;124;43mdata\u001b[39;49m\u001b[38;5;124;43m\"\u001b[39;49m\u001b[43m)\u001b[49m\n\u001b[1;32m     84\u001b[0m \u001b[38;5;28;01mfor\u001b[39;00m pages_path \u001b[38;5;129;01min\u001b[39;00m pages_paths:\n\u001b[1;32m     85\u001b[0m     \u001b[38;5;28;01mwith\u001b[39;00m \u001b[38;5;28mopen\u001b[39m(os\u001b[38;5;241m.\u001b[39mpath\u001b[38;5;241m.\u001b[39mjoin(\u001b[38;5;124m\"\u001b[39m\u001b[38;5;124mdata\u001b[39m\u001b[38;5;124m\"\u001b[39m, pages_path), \u001b[38;5;124m\"\u001b[39m\u001b[38;5;124mrb\u001b[39m\u001b[38;5;124m\"\u001b[39m) \u001b[38;5;28;01mas\u001b[39;00m f_in:\n",
      "\u001b[0;31mFileNotFoundError\u001b[0m: [Errno 2] No such file or directory: 'data'"
     ]
    }
   ],
   "source": [
    "results = house.parse_pages()"
   ]
  },
  {
   "cell_type": "code",
   "execution_count": null,
   "id": "e75d7971",
   "metadata": {},
   "outputs": [],
   "source": [
    "results"
   ]
  },
  {
   "cell_type": "code",
   "execution_count": null,
   "id": "0bf8d30f",
   "metadata": {},
   "outputs": [],
   "source": [
    "results.describe()"
   ]
  },
  {
   "cell_type": "code",
   "execution_count": null,
   "id": "3c1508f5",
   "metadata": {},
   "outputs": [],
   "source": [
    "results[\"loyer / m²\"] = results[\"loyer (€)\"] / results[\"surface (m²)\"]\n",
    "results.describe()"
   ]
  },
  {
   "cell_type": "code",
   "execution_count": null,
   "id": "89cb4e95",
   "metadata": {},
   "outputs": [],
   "source": [
    "results.groupby(\"emplacement\")[\"loyer / m²\"].mean().sort_values(ascending=False)"
   ]
  },
  {
   "cell_type": "code",
   "execution_count": null,
   "id": "b1287d76",
   "metadata": {},
   "outputs": [],
   "source": [
    "import seaborn as sns\n",
    "import matplotlib.pyplot as plt\n",
    "plt.rcParams[\"figure.figsize\"] = (8,4.5)\n",
    "\n",
    "sns.violinplot(x=\"nb_pieces\", y=\"loyer / m²\", data=results[results[\"emplacement\"] < \"75007\"])"
   ]
  },
  {
   "cell_type": "code",
   "execution_count": null,
   "id": "ca80795a",
   "metadata": {
    "scrolled": true
   },
   "outputs": [],
   "source": [
    "homes = results.groupby([\"emplacement\", \"nb_pieces\"])[\"loyer / m²\"].mean().to_frame()\n",
    "homes = homes.reset_index()\n",
    "homes = homes.pivot(\"emplacement\", \"nb_pieces\", \"loyer / m²\")\n",
    "sns.heatmap(homes, annot=True, cmap=\"YlGnBu\")"
   ]
  }
 ],
 "metadata": {
  "kernelspec": {
   "display_name": "Python 3.10 (py310)",
   "language": "python",
   "name": "py310"
  },
  "language_info": {
   "codemirror_mode": {
    "name": "ipython",
    "version": 3
   },
   "file_extension": ".py",
   "mimetype": "text/x-python",
   "name": "python",
   "nbconvert_exporter": "python",
   "pygments_lexer": "ipython3",
   "version": "3.10.4"
  }
 },
 "nbformat": 4,
 "nbformat_minor": 5
}
