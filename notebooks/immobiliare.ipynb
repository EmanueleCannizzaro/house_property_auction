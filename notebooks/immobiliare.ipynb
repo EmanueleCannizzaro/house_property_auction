{
 "cells": [
  {
   "cell_type": "code",
   "execution_count": 1,
   "id": "2e4135fe-d713-4340-bfec-99b48db49a04",
   "metadata": {},
   "outputs": [],
   "source": [
    "from bs4 import BeautifulSoup\n",
    "import requests\n",
    "\n",
    "from property_scraper import DEFAULT_HTML_PARSER, RIGHTMOVE_URL_ROOTNAME, add_classes"
   ]
  },
  {
   "cell_type": "code",
   "execution_count": 54,
   "id": "c38ca77e-dc0d-40fd-aea5-4e50415c87ed",
   "metadata": {},
   "outputs": [],
   "source": [
    "#url = \"https://www.rightmove.co.uk/property-for-sale/find.html?locationIdentifier=REGION%5E219&minBedrooms=1&sortType=1&propertyTypes=&includeSSTC=false&mustHave=&dontShow=&furnishTypes=&keywords=\"\n",
    "#url = 'https://www.rightmove.co.uk/property-for-sale/find.html?locationIdentifier=REGION%5E219&minBedrooms=2&maxPrice=125000&minPrice=20000&propertyTypes=detached%2Cflat%2Csemi-detached%2Cterraced&includeSSTC=false&mustHave=&dontShow=&furnishTypes=&keywords='\n",
    "url = 'https://www.immobiliare.it/vendita-case/ravenna/?criterio=rilevanza'\n",
    "url = 'https://www.immobiliare.it/vendita-case/ravenna/?criterio=rilevanza&prezzoMinimo=60000&prezzoMassimo=140000&superficieMinima=80&bagni=2'\n",
    "url = 'https://www.immobiliare.it/vendita-case/ravenna/?criterio=rilevanza&pag=2&prezzoMinimo=60000&prezzoMassimo=140000&superficieMinima=80&bagni=2'\n",
    "#url = \"https://www.rightmove.co.uk/properties/130942031#/?channel=RES_BUY\""
   ]
  },
  {
   "cell_type": "code",
   "execution_count": 55,
   "id": "5ccfe8ca-1d0a-4a7a-bc1c-8cd5182e2145",
   "metadata": {},
   "outputs": [],
   "source": [
    "r = requests.get(url)\n",
    "# Requests to scrape lots of pages eventually get status 400, so:\n",
    "if r.status_code != 200:\n",
    "    raise ValueError('The request status code is {r.status_code}.')"
   ]
  },
  {
   "cell_type": "code",
   "execution_count": 56,
   "id": "83ae5f60-9905-4e27-b729-f2c52123d869",
   "metadata": {},
   "outputs": [
    {
     "data": {
      "text/plain": [
       "200"
      ]
     },
     "execution_count": 56,
     "metadata": {},
     "output_type": "execute_result"
    }
   ],
   "source": [
    "r.status_code"
   ]
  },
  {
   "cell_type": "code",
   "execution_count": 57,
   "id": "3f51a9e5-441b-4b56-a9f1-802086de376c",
   "metadata": {},
   "outputs": [],
   "source": [
    "#!ls ../data/rightmove/BS10\n",
    "#r.content"
   ]
  },
  {
   "cell_type": "code",
   "execution_count": null,
   "id": "4e5092e7-b837-49fe-9a29-549355817cbe",
   "metadata": {},
   "outputs": [],
   "source": []
  },
  {
   "cell_type": "code",
   "execution_count": 58,
   "id": "c7a58074-f3f3-409b-a6f2-3513c2eab726",
   "metadata": {},
   "outputs": [],
   "source": [
    "soup = BeautifulSoup(r.content, 'html.parser')"
   ]
  },
  {
   "cell_type": "code",
   "execution_count": 61,
   "id": "fd9d392c-cfe1-4e19-bdab-fc2ebffe6c1e",
   "metadata": {},
   "outputs": [
    {
     "data": {
      "text/plain": [
       "['https://www.immobiliare.it/annunci/101046369/',\n",
       " 'https://www.immobiliare.it/annunci/101465155/',\n",
       " 'https://www.immobiliare.it/annunci/100523766/',\n",
       " 'https://www.immobiliare.it/annunci/87928610/',\n",
       " 'https://www.immobiliare.it/annunci/63127150/',\n",
       " 'https://www.immobiliare.it/annunci/93804790/',\n",
       " 'https://www.immobiliare.it/annunci/57478246/',\n",
       " 'https://www.immobiliare.it/annunci/94060918/',\n",
       " 'https://www.immobiliare.it/annunci/98208820/',\n",
       " 'https://www.immobiliare.it/annunci/94496672/',\n",
       " 'https://www.immobiliare.it/annunci/100709483/',\n",
       " 'https://www.immobiliare.it/annunci/78884573/',\n",
       " 'https://www.immobiliare.it/annunci/98012196/',\n",
       " 'https://www.immobiliare.it/annunci/94767560/',\n",
       " 'https://www.immobiliare.it/annunci/97770592/',\n",
       " 'https://www.immobiliare.it/annunci/94496836/',\n",
       " 'https://www.immobiliare.it/annunci/94634546/',\n",
       " 'https://www.immobiliare.it/annunci/101332707/',\n",
       " 'https://www.immobiliare.it/annunci/96025282/',\n",
       " 'https://www.immobiliare.it/annunci/95031746/',\n",
       " 'https://www.immobiliare.it/annunci/100928387/',\n",
       " 'https://www.immobiliare.it/annunci/98522262/',\n",
       " 'https://www.immobiliare.it/annunci/101554289/',\n",
       " 'https://www.immobiliare.it/annunci/85057420/',\n",
       " 'https://www.immobiliare.it/annunci/101128667/']"
      ]
     },
     "execution_count": 61,
     "metadata": {},
     "output_type": "execute_result"
    }
   ],
   "source": [
    "tag_key = 'a'\n",
    "class_key = 'in-card__title'\n",
    "[x['href'] for x in soup.find_all(tag_key, {\"class\": class_key})]   "
   ]
  },
  {
   "cell_type": "code",
   "execution_count": 47,
   "id": "c55bb564-9bdb-4e96-820f-fd60e85d942b",
   "metadata": {},
   "outputs": [],
   "source": []
  },
  {
   "cell_type": "code",
   "execution_count": 48,
   "id": "66279938-21c5-460d-a2b7-38672ba2d158",
   "metadata": {},
   "outputs": [],
   "source": []
  },
  {
   "cell_type": "code",
   "execution_count": 50,
   "id": "d02fa112-8d09-44a8-99c3-24cdaef2a1ff",
   "metadata": {},
   "outputs": [
    {
     "data": {
      "text/plain": [
       "dict_keys(['div', 'a', 'span', 'button', 'ul', 'li'])"
      ]
     },
     "execution_count": 50,
     "metadata": {},
     "output_type": "execute_result"
    }
   ],
   "source": [
    "relevant_tags = get_all_relevant_tags(soup, 25)\n",
    "relevant_tags.keys()"
   ]
  },
  {
   "cell_type": "code",
   "execution_count": 51,
   "id": "8d1a2d9e-7f99-4c61-a263-72dd7b596b98",
   "metadata": {},
   "outputs": [
    {
     "data": {
      "text/plain": [
       "{'div': ['nd-badge--withText',\n",
       "  'in-card__description',\n",
       "  'in-card__content',\n",
       "  'in-realEstateBadge',\n",
       "  'in-realEstateListCard__descriptionWrapper',\n",
       "  'in-card__contentBottom',\n",
       "  'in-realEstateListCard__referent--image',\n",
       "  'nd-mediaObject--colToRow',\n",
       "  'in-photo__media',\n",
       "  'nd-mediaObject',\n",
       "  'in-cardActions',\n",
       "  'in-realEstateCard--interactive',\n",
       "  'in-photo',\n",
       "  'in-realEstateCard',\n",
       "  'in-card',\n",
       "  'in-realEstateListCard__referent',\n",
       "  'in-realEstateListCard',\n",
       "  'in-realEstateListCard__mediaContent',\n",
       "  'nd-mediaObject__contentBottom',\n",
       "  'in-photo__overlay',\n",
       "  'in-realEstateListCard__content',\n",
       "  'nd-badge--bottomLeft',\n",
       "  'in-realEstateListCard__actions',\n",
       "  'nd-mediaObject__content'],\n",
       " 'a': ['in-card__title'],\n",
       " 'span': ['in-mainFeatures__text'],\n",
       " 'button': ['in-saveRealEstateButton'],\n",
       " 'ul': ['in-feat',\n",
       "  'in-realEstateListCard__features',\n",
       "  'in-feat--full',\n",
       "  'in-feat__mainProperty'],\n",
       " 'li': ['in-feat__item--main',\n",
       "  'in-realEstateResults__item',\n",
       "  'in-realEstateListCard__features--main']}"
      ]
     },
     "execution_count": 51,
     "metadata": {},
     "output_type": "execute_result"
    }
   ],
   "source": [
    "relevant_tags"
   ]
  },
  {
   "cell_type": "code",
   "execution_count": 35,
   "id": "16aca372-a2fc-4b26-9f71-8f59ca652e8f",
   "metadata": {},
   "outputs": [
    {
     "data": {
      "text/plain": [
       "[['div', 'nd-badge--withText'],\n",
       " ['div', 'in-card__description'],\n",
       " ['div', 'in-card__content'],\n",
       " ['div', 'in-realEstateBadge'],\n",
       " ['div', 'in-realEstateListCard__descriptionWrapper'],\n",
       " ['div', 'in-card__contentBottom'],\n",
       " ['div', 'in-realEstateListCard__referent--image'],\n",
       " ['div', 'nd-mediaObject--colToRow'],\n",
       " ['div', 'in-photo__media'],\n",
       " ['div', 'nd-mediaObject'],\n",
       " ['div', 'in-cardActions'],\n",
       " ['div', 'in-realEstateCard--interactive'],\n",
       " ['div', 'in-photo'],\n",
       " ['div', 'in-realEstateCard'],\n",
       " ['div', 'in-card'],\n",
       " ['div', 'in-realEstateListCard__referent'],\n",
       " ['div', 'in-realEstateListCard'],\n",
       " ['div', 'in-realEstateListCard__mediaContent'],\n",
       " ['div', 'nd-mediaObject__contentBottom'],\n",
       " ['div', 'in-photo__overlay'],\n",
       " ['div', 'in-realEstateListCard__content'],\n",
       " ['div', 'nd-badge--bottomLeft'],\n",
       " ['div', 'in-realEstateListCard__actions'],\n",
       " ['div', 'nd-mediaObject__content'],\n",
       " ['a', 'in-card__title'],\n",
       " ['span', 'in-mainFeatures__text'],\n",
       " ['button', 'in-saveRealEstateButton'],\n",
       " ['ul', 'in-feat'],\n",
       " ['ul', 'in-realEstateListCard__features'],\n",
       " ['ul', 'in-feat--full'],\n",
       " ['ul', 'in-feat__mainProperty'],\n",
       " ['li', 'in-feat__item--main'],\n",
       " ['li', 'in-realEstateResults__item'],\n",
       " ['li', 'in-realEstateListCard__features--main']]"
      ]
     },
     "execution_count": 35,
     "metadata": {},
     "output_type": "execute_result"
    }
   ],
   "source": []
  },
  {
   "cell_type": "code",
   "execution_count": null,
   "id": "0459c4d1-e055-4bb9-8596-a182e8e40f47",
   "metadata": {},
   "outputs": [],
   "source": []
  },
  {
   "cell_type": "code",
   "execution_count": null,
   "id": "14325a58-c799-4407-af30-b21b7b091644",
   "metadata": {},
   "outputs": [],
   "source": []
  }
 ],
 "metadata": {
  "kernelspec": {
   "display_name": "Python 3.10 (py310)",
   "language": "python",
   "name": "py310"
  },
  "language_info": {
   "codemirror_mode": {
    "name": "ipython",
    "version": 3
   },
   "file_extension": ".py",
   "mimetype": "text/x-python",
   "name": "python",
   "nbconvert_exporter": "python",
   "pygments_lexer": "ipython3",
   "version": "3.10.4"
  }
 },
 "nbformat": 4,
 "nbformat_minor": 5
}
