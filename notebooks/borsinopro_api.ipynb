{
 "cells": [
  {
   "cell_type": "code",
   "execution_count": 1,
   "id": "1c9a93de-2528-426d-8b2d-de599d565bef",
   "metadata": {},
   "outputs": [],
   "source": [
    "%load_ext autoreload\n",
    "%autoreload 2"
   ]
  },
  {
   "cell_type": "markdown",
   "id": "9e7a6efa-6db3-4bd3-a690-08f8487cfe59",
   "metadata": {},
   "source": [
    "# [borsinopro API data immobiliari](https://api.borsinopro.it/api-quotazioni.html)"
   ]
  },
  {
   "cell_type": "code",
   "execution_count": 2,
   "id": "624e4bd2-00a1-4e51-9577-d51bd7eeda7e",
   "metadata": {},
   "outputs": [],
   "source": [
    "import json\n",
    "import os\n",
    "import requests\n",
    "\n",
    "from property_scraper.borsinopro_api import BorsinoProAPI"
   ]
  },
  {
   "cell_type": "code",
   "execution_count": 3,
   "id": "80341255-fc68-4410-ad77-6fa6ff7de23e",
   "metadata": {},
   "outputs": [],
   "source": [
    "api = BorsinoProAPI()"
   ]
  },
  {
   "cell_type": "code",
   "execution_count": 4,
   "id": "2a87d4c9-5ed7-4dc1-aec5-1f9c316d0472",
   "metadata": {},
   "outputs": [
    {
     "name": "stdout",
     "output_type": "stream",
     "text": [
      "/home/emanuele/property_scraper.json\n"
     ]
    }
   ],
   "source": [
    "configuration_file = os.path.join(os.path.expanduser('~'), 'property_scraper.json')\n",
    "print(configuration_file)"
   ]
  },
  {
   "cell_type": "code",
   "execution_count": 5,
   "id": "e17f4412-d8f6-48a8-8350-941f4acc9ad4",
   "metadata": {},
   "outputs": [
    {
     "name": "stdout",
     "output_type": "stream",
     "text": [
      "dict_keys(['user', 'password', 'server', 'key', 'addresses', 'uniques', 'property_type', 'contract_type', 'quotation', 'trends', 'demography', 'timeline', 'address', 'valuation'])\n"
     ]
    }
   ],
   "source": [
    "configuration = api.read_configuration(configuration_file)"
   ]
  },
  {
   "cell_type": "code",
   "execution_count": 7,
   "id": "69de39dd-2a18-455c-9c07-3d9af80159f1",
   "metadata": {},
   "outputs": [
    {
     "name": "stdout",
     "output_type": "stream",
     "text": [
      "[\n",
      "    {\n",
      "        \"address\": \"Via Argine Destro Canale Molino 9, Ravenna RA, Italia\",\n",
      "        \"type\": \"20\",\n",
      "        \"for\": \"sale\"\n",
      "    },\n",
      "    {\n",
      "        \"address\": \"Via Argine Destro Canale Molino 7, Ravenna RA, Italia\",\n",
      "        \"type\": \"20\",\n",
      "        \"for\": \"sale\"\n",
      "    }\n",
      "]\n"
     ]
    }
   ],
   "source": [
    "print(json.dumps(configuration['api.borsinopro.it']['addresses'], indent=4))"
   ]
  },
  {
   "cell_type": "markdown",
   "id": "223a0072-2863-4869-931b-a7349248755a",
   "metadata": {},
   "source": [
    "## [QUOTAZIONI](https://api.borsinopro.it/api-quotazioni.html)\n",
    "\n",
    "- getImmobiliType()\n",
    "- getContractType()\n",
    "- getQuotazione()\n",
    "  "
   ]
  },
  {
   "cell_type": "code",
   "execution_count": 8,
   "id": "5bd89667-261b-41bc-821e-e4bffb0e91a4",
   "metadata": {},
   "outputs": [
    {
     "name": "stdout",
     "output_type": "stream",
     "text": [
      "{\n",
      "    \"method\": \"getImmobiliType\",\n",
      "    \"response\": {\n",
      "        \"name\": \"type\",\n",
      "        \"label\": \"Tipologia immobiliare\",\n",
      "        \"type\": \"select\",\n",
      "        \"options\": [\n",
      "            {\n",
      "                \"id\": \"20\",\n",
      "                \"label\": \"Abitazioni in stabili civili\"\n",
      "            },\n",
      "            {\n",
      "                \"id\": \"19\",\n",
      "                \"label\": \"Abitazioni in stabili signorili\"\n",
      "            },\n",
      "            {\n",
      "                \"id\": \"21\",\n",
      "                \"label\": \"Abitazioni in stabili economici\"\n",
      "            },\n",
      "            {\n",
      "                \"id\": \"1\",\n",
      "                \"label\": \"Ville e Villini\"\n",
      "            },\n",
      "            {\n",
      "                \"id\": \"6\",\n",
      "                \"label\": \"Uffici\"\n",
      "            },\n",
      "            {\n",
      "                \"id\": \"5\",\n",
      "                \"label\": \"Negozi\"\n",
      "            },\n",
      "            {\n",
      "                \"id\": \"13\",\n",
      "                \"label\": \"Box e Autorimesse\"\n",
      "            },\n",
      "            {\n",
      "                \"id\": \"14\",\n",
      "                \"label\": \"Posto auto coperti\"\n",
      "            },\n",
      "            {\n",
      "                \"id\": \"15\",\n",
      "                \"label\": \"Posto auto scoperti\"\n",
      "            },\n",
      "            {\n",
      "                \"id\": \"9\",\n",
      "                \"label\": \"Magazzini\"\n",
      "            },\n",
      "            {\n",
      "                \"id\": \"10\",\n",
      "                \"label\": \"Laboratori\"\n",
      "            },\n",
      "            {\n",
      "                \"id\": \"7\",\n",
      "                \"label\": \"Capannoni tipici\"\n",
      "            },\n",
      "            {\n",
      "                \"id\": \"8\",\n",
      "                \"label\": \"Capannoni industriali\"\n",
      "            }\n",
      "        ],\n",
      "        \"required\": true\n",
      "    }\n",
      "}\n"
     ]
    }
   ],
   "source": [
    "api.property_type = api.get_property_type(configuration)"
   ]
  },
  {
   "cell_type": "code",
   "execution_count": 9,
   "id": "085c5f12-cd8c-4ed7-9def-1cfb601b934a",
   "metadata": {},
   "outputs": [
    {
     "name": "stdout",
     "output_type": "stream",
     "text": [
      "{\n",
      "    \"method\": \"getContractType\",\n",
      "    \"response\": {\n",
      "        \"name\": \"for\",\n",
      "        \"label\": \"Tipo contratto\",\n",
      "        \"type\": \"select\",\n",
      "        \"options\": {\n",
      "            \"rent\": {\n",
      "                \"id\": \"rent\",\n",
      "                \"label\": \"Affitto\"\n",
      "            },\n",
      "            \"sale\": {\n",
      "                \"id\": \"sale\",\n",
      "                \"label\": \"Vendita\"\n",
      "            }\n",
      "        },\n",
      "        \"required\": true\n",
      "    }\n",
      "}\n"
     ]
    }
   ],
   "source": [
    "api.contract_type = api.get_contract_type(configuration)"
   ]
  },
  {
   "cell_type": "code",
   "execution_count": 10,
   "id": "a7f61c0f-1587-4a90-90d1-abef6ae3c92f",
   "metadata": {},
   "outputs": [
    {
     "name": "stdout",
     "output_type": "stream",
     "text": [
      "[0, 1]\n",
      "{'address': 'Via Argine Destro Canale Molino 9, Ravenna RA, Italia', 'type': '20', 'for': 'sale'}\n",
      "{\n",
      "    \"method\": \"getQuotazione\",\n",
      "    \"response\": null,\n",
      "    \"error\": \"Credenziali NON valide o Utente NON autorizzato o Numero interrogazioni esaurite.\"\n",
      "}\n",
      "{'address': 'Via Argine Destro Canale Molino 7, Ravenna RA, Italia', 'type': '20', 'for': 'sale'}\n",
      "{\n",
      "    \"method\": \"getQuotazione\",\n",
      "    \"response\": null,\n",
      "    \"error\": \"Credenziali NON valide o Utente NON autorizzato o Numero interrogazioni esaurite.\"\n",
      "}\n"
     ]
    }
   ],
   "source": [
    "api.quotations = api.get_quotations(configuration)\n",
    "#api.quotations = api.get_quotations(configuration, first_only=True)"
   ]
  },
  {
   "cell_type": "markdown",
   "id": "26fbe9f9-ca85-40e0-8d3e-da62fe4cb417",
   "metadata": {},
   "source": [
    "## [TRENDS](https://api.borsinopro.it/api-trends.html)\n",
    "\n",
    "- getTrends\n",
    "- getDemographic\n",
    "- getTempistiche"
   ]
  },
  {
   "cell_type": "code",
   "execution_count": 11,
   "id": "853a3625-fef3-46d7-bed9-1315b11da77f",
   "metadata": {},
   "outputs": [
    {
     "name": "stdout",
     "output_type": "stream",
     "text": [
      "[0, 1]\n",
      "{'address': 'Via Argine Destro Canale Molino 9, Ravenna RA, Italia', 'type': '20', 'for': 'sale'}\n",
      "{\n",
      "    \"method\": \"getTrends\",\n",
      "    \"response\": null,\n",
      "    \"error\": \"Credenziali NON valide o Utente NON autorizzato o Numero interrogazioni esaurite.\"\n",
      "}\n",
      "{'address': 'Via Argine Destro Canale Molino 7, Ravenna RA, Italia', 'type': '20', 'for': 'sale'}\n",
      "{\n",
      "    \"method\": \"getTrends\",\n",
      "    \"response\": null,\n",
      "    \"error\": \"Credenziali NON valide o Utente NON autorizzato o Numero interrogazioni esaurite.\"\n",
      "}\n"
     ]
    }
   ],
   "source": [
    "api.trends = api.get_trends(configuration)\n",
    "#api.trends = api.get_trends(configuration, first_only=True)"
   ]
  },
  {
   "cell_type": "code",
   "execution_count": 12,
   "id": "07d1ac59-3fa6-48c2-9b42-0c23eef6592b",
   "metadata": {},
   "outputs": [
    {
     "name": "stdout",
     "output_type": "stream",
     "text": [
      "[0, 1]\n",
      "{'univoco': '20230619183758_649084668308c_20_7509', 'mq_coperti': 100, 'piano': 4}\n",
      "{\n",
      "    \"method\": \"getDemographic\",\n",
      "    \"response\": null,\n",
      "    \"error\": \"Credenziali NON valide o Utente NON autorizzato o Numero interrogazioni esaurite.\"\n",
      "}\n",
      "{'univoco': '20230619183758_649084668308c_20_7509', 'mq_coperti': 100, 'piano': 4}\n",
      "{\n",
      "    \"method\": \"getDemographic\",\n",
      "    \"response\": null,\n",
      "    \"error\": \"Credenziali NON valide o Utente NON autorizzato o Numero interrogazioni esaurite.\"\n",
      "}\n"
     ]
    }
   ],
   "source": [
    "api.demographies = api.get_demographies(configuration)\n",
    "#api.demographies = api.get_demographies(configuration, first_only=True)"
   ]
  },
  {
   "cell_type": "code",
   "execution_count": 13,
   "id": "d2ce946e-794c-45e8-8c87-aae4783799c5",
   "metadata": {},
   "outputs": [
    {
     "name": "stdout",
     "output_type": "stream",
     "text": [
      "[0, 1]\n",
      "{'univoco': '20230619183758_649084668308c_20_7509', 'mq_coperti': 100, 'piano': 4}\n",
      "{\n",
      "    \"method\": \"getTempistiche\",\n",
      "    \"response\": null,\n",
      "    \"error\": \"Credenziali NON valide o Utente NON autorizzato o Numero interrogazioni esaurite.\"\n",
      "}\n",
      "{'univoco': '20230619183758_649084668308c_20_7509', 'mq_coperti': 100, 'piano': 4}\n",
      "{\n",
      "    \"method\": \"getTempistiche\",\n",
      "    \"response\": null,\n",
      "    \"error\": \"Credenziali NON valide o Utente NON autorizzato o Numero interrogazioni esaurite.\"\n",
      "}\n"
     ]
    }
   ],
   "source": [
    "api.timelines = api.get_timelines(configuration)\n",
    "#api.timelines = api.get_timelines(configuration, first_only=True)"
   ]
  },
  {
   "cell_type": "markdown",
   "id": "25f3f990-70dc-4c64-9816-b1cffc3e43ef",
   "metadata": {},
   "source": [
    "## [VALUTOMETRI](https://api.borsinopro.it/api-valutometri.html)\n",
    "\n",
    "- getAddress\n",
    "- getValutazione"
   ]
  },
  {
   "cell_type": "code",
   "execution_count": 16,
   "id": "19459a1b-0c99-4745-9713-9a8c8bc23b60",
   "metadata": {},
   "outputs": [
    {
     "name": "stdout",
     "output_type": "stream",
     "text": [
      "[0, 1]\n",
      "{'address': 'Via Argine Destro Canale Molino 9, Ravenna RA, Italia', 'type': '20', 'for': 'sale'}\n",
      "{\n",
      "    \"method\": \"getAddress\",\n",
      "    \"response\": null,\n",
      "    \"error\": \"Credenziali NON valide o Utente NON autorizzato o Numero interrogazioni esaurite.\"\n",
      "}\n",
      "{'address': 'Via Argine Destro Canale Molino 7, Ravenna RA, Italia', 'type': '20', 'for': 'sale'}\n",
      "{\n",
      "    \"method\": \"getAddress\",\n",
      "    \"response\": null,\n",
      "    \"error\": \"Credenziali NON valide o Utente NON autorizzato o Numero interrogazioni esaurite.\"\n",
      "}\n"
     ]
    }
   ],
   "source": [
    "api.addresses = api.get_addresses(configuration)\n",
    "#api.addresses = api.get_addresses(configuration, first_only=True)"
   ]
  },
  {
   "cell_type": "code",
   "execution_count": 17,
   "id": "5ca650c3-74bc-449c-8084-db87ba3b8a23",
   "metadata": {},
   "outputs": [
    {
     "name": "stdout",
     "output_type": "stream",
     "text": [
      "[0, 1]\n",
      "{'univoco': '20230619183758_649084668308c_20_7509', 'mq_coperti': 100, 'piano': 4}\n",
      "{\n",
      "    \"method\": \"getValutazione\",\n",
      "    \"error\": \"Valutazione non eseguita, Area o Distretto non specificata! Ti preghiamo di verificare e correggere.\"\n",
      "}\n",
      "{'univoco': '20230619183758_649084668308c_20_7509', 'mq_coperti': 100, 'piano': 4}\n",
      "{\n",
      "    \"method\": \"getValutazione\",\n",
      "    \"error\": \"Valutazione non eseguita, Area o Distretto non specificata! Ti preghiamo di verificare e correggere.\"\n",
      "}\n"
     ]
    }
   ],
   "source": [
    "api.valuations = api.get_valuations(configuration)\n",
    "#api.valuations = api.get_valuations(configuration, first_only=True)"
   ]
  },
  {
   "cell_type": "code",
   "execution_count": null,
   "id": "86cd815a-13f3-449b-8552-13c01d2c527e",
   "metadata": {},
   "outputs": [],
   "source": []
  }
 ],
 "metadata": {
  "kernelspec": {
   "display_name": "Python 3.11 (py311)",
   "language": "python",
   "name": "py311"
  },
  "language_info": {
   "codemirror_mode": {
    "name": "ipython",
    "version": 3
   },
   "file_extension": ".py",
   "mimetype": "text/x-python",
   "name": "python",
   "nbconvert_exporter": "python",
   "pygments_lexer": "ipython3",
   "version": "3.11.0"
  }
 },
 "nbformat": 4,
 "nbformat_minor": 5
}
