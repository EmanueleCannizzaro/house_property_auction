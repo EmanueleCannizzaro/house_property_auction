{
 "cells": [
  {
   "cell_type": "code",
   "execution_count": 1,
   "id": "cc497123-6c6b-48e3-af01-ddac694789f5",
   "metadata": {},
   "outputs": [],
   "source": [
    "%load_ext autoreload\n",
    "%autoreload 2"
   ]
  },
  {
   "cell_type": "markdown",
   "id": "00980ead-c952-4028-90bb-54ad9785fc0e",
   "metadata": {},
   "source": [
    "# Property Scraper\n",
    "\n",
    "Author : Emanuele Cannizzaro\n",
    "\n",
    "# Introduction\n",
    "\n",
    "This notebook supports a set of tasks required to create the property databases stored at [Italia Estate Database](http://italia.estate-database.com/) and [real estate database](https://docs.google.com/spreadsheets/d/1BRloTbcVOFAL9up2wIsvaAjFuJep9f3TWQwp_f02ntw/edit#gid=1748870476).\n",
    "\n",
    "The project also contains a [Google Lookerstudio dashboard](https://lookerstudio.google.com/u/0/reporting/2da6484e-c407-40aa-88e0-3ca0f6ddd31d/page/p_0pjh8udt4c).\n",
    "\n",
    "It enriches the data from [Portale delle Vendite Pubbliche](https://pvp.giustizia.it/pvp/it/homepage.page).\n",
    "\n",
    "![PVP](../images/pvp.png)\n"
   ]
  },
  {
   "cell_type": "code",
   "execution_count": 158,
   "id": "195ddbfa-4bee-439f-87c8-7e3ff93ec8a0",
   "metadata": {},
   "outputs": [],
   "source": [
    "from bs4 import BeautifulSoup\n",
    "# Reactor restart\n",
    "#from crochet import setup, wait_for\n",
    "from datetime import date, datetime\n",
    "from glob import glob\n",
    "from gspread import service_account\n",
    "import json\n",
    "#import linkcheck\n",
    "from multiprocessing import Pool\n",
    "import os\n",
    "import pandas as pd\n",
    "import scrapy\n",
    "from scrapy.crawler import CrawlerProcess\n",
    "#from scrapy.crawler import CrawlerRunner\n",
    "#from scrapy.utils.project import get_project_settings\n",
    "import subprocess\n",
    "from subprocess import run\n",
    "from tqdm.auto import tqdm\n",
    "\n",
    "from property_scraper import PVP_URL_ROOTNAME, ROOT_FOLDER\n",
    "from property_scraper import fix_hyperlinks, get_basename, get_filename_from_identifier, get_parameters\n",
    "#from property_scraper.astegiudiziarie.spiders.search import AsteGiudiziarieSearchSpider\n",
    "from property_scraper.process import Checker, Configurator, Extractor, Fixer\n",
    "from property_scraper.pvp_scraper import PVPScraper\n",
    "from property_scraper.store import SearchStore, SearchPropertyStore, PropertyStore"
   ]
  },
  {
   "cell_type": "code",
   "execution_count": 4,
   "id": "66377b06-938b-491e-95e6-0994e9b0b2f7",
   "metadata": {
    "tags": []
   },
   "outputs": [],
   "source": [
    "#setup()"
   ]
  },
  {
   "cell_type": "code",
   "execution_count": 5,
   "id": "0c76d2f5-6633-4f4f-9947-90a64380c25c",
   "metadata": {},
   "outputs": [],
   "source": [
    "pd.set_option('display.max_rows', None)"
   ]
  },
  {
   "cell_type": "markdown",
   "id": "0d333f81-0f8b-4127-8e8e-e56e2add2dd4",
   "metadata": {},
   "source": [
    "# Description\n",
    "\n",
    "The following usecases are considered:\n",
    "\n",
    "1. Prepare Scrapy Search Configuration;\n",
    "1. Create or Update the search, search_property and property tables of the database;\n",
    "1. Repair the downloaded HTML pages for the localhost;\n",
    "1. Check the localhost server links;\n",
    "1. Check the cloud web server links;\n",
    "1. ...\n"
   ]
  },
  {
   "cell_type": "markdown",
   "id": "2aa4260d-53d4-41b4-b87a-b8fe58744896",
   "metadata": {
    "tags": []
   },
   "source": [
    "## To do\n",
    "\n",
    "1. To perform a new incremental search there is a need to understand when to stop downloading the search pages. \n",
    "\n",
    "1. Look for missing values \n",
    "if I am working on a Pandas dataframe, how can I identify whether there are missing rows in a column of continuous integer values? An elegant solution would use min, max and range(min, max+1).\n",
    "\n",
    "A. ChatGPT\n",
    "You can identify missing rows in a column of continuous integer values in a Pandas DataFrame by comparing the expected range of values to the actual values in the column. Here's an example:\n",
    "\n",
    "In this example, we first create an example DataFrame with a column id containing continuous integer values. We then get the expected range of values using the range() function and convert it to a set. Next, we get the actual values in the id column of the DataFrame and convert it to a set. We then subtract the actual set from the expected set to get a set of missing values.\n",
    "\n",
    "Finally, we check whether the missing set is non-empty and print out the missing values if any, or a message indicating that there are no missing values."
   ]
  },
  {
   "cell_type": "markdown",
   "id": "4aa1fcbb-3c24-4c1f-b3d4-1c9f3a9a3b47",
   "metadata": {
    "tags": []
   },
   "source": [
    "# Setup"
   ]
  },
  {
   "cell_type": "markdown",
   "id": "b4f55087-9671-4d16-8507-3b4405425e1a",
   "metadata": {},
   "source": [
    "Let's define the runtime options."
   ]
  },
  {
   "cell_type": "code",
   "execution_count": 84,
   "id": "8453affa-de63-4809-9c20-4b83f862c22c",
   "metadata": {},
   "outputs": [],
   "source": [
    "#usecase = 'scrape'\n",
    "usecase = 'result exploration'\n",
    "\n",
    "#usecase = 'update_results'\n",
    "#usecase = 'update_search_configuration'\n",
    "#usecase = 'hyperlink extraction'\n",
    "#usecase = 'fix_links'\n",
    "#usecase = 'check_links'\n",
    "\n",
    "search_engine = 'pvp'\n",
    "#search_engine = 'blinks'\n",
    "#search_engine = 'guber'\n",
    "#search_engine = 'blinks'\n",
    "\n",
    "run_in_parallel = True\n",
    "no_processes = 5\n"
   ]
  },
  {
   "cell_type": "code",
   "execution_count": 160,
   "id": "95a10e2a-f792-4f98-ad9a-8d0b356ac8de",
   "metadata": {
    "tags": []
   },
   "outputs": [
    {
     "name": "stdout",
     "output_type": "stream",
     "text": [
      "https://pvp.giustizia.it\n"
     ]
    }
   ],
   "source": [
    "if search_engine == 'pvp':\n",
    "    original_url_rootname = PVP_URL_ROOTNAME\n",
    "    scraper = PVPScraper()\n",
    "else:\n",
    "    raise ValueError(f'Plese specify the correct value for {original_url_rootname}!')\n",
    "print(original_url_rootname)"
   ]
  },
  {
   "cell_type": "code",
   "execution_count": 15,
   "id": "3748a4da-e020-4832-b93b-133d3555cfec",
   "metadata": {},
   "outputs": [
    {
     "name": "stdout",
     "output_type": "stream",
     "text": [
      "dict_keys(['name', 'credentials', 'workbook_id', 'folder', 'JSON filename', 'search excel filename', 'search CSV filename', 'search parquet filename', 'search by location CSV filename', 'search by location parquet filename', 'search pattern', 'search property excel filename', 'search property CSV filename', 'search property parquet filename', 'search property pattern', 'property excel filename', 'property CSV filename', 'property parquet filename', 'property pattern', 'output folder', 'astagiudiziaria', 'astainsieme', 'astegiudiziarie', 'asteravenna', 'astetelematiche', 'avvisinotarili', 'canaleaste', 'idealista', 'iqera', 'immobiliare', 'pvp', 'quimmo', 'repubblica', 'subito', 'tribunale_laspezia', 'tribunale_savona', 'trovoaste', 'trovocasa'])\n"
     ]
    }
   ],
   "source": [
    "rc_filename = os.path.expanduser('~/property_scraper.json')\n",
    "with open(rc_filename, 'r') as f:\n",
    "    configuration = json.load(f)\n",
    "    print(configuration.keys())"
   ]
  },
  {
   "cell_type": "markdown",
   "id": "539ea0ea-fc4f-4318-8a54-79418c2a491d",
   "metadata": {},
   "source": [
    "### Running a Scrapy Spider within Jupyter Notebook\n",
    "\n",
    "To run a Scrapy spider within Jupyter Notebook, follow these steps:\n",
    "\n",
    "1. **Install the necessary dependencies**: Make sure you have Scrapy and Jupyter Notebook installed in your Python environment. You can install them using pip:"
   ]
  },
  {
   "cell_type": "code",
   "execution_count": 7,
   "id": "cc0a7eec-34ec-4329-a4e8-a441a38f5fe3",
   "metadata": {
    "tags": []
   },
   "outputs": [],
   "source": [
    "#!python -m pip install scrapy jupyter"
   ]
  },
  {
   "cell_type": "markdown",
   "id": "5e735c81-1cd1-4a0e-9496-972c2e2cd3a2",
   "metadata": {},
   "source": [
    "2. **Create a new Jupyter Notebook**: Launch Jupyter Notebook by running the command `jupyter notebook` in your terminal. Create a new notebook by clicking on \"New\" and selecting \"Python 3\" or use an existing notebook.\n",
    "\n",
    "3. **Import the necessary modules**: In the first cell of your Jupyter Notebook, import the required modules."
   ]
  },
  {
   "cell_type": "code",
   "execution_count": null,
   "id": "7d8c6378-608d-4e93-bee9-ed8e8e58bcf5",
   "metadata": {
    "tags": []
   },
   "outputs": [],
   "source": []
  },
  {
   "cell_type": "markdown",
   "id": "110dfbd7-8e05-4b33-a643-26add6ac9ed3",
   "metadata": {},
   "source": [
    "4. **Define your Scrapy spider**: In a new cell, define your Scrapy spider as you normally would. Here's an example spider:"
   ]
  },
  {
   "cell_type": "code",
   "execution_count": 8,
   "id": "4727b1ab-65ef-42aa-a0b9-af060ea939f1",
   "metadata": {
    "tags": []
   },
   "outputs": [],
   "source": [
    "if usecase == 'scrape':\n",
    "    spider = AsteGiudiziarieSearchSpider()"
   ]
  },
  {
   "cell_type": "markdown",
   "id": "4d58cb35-e414-4714-ad51-00c7a982e9a7",
   "metadata": {},
   "source": [
    "5. **Run the Scrapy spider**: In the next cell, run the Scrapy spider using the CrawlerProcess class and the project settings."
   ]
  },
  {
   "cell_type": "code",
   "execution_count": 9,
   "id": "0dceceb4-a778-463a-b6a5-077081065e83",
   "metadata": {
    "tags": []
   },
   "outputs": [],
   "source": [
    "if usecase == 'scrape':\n",
    "    #get_project_settings()\n",
    "    #crawler = CrawlerProcess()#get_project_settings())\n",
    "    crawler = CrawlerRunner()"
   ]
  },
  {
   "cell_type": "code",
   "execution_count": 10,
   "id": "af04cc71-1049-40f5-9fd5-14d4b28cb7b0",
   "metadata": {
    "tags": []
   },
   "outputs": [],
   "source": [
    "if usecase == 'scrape':\n",
    "    crawler.crawl(AsteGiudiziarieSearchSpider)"
   ]
  },
  {
   "cell_type": "code",
   "execution_count": 11,
   "id": "652509b9-b047-4bd6-ace5-d47220b32596",
   "metadata": {
    "tags": []
   },
   "outputs": [],
   "source": [
    "if usecase == 'scrape':\n",
    "    pass\n",
    "    #crawler.start()"
   ]
  },
  {
   "cell_type": "markdown",
   "id": "cf01c2ba-4db7-4014-8152-b5c0c267f8f0",
   "metadata": {
    "tags": []
   },
   "source": [
    "6. **Execute the cells**: Run the cells in your Jupyter Notebook by clicking the \"Run\" button or using the keyboard shortcut. The Scrapy spider will start crawling the URLs specified in the **start_urls** attribute.\n",
    "\n",
    "You should see the Scrapy spider's logs in the Jupyter Notebook output, indicating the progress of the crawling process. Once the spider has finished crawling, you can access and process the scraped data within the same notebook.\n",
    "\n",
    "Note: Remember that Scrapy is primarily designed to be run from the command line, and running it within Jupyter Notebook may have some limitations and differences in behavior compared to running it in a traditional terminal environment.\n",
    "\n",
    "Copy code\n",
    "To run the code cells with Python code, you can use the Jupyter Notebook interface and execute the cells one by one by clicking the \"Run\" button or using the keyboard shortcut. This will start the Scrapy spider and display the crawling progress and any logs or errors in the output area.\n",
    "\n",
    "After the spider has finished crawling, you can continue working in subsequent cells to process the scraped data or perform any additional tasks."
   ]
  },
  {
   "cell_type": "code",
   "execution_count": 13,
   "id": "6737d8c3-12f5-4371-aebb-ffa629ae5149",
   "metadata": {
    "tags": []
   },
   "outputs": [],
   "source": [
    "if usecase == 'scrape':\n",
    "    !scrapy runspider /home/git/property_scraper/property_scraper/astegiudiziarie/spiders/search.py --output astegiudiziarie_search_default.csv"
   ]
  },
  {
   "cell_type": "code",
   "execution_count": null,
   "id": "b3ed76be-2872-4d67-b0d9-0ba5cf1e045c",
   "metadata": {},
   "outputs": [],
   "source": []
  },
  {
   "cell_type": "code",
   "execution_count": null,
   "id": "50a12495-c18d-49f9-95d7-f1f4c5613dd6",
   "metadata": {},
   "outputs": [],
   "source": []
  },
  {
   "cell_type": "code",
   "execution_count": 17,
   "id": "8e0075ed-51bd-4279-8770-1dca1f9824ef",
   "metadata": {},
   "outputs": [],
   "source": [
    "#print(json.dumps(configuration, indent=4))"
   ]
  },
  {
   "cell_type": "code",
   "execution_count": null,
   "id": "940a590e-cf0e-4f48-a82a-03191341cb35",
   "metadata": {},
   "outputs": [],
   "source": []
  },
  {
   "cell_type": "markdown",
   "id": "e0874803-8155-4869-9f91-95b7ae55e9a9",
   "metadata": {
    "tags": [],
    "toc-hr-collapsed": true
   },
   "source": [
    "# Update Search Configuration"
   ]
  },
  {
   "cell_type": "code",
   "execution_count": 19,
   "id": "33ee8564-4f2a-481f-8412-e21b3326c1db",
   "metadata": {},
   "outputs": [],
   "source": [
    "if usecase == 'update_search_configuration':\n",
    "    with open(json_filename, 'r') as f:\n",
    "        data = json.load(f)"
   ]
  },
  {
   "cell_type": "code",
   "execution_count": 20,
   "id": "76e578f7-bf14-433d-8d04-1b5d601c0bdf",
   "metadata": {},
   "outputs": [],
   "source": [
    "if usecase == 'update_search_configuration':\n",
    "    url_rootname = data['root']\n",
    "    print(url_rootname)"
   ]
  },
  {
   "cell_type": "code",
   "execution_count": 21,
   "id": "f3b0e13b-d8ea-4311-8449-d814b538e553",
   "metadata": {},
   "outputs": [],
   "source": [
    "if usecase == 'update_search_configuration':\n",
    "    rootname = ROOT_FOLDER\n",
    "    print(rootname)"
   ]
  },
  {
   "cell_type": "code",
   "execution_count": 22,
   "id": "e3866c34-0a73-43e7-af38-383b5a649650",
   "metadata": {
    "tags": []
   },
   "outputs": [],
   "source": [
    "if usecase == 'update_search_configuration':\n",
    "    data['searches'] = sorted(set(data['searches']))\n",
    "    print(len(data['searches']))\n",
    "    print('\\n'.join(data['searches'][:10]))"
   ]
  },
  {
   "cell_type": "code",
   "execution_count": 23,
   "id": "23ad00cd-8328-4b2e-845a-add9f88a6bb7",
   "metadata": {
    "tags": []
   },
   "outputs": [],
   "source": [
    "if usecase == 'update_search_configuration':\n",
    "    data['properties'] = sorted(set(data['properties']))\n",
    "    print(len(data['properties']))\n",
    "    print('\\n'.join(data['properties'][:10]))"
   ]
  },
  {
   "cell_type": "markdown",
   "id": "b2278b08-fbb6-4c8b-b6d2-0004d17d3486",
   "metadata": {
    "tags": []
   },
   "source": [
    "## Search"
   ]
  },
  {
   "cell_type": "code",
   "execution_count": 24,
   "id": "9952a39a-5c1e-4f7e-b28d-a35cd25e246b",
   "metadata": {},
   "outputs": [],
   "source": [
    "if usecase == 'update_search_configuration':\n",
    "    filenames = glob(f'/home/git/property_scraper/www/{search_engine}/{search_engine}_search_*.html')\n",
    "    filenames = sorted([os.path.relpath(x, '/home/git/property_scraper/www') for x in filenames])\n",
    "    print(len(filenames))\n",
    "    print('\\n'.join(filenames[:10]))"
   ]
  },
  {
   "cell_type": "code",
   "execution_count": 25,
   "id": "84375fa4-f568-49c8-80ff-8e3038e9ac49",
   "metadata": {},
   "outputs": [],
   "source": [
    "if usecase == 'update_search_configuration':\n",
    "    data['searches'] = sorted(set([x if x.startswith(f'{search_engine}/{search_engine}_search_') else f'{x[:2*len(search_engine) + 1]}_search{x[2*len(search_engine) + 1:]}' for x in filenames]))\n",
    "    print(len(data['searches']))\n",
    "    print('\\n'.join(data['searches'][:10]))"
   ]
  },
  {
   "cell_type": "markdown",
   "id": "ed5afc02-9f69-4a16-b413-91c085bdc61a",
   "metadata": {},
   "source": [
    "## Property"
   ]
  },
  {
   "cell_type": "code",
   "execution_count": 26,
   "id": "1304e830-e0c8-4050-9a63-f5177a335f2e",
   "metadata": {},
   "outputs": [],
   "source": [
    "if usecase == 'update_search_configuration':\n",
    "    filenames = glob(f'/home/git/property_scraper/www/{search_engine}/{search_engine}_property_LTT*.html')\n",
    "    filenames = sorted([os.path.relpath(x, '/home/git/property_scraper/www') for x in filenames])\n",
    "    print(len(filenames))\n",
    "    print('\\n'.join(filenames[:10]))"
   ]
  },
  {
   "cell_type": "code",
   "execution_count": 27,
   "id": "771a9e74-4102-4242-a323-f2985186e562",
   "metadata": {},
   "outputs": [],
   "source": [
    "if usecase == 'update_search_configuration':\n",
    "    if 0 == 1:\n",
    "        filenames_new = sorted(set([x if x.startswith(f'{search_engine}/{search_engine}_search_') else f'{x[:2*len(search_engine) + 1]}_property{x[2*len(search_engine) + 1:]}' for x in filenames]))\n",
    "        print(len(filenames_new))\n",
    "        filenames_new[:10]"
   ]
  },
  {
   "cell_type": "code",
   "execution_count": 28,
   "id": "ee7701c2-cc97-4df5-a3f4-9b2c57e7d082",
   "metadata": {},
   "outputs": [],
   "source": [
    "if usecase == 'update_search_configuration':\n",
    "    if 0 == 1:\n",
    "        pbar = tqdm(range(len(filenames)))\n",
    "        for ix in pbar:\n",
    "            os.rename(os.path.join('/home/git/property_scraper/99_backup', filenames[ix]), \n",
    "                      os.path.join('/home/git/property_scraper/99_backup', filenames_new[ix]))"
   ]
  },
  {
   "cell_type": "code",
   "execution_count": 29,
   "id": "3b5f99ee-2ddc-44cf-89bd-5e361e58b971",
   "metadata": {},
   "outputs": [],
   "source": [
    "if usecase == 'update_search_configuration':\n",
    "    data['properties'] = sorted(set([x if x.startswith(f'{search_engine}/{search_engine}_property_') else f'{x[:2*len(search_engine) + 1]}_search{x[2*len(search_engine) + 1:]}' for x in filenames]))\n",
    "    print(len(data['properties']))\n",
    "    print('\\n'.join(data['properties'][:10]))"
   ]
  },
  {
   "cell_type": "code",
   "execution_count": 30,
   "id": "d54495f1-6bd6-4fb6-9e9f-a09287651b03",
   "metadata": {},
   "outputs": [],
   "source": [
    "if usecase == 'update_search_configuration':\n",
    "    with open(json_filename, 'w') as f:\n",
    "        json.dump(data, f, indent=4)"
   ]
  },
  {
   "cell_type": "code",
   "execution_count": 31,
   "id": "65c4a31f-9321-43bc-b2d4-7761da515efd",
   "metadata": {
    "tags": []
   },
   "outputs": [],
   "source": [
    "if usecase == 'update_search_configuration':\n",
    "    if 0 == 1:\n",
    "        filename = f'/home/git/property_scraper/demos/{search_engine}_search_localhost.json'\n",
    "        with open(filename, 'r') as f:\n",
    "            data = json.load(f)\n",
    "        #print(json.dumps(data, indent=4))"
   ]
  },
  {
   "cell_type": "markdown",
   "id": "599beb45-8098-4033-9191-ebff6d720088",
   "metadata": {
    "tags": []
   },
   "source": [
    "# Update Results"
   ]
  },
  {
   "cell_type": "markdown",
   "id": "d69a43d4-023d-483f-88bd-7399155c8c97",
   "metadata": {},
   "source": [
    "## Search"
   ]
  },
  {
   "cell_type": "code",
   "execution_count": 32,
   "id": "2112a1a5-14fa-4bc1-95b5-a364dd375dbb",
   "metadata": {},
   "outputs": [],
   "source": [
    "if usecase == 'update_results':\n",
    "    store = SearchStore(name=rc['name'], credentials=rc['credentials'], workbook_id=rc['workbook_id'])"
   ]
  },
  {
   "cell_type": "code",
   "execution_count": 33,
   "id": "223d7856-711c-4b0e-9390-dccc8a7772ca",
   "metadata": {},
   "outputs": [],
   "source": [
    "if usecase == 'update_results':\n",
    "    store.results = store.update_results(rc['search parquet filename'], rc['search pattern'])"
   ]
  },
  {
   "cell_type": "code",
   "execution_count": 36,
   "id": "cc4be166-6904-4057-8637-871a210592bb",
   "metadata": {},
   "outputs": [],
   "source": [
    "if usecase == 'update_results':\n",
    "    store.fix_results()\n",
    "    store.results.dtypes"
   ]
  },
  {
   "cell_type": "code",
   "execution_count": 38,
   "id": "a359f934-a95e-4038-bc49-13210badb88c",
   "metadata": {},
   "outputs": [],
   "source": [
    "if usecase == 'update_results':\n",
    "    n = 5\n",
    "    store.show(n)"
   ]
  },
  {
   "cell_type": "markdown",
   "id": "e7b33eec-0c29-4ea4-bcae-b5e2385adf7a",
   "metadata": {},
   "source": [
    "Let's remove the incomplete searches."
   ]
  },
  {
   "cell_type": "code",
   "execution_count": 39,
   "id": "7f72b33b-05a6-49b6-81e8-6e928557f8b5",
   "metadata": {},
   "outputs": [],
   "source": [
    "if usecase == 'update_results':\n",
    "    store.results_bylocation = store.create_results_bylocation_table()"
   ]
  },
  {
   "cell_type": "code",
   "execution_count": 40,
   "id": "add70a0a-7169-4025-85d8-c21548bb268f",
   "metadata": {},
   "outputs": [],
   "source": [
    "if usecase == 'update_results':\n",
    "    store.backup_results(rc['search parquet filename'], rc['search by location parquet filename'])"
   ]
  },
  {
   "cell_type": "code",
   "execution_count": 41,
   "id": "a0a4e740-b85a-42f9-9000-04acc4bcb975",
   "metadata": {
    "tags": []
   },
   "outputs": [],
   "source": [
    "if usecase == 'update_results':\n",
    "    store.backup_results(rc['search CSV filename'], rc['search by location CSV filename'])"
   ]
  },
  {
   "cell_type": "code",
   "execution_count": 42,
   "id": "15211a03-c7f3-49f2-9885-1f17eb194f6d",
   "metadata": {
    "tags": []
   },
   "outputs": [],
   "source": [
    "if usecase == 'update_results':\n",
    "    store.backup_results(rc['search excel filename'], '')"
   ]
  },
  {
   "cell_type": "code",
   "execution_count": 43,
   "id": "e80127f9-1f00-46bb-ba0a-94ece13f37a2",
   "metadata": {},
   "outputs": [],
   "source": [
    "if usecase == 'update_results':\n",
    "    store.to_gsheet(sheetname='search', bylocation_sheetname='search_bylocation')"
   ]
  },
  {
   "cell_type": "markdown",
   "id": "4883064c-aa74-4938-b585-a9194536439c",
   "metadata": {},
   "source": [
    "Check whether the search page was downloaded."
   ]
  },
  {
   "cell_type": "code",
   "execution_count": 44,
   "id": "68953771-85d3-4c06-b3bf-b067235335c8",
   "metadata": {},
   "outputs": [],
   "source": [
    "if usecase == 'update_results':\n",
    "    if 0 == 1:\n",
    "        search['Scaricato?'] = search['Filename'].apply(lambda x: is_downloaded(x))\n",
    "        display(search[~search['Scaricato?']].head(3).T)"
   ]
  },
  {
   "cell_type": "markdown",
   "id": "3a8bc447-f87e-47dc-8f2d-5918dc0bcf6b",
   "metadata": {},
   "source": [
    "Check whether the search page hyperlinks were fixed."
   ]
  },
  {
   "cell_type": "code",
   "execution_count": 45,
   "id": "1badc8bc-7d6a-4754-b40f-51ca5ef2634f",
   "metadata": {},
   "outputs": [
    {
     "name": "stdout",
     "output_type": "stream",
     "text": [
      "CPU times: user 4 µs, sys: 1e+03 ns, total: 5 µs\n",
      "Wall time: 10.5 µs\n"
     ]
    }
   ],
   "source": [
    "%%time\n",
    "\n",
    "if usecase == 'update_results':\n",
    "    if 0 == 1:\n",
    "        pbar = tqdm(search[search['Scaricato?']].index)\n",
    "        for ix in pbar:\n",
    "            search.loc[ix, 'Hyperlink relativo riparato?'] = is_fixed(search.loc[ix, 'Filename'])\n",
    "        print(search[~search['Hyperlink relativo riparato?']].shape)\n",
    "        display(search[~search['Hyperlink relativo riparato?']].head(3).T)"
   ]
  },
  {
   "cell_type": "code",
   "execution_count": 46,
   "id": "c1f9a67d-de2e-4186-a8f1-a38a8684f0f6",
   "metadata": {},
   "outputs": [],
   "source": [
    "if usecase == 'update_results':\n",
    "    if 0 == 1:\n",
    "        print(search[~search['Hyperlink relativo riparato?']].shape)\n",
    "        print(search.shape)"
   ]
  },
  {
   "cell_type": "code",
   "execution_count": 47,
   "id": "3a75a820-1972-44de-b289-34c523182ec2",
   "metadata": {},
   "outputs": [],
   "source": [
    "if usecase == 'update_results':\n",
    "    if 0 == 1:\n",
    "        basenames = [os.path.basename(x) for x in data['searches']]\n",
    "        indices = search[search['Basename'].isin(basenames)].index\n",
    "        search.loc[indices, 'Hyperlink relativo riparato?'] = True\n",
    "        print(search[~search['Hyperlink relativo riparato?']].shape)\n",
    "        display(search.head(3).T)"
   ]
  },
  {
   "cell_type": "code",
   "execution_count": 48,
   "id": "22c84844-4771-4a69-975d-c43ca1df7df8",
   "metadata": {},
   "outputs": [],
   "source": [
    "if usecase == 'update_results':\n",
    "    if 0 == 1:\n",
    "        df = search[search['Scaricato?'] & ~search['Hyperlink relativo riparato?']]\n",
    "        display(df.head(3).T)"
   ]
  },
  {
   "cell_type": "markdown",
   "id": "e586e678-030c-4f42-93b7-3d8b3fae1e9a",
   "metadata": {},
   "source": [
    "Let's enrich the search results."
   ]
  },
  {
   "cell_type": "code",
   "execution_count": 49,
   "id": "5a82f37b-ada7-48f7-b829-ac89ede42bf5",
   "metadata": {},
   "outputs": [],
   "source": [
    "if usecase == 'update_results':\n",
    "    if 0 == 1:\n",
    "        search['Data della Ricerca'] = search[['Basename']].apply(lambda x: get_datetime(x[0]), axis=1)\n",
    "        #searches['data_della_ricerca'] = pd.to_datetime(searches['data_della_ricerca'])\n",
    "        search['Data della Ricerca'] = search['Data della Ricerca'].map(lambda x: x.strftime('%d/%m/%Y'))\n",
    "\n",
    "        url = search.iloc[0]['URL']\n",
    "        #'https://pvp.giustizia.it/pvp/it/risultati_ricerca.page?localita=Palermo&geo=geografica&ordinamento=data_vendita_decre&view=list&frame4_item=63&categoria=&nazione=ITA&elementiPerPagina=50&ordine_localita=a_z&tipo_bene=immobili'\n",
    "        parameters = get_parameters(url)\n",
    "        print(parameters)\n",
    "\n",
    "        for key in parameters.keys():\n",
    "            search[key] = search[['URL']].apply(lambda x: get_parameter(key, x[0]), axis=1)\n",
    "\n",
    "        search = search.reset_index()\n",
    "        search = search.rename(columns=scraper.SEARCH_NAMES)\n",
    "        search = search.set_index(['Identificativo'])\n",
    "\n",
    "        #search[\"Localita' estratta dal nome del file\"] = search[\"Localita' estratta dal nome del file\"].astype(str)\n",
    "        indices = search[pd.isnull(search[\"Localita' estratta dal nome del file\"])].index\n",
    "        search.loc[indices, \"Localita' estratta dal nome del file\"] = None\n",
    "\n",
    "        print(search.shape)\n",
    "        display(search.head(3).T)"
   ]
  },
  {
   "cell_type": "markdown",
   "id": "40966486-f0bb-4f61-84e1-90d239ba07dd",
   "metadata": {},
   "source": [
    "Let's update the google sheet..."
   ]
  },
  {
   "cell_type": "markdown",
   "id": "47e39090-40f7-4f3d-aa76-7186dc03415b",
   "metadata": {},
   "source": [
    "## Search Property"
   ]
  },
  {
   "cell_type": "code",
   "execution_count": 50,
   "id": "09853759-5eec-4083-a02d-5cb11a8342bc",
   "metadata": {},
   "outputs": [],
   "source": [
    "if usecase == 'update_results':\n",
    "    store = SearchPropertyStore(name=rc['name'], credentials=rc['credentials'], workbook_id=rc['workbook_id'])"
   ]
  },
  {
   "cell_type": "code",
   "execution_count": 51,
   "id": "362784c8-7e7b-43fb-90f4-36418b9b5782",
   "metadata": {},
   "outputs": [],
   "source": [
    "if usecase == 'update_results':\n",
    "    store.results = store.update_results(rc['search property parquet filename'], rc['search property pattern'])"
   ]
  },
  {
   "cell_type": "code",
   "execution_count": 53,
   "id": "fba1ab4b-a05d-4673-b1ea-782ebff18f0c",
   "metadata": {},
   "outputs": [],
   "source": [
    "if usecase == 'update_results':\n",
    "    store.fix_results()\n",
    "\n",
    "    store.results.dtypes"
   ]
  },
  {
   "cell_type": "code",
   "execution_count": 55,
   "id": "c59d4590-757d-4940-a64b-666a6882015a",
   "metadata": {},
   "outputs": [],
   "source": [
    "if usecase == 'update_results':\n",
    "    n = 5\n",
    "    store.show(n)"
   ]
  },
  {
   "cell_type": "code",
   "execution_count": 56,
   "id": "f0eaacc6-4f06-439e-91df-8abe722b1c44",
   "metadata": {},
   "outputs": [],
   "source": [
    "if usecase == 'update_results':\n",
    "    store.backup_results(rc['search property parquet filename'], None)"
   ]
  },
  {
   "cell_type": "code",
   "execution_count": 57,
   "id": "a2a94548-3e5a-4da6-b06b-f87a23a5efd9",
   "metadata": {},
   "outputs": [],
   "source": [
    "if usecase == 'update_results':\n",
    "    store.backup_results(rc['search property CSV filename'], None)"
   ]
  },
  {
   "cell_type": "code",
   "execution_count": 58,
   "id": "b12e5b29-03ae-4648-834f-6ba4393d75f1",
   "metadata": {},
   "outputs": [],
   "source": [
    "if usecase == 'update_results':\n",
    "    store.backup_results(rc['search excel filename'], None)"
   ]
  },
  {
   "cell_type": "code",
   "execution_count": 59,
   "id": "9c811394-e74e-465d-b1e9-9b6eab3e70da",
   "metadata": {},
   "outputs": [],
   "source": [
    "if usecase == 'update_results':\n",
    "    store.to_gsheet(sheetname='search_property', bylocation_sheetname=None)"
   ]
  },
  {
   "cell_type": "code",
   "execution_count": 60,
   "id": "75800a33-e124-455f-a265-ec2c0cf22424",
   "metadata": {},
   "outputs": [],
   "source": [
    "if usecase == 'update_results':\n",
    "    if 0 == 1:\n",
    "        for cid in ['indirizzo', 'numero_di_procedura']:\n",
    "            search_property[cid] = search_property[cid].astype(str)\n",
    "        for cid in ['is_downloaded']:\n",
    "            search_property[cid] = search_property[cid].astype(bool)\n",
    "        for cid in ['offerta_minima', 'prezzo_base']:\n",
    "            search_property[cid] = search_property[cid].astype(float)\n",
    "        for cid in ['response_status_code']:\n",
    "            search_property[cid] = search_property[cid].astype(int)"
   ]
  },
  {
   "cell_type": "markdown",
   "id": "f9da8a1b-6274-4042-b8a2-9beb585b7d47",
   "metadata": {},
   "source": [
    "## Property"
   ]
  },
  {
   "cell_type": "code",
   "execution_count": 61,
   "id": "1131a0e8-d7c1-45e2-855c-34bd4848677b",
   "metadata": {},
   "outputs": [],
   "source": [
    "if usecase == 'update_results':\n",
    "    store = PropertyStore(name=rc['name'], credentials=rc['credentials'], workbook_id=rc['workbook_id'])"
   ]
  },
  {
   "cell_type": "code",
   "execution_count": 62,
   "id": "c634adc4-b694-4088-ab2a-7656e180df1b",
   "metadata": {},
   "outputs": [],
   "source": [
    "if usecase == 'update_results':\n",
    "    store.results = store.update_results(rc['property parquet filename'], rc['property pattern'])"
   ]
  },
  {
   "cell_type": "code",
   "execution_count": 65,
   "id": "2117cafd-6baa-409c-b41f-5046c7c18b6f",
   "metadata": {},
   "outputs": [],
   "source": [
    "if usecase == 'update_results':\n",
    "    store.fix_results()\n",
    "\n",
    "    store.results.dtypes"
   ]
  },
  {
   "cell_type": "code",
   "execution_count": 66,
   "id": "4df2ac75-84ca-4ce9-b357-5a2e7e8effb0",
   "metadata": {},
   "outputs": [],
   "source": [
    "if usecase == 'update_results':\n",
    "    n = 5\n",
    "    store.show(n)"
   ]
  },
  {
   "cell_type": "code",
   "execution_count": 67,
   "id": "d9e06e39-5743-4209-af96-0a43809d4e09",
   "metadata": {},
   "outputs": [],
   "source": [
    "if usecase == 'update_results':\n",
    "    store.backup_results(rc['property parquet filename'], None)"
   ]
  },
  {
   "cell_type": "code",
   "execution_count": 68,
   "id": "7d946ec3-f03e-453d-b9b9-598b07bcf646",
   "metadata": {},
   "outputs": [],
   "source": [
    "if usecase == 'update_results':\n",
    "    store.backup_results(rc['property CSV filename'], None)"
   ]
  },
  {
   "cell_type": "code",
   "execution_count": 69,
   "id": "aa1ad408-e572-4587-a14d-52eb287823ea",
   "metadata": {},
   "outputs": [],
   "source": [
    "if usecase == 'update_results':\n",
    "    pass\n",
    "    #store.backup_results(rc['property excel filename'], None)"
   ]
  },
  {
   "cell_type": "code",
   "execution_count": 70,
   "id": "7dbb79c0-63a2-40a7-abd0-370470bf7e0d",
   "metadata": {},
   "outputs": [],
   "source": [
    "if usecase == 'update_results':\n",
    "    table_name = 'property'\n",
    "    sql_statement = pd.io.sql.get_schema(store.results, table_name).replace('\"', '`')#.replace('\\n', '').replace('\"', \"\")\n",
    "    print(sql_statement)"
   ]
  },
  {
   "cell_type": "code",
   "execution_count": 77,
   "id": "9ec3b0c0-3aeb-4d49-a9ad-6517efc33034",
   "metadata": {},
   "outputs": [],
   "source": [
    "if 0 == 1:\n",
    "    filename = '/home/data/property_scraper/demos/pvp_property_localhost.enriched.sql'\n",
    "\n",
    "    from sqlalchemy import create_engine\n",
    "    engine = create_engine(f'sqlite://{filename}', echo=False)\n",
    "    store.results.to_sql('property', con=engine, if_exists='append')"
   ]
  },
  {
   "cell_type": "code",
   "execution_count": 72,
   "id": "dce75d72-ad33-457b-9a29-2d66411e0322",
   "metadata": {},
   "outputs": [],
   "source": [
    "#stop here"
   ]
  },
  {
   "cell_type": "markdown",
   "id": "da5753c4-4e05-4617-9bd4-42d5708b78f6",
   "metadata": {},
   "source": [
    "Let's remove the incomplete searches."
   ]
  },
  {
   "cell_type": "code",
   "execution_count": 73,
   "id": "d0527620-b0f5-428c-9123-be173fda4176",
   "metadata": {},
   "outputs": [],
   "source": [
    "if usecase == 'update_results':\n",
    "    assert(len(sorted(store.results[store.results['indirizzo'] == 'False'].index)) == 0)"
   ]
  },
  {
   "cell_type": "code",
   "execution_count": 74,
   "id": "f0149395-7435-4e18-99e6-8a5ff47580f7",
   "metadata": {},
   "outputs": [],
   "source": [
    "if usecase == 'update_results':\n",
    "    assert(len(sorted(store.results[store.results['response_status_code'] != 200].index)) == 0)"
   ]
  },
  {
   "cell_type": "code",
   "execution_count": 75,
   "id": "099c8ab8-9787-4a18-bf59-df30082a0f61",
   "metadata": {},
   "outputs": [],
   "source": [
    "if usecase == 'update_results':\n",
    "    if 0 == 1:\n",
    "        for cid in ['indirizzo']: #, 'numero_di_procedura']:\n",
    "            property[cid] = property[cid].astype(str)\n",
    "        for cid in ['is_downloaded']:\n",
    "            property[cid] = property[cid].astype(bool)\n",
    "        for cid in ['offerta_minima', 'prezzo_base']:\n",
    "            property[cid] = property[cid].astype(float)\n",
    "        for cid in ['response_status_code']:\n",
    "            property[cid] = property[cid].astype(int)"
   ]
  },
  {
   "cell_type": "code",
   "execution_count": null,
   "id": "97b174dd-95b8-439a-86fb-290413615854",
   "metadata": {},
   "outputs": [],
   "source": []
  },
  {
   "cell_type": "code",
   "execution_count": 76,
   "id": "83811f21-a261-4e14-9e32-81b1114c3964",
   "metadata": {},
   "outputs": [],
   "source": [
    "#search.to_parquet(parquet_filename)"
   ]
  },
  {
   "cell_type": "markdown",
   "id": "567530fe-22ac-467e-abe8-c5e47d0afa97",
   "metadata": {
    "tags": []
   },
   "source": [
    "# Link Extractor"
   ]
  },
  {
   "cell_type": "code",
   "execution_count": null,
   "id": "8e0f8e92-08c8-46f5-9b2c-bb71c9580c10",
   "metadata": {},
   "outputs": [],
   "source": [
    "if usecase == 'hyperlink extraction':\n",
    "    dataframe = pd.DataFrame(worksheet.get_all_records())"
   ]
  },
  {
   "cell_type": "markdown",
   "id": "695c0c74-e89c-4159-acf9-174bad7a5e4c",
   "metadata": {},
   "source": [
    "## Search"
   ]
  },
  {
   "cell_type": "code",
   "execution_count": 78,
   "id": "3c9b2593-452b-4337-b182-7590de541142",
   "metadata": {},
   "outputs": [],
   "source": [
    "if usecase == 'hyperlink extraction':\n",
    "    worksheet = workbook.worksheet('search')"
   ]
  },
  {
   "cell_type": "code",
   "execution_count": 79,
   "id": "75993794-ff09-4af9-a477-93a76f3826ab",
   "metadata": {},
   "outputs": [],
   "source": [
    "if usecase == 'hyperlink extraction':\n",
    "    search = pd.DataFrame(worksheet.get_all_records())\n",
    "    search = search.set_index('Identificativo')\n",
    "    print(search.shape)\n",
    "    display(search.head())"
   ]
  },
  {
   "cell_type": "code",
   "execution_count": 80,
   "id": "19170646-0003-416c-a9b7-b6dda53c2090",
   "metadata": {},
   "outputs": [],
   "source": [
    "if usecase == 'hyperlink extraction':\n",
    "    filenames = glob(os.path.join(rootname, 'pvp', 'pvp_search_*.html'))\n",
    "    basenames = [os.path.basename(x) for x in filenames]\n",
    "    print(f\"{len(filenames)} -> \\n\\t\" + '\\n\\t'.join(filenames[:10]))"
   ]
  },
  {
   "cell_type": "code",
   "execution_count": 81,
   "id": "674f6db1-6042-4b8c-a265-6774b57d799a",
   "metadata": {},
   "outputs": [],
   "source": [
    "if usecase == 'hyperlink extraction':\n",
    "    search_missing = set(basenames) - set(search['Basename'].unique())\n",
    "    print(len(search_missing))\n",
    "    print('\\n'.join(sorted(search_missing)[:5]))\n",
    "    print('\\n'.join(sorted(search_missing)[-5:]))"
   ]
  },
  {
   "cell_type": "code",
   "execution_count": null,
   "id": "5b013333-4b78-4cce-a911-1d0feb6ee461",
   "metadata": {},
   "outputs": [],
   "source": [
    "if usecase == 'hyperlink extraction':\n",
    "    if 0 == 1:\n",
    "        repair_url('http://localhost/pvp/pvp_property_LTT4199300.html')"
   ]
  },
  {
   "cell_type": "code",
   "execution_count": null,
   "id": "4f1fad79-6e4c-4201-bd82-57fddc2cab12",
   "metadata": {},
   "outputs": [],
   "source": [
    "if usecase == 'hyperlink extraction':\n",
    "    urls = searches_to_be_downloaded(search_missing)\n",
    "    print(f\"{len(urls)} -> \" + '\\n'.join(sorted(urls)))"
   ]
  },
  {
   "cell_type": "code",
   "execution_count": null,
   "id": "39d3b3dd-734f-4f88-95f6-a461d2e2c66c",
   "metadata": {},
   "outputs": [],
   "source": [
    "if usecase == 'hyperlink extraction':\n",
    "    if 0 == 1:\n",
    "        pbar = tqdm(search.index)\n",
    "        for idx in pbar:\n",
    "            filename = search.loc[idx, 'Filename']\n",
    "            links = get_links(filename)\n",
    "            pbar.set_description(f\"{filename:>80} -> {len(links):>10}\")\n",
    "            print('\\n'.join(links[:10]))\n",
    "            # http://localhost/pvp/pvp_property_LTT5906692.html -> \n",
    "            break"
   ]
  },
  {
   "cell_type": "markdown",
   "id": "b441b795-3be7-43b0-8cee-e21356dd6ff5",
   "metadata": {},
   "source": [
    "## Search Property"
   ]
  },
  {
   "cell_type": "code",
   "execution_count": null,
   "id": "b078ea49-9aa6-4cbf-a609-0182ec724055",
   "metadata": {},
   "outputs": [],
   "source": [
    "if usecase == 'hyperlink extraction':\n",
    "    worksheet = workbook.worksheet('search_property')"
   ]
  },
  {
   "cell_type": "code",
   "execution_count": null,
   "id": "d93b783c-f762-431e-9a31-8b0a7a1035b0",
   "metadata": {},
   "outputs": [],
   "source": [
    "if usecase == 'hyperlink extraction':\n",
    "    search_property = pd.DataFrame(worksheet.get_all_records())\n",
    "    search_property = search_property.set_index('Identificativo')\n",
    "    print(search_property.shape)\n",
    "    display(search_property.head())"
   ]
  },
  {
   "cell_type": "code",
   "execution_count": null,
   "id": "3635dd0d-6aee-481e-aae8-65e9bb024c40",
   "metadata": {},
   "outputs": [],
   "source": [
    "if usecase == 'hyperlink extraction':\n",
    "    filenames = glob(os.path.join(rootname, 'pvp', 'pvp_property_*.html'))\n",
    "    basenames = [os.path.basename(x) for x in filenames]\n",
    "    print(f\"{len(filenames)} -> \\n\\t\" + '\\n\\t'.join(filenames[:10]))"
   ]
  },
  {
   "cell_type": "code",
   "execution_count": null,
   "id": "4eca1884-2f17-449e-b235-b1e014013157",
   "metadata": {},
   "outputs": [],
   "source": [
    "if usecase == 'hyperlink extraction':\n",
    "    search_property_missing = set(basenames) - set(search_property['Basename'].unique())\n",
    "    print(len(search_property_missing))\n",
    "    print('\\n'.join(sorted(search_property_missing)[:5]))\n",
    "    print('\\n'.join(sorted(search_property_missing)[-5:]))"
   ]
  },
  {
   "cell_type": "code",
   "execution_count": null,
   "id": "cf4570f8-f4e1-4063-ad8a-a7ae95976949",
   "metadata": {},
   "outputs": [],
   "source": [
    "if usecase == 'hyperlink extraction':\n",
    "    if 0 == 1:\n",
    "        repair_url('http://localhost/pvp/pvp_property_LTT4199300.html')"
   ]
  },
  {
   "cell_type": "code",
   "execution_count": null,
   "id": "a0e0b16d-f352-4bc4-991c-89ca1629adc0",
   "metadata": {},
   "outputs": [],
   "source": [
    "if usecase == 'hyperlink extraction':\n",
    "    urls = searches_to_be_downloaded(search_property_missing)\n",
    "    print(f\"{len(urls)} -> \" + '\\n'.join(sorted(urls)))"
   ]
  },
  {
   "cell_type": "markdown",
   "id": "42f1d444-6e5d-4d5d-b876-a4045de17626",
   "metadata": {},
   "source": [
    "## Property"
   ]
  },
  {
   "cell_type": "code",
   "execution_count": null,
   "id": "6a29f897-0566-490f-9bbb-556e881edf22",
   "metadata": {},
   "outputs": [],
   "source": [
    "if usecase == 'hyperlink extraction':\n",
    "    worksheet = workbook.worksheet('property')"
   ]
  },
  {
   "cell_type": "code",
   "execution_count": null,
   "id": "1e142a16-5ea1-4530-b613-b0cd306256c7",
   "metadata": {},
   "outputs": [],
   "source": [
    "if usecase == 'hyperlink extraction':\n",
    "    property = pd.DataFrame(worksheet.get_all_records())\n",
    "    property['Basename'] = property['url'].apply(lambda x: os.path.basename(x))\n",
    "    property['Identificativo'] = property['Basename'].apply(lambda x: os.path.splitext(x)[0].split('_')[-1].replace('LTT', ''))\n",
    "    property = property.set_index('Identificativo')\n",
    "    print(property.shape)\n",
    "    display(property.head())"
   ]
  },
  {
   "cell_type": "code",
   "execution_count": null,
   "id": "866ae765-2475-47fc-8097-0f2be0ed6dd6",
   "metadata": {},
   "outputs": [],
   "source": []
  },
  {
   "cell_type": "code",
   "execution_count": null,
   "id": "a37d5e53-0f9c-4739-9c6e-af50273142a3",
   "metadata": {},
   "outputs": [],
   "source": []
  },
  {
   "cell_type": "code",
   "execution_count": null,
   "id": "71d1d429-f260-43af-8a6a-0ccc180914a3",
   "metadata": {},
   "outputs": [],
   "source": [
    "if usecase == 'hyperlink extraction':\n",
    "    filenames = glob(os.path.join(rootname, 'pvp', 'pvp_property_*.html'))\n",
    "    basenames = [os.path.basename(x) for x in filenames]\n",
    "    print(f\"{len(filenames)} -> \\n\\t\" + '\\n\\t'.join(filenames[:10]))"
   ]
  },
  {
   "cell_type": "code",
   "execution_count": null,
   "id": "9b7defbd-769a-4775-82ae-1c63e21b01e2",
   "metadata": {},
   "outputs": [],
   "source": [
    "if usecase == 'hyperlink extraction':\n",
    "    property_missing = set(basenames) - set(property['Basename'].unique())\n",
    "    print(len(property_missing))\n",
    "    print('\\n'.join(sorted(property_missing)[:5]))\n",
    "    print('\\n'.join(sorted(property_missing)[-5:]))"
   ]
  },
  {
   "cell_type": "code",
   "execution_count": null,
   "id": "fdc9468e-dafb-43e5-b769-f30d94dac407",
   "metadata": {},
   "outputs": [],
   "source": [
    "if usecase == 'hyperlink extraction':\n",
    "    if 0 == 1:\n",
    "        repair_url('http://localhost/pvp/pvp_property_LTT4199300.html')"
   ]
  },
  {
   "cell_type": "code",
   "execution_count": null,
   "id": "bb873772-c2a8-40cd-b06a-ab7029834b83",
   "metadata": {},
   "outputs": [],
   "source": [
    "if usecase == 'hyperlink extraction':\n",
    "    urls = searches_to_be_downloaded(search_property_missing)\n",
    "    print(f\"{len(urls)} -> \" + '\\n'.join(sorted(urls)))"
   ]
  },
  {
   "cell_type": "code",
   "execution_count": null,
   "id": "d3504231-db6d-4eff-baa9-fd063d068936",
   "metadata": {},
   "outputs": [],
   "source": []
  },
  {
   "cell_type": "code",
   "execution_count": null,
   "id": "8ee5c671-3b29-4f9c-b944-94ce963f466e",
   "metadata": {},
   "outputs": [],
   "source": []
  },
  {
   "cell_type": "code",
   "execution_count": null,
   "id": "5ba41e38-e4b9-4f62-85f4-b917d12e89d1",
   "metadata": {},
   "outputs": [],
   "source": []
  },
  {
   "cell_type": "code",
   "execution_count": null,
   "id": "1f27cf28-64c8-4c0c-a1db-331f9112cc31",
   "metadata": {},
   "outputs": [],
   "source": []
  },
  {
   "cell_type": "code",
   "execution_count": null,
   "id": "45b95c4f-d23f-4fba-b4c7-538a0f6d812b",
   "metadata": {},
   "outputs": [],
   "source": []
  },
  {
   "cell_type": "code",
   "execution_count": null,
   "id": "04ee6570-cd44-4f6d-b1ab-13ca3d072373",
   "metadata": {},
   "outputs": [],
   "source": []
  },
  {
   "cell_type": "code",
   "execution_count": null,
   "id": "9fde246d-08d2-4ff6-893a-7a8143bd0c7b",
   "metadata": {},
   "outputs": [],
   "source": []
  },
  {
   "cell_type": "code",
   "execution_count": null,
   "id": "451698d6-5c2a-4401-8f8b-5c9e5d92317e",
   "metadata": {},
   "outputs": [],
   "source": []
  },
  {
   "cell_type": "code",
   "execution_count": null,
   "id": "83d345a1-4e33-4863-b871-711c11a7dacf",
   "metadata": {},
   "outputs": [],
   "source": []
  },
  {
   "cell_type": "markdown",
   "id": "18bdfe4d-67cf-45e8-b79e-a62546f370f4",
   "metadata": {
    "tags": []
   },
   "source": [
    "# Link Fixer"
   ]
  },
  {
   "cell_type": "markdown",
   "id": "d33d3a7a-5ffe-4f51-b92e-6999830a33cc",
   "metadata": {},
   "source": [
    "## Search"
   ]
  },
  {
   "cell_type": "code",
   "execution_count": null,
   "id": "1d452b7d-d4e9-4690-9923-8f511d60d241",
   "metadata": {},
   "outputs": [],
   "source": [
    "if usecase == 'fix_links':\n",
    "    parquet_filename = '/home/git/property_scraper/demos/pvp_search_default.enriched.parquet'\n",
    "    search = pd.read_parquet(parquet_filename)\n",
    "    print(search.shape)\n",
    "    display(search.head(3).T)"
   ]
  },
  {
   "cell_type": "code",
   "execution_count": null,
   "id": "0bb3abf1-993e-4311-82c4-6ce6bc3e8f95",
   "metadata": {},
   "outputs": [],
   "source": []
  },
  {
   "cell_type": "code",
   "execution_count": null,
   "id": "f702f8fa-df2b-4811-bc0c-a7eb528dac7c",
   "metadata": {},
   "outputs": [],
   "source": [
    "if usecase == 'fix_links':\n",
    "    #_filenames = [x for x in sorted(data['searches'])]\n",
    "    #print(f\"{len(_filenames):10} -> {_filenames[:1]}\")\n",
    "    indices = search[~search['Scaricato?']].index\n",
    "    filenames_to_be_downloaded = [os.path.join(search_engine, x) for x in sorted(search.loc[indices, 'Basename'].unique())]\n",
    "    print(f\"Number of Search Files to be downloaded: {len(filenames_to_be_downloaded):36} -> {filenames_to_be_downloaded[:1]}\")\n",
    "    indices = search[search['Scaricato?'] & search['Hyperlink relativo riparato?']].index\n",
    "    filenames_fixed = [os.path.join(search_engine, x) for x in sorted(search.loc[indices, 'Basename'].unique())]\n",
    "    print(f\"Number of Search Files downloaded and with Hyperlinks fixed: {len(filenames_fixed):16} -> {filenames_fixed[:1]}\")\n",
    "    indices = search[search['Scaricato?'] & ~search['Hyperlink relativo riparato?']].index\n",
    "    filenames_to_be_fixed = [os.path.join(search_engine, x) for x in sorted(search.loc[indices, 'Basename'].unique())]\n",
    "    print(f\"Number of Search Files downloaded but with Hyperlinks to be fixed: {len(filenames_to_be_fixed):10} -> {filenames_to_be_fixed[:1]}\")\n",
    "    if 0 == 1:\n",
    "        #filenames = [x for x in sorted(data['searches']) if 'pvp/pvp_search_20230429' in x]\n",
    "        #filenames = filenames[10:11]\n",
    "        filenames_to_be_fixed = ['pvp/pvp_search_20230429072621_000069.html']\n",
    "        print(filenames_to_be_fixed)"
   ]
  },
  {
   "cell_type": "code",
   "execution_count": null,
   "id": "4bceead4-aec8-40cb-9b47-ff76a5a702c5",
   "metadata": {},
   "outputs": [],
   "source": []
  },
  {
   "cell_type": "code",
   "execution_count": null,
   "id": "e0ffdf83-ed18-4313-bf50-7bc34bca9700",
   "metadata": {},
   "outputs": [],
   "source": [
    "def fix_search_hyperlinks(filename:str):\n",
    "    prefixes = {\n",
    "        '/': f'{PVP_URL_ROOTNAME}/',\n",
    "        'prenotazione_visita.page?': f'{PVP_URL_ROOTNAME}/pvp/it/prenotazione_visita.page?',\n",
    "        f'{PVP_URL_ROOTNAME}/pvp/en/': f'{PVP_URL_ROOTNAME}/pvp/it/',\n",
    "        'http://localhost/pvp-resources/': f'{PVP_URL_ROOTNAME}/pvp-resources/',\n",
    "        'http://localhost/pvp/it/': f'{PVP_URL_ROOTNAME}/pvp/it/'\n",
    "    }\n",
    "    \n",
    "    func = {\n",
    "        f'{PVP_URL_ROOTNAME}/pvp/it/dettaglio_annuncio.page?': get_filename_from_identifier,\n",
    "        f'{PVP_URL_ROOTNAME}/pvp/en/dettaglio_annuncio.page?': get_filename_from_identifier\n",
    "    }\n",
    "    keys = ['contentId']\n",
    "    root = f'http://localhost/{search_engine}/{search_engine}_property'\n",
    "    \n",
    "    path = os.path.join('/home/git/property_scraper/demos/downloads', filename)\n",
    "    subfolder = f'../../../www/{search_engine}'\n",
    "    text = None\n",
    "    with open(path, 'r') as f:\n",
    "        text = f.read()\n",
    "        text = text.replace(\"'/pvp-resources/\", f\"'{PVP_URL_ROOTNAME}/pvp-resources/\")\n",
    "        text = text.replace('\"/pvp-resources/', f'\"{PVP_URL_ROOTNAME}/pvp-resources/')\n",
    "        text = text.replace('http://localhost/pvp/de/', f'{PVP_URL_ROOTNAME}/pvp/de/')\n",
    "        text = text.replace('http://localhost/pvp/en/', f'{PVP_URL_ROOTNAME}/pvp/en/')\n",
    "        text = text.replace('http://localhost/pvp/it/', f'{PVP_URL_ROOTNAME}/pvp/it/')\n",
    "        text = text.replace('http://localhost/pvp/en/risultati_ricerca.page?', f'{PVP_URL_ROOTNAME}/pvp/it/risultati_ricerca.page?')\n",
    "        text = text.replace('http://localhost/pvp/it/risultati_ricerca.page?', f'{PVP_URL_ROOTNAME}/pvp/it/risultati_ricerca.page?')\n",
    "        text = text.replace('http://localhost/pvp/it/dettaglio_annuncio.page?', f'{PVP_URL_ROOTNAME}/pvp/it/dettaglio_annuncio.page?')\n",
    "        text = text.replace('http://localhost:8000/pvp/de/', f'{PVP_URL_ROOTNAME}/pvp/de/')\n",
    "        text = text.replace('http://localhost:8000/pvp/en/', f'{PVP_URL_ROOTNAME}/pvp/en/')\n",
    "        text = text.replace('http://localhost:8000/pvp/it/', f'{PVP_URL_ROOTNAME}/pvp/it/')\n",
    "        text = text.replace('http://localhost:8000/pvp/en/risultati_ricerca.page?', f'{PVP_URL_ROOTNAME}/pvp/it/risultati_ricerca.page?')\n",
    "        text = text.replace('http://localhost:8000/pvp/it/risultati_ricerca.page?', f'{PVP_URL_ROOTNAME}/pvp/it/risultati_ricerca.page?')\n",
    "    if text:\n",
    "        #print(f\"File {path} was modified!\")\n",
    "        opath = os.path.realpath(os.path.join(os.path.dirname(path), subfolder, os.path.basename(path)))\n",
    "        #print(f'Copying filename {path} to {opath} ... ')\n",
    "        with open(opath, 'w') as of:\n",
    "            of.write(text)\n",
    "        fix_hyperlinks(opath, filters=func, keys=keys, root=root, url_rootname=url_rootname, prefixes=prefixes, overwrite=True)#, subfolder=subfolder)\n",
    "        #break"
   ]
  },
  {
   "cell_type": "code",
   "execution_count": null,
   "id": "822489b6-96a8-4274-8cc2-08d78956f7bd",
   "metadata": {},
   "outputs": [],
   "source": [
    "%%time\n",
    "\n",
    "if usecase == 'fix_links':\n",
    "    # Define the inputs to your function\n",
    "    n0 = 0\n",
    "    filenames = filenames_to_be_fixed[n0:]\n",
    "\n",
    "    if run_in_parallel:\n",
    "        # Create a multiprocessing pool\n",
    "        with Pool(processes=no_processes) as mp_pool:\n",
    "            # Use the pool to apply the function to each input in parallel\n",
    "            results = []\n",
    "            for result in tqdm(mp_pool.imap_unordered(fix_property_hyperlinks, filenames), total=len(filenames)):\n",
    "                results.append(result)\n",
    "    else:\n",
    "        pbar = tqdm(filenames, position=0)\n",
    "        #ix = 0\n",
    "        for filename in pbar:\n",
    "            pbar.set_description(f'{filename: >60}')\n",
    "            fix_search_hyperlinks(filename)"
   ]
  },
  {
   "cell_type": "markdown",
   "id": "2d6f0f43-8df9-4a58-9875-741cd44cab0f",
   "metadata": {},
   "source": [
    "## Property"
   ]
  },
  {
   "cell_type": "code",
   "execution_count": null,
   "id": "39079d80-9fa8-4f35-abe1-ccba47a3bdab",
   "metadata": {},
   "outputs": [],
   "source": [
    "if usecase == 'fix_links':\n",
    "    #filenames = [x for x in sorted(data['properties'])]\n",
    "    filenames_to_be_fixed = glob('/home/git/property_scraper/demos/downloads/pvp/pvp_property_LTT*.html')\n",
    "    filenames_to_be_fixed = [os.path.relpath(x, '/home/git/property_scraper/demos/downloads') for x in filenames_to_be_fixed]\n",
    "    print(f\"Number of Search Files downloaded but with Hyperlinks to be fixed: {len(filenames_to_be_fixed):10} -> {filenames_to_be_fixed[:1]}\")    \n",
    "    if 0 == 1:\n",
    "        #filenames = [x for x in sorted(data['searches']) if 'pvp/pvp_search_20230429' in x]\n",
    "        filenames = filenames[-10:]\n",
    "        print(filenames)    "
   ]
  },
  {
   "cell_type": "code",
   "execution_count": null,
   "id": "f75b89fb-a8d3-47aa-9214-f378e430578b",
   "metadata": {},
   "outputs": [],
   "source": [
    "def fix_property_hyperlinks(filename:str):\n",
    "    prefixes = {\n",
    "        '/': f'{PVP_URL_ROOTNAME}/',\n",
    "        'prenotazione_visita.page?': f'{PVP_URL_ROOTNAME}/pvp/it/prenotazione_visita.page?',\n",
    "        f'{PVP_URL_ROOTNAME}/pvp/en/': f'{PVP_URL_ROOTNAME}/pvp/it/',\n",
    "        'http://localhost/pvp-resources/': f'{PVP_URL_ROOTNAME}/pvp-resources/',\n",
    "        'http://localhost/pvp/it/': f'{PVP_URL_ROOTNAME}/pvp/it/',\n",
    "        'http://localhost:8000/pvp/documents/': './documents/'\n",
    "    }\n",
    "\n",
    "    func = {\n",
    "        f'{PVP_URL_ROOTNAME}/pvp-resources/cms/documents/': get_basename,\n",
    "\n",
    "    }\n",
    "    #https://pvp.giustizia.it/pvp-resources/cms/documents/2018/20181003/c54d1e6f718d6a7275bf317b0ebcc4b2.pdf\n",
    "    keys = [None]\n",
    "    root = f'http://localhost:8000/{search_engine}/documents/'\n",
    "    \n",
    "    path = os.path.join('/home/git/property_scraper/demos/downloads', filename)\n",
    "    subfolder = f'../../../www/{search_engine}'\n",
    "    text = None\n",
    "    with open(path, 'r') as f:\n",
    "        text = f.read()\n",
    "        text = text.replace(\"'/pvp-resources/\", f\"'{PVP_URL_ROOTNAME}/pvp-resources/\")\n",
    "        text = text.replace('\"/pvp-resources/', f'\"{PVP_URL_ROOTNAME}/pvp-resources/')\n",
    "        text = text.replace('http://localhost/pvp/de/', f'{PVP_URL_ROOTNAME}/pvp/de/')\n",
    "        text = text.replace('http://localhost/pvp/en/', f'{PVP_URL_ROOTNAME}/pvp/en/')\n",
    "        text = text.replace('http://localhost/pvp/it/', f'{PVP_URL_ROOTNAME}/pvp/it/')\n",
    "        text = text.replace('http://localhost/pvp/en/risultati_ricerca.page?', f'{PVP_URL_ROOTNAME}/pvp/it/risultati_ricerca.page?')\n",
    "        text = text.replace('http://localhost/pvp/it/risultati_ricerca.page?', f'{PVP_URL_ROOTNAME}/pvp/it/risultati_ricerca.page?')\n",
    "        text = text.replace('http://localhost/pvp/it/dettaglio_annuncio.page?', f'{PVP_URL_ROOTNAME}/pvp/it/dettaglio_annuncio.page?')\n",
    "        text = text.replace('http://localhost:8000/pvp/de/', f'{PVP_URL_ROOTNAME}/pvp/de/')\n",
    "        text = text.replace('http://localhost:8000/pvp/en/', f'{PVP_URL_ROOTNAME}/pvp/en/')\n",
    "        text = text.replace('http://localhost:8000/pvp/it/', f'{PVP_URL_ROOTNAME}/pvp/it/')\n",
    "        text = text.replace('http://localhost:8000/pvp/en/risultati_ricerca.page?', f'{PVP_URL_ROOTNAME}/pvp/it/risultati_ricerca.page?')\n",
    "        text = text.replace('http://localhost:8000/pvp/it/risultati_ricerca.page?', f'{PVP_URL_ROOTNAME}/pvp/it/risultati_ricerca.page?')\n",
    "    if text:\n",
    "        #print(f\"File {path} was modified!\")\n",
    "        opath = os.path.realpath(os.path.join(os.path.dirname(path), subfolder, os.path.basename(path)))\n",
    "        #print(f'Copying filename {path} to {opath} ... ')\n",
    "        with open(opath, 'w') as of:\n",
    "            of.write(text)\n",
    "        fix_hyperlinks(opath, filters=func, keys=keys, root=root, url_rootname=url_rootname, prefixes=prefixes, overwrite=True) #, subfolder=subfolder')\n",
    "    #break"
   ]
  },
  {
   "cell_type": "code",
   "execution_count": null,
   "id": "607a992f-9fea-4213-9569-4a04396c1a81",
   "metadata": {},
   "outputs": [],
   "source": []
  },
  {
   "cell_type": "code",
   "execution_count": null,
   "id": "6e9d3427-ab53-4fff-b8f2-a7d255c34b59",
   "metadata": {},
   "outputs": [],
   "source": [
    "%%time\n",
    "\n",
    "# Define the inputs to your function\n",
    "n0 = 0 #231054\n",
    "filenames = filenames_to_be_fixed[n0:]\n",
    "\n",
    "if usecase == 'fix_links':\n",
    "    if run_in_parallel:\n",
    "        # Create a multiprocessing pool\n",
    "        with Pool(processes=no_processes) as mp_pool:\n",
    "            # Use the pool to apply the function to each input in parallel\n",
    "            results = []\n",
    "            for result in tqdm(mp_pool.imap_unordered(fix_property_hyperlinks, filenames), total=len(filenames)):\n",
    "                results.append(result)\n",
    "    else:\n",
    "        pbar = tqdm(filenames_to_be_fixed[n0:], position=0)\n",
    "        #ix = 0\n",
    "        for filename in pbar:\n",
    "            pbar.set_description(f'{filename: <50}')\n",
    "            fix_property_hyperlinks(filename)"
   ]
  },
  {
   "cell_type": "markdown",
   "id": "0ffa105f-700b-4d0f-b3be-369530d2dc99",
   "metadata": {
    "tags": []
   },
   "source": [
    "# Link Checker"
   ]
  },
  {
   "cell_type": "markdown",
   "id": "4b3a0b31-6a8e-4dd3-860c-627ae6ea3acd",
   "metadata": {},
   "source": [
    "## Search"
   ]
  },
  {
   "cell_type": "code",
   "execution_count": null,
   "id": "3209190e-2185-43a6-a4f6-81c8b0639a60",
   "metadata": {},
   "outputs": [],
   "source": [
    "%%time \n",
    "\n",
    "if usecase == 'check_links':\n",
    "    urls = data['searches']\n",
    "    linkchecker(search_engine, urls, url_rootname, f'{search_engine}_search')"
   ]
  },
  {
   "cell_type": "code",
   "execution_count": null,
   "id": "cc71aa52-3bee-4f4a-b835-3109e0e2860b",
   "metadata": {},
   "outputs": [],
   "source": []
  },
  {
   "cell_type": "markdown",
   "id": "ca0fd01d-0beb-46b9-9357-ea7e79840af8",
   "metadata": {
    "tags": []
   },
   "source": [
    "## Property"
   ]
  },
  {
   "cell_type": "code",
   "execution_count": null,
   "id": "2fad5502-0482-4d34-87c4-78650a267fb0",
   "metadata": {
    "tags": []
   },
   "outputs": [],
   "source": [
    "%%time \n",
    "\n",
    "if usecase == 'check_links':\n",
    "    urls = data['properties']\n",
    "    linkchecker(search_engine, urls, url_rootname, f'{search_engine}_property')"
   ]
  },
  {
   "cell_type": "code",
   "execution_count": null,
   "id": "57ec0052-68be-4d27-9aea-7e906fcba817",
   "metadata": {
    "tags": []
   },
   "outputs": [],
   "source": []
  },
  {
   "cell_type": "code",
   "execution_count": null,
   "id": "e8de8ced-ddd5-4d97-ba09-6a576c0623f6",
   "metadata": {},
   "outputs": [],
   "source": [
    "#!linkchecker --verbose --file-output=csv/../demos/linkchecker-test.csv http://localhost:8001/pvp/pvp_LTT1002377.html\n",
    "#!linkchecker --check-extern --verbose --ignore-url=https://pvp.giustizia.it/pvp/it/ultimi_annunci.page --ignore-url=https://pvp.giustizia.it//analiticositi.giustizia.it/piwik.php?idsite=17 --output=csv http://localhost:8001/pvp/pvp_LTT1002377.html"
   ]
  },
  {
   "cell_type": "code",
   "execution_count": null,
   "id": "a7526920-57cf-4a60-a945-9a58533fc97e",
   "metadata": {},
   "outputs": [],
   "source": [
    "if usecase == 'check_links':\n",
    "    filename = f'../demos/{search_engine}linkchecker-output.txt'"
   ]
  },
  {
   "cell_type": "code",
   "execution_count": null,
   "id": "a6d8ce87-e15b-47b4-827d-d1def0b2c544",
   "metadata": {},
   "outputs": [],
   "source": [
    "if usecase == 'check_links':\n",
    "    with open(filename, 'r') as f:\n",
    "        for rowid, line in enumerate(f.readlines()):\n",
    "            if rowid == 10:\n",
    "                break\n",
    "            print(line.strip())"
   ]
  },
  {
   "cell_type": "code",
   "execution_count": null,
   "id": "d129a8ec-ccdb-4957-a46d-3c1b6bf5cbf4",
   "metadata": {},
   "outputs": [],
   "source": [
    "if usecase == 'check_links':\n",
    "    links = pd.read_csv(filename, sep=';', comment='#', skiprows=[0, 1, 2, -1])\n",
    "    display(links.head(3).T)"
   ]
  },
  {
   "cell_type": "code",
   "execution_count": null,
   "id": "14a3434e-8ac8-4b4e-a46a-b8fd71ed1035",
   "metadata": {},
   "outputs": [],
   "source": []
  },
  {
   "cell_type": "markdown",
   "id": "7c621bff-a02c-41e5-997d-02b42a8ac028",
   "metadata": {
    "tags": []
   },
   "source": [
    "# Result Exploration"
   ]
  },
  {
   "cell_type": "code",
   "execution_count": 86,
   "id": "9bcd920c-34c2-4ef7-a73c-c043fd66e3d7",
   "metadata": {
    "tags": []
   },
   "outputs": [
    {
     "name": "stdout",
     "output_type": "stream",
     "text": [
      "/home/data/property_scraper/demos/pvp_property_localhost.enriched.parquet\n"
     ]
    },
    {
     "data": {
      "text/html": [
       "<div>\n",
       "<style scoped>\n",
       "    .dataframe tbody tr th:only-of-type {\n",
       "        vertical-align: middle;\n",
       "    }\n",
       "\n",
       "    .dataframe tbody tr th {\n",
       "        vertical-align: top;\n",
       "    }\n",
       "\n",
       "    .dataframe thead th {\n",
       "        text-align: right;\n",
       "    }\n",
       "</style>\n",
       "<table border=\"1\" class=\"dataframe\">\n",
       "  <thead>\n",
       "    <tr style=\"text-align: right;\">\n",
       "      <th></th>\n",
       "      <th>allegati</th>\n",
       "      <th>allegati_url</th>\n",
       "      <th>Basename</th>\n",
       "      <th>bene_descrizione</th>\n",
       "      <th>bene_disponibilita</th>\n",
       "      <th>bene_foglio</th>\n",
       "      <th>bene_particella</th>\n",
       "      <th>bene_piano</th>\n",
       "      <th>bene_sub</th>\n",
       "      <th>bene_tipologia</th>\n",
       "      <th>...</th>\n",
       "      <th>Codice dello Stato della Risposta</th>\n",
       "      <th>Rialzo minimo</th>\n",
       "      <th>Nome del Ragno</th>\n",
       "      <th>termine_presentazione_offerta</th>\n",
       "      <th>tipo_procedura</th>\n",
       "      <th>tipologia</th>\n",
       "      <th>tribunale</th>\n",
       "      <th>URL</th>\n",
       "      <th>Localhost URL</th>\n",
       "      <th>Batch</th>\n",
       "    </tr>\n",
       "  </thead>\n",
       "  <tbody>\n",
       "    <tr>\n",
       "      <th>0</th>\n",
       "      <td>Relazione generale Mantova_Omissis.pdf (292 Kb...</td>\n",
       "      <td>/pvp-resources/cms/documents/2018/20181106/af7...</td>\n",
       "      <td>nan</td>\n",
       "      <td>LOTTO B9Area da urbanizzare di circa 3.286 mq ...</td>\n",
       "      <td>NaN</td>\n",
       "      <td>NaN</td>\n",
       "      <td>NaN</td>\n",
       "      <td>NaN</td>\n",
       "      <td>NaN</td>\n",
       "      <td>Senza incanto</td>\n",
       "      <td>...</td>\n",
       "      <td>200</td>\n",
       "      <td>0.0</td>\n",
       "      <td>pvp_property</td>\n",
       "      <td>13/12/2018 12:00</td>\n",
       "      <td>FALLIMENTARE (nuovo rito)</td>\n",
       "      <td>Senza incanto</td>\n",
       "      <td>Tribunale di MANTOVA</td>\n",
       "      <td>http://localhost:8001/pvp/pvp_property_LTT1000...</td>\n",
       "      <td>http://localhost:8001/pvp/pvp_property_LTT1000...</td>\n",
       "      <td></td>\n",
       "    </tr>\n",
       "    <tr>\n",
       "      <th>1</th>\n",
       "      <td>Avviso di vendita Spada 4 GEN 19 A.pdf (109 Kb...</td>\n",
       "      <td>https://pvp.giustizia.it/pvp-resources/cms/doc...</td>\n",
       "      <td>nan</td>\n",
       "      <td>Quota di proprietà del 50% di Appartamento al ...</td>\n",
       "      <td>NaN</td>\n",
       "      <td>NaN</td>\n",
       "      <td>NaN</td>\n",
       "      <td>NaN</td>\n",
       "      <td>NaN</td>\n",
       "      <td>Senza incanto</td>\n",
       "      <td>...</td>\n",
       "      <td>200</td>\n",
       "      <td>1000.0</td>\n",
       "      <td>pvp_property</td>\n",
       "      <td>03/01/2019 12:00</td>\n",
       "      <td>FALLIMENTARE (nuovo rito)</td>\n",
       "      <td>Senza incanto</td>\n",
       "      <td>Tribunale di PESCARA</td>\n",
       "      <td>http://localhost:8001/pvp/pvp_property_LTT1000...</td>\n",
       "      <td>http://localhost:8001/pvp/pvp_property_LTT1000...</td>\n",
       "      <td></td>\n",
       "    </tr>\n",
       "    <tr>\n",
       "      <th>2</th>\n",
       "      <td>avviso di vendita.pdf (24 Kb),ordinanza.pdf (7...</td>\n",
       "      <td>https://pvp.giustizia.it/pvp-resources/cms/doc...</td>\n",
       "      <td>nan</td>\n",
       "      <td>Appartamento ad uso abitativo al piano terreno...</td>\n",
       "      <td>NaN</td>\n",
       "      <td>NaN</td>\n",
       "      <td>NaN</td>\n",
       "      <td>NaN</td>\n",
       "      <td>NaN</td>\n",
       "      <td>Senza incanto</td>\n",
       "      <td>...</td>\n",
       "      <td>200</td>\n",
       "      <td>1000.0</td>\n",
       "      <td>pvp_property</td>\n",
       "      <td>09/01/2019 12:00</td>\n",
       "      <td>ESECUZIONE IMMOBILIARE POST LEGGE 80</td>\n",
       "      <td>Senza incanto</td>\n",
       "      <td>Tribunale di BUSTO ARSIZIO</td>\n",
       "      <td>http://localhost:8001/pvp/pvp_property_LTT1000...</td>\n",
       "      <td>http://localhost:8001/pvp/pvp_property_LTT1000...</td>\n",
       "      <td></td>\n",
       "    </tr>\n",
       "    <tr>\n",
       "      <th>3</th>\n",
       "      <td>avviso12 161.07.pdf (235 Kb),ordinanza 161.07....</td>\n",
       "      <td>https://pvp.giustizia.it/pvp-resources/cms/doc...</td>\n",
       "      <td>nan</td>\n",
       "      <td>diritti di piena proprietà su porzione di fabb...</td>\n",
       "      <td>NaN</td>\n",
       "      <td>NaN</td>\n",
       "      <td>NaN</td>\n",
       "      <td>NaN</td>\n",
       "      <td>NaN</td>\n",
       "      <td>Senza incanto</td>\n",
       "      <td>...</td>\n",
       "      <td>200</td>\n",
       "      <td>0.0</td>\n",
       "      <td>pvp_property</td>\n",
       "      <td>04/12/2018 12:00</td>\n",
       "      <td>ESECUZIONE IMMOBILIARE POST LEGGE 80</td>\n",
       "      <td>Senza incanto</td>\n",
       "      <td>Tribunale di MACERATA</td>\n",
       "      <td>http://localhost:8001/pvp/pvp_property_LTT1000...</td>\n",
       "      <td>http://localhost:8001/pvp/pvp_property_LTT1000...</td>\n",
       "      <td></td>\n",
       "    </tr>\n",
       "    <tr>\n",
       "      <th>4</th>\n",
       "      <td>795821_perizia.pdf (3677 Kb),795820_ordinanza....</td>\n",
       "      <td>https://pvp.giustizia.it/pvp-resources/cms/doc...</td>\n",
       "      <td>nan</td>\n",
       "      <td>quota pari a 1/2 di appartamento al p.t. con l...</td>\n",
       "      <td>NaN</td>\n",
       "      <td>NaN</td>\n",
       "      <td>NaN</td>\n",
       "      <td>NaN</td>\n",
       "      <td>NaN</td>\n",
       "      <td>Senza incanto</td>\n",
       "      <td>...</td>\n",
       "      <td>200</td>\n",
       "      <td>1000.0</td>\n",
       "      <td>pvp_property</td>\n",
       "      <td>08/01/2019 12:00</td>\n",
       "      <td>FALLIMENTARE</td>\n",
       "      <td>Senza incanto</td>\n",
       "      <td>Tribunale di CATANZARO</td>\n",
       "      <td>http://localhost:8001/pvp/pvp_property_LTT1000...</td>\n",
       "      <td>http://localhost:8001/pvp/pvp_property_LTT1000...</td>\n",
       "      <td></td>\n",
       "    </tr>\n",
       "  </tbody>\n",
       "</table>\n",
       "<p>5 rows × 48 columns</p>\n",
       "</div>"
      ],
      "text/plain": [
       "                                            allegati  \\\n",
       "0  Relazione generale Mantova_Omissis.pdf (292 Kb...   \n",
       "1  Avviso di vendita Spada 4 GEN 19 A.pdf (109 Kb...   \n",
       "2  avviso di vendita.pdf (24 Kb),ordinanza.pdf (7...   \n",
       "3  avviso12 161.07.pdf (235 Kb),ordinanza 161.07....   \n",
       "4  795821_perizia.pdf (3677 Kb),795820_ordinanza....   \n",
       "\n",
       "                                        allegati_url Basename  \\\n",
       "0  /pvp-resources/cms/documents/2018/20181106/af7...      nan   \n",
       "1  https://pvp.giustizia.it/pvp-resources/cms/doc...      nan   \n",
       "2  https://pvp.giustizia.it/pvp-resources/cms/doc...      nan   \n",
       "3  https://pvp.giustizia.it/pvp-resources/cms/doc...      nan   \n",
       "4  https://pvp.giustizia.it/pvp-resources/cms/doc...      nan   \n",
       "\n",
       "                                    bene_descrizione  bene_disponibilita  \\\n",
       "0  LOTTO B9Area da urbanizzare di circa 3.286 mq ...                 NaN   \n",
       "1  Quota di proprietà del 50% di Appartamento al ...                 NaN   \n",
       "2  Appartamento ad uso abitativo al piano terreno...                 NaN   \n",
       "3  diritti di piena proprietà su porzione di fabb...                 NaN   \n",
       "4  quota pari a 1/2 di appartamento al p.t. con l...                 NaN   \n",
       "\n",
       "   bene_foglio  bene_particella  bene_piano  bene_sub bene_tipologia  ...  \\\n",
       "0          NaN              NaN         NaN       NaN  Senza incanto  ...   \n",
       "1          NaN              NaN         NaN       NaN  Senza incanto  ...   \n",
       "2          NaN              NaN         NaN       NaN  Senza incanto  ...   \n",
       "3          NaN              NaN         NaN       NaN  Senza incanto  ...   \n",
       "4          NaN              NaN         NaN       NaN  Senza incanto  ...   \n",
       "\n",
       "   Codice dello Stato della Risposta Rialzo minimo Nome del Ragno  \\\n",
       "0                                200           0.0   pvp_property   \n",
       "1                                200        1000.0   pvp_property   \n",
       "2                                200        1000.0   pvp_property   \n",
       "3                                200           0.0   pvp_property   \n",
       "4                                200        1000.0   pvp_property   \n",
       "\n",
       "  termine_presentazione_offerta                        tipo_procedura  \\\n",
       "0              13/12/2018 12:00             FALLIMENTARE (nuovo rito)   \n",
       "1              03/01/2019 12:00             FALLIMENTARE (nuovo rito)   \n",
       "2              09/01/2019 12:00  ESECUZIONE IMMOBILIARE POST LEGGE 80   \n",
       "3              04/12/2018 12:00  ESECUZIONE IMMOBILIARE POST LEGGE 80   \n",
       "4              08/01/2019 12:00                          FALLIMENTARE   \n",
       "\n",
       "       tipologia                   tribunale  \\\n",
       "0  Senza incanto        Tribunale di MANTOVA   \n",
       "1  Senza incanto        Tribunale di PESCARA   \n",
       "2  Senza incanto  Tribunale di BUSTO ARSIZIO   \n",
       "3  Senza incanto       Tribunale di MACERATA   \n",
       "4  Senza incanto      Tribunale di CATANZARO   \n",
       "\n",
       "                                                 URL  \\\n",
       "0  http://localhost:8001/pvp/pvp_property_LTT1000...   \n",
       "1  http://localhost:8001/pvp/pvp_property_LTT1000...   \n",
       "2  http://localhost:8001/pvp/pvp_property_LTT1000...   \n",
       "3  http://localhost:8001/pvp/pvp_property_LTT1000...   \n",
       "4  http://localhost:8001/pvp/pvp_property_LTT1000...   \n",
       "\n",
       "                                       Localhost URL  Batch  \n",
       "0  http://localhost:8001/pvp/pvp_property_LTT1000...         \n",
       "1  http://localhost:8001/pvp/pvp_property_LTT1000...         \n",
       "2  http://localhost:8001/pvp/pvp_property_LTT1000...         \n",
       "3  http://localhost:8001/pvp/pvp_property_LTT1000...         \n",
       "4  http://localhost:8001/pvp/pvp_property_LTT1000...         \n",
       "\n",
       "[5 rows x 48 columns]"
      ]
     },
     "metadata": {},
     "output_type": "display_data"
    },
    {
     "name": "stdout",
     "output_type": "stream",
     "text": [
      "CPU times: user 2.27 s, sys: 1.32 s, total: 3.58 s\n",
      "Wall time: 6.55 s\n"
     ]
    }
   ],
   "source": [
    "%%time \n",
    "\n",
    "if usecase == 'result exploration':\n",
    "    print(configuration['property parquet filename'])\n",
    "    properties = pd.read_parquet(configuration['property parquet filename'])\n",
    "    display(properties.head())"
   ]
  },
  {
   "cell_type": "code",
   "execution_count": 94,
   "id": "4da7246b-71ba-4482-bac2-e3b3ed2882ec",
   "metadata": {
    "tags": []
   },
   "outputs": [],
   "source": [
    "properties = properties.dropna(how='all').dropna(how='all', axis=1)"
   ]
  },
  {
   "cell_type": "code",
   "execution_count": 102,
   "id": "52fe60a3-bbfd-42ce-9186-f0d0409271ad",
   "metadata": {
    "tags": []
   },
   "outputs": [],
   "source": [
    "def to_list(s:str):\n",
    "    if s:\n",
    "        if ',' in s:\n",
    "            return s.split(',')\n",
    "        else:\n",
    "            return [s]\n",
    "    else:\n",
    "        return [s]\n",
    "    \n",
    "for cid in ['allegati', 'allegati_url']:\n",
    "    properties[cid] = properties[cid].apply(lambda x: to_list(x))"
   ]
  },
  {
   "cell_type": "code",
   "execution_count": 95,
   "id": "b92ee04a-c58f-4620-a948-98bdd5d8b737",
   "metadata": {
    "tags": []
   },
   "outputs": [
    {
     "data": {
      "text/plain": [
       "(247838, 38)"
      ]
     },
     "execution_count": 95,
     "metadata": {},
     "output_type": "execute_result"
    }
   ],
   "source": [
    "properties.shape"
   ]
  },
  {
   "cell_type": "code",
   "execution_count": 153,
   "id": "e69b7590-f460-4717-b578-59e1e0238052",
   "metadata": {
    "tags": []
   },
   "outputs": [],
   "source": [
    "properties_next.head(27000).to_excel(configuration['property excel filename'])"
   ]
  },
  {
   "cell_type": "code",
   "execution_count": 128,
   "id": "4160f421-0187-4cac-b622-8890d0b8c260",
   "metadata": {
    "tags": []
   },
   "outputs": [
    {
     "name": "stdout",
     "output_type": "stream",
     "text": [
      "<class 'datetime.datetime'>\n",
      "2018-12-14 11:00:00\n"
     ]
    }
   ],
   "source": [
    "datetime_str = '14/12/2018 11:00'\n",
    "\n",
    "datetime_object = datetime.strptime(datetime_str, '%d/%m/%Y %H:%M')\n",
    "\n",
    "print(type(datetime_object))\n",
    "print(datetime_object)  # printed in default format"
   ]
  },
  {
   "cell_type": "code",
   "execution_count": 145,
   "id": "7cdb5d68-b81b-47a0-b8d4-146050df137b",
   "metadata": {
    "tags": []
   },
   "outputs": [],
   "source": [
    "for x in properties['Data di vendita'].unique():\n",
    "    try:\n",
    "        x_datetime = datetime.strptime(x, '%d/%m/%Y %H:%M')\n",
    "    except:\n",
    "        print(x, type(x))"
   ]
  },
  {
   "cell_type": "code",
   "execution_count": 155,
   "id": "69004a2e-b59f-4d9c-802e-e2c54be85231",
   "metadata": {
    "tags": []
   },
   "outputs": [
    {
     "data": {
      "text/html": [
       "<div>\n",
       "<style scoped>\n",
       "    .dataframe tbody tr th:only-of-type {\n",
       "        vertical-align: middle;\n",
       "    }\n",
       "\n",
       "    .dataframe tbody tr th {\n",
       "        vertical-align: top;\n",
       "    }\n",
       "\n",
       "    .dataframe thead th {\n",
       "        text-align: right;\n",
       "    }\n",
       "</style>\n",
       "<table border=\"1\" class=\"dataframe\">\n",
       "  <thead>\n",
       "    <tr style=\"text-align: right;\">\n",
       "      <th></th>\n",
       "      <th>allegati</th>\n",
       "      <th>allegati_url</th>\n",
       "      <th>Basename</th>\n",
       "      <th>bene_descrizione</th>\n",
       "      <th>bene_tipologia</th>\n",
       "      <th>custode</th>\n",
       "      <th>custode_email</th>\n",
       "      <th>custode_telefono</th>\n",
       "      <th>custode_telefono_mobile</th>\n",
       "      <th>Data di vendita</th>\n",
       "      <th>...</th>\n",
       "      <th>Codice dello Stato della Risposta</th>\n",
       "      <th>Rialzo minimo</th>\n",
       "      <th>Nome del Ragno</th>\n",
       "      <th>termine_presentazione_offerta</th>\n",
       "      <th>tipo_procedura</th>\n",
       "      <th>tipologia</th>\n",
       "      <th>tribunale</th>\n",
       "      <th>URL</th>\n",
       "      <th>Localhost URL</th>\n",
       "      <th>Batch</th>\n",
       "    </tr>\n",
       "  </thead>\n",
       "  <tbody>\n",
       "    <tr>\n",
       "      <th>3841</th>\n",
       "      <td>[ordinanza 2018-.pdf (2030 Kb), quarto avviso....</td>\n",
       "      <td>[/pvp-resources/cms/documents/2018/20181218/6b...</td>\n",
       "      <td>nan</td>\n",
       "      <td>Mini appartamento al piano terra e primo.</td>\n",
       "      <td>Senza incanto</td>\n",
       "      <td>Riccardo Trento</td>\n",
       "      <td>None</td>\n",
       "      <td>None</td>\n",
       "      <td>None</td>\n",
       "      <td>NaT</td>\n",
       "      <td>...</td>\n",
       "      <td>200</td>\n",
       "      <td>2100.0</td>\n",
       "      <td>pvp_property</td>\n",
       "      <td>05/01/0001 00:00</td>\n",
       "      <td>ESECUZIONE IMMOBILIARE POST LEGGE 80</td>\n",
       "      <td>Senza incanto</td>\n",
       "      <td>Tribunale di FROSINONE</td>\n",
       "      <td>http://localhost:8001/pvp/pvp_property_LTT1224...</td>\n",
       "      <td>http://localhost:8001/pvp/pvp_property_LTT1224...</td>\n",
       "      <td></td>\n",
       "    </tr>\n",
       "    <tr>\n",
       "      <th>11212</th>\n",
       "      <td>[Avviso di vendita 3 luglio 2019.pdf (379 Kb),...</td>\n",
       "      <td>[/pvp-resources/cms/documents/2019/20190408/b7...</td>\n",
       "      <td>nan</td>\n",
       "      <td>DIRITTI PARI ALLA PIENA PROPRIETÀ, IN RAGIONE ...</td>\n",
       "      <td>Senza incanto</td>\n",
       "      <td>Danilo Picano</td>\n",
       "      <td>danilo@danilopicano.it</td>\n",
       "      <td>077623479</td>\n",
       "      <td>3939032692</td>\n",
       "      <td>NaT</td>\n",
       "      <td>...</td>\n",
       "      <td>200</td>\n",
       "      <td>2000.0</td>\n",
       "      <td>pvp_property</td>\n",
       "      <td>02/07/2019 12:00</td>\n",
       "      <td>FALLIMENTARE (nuovo rito)</td>\n",
       "      <td>Senza incanto</td>\n",
       "      <td>Tribunale di CASSINO</td>\n",
       "      <td>http://localhost:8001/pvp/pvp_property_LTT1794...</td>\n",
       "      <td>http://localhost:8001/pvp/pvp_property_LTT1794...</td>\n",
       "      <td></td>\n",
       "    </tr>\n",
       "    <tr>\n",
       "      <th>38172</th>\n",
       "      <td>[FOTO.pdf (234 Kb), CONVENZIONE.pdf (490 Kb), ...</td>\n",
       "      <td>[/pvp-resources/cms/documents/2020/20200622/d7...</td>\n",
       "      <td>nan</td>\n",
       "      <td>TERRENO EDIFICABILE RICADENTE ALL'INTERNO DEL ...</td>\n",
       "      <td>Competitiva</td>\n",
       "      <td>Michele Antonucci</td>\n",
       "      <td>antonucci.commercialista@gmail.com</td>\n",
       "      <td>0498762590</td>\n",
       "      <td>0498762590</td>\n",
       "      <td>NaT</td>\n",
       "      <td>...</td>\n",
       "      <td>200</td>\n",
       "      <td>2000.0</td>\n",
       "      <td>pvp_property</td>\n",
       "      <td>14/09/2020 12:00</td>\n",
       "      <td>FALLIMENTARE (nuovo rito)</td>\n",
       "      <td>Competitiva</td>\n",
       "      <td>Tribunale di PADOVA</td>\n",
       "      <td>http://localhost:8001/pvp/pvp_property_LTT4078...</td>\n",
       "      <td>http://localhost:8001/pvp/pvp_property_LTT4078...</td>\n",
       "      <td></td>\n",
       "    </tr>\n",
       "    <tr>\n",
       "      <th>63015</th>\n",
       "      <td>[Ordinanza.pdf (796 Kb), Avviso Pubblicità 999...</td>\n",
       "      <td>[https://pvp.giustizia.it/pvp-resources/cms/do...</td>\n",
       "      <td>nan</td>\n",
       "      <td>- al piano terreno (primo f.t.), con accesso d...</td>\n",
       "      <td>Senza incanto</td>\n",
       "      <td>Claudia D'Ambrosi</td>\n",
       "      <td>studiolegale@avvocatodambrosi.it</td>\n",
       "      <td>studiolegale@avvocatodambrosi.it</td>\n",
       "      <td>studiolegale@avvocatodambrosi.it</td>\n",
       "      <td>NaT</td>\n",
       "      <td>...</td>\n",
       "      <td>200</td>\n",
       "      <td>0.0</td>\n",
       "      <td>pvp_property</td>\n",
       "      <td>27/09/2018 12:00</td>\n",
       "      <td>ESECUZIONE IMMOBILIARE POST LEGGE 80</td>\n",
       "      <td>Senza incanto</td>\n",
       "      <td>Tribunale di TORINO</td>\n",
       "      <td>http://localhost:8001/pvp/pvp_property_LTT6057...</td>\n",
       "      <td>http://localhost:8001/pvp/pvp_property_LTT6057...</td>\n",
       "      <td></td>\n",
       "    </tr>\n",
       "    <tr>\n",
       "      <th>219445</th>\n",
       "      <td>[foto perizia_92_2022_ei.pdf (4204 Kb), delega...</td>\n",
       "      <td>[/pvp-resources/cms/documents/2023/20230324/02...</td>\n",
       "      <td>nan</td>\n",
       "      <td>unità immobiliare facente parte del fabbricato...</td>\n",
       "      <td>Senza incanto</td>\n",
       "      <td>Luca Lamanna</td>\n",
       "      <td>llamanna@notariato.it</td>\n",
       "      <td>0144325123</td>\n",
       "      <td>0144325123</td>\n",
       "      <td>NaT</td>\n",
       "      <td>...</td>\n",
       "      <td>200</td>\n",
       "      <td>500.0</td>\n",
       "      <td>pvp_property</td>\n",
       "      <td>04/07/2023 12:00</td>\n",
       "      <td>ESECUZIONE IMMOBILIARE POST LEGGE 80</td>\n",
       "      <td>Senza incanto</td>\n",
       "      <td>Tribunale di ALESSANDRIA</td>\n",
       "      <td>http://localhost:8001/pvp/pvp_property_LTT8016...</td>\n",
       "      <td>http://localhost:8001/pvp/pvp_property_LTT8016...</td>\n",
       "      <td></td>\n",
       "    </tr>\n",
       "  </tbody>\n",
       "</table>\n",
       "<p>5 rows × 38 columns</p>\n",
       "</div>"
      ],
      "text/plain": [
       "                                                 allegati  \\\n",
       "3841    [ordinanza 2018-.pdf (2030 Kb), quarto avviso....   \n",
       "11212   [Avviso di vendita 3 luglio 2019.pdf (379 Kb),...   \n",
       "38172   [FOTO.pdf (234 Kb), CONVENZIONE.pdf (490 Kb), ...   \n",
       "63015   [Ordinanza.pdf (796 Kb), Avviso Pubblicità 999...   \n",
       "219445  [foto perizia_92_2022_ei.pdf (4204 Kb), delega...   \n",
       "\n",
       "                                             allegati_url Basename  \\\n",
       "3841    [/pvp-resources/cms/documents/2018/20181218/6b...      nan   \n",
       "11212   [/pvp-resources/cms/documents/2019/20190408/b7...      nan   \n",
       "38172   [/pvp-resources/cms/documents/2020/20200622/d7...      nan   \n",
       "63015   [https://pvp.giustizia.it/pvp-resources/cms/do...      nan   \n",
       "219445  [/pvp-resources/cms/documents/2023/20230324/02...      nan   \n",
       "\n",
       "                                         bene_descrizione bene_tipologia  \\\n",
       "3841            Mini appartamento al piano terra e primo.  Senza incanto   \n",
       "11212   DIRITTI PARI ALLA PIENA PROPRIETÀ, IN RAGIONE ...  Senza incanto   \n",
       "38172   TERRENO EDIFICABILE RICADENTE ALL'INTERNO DEL ...    Competitiva   \n",
       "63015   - al piano terreno (primo f.t.), con accesso d...  Senza incanto   \n",
       "219445  unità immobiliare facente parte del fabbricato...  Senza incanto   \n",
       "\n",
       "                  custode                       custode_email  \\\n",
       "3841      Riccardo Trento                                None   \n",
       "11212       Danilo Picano              danilo@danilopicano.it   \n",
       "38172   Michele Antonucci  antonucci.commercialista@gmail.com   \n",
       "63015   Claudia D'Ambrosi    studiolegale@avvocatodambrosi.it   \n",
       "219445       Luca Lamanna               llamanna@notariato.it   \n",
       "\n",
       "                        custode_telefono           custode_telefono_mobile  \\\n",
       "3841                                None                              None   \n",
       "11212                          077623479                        3939032692   \n",
       "38172                         0498762590                        0498762590   \n",
       "63015   studiolegale@avvocatodambrosi.it  studiolegale@avvocatodambrosi.it   \n",
       "219445                        0144325123                        0144325123   \n",
       "\n",
       "       Data di vendita  ... Codice dello Stato della Risposta Rialzo minimo  \\\n",
       "3841               NaT  ...                               200        2100.0   \n",
       "11212              NaT  ...                               200        2000.0   \n",
       "38172              NaT  ...                               200        2000.0   \n",
       "63015              NaT  ...                               200           0.0   \n",
       "219445             NaT  ...                               200         500.0   \n",
       "\n",
       "       Nome del Ragno termine_presentazione_offerta  \\\n",
       "3841     pvp_property              05/01/0001 00:00   \n",
       "11212    pvp_property              02/07/2019 12:00   \n",
       "38172    pvp_property              14/09/2020 12:00   \n",
       "63015    pvp_property              27/09/2018 12:00   \n",
       "219445   pvp_property              04/07/2023 12:00   \n",
       "\n",
       "                              tipo_procedura      tipologia  \\\n",
       "3841    ESECUZIONE IMMOBILIARE POST LEGGE 80  Senza incanto   \n",
       "11212              FALLIMENTARE (nuovo rito)  Senza incanto   \n",
       "38172              FALLIMENTARE (nuovo rito)    Competitiva   \n",
       "63015   ESECUZIONE IMMOBILIARE POST LEGGE 80  Senza incanto   \n",
       "219445  ESECUZIONE IMMOBILIARE POST LEGGE 80  Senza incanto   \n",
       "\n",
       "                       tribunale  \\\n",
       "3841      Tribunale di FROSINONE   \n",
       "11212       Tribunale di CASSINO   \n",
       "38172        Tribunale di PADOVA   \n",
       "63015        Tribunale di TORINO   \n",
       "219445  Tribunale di ALESSANDRIA   \n",
       "\n",
       "                                                      URL  \\\n",
       "3841    http://localhost:8001/pvp/pvp_property_LTT1224...   \n",
       "11212   http://localhost:8001/pvp/pvp_property_LTT1794...   \n",
       "38172   http://localhost:8001/pvp/pvp_property_LTT4078...   \n",
       "63015   http://localhost:8001/pvp/pvp_property_LTT6057...   \n",
       "219445  http://localhost:8001/pvp/pvp_property_LTT8016...   \n",
       "\n",
       "                                            Localhost URL  Batch  \n",
       "3841    http://localhost:8001/pvp/pvp_property_LTT1224...         \n",
       "11212   http://localhost:8001/pvp/pvp_property_LTT1794...         \n",
       "38172   http://localhost:8001/pvp/pvp_property_LTT4078...         \n",
       "63015   http://localhost:8001/pvp/pvp_property_LTT6057...         \n",
       "219445  http://localhost:8001/pvp/pvp_property_LTT8016...         \n",
       "\n",
       "[5 rows x 38 columns]"
      ]
     },
     "execution_count": 155,
     "metadata": {},
     "output_type": "execute_result"
    }
   ],
   "source": [
    "#properties = properties.drop(indices)\n",
    "#properties[pd.isnull(properties['Data di vendita'])]"
   ]
  },
  {
   "cell_type": "code",
   "execution_count": null,
   "id": "1b6134f5-d61e-43ce-b8dc-c94c63dc8358",
   "metadata": {
    "tags": []
   },
   "outputs": [],
   "source": []
  },
  {
   "cell_type": "code",
   "execution_count": 157,
   "id": "bd6d31ed-93fc-44bc-8176-97f11c222fa7",
   "metadata": {
    "tags": []
   },
   "outputs": [
    {
     "data": {
      "text/html": [
       "<div>\n",
       "<style scoped>\n",
       "    .dataframe tbody tr th:only-of-type {\n",
       "        vertical-align: middle;\n",
       "    }\n",
       "\n",
       "    .dataframe tbody tr th {\n",
       "        vertical-align: top;\n",
       "    }\n",
       "\n",
       "    .dataframe thead th {\n",
       "        text-align: right;\n",
       "    }\n",
       "</style>\n",
       "<table border=\"1\" class=\"dataframe\">\n",
       "  <thead>\n",
       "    <tr style=\"text-align: right;\">\n",
       "      <th></th>\n",
       "      <th>allegati</th>\n",
       "      <th>allegati_url</th>\n",
       "      <th>Basename</th>\n",
       "      <th>bene_descrizione</th>\n",
       "      <th>bene_tipologia</th>\n",
       "      <th>custode</th>\n",
       "      <th>custode_email</th>\n",
       "      <th>custode_telefono</th>\n",
       "      <th>custode_telefono_mobile</th>\n",
       "      <th>Data di vendita</th>\n",
       "      <th>...</th>\n",
       "      <th>Codice dello Stato della Risposta</th>\n",
       "      <th>Rialzo minimo</th>\n",
       "      <th>Nome del Ragno</th>\n",
       "      <th>termine_presentazione_offerta</th>\n",
       "      <th>tipo_procedura</th>\n",
       "      <th>tipologia</th>\n",
       "      <th>tribunale</th>\n",
       "      <th>URL</th>\n",
       "      <th>Localhost URL</th>\n",
       "      <th>Batch</th>\n",
       "    </tr>\n",
       "  </thead>\n",
       "  <tbody>\n",
       "    <tr>\n",
       "      <th>3841</th>\n",
       "      <td>[ordinanza 2018-.pdf (2030 Kb), quarto avviso....</td>\n",
       "      <td>[/pvp-resources/cms/documents/2018/20181218/6b...</td>\n",
       "      <td>nan</td>\n",
       "      <td>Mini appartamento al piano terra e primo.</td>\n",
       "      <td>Senza incanto</td>\n",
       "      <td>Riccardo Trento</td>\n",
       "      <td>None</td>\n",
       "      <td>None</td>\n",
       "      <td>None</td>\n",
       "      <td>NaT</td>\n",
       "      <td>...</td>\n",
       "      <td>200</td>\n",
       "      <td>2100.0</td>\n",
       "      <td>pvp_property</td>\n",
       "      <td>05/01/0001 00:00</td>\n",
       "      <td>ESECUZIONE IMMOBILIARE POST LEGGE 80</td>\n",
       "      <td>Senza incanto</td>\n",
       "      <td>Tribunale di FROSINONE</td>\n",
       "      <td>http://localhost:8001/pvp/pvp_property_LTT1224...</td>\n",
       "      <td>http://localhost:8001/pvp/pvp_property_LTT1224...</td>\n",
       "      <td></td>\n",
       "    </tr>\n",
       "    <tr>\n",
       "      <th>11212</th>\n",
       "      <td>[Avviso di vendita 3 luglio 2019.pdf (379 Kb),...</td>\n",
       "      <td>[/pvp-resources/cms/documents/2019/20190408/b7...</td>\n",
       "      <td>nan</td>\n",
       "      <td>DIRITTI PARI ALLA PIENA PROPRIETÀ, IN RAGIONE ...</td>\n",
       "      <td>Senza incanto</td>\n",
       "      <td>Danilo Picano</td>\n",
       "      <td>danilo@danilopicano.it</td>\n",
       "      <td>077623479</td>\n",
       "      <td>3939032692</td>\n",
       "      <td>NaT</td>\n",
       "      <td>...</td>\n",
       "      <td>200</td>\n",
       "      <td>2000.0</td>\n",
       "      <td>pvp_property</td>\n",
       "      <td>02/07/2019 12:00</td>\n",
       "      <td>FALLIMENTARE (nuovo rito)</td>\n",
       "      <td>Senza incanto</td>\n",
       "      <td>Tribunale di CASSINO</td>\n",
       "      <td>http://localhost:8001/pvp/pvp_property_LTT1794...</td>\n",
       "      <td>http://localhost:8001/pvp/pvp_property_LTT1794...</td>\n",
       "      <td></td>\n",
       "    </tr>\n",
       "    <tr>\n",
       "      <th>38172</th>\n",
       "      <td>[FOTO.pdf (234 Kb), CONVENZIONE.pdf (490 Kb), ...</td>\n",
       "      <td>[/pvp-resources/cms/documents/2020/20200622/d7...</td>\n",
       "      <td>nan</td>\n",
       "      <td>TERRENO EDIFICABILE RICADENTE ALL'INTERNO DEL ...</td>\n",
       "      <td>Competitiva</td>\n",
       "      <td>Michele Antonucci</td>\n",
       "      <td>antonucci.commercialista@gmail.com</td>\n",
       "      <td>0498762590</td>\n",
       "      <td>0498762590</td>\n",
       "      <td>NaT</td>\n",
       "      <td>...</td>\n",
       "      <td>200</td>\n",
       "      <td>2000.0</td>\n",
       "      <td>pvp_property</td>\n",
       "      <td>14/09/2020 12:00</td>\n",
       "      <td>FALLIMENTARE (nuovo rito)</td>\n",
       "      <td>Competitiva</td>\n",
       "      <td>Tribunale di PADOVA</td>\n",
       "      <td>http://localhost:8001/pvp/pvp_property_LTT4078...</td>\n",
       "      <td>http://localhost:8001/pvp/pvp_property_LTT4078...</td>\n",
       "      <td></td>\n",
       "    </tr>\n",
       "    <tr>\n",
       "      <th>63015</th>\n",
       "      <td>[Ordinanza.pdf (796 Kb), Avviso Pubblicità 999...</td>\n",
       "      <td>[https://pvp.giustizia.it/pvp-resources/cms/do...</td>\n",
       "      <td>nan</td>\n",
       "      <td>- al piano terreno (primo f.t.), con accesso d...</td>\n",
       "      <td>Senza incanto</td>\n",
       "      <td>Claudia D'Ambrosi</td>\n",
       "      <td>studiolegale@avvocatodambrosi.it</td>\n",
       "      <td>studiolegale@avvocatodambrosi.it</td>\n",
       "      <td>studiolegale@avvocatodambrosi.it</td>\n",
       "      <td>NaT</td>\n",
       "      <td>...</td>\n",
       "      <td>200</td>\n",
       "      <td>0.0</td>\n",
       "      <td>pvp_property</td>\n",
       "      <td>27/09/2018 12:00</td>\n",
       "      <td>ESECUZIONE IMMOBILIARE POST LEGGE 80</td>\n",
       "      <td>Senza incanto</td>\n",
       "      <td>Tribunale di TORINO</td>\n",
       "      <td>http://localhost:8001/pvp/pvp_property_LTT6057...</td>\n",
       "      <td>http://localhost:8001/pvp/pvp_property_LTT6057...</td>\n",
       "      <td></td>\n",
       "    </tr>\n",
       "    <tr>\n",
       "      <th>219445</th>\n",
       "      <td>[foto perizia_92_2022_ei.pdf (4204 Kb), delega...</td>\n",
       "      <td>[/pvp-resources/cms/documents/2023/20230324/02...</td>\n",
       "      <td>nan</td>\n",
       "      <td>unità immobiliare facente parte del fabbricato...</td>\n",
       "      <td>Senza incanto</td>\n",
       "      <td>Luca Lamanna</td>\n",
       "      <td>llamanna@notariato.it</td>\n",
       "      <td>0144325123</td>\n",
       "      <td>0144325123</td>\n",
       "      <td>NaT</td>\n",
       "      <td>...</td>\n",
       "      <td>200</td>\n",
       "      <td>500.0</td>\n",
       "      <td>pvp_property</td>\n",
       "      <td>04/07/2023 12:00</td>\n",
       "      <td>ESECUZIONE IMMOBILIARE POST LEGGE 80</td>\n",
       "      <td>Senza incanto</td>\n",
       "      <td>Tribunale di ALESSANDRIA</td>\n",
       "      <td>http://localhost:8001/pvp/pvp_property_LTT8016...</td>\n",
       "      <td>http://localhost:8001/pvp/pvp_property_LTT8016...</td>\n",
       "      <td></td>\n",
       "    </tr>\n",
       "  </tbody>\n",
       "</table>\n",
       "<p>5 rows × 38 columns</p>\n",
       "</div>"
      ],
      "text/plain": [
       "                                                 allegati  \\\n",
       "3841    [ordinanza 2018-.pdf (2030 Kb), quarto avviso....   \n",
       "11212   [Avviso di vendita 3 luglio 2019.pdf (379 Kb),...   \n",
       "38172   [FOTO.pdf (234 Kb), CONVENZIONE.pdf (490 Kb), ...   \n",
       "63015   [Ordinanza.pdf (796 Kb), Avviso Pubblicità 999...   \n",
       "219445  [foto perizia_92_2022_ei.pdf (4204 Kb), delega...   \n",
       "\n",
       "                                             allegati_url Basename  \\\n",
       "3841    [/pvp-resources/cms/documents/2018/20181218/6b...      nan   \n",
       "11212   [/pvp-resources/cms/documents/2019/20190408/b7...      nan   \n",
       "38172   [/pvp-resources/cms/documents/2020/20200622/d7...      nan   \n",
       "63015   [https://pvp.giustizia.it/pvp-resources/cms/do...      nan   \n",
       "219445  [/pvp-resources/cms/documents/2023/20230324/02...      nan   \n",
       "\n",
       "                                         bene_descrizione bene_tipologia  \\\n",
       "3841            Mini appartamento al piano terra e primo.  Senza incanto   \n",
       "11212   DIRITTI PARI ALLA PIENA PROPRIETÀ, IN RAGIONE ...  Senza incanto   \n",
       "38172   TERRENO EDIFICABILE RICADENTE ALL'INTERNO DEL ...    Competitiva   \n",
       "63015   - al piano terreno (primo f.t.), con accesso d...  Senza incanto   \n",
       "219445  unità immobiliare facente parte del fabbricato...  Senza incanto   \n",
       "\n",
       "                  custode                       custode_email  \\\n",
       "3841      Riccardo Trento                                None   \n",
       "11212       Danilo Picano              danilo@danilopicano.it   \n",
       "38172   Michele Antonucci  antonucci.commercialista@gmail.com   \n",
       "63015   Claudia D'Ambrosi    studiolegale@avvocatodambrosi.it   \n",
       "219445       Luca Lamanna               llamanna@notariato.it   \n",
       "\n",
       "                        custode_telefono           custode_telefono_mobile  \\\n",
       "3841                                None                              None   \n",
       "11212                          077623479                        3939032692   \n",
       "38172                         0498762590                        0498762590   \n",
       "63015   studiolegale@avvocatodambrosi.it  studiolegale@avvocatodambrosi.it   \n",
       "219445                        0144325123                        0144325123   \n",
       "\n",
       "       Data di vendita  ... Codice dello Stato della Risposta Rialzo minimo  \\\n",
       "3841               NaT  ...                               200        2100.0   \n",
       "11212              NaT  ...                               200        2000.0   \n",
       "38172              NaT  ...                               200        2000.0   \n",
       "63015              NaT  ...                               200           0.0   \n",
       "219445             NaT  ...                               200         500.0   \n",
       "\n",
       "       Nome del Ragno termine_presentazione_offerta  \\\n",
       "3841     pvp_property              05/01/0001 00:00   \n",
       "11212    pvp_property              02/07/2019 12:00   \n",
       "38172    pvp_property              14/09/2020 12:00   \n",
       "63015    pvp_property              27/09/2018 12:00   \n",
       "219445   pvp_property              04/07/2023 12:00   \n",
       "\n",
       "                              tipo_procedura      tipologia  \\\n",
       "3841    ESECUZIONE IMMOBILIARE POST LEGGE 80  Senza incanto   \n",
       "11212              FALLIMENTARE (nuovo rito)  Senza incanto   \n",
       "38172              FALLIMENTARE (nuovo rito)    Competitiva   \n",
       "63015   ESECUZIONE IMMOBILIARE POST LEGGE 80  Senza incanto   \n",
       "219445  ESECUZIONE IMMOBILIARE POST LEGGE 80  Senza incanto   \n",
       "\n",
       "                       tribunale  \\\n",
       "3841      Tribunale di FROSINONE   \n",
       "11212       Tribunale di CASSINO   \n",
       "38172        Tribunale di PADOVA   \n",
       "63015        Tribunale di TORINO   \n",
       "219445  Tribunale di ALESSANDRIA   \n",
       "\n",
       "                                                      URL  \\\n",
       "3841    http://localhost:8001/pvp/pvp_property_LTT1224...   \n",
       "11212   http://localhost:8001/pvp/pvp_property_LTT1794...   \n",
       "38172   http://localhost:8001/pvp/pvp_property_LTT4078...   \n",
       "63015   http://localhost:8001/pvp/pvp_property_LTT6057...   \n",
       "219445  http://localhost:8001/pvp/pvp_property_LTT8016...   \n",
       "\n",
       "                                            Localhost URL  Batch  \n",
       "3841    http://localhost:8001/pvp/pvp_property_LTT1224...         \n",
       "11212   http://localhost:8001/pvp/pvp_property_LTT1794...         \n",
       "38172   http://localhost:8001/pvp/pvp_property_LTT4078...         \n",
       "63015   http://localhost:8001/pvp/pvp_property_LTT6057...         \n",
       "219445  http://localhost:8001/pvp/pvp_property_LTT8016...         \n",
       "\n",
       "[5 rows x 38 columns]"
      ]
     },
     "metadata": {},
     "output_type": "display_data"
    },
    {
     "name": "stdout",
     "output_type": "stream",
     "text": [
      "(29335, 38)\n",
      "(218058, 38)\n"
     ]
    }
   ],
   "source": [
    "properties['Data di vendita'] = pd.to_datetime(properties['Data di vendita'], errors = 'coerce')\n",
    "\n",
    "indices = properties[pd.isnull(properties['Data di vendita'])].index\n",
    "display(properties.loc[indices, :])\n",
    "\n",
    "properties_next = properties[properties['Data di vendita'] >= datetime.today()]\n",
    "print(properties_next.shape)\n",
    "\n",
    "properties_past = properties[properties['Data di vendita'] < datetime.today()]\n",
    "print(properties_past.shape)"
   ]
  },
  {
   "cell_type": "code",
   "execution_count": 103,
   "id": "0e17d705-c074-455c-bb66-4629476664a7",
   "metadata": {
    "tags": []
   },
   "outputs": [
    {
     "data": {
      "text/html": [
       "<div>\n",
       "<style scoped>\n",
       "    .dataframe tbody tr th:only-of-type {\n",
       "        vertical-align: middle;\n",
       "    }\n",
       "\n",
       "    .dataframe tbody tr th {\n",
       "        vertical-align: top;\n",
       "    }\n",
       "\n",
       "    .dataframe thead th {\n",
       "        text-align: right;\n",
       "    }\n",
       "</style>\n",
       "<table border=\"1\" class=\"dataframe\">\n",
       "  <thead>\n",
       "    <tr style=\"text-align: right;\">\n",
       "      <th></th>\n",
       "      <th>0</th>\n",
       "      <th>1</th>\n",
       "      <th>2</th>\n",
       "    </tr>\n",
       "  </thead>\n",
       "  <tbody>\n",
       "    <tr>\n",
       "      <th>allegati</th>\n",
       "      <td>[Relazione generale Mantova_Omissis.pdf (292 K...</td>\n",
       "      <td>[Avviso di vendita Spada 4 GEN 19 A.pdf (109 K...</td>\n",
       "      <td>[avviso di vendita.pdf (24 Kb), ordinanza.pdf ...</td>\n",
       "    </tr>\n",
       "    <tr>\n",
       "      <th>allegati_url</th>\n",
       "      <td>[/pvp-resources/cms/documents/2018/20181106/af...</td>\n",
       "      <td>[https://pvp.giustizia.it/pvp-resources/cms/do...</td>\n",
       "      <td>[https://pvp.giustizia.it/pvp-resources/cms/do...</td>\n",
       "    </tr>\n",
       "    <tr>\n",
       "      <th>Basename</th>\n",
       "      <td>nan</td>\n",
       "      <td>nan</td>\n",
       "      <td>nan</td>\n",
       "    </tr>\n",
       "    <tr>\n",
       "      <th>bene_descrizione</th>\n",
       "      <td>LOTTO B9Area da urbanizzare di circa 3.286 mq ...</td>\n",
       "      <td>Quota di proprietà del 50% di Appartamento al ...</td>\n",
       "      <td>Appartamento ad uso abitativo al piano terreno...</td>\n",
       "    </tr>\n",
       "    <tr>\n",
       "      <th>bene_tipologia</th>\n",
       "      <td>Senza incanto</td>\n",
       "      <td>Senza incanto</td>\n",
       "      <td>Senza incanto</td>\n",
       "    </tr>\n",
       "    <tr>\n",
       "      <th>custode</th>\n",
       "      <td>Sovemo Srl</td>\n",
       "      <td>Marco Giusti</td>\n",
       "      <td>Givg Srl</td>\n",
       "    </tr>\n",
       "    <tr>\n",
       "      <th>custode_email</th>\n",
       "      <td>immobiliaremantova@sovemo.com</td>\n",
       "      <td>marcogiusti@studiogiusti.com</td>\n",
       "      <td>visite.ba@givg.it</td>\n",
       "    </tr>\n",
       "    <tr>\n",
       "      <th>custode_telefono</th>\n",
       "      <td>0376220694</td>\n",
       "      <td>0856921244</td>\n",
       "      <td>0331322665</td>\n",
       "    </tr>\n",
       "    <tr>\n",
       "      <th>custode_telefono_mobile</th>\n",
       "      <td>0376220694</td>\n",
       "      <td>3316019558</td>\n",
       "      <td>0331322665</td>\n",
       "    </tr>\n",
       "    <tr>\n",
       "      <th>Data di vendita</th>\n",
       "      <td>14/12/2018 11:00</td>\n",
       "      <td>04/01/2019 09:00</td>\n",
       "      <td>10/01/2019 09:15</td>\n",
       "    </tr>\n",
       "    <tr>\n",
       "      <th>data_pubblicazione_sul_portale</th>\n",
       "      <td>06/11/2018</td>\n",
       "      <td>06/11/2018</td>\n",
       "      <td>06/11/2018</td>\n",
       "    </tr>\n",
       "    <tr>\n",
       "      <th>delegato_alla_vendita</th>\n",
       "      <td>None</td>\n",
       "      <td>None</td>\n",
       "      <td>Cooperativa Adjuvant Rabuffetti Fabrizio</td>\n",
       "    </tr>\n",
       "    <tr>\n",
       "      <th>descrizione</th>\n",
       "      <td>LOTTO B9Area da urbanizzare di circa 3.286 mq ...</td>\n",
       "      <td>Quota di proprietà del 50% di Appartamento al ...</td>\n",
       "      <td>Appartamento ad uso abitativo al piano terreno...</td>\n",
       "    </tr>\n",
       "    <tr>\n",
       "      <th>dettaglio_lotto_descrizione</th>\n",
       "      <td>LOTTO B9_ area da urbanizzare di circa di circ...</td>\n",
       "      <td>Quota di proprietà del 50% di Appartamento al ...</td>\n",
       "      <td>Appartamento ad uso abitativo al piano terreno...</td>\n",
       "    </tr>\n",
       "    <tr>\n",
       "      <th>dettaglio_lotto_titolo</th>\n",
       "      <td>LOTTO UNICO</td>\n",
       "      <td>Lotto nr. 1</td>\n",
       "      <td>LOTTO UNICO</td>\n",
       "    </tr>\n",
       "    <tr>\n",
       "      <th>giudice</th>\n",
       "      <td>Laura Fioroni</td>\n",
       "      <td>None</td>\n",
       "      <td>Sabrina Passafiume</td>\n",
       "    </tr>\n",
       "    <tr>\n",
       "      <th>Indirizzo</th>\n",
       "      <td>via rinaldo mantovano</td>\n",
       "      <td>VIA MICHELANGELO - CONTRADA TERRAROSSA</td>\n",
       "      <td>Via Alessandro Manzoni 42</td>\n",
       "    </tr>\n",
       "    <tr>\n",
       "      <th>inserzione</th>\n",
       "      <td>332549.0</td>\n",
       "      <td>332562.0</td>\n",
       "      <td>329371.0</td>\n",
       "    </tr>\n",
       "    <tr>\n",
       "      <th>Scaricato?</th>\n",
       "      <td>False</td>\n",
       "      <td>False</td>\n",
       "      <td>False</td>\n",
       "    </tr>\n",
       "    <tr>\n",
       "      <th>Hyperlink relativo riparato?</th>\n",
       "      <td>False</td>\n",
       "      <td>False</td>\n",
       "      <td>False</td>\n",
       "    </tr>\n",
       "    <tr>\n",
       "      <th>luogo_vendita</th>\n",
       "      <td>via primo maggio n. 3 46030 San Giorgio di Man...</td>\n",
       "      <td>VIA LO FEUDO 1 - TRIBUNALE DI PESCARA 65129 Pe...</td>\n",
       "      <td>Via Nino Bixio, 2 21052 Busto Arsizio (VA) Italia</td>\n",
       "    </tr>\n",
       "    <tr>\n",
       "      <th>modalita_di_vendita</th>\n",
       "      <td>Presso il venditore</td>\n",
       "      <td>Presso il venditore</td>\n",
       "      <td>Presso il venditore</td>\n",
       "    </tr>\n",
       "    <tr>\n",
       "      <th>numero_lotto</th>\n",
       "      <td>LOTTO UNICO</td>\n",
       "      <td>1</td>\n",
       "      <td>LOTTO UNICO</td>\n",
       "    </tr>\n",
       "    <tr>\n",
       "      <th>numero_procedura</th>\n",
       "      <td>27/2013</td>\n",
       "      <td>3/2009</td>\n",
       "      <td>746/2016</td>\n",
       "    </tr>\n",
       "    <tr>\n",
       "      <th>Offerta minima</th>\n",
       "      <td>50000.0</td>\n",
       "      <td>19737.6</td>\n",
       "      <td>36000.0</td>\n",
       "    </tr>\n",
       "    <tr>\n",
       "      <th>Prezzo Base</th>\n",
       "      <td>50000.0</td>\n",
       "      <td>19737.6</td>\n",
       "      <td>48000.0</td>\n",
       "    </tr>\n",
       "    <tr>\n",
       "      <th>pubblicato_in</th>\n",
       "      <td>Sito pubblicità</td>\n",
       "      <td>Sito pubblicità,Sito pubblicità</td>\n",
       "      <td>Sito pubblicità,Sito pubblicità,Sito pubblicit...</td>\n",
       "    </tr>\n",
       "    <tr>\n",
       "      <th>pubblicato_in_url</th>\n",
       "      <td>https://www.ivgmantova.it</td>\n",
       "      <td>https://www.astegiudiziarie.it/vendita-asta-ap...</td>\n",
       "      <td>https://www.astalegale.net/Immobili/Detail/B15...</td>\n",
       "    </tr>\n",
       "    <tr>\n",
       "      <th>Codice dello Stato della Risposta</th>\n",
       "      <td>200</td>\n",
       "      <td>200</td>\n",
       "      <td>200</td>\n",
       "    </tr>\n",
       "    <tr>\n",
       "      <th>Rialzo minimo</th>\n",
       "      <td>0.0</td>\n",
       "      <td>1000.0</td>\n",
       "      <td>1000.0</td>\n",
       "    </tr>\n",
       "    <tr>\n",
       "      <th>Nome del Ragno</th>\n",
       "      <td>pvp_property</td>\n",
       "      <td>pvp_property</td>\n",
       "      <td>pvp_property</td>\n",
       "    </tr>\n",
       "    <tr>\n",
       "      <th>termine_presentazione_offerta</th>\n",
       "      <td>13/12/2018 12:00</td>\n",
       "      <td>03/01/2019 12:00</td>\n",
       "      <td>09/01/2019 12:00</td>\n",
       "    </tr>\n",
       "    <tr>\n",
       "      <th>tipo_procedura</th>\n",
       "      <td>FALLIMENTARE (nuovo rito)</td>\n",
       "      <td>FALLIMENTARE (nuovo rito)</td>\n",
       "      <td>ESECUZIONE IMMOBILIARE POST LEGGE 80</td>\n",
       "    </tr>\n",
       "    <tr>\n",
       "      <th>tipologia</th>\n",
       "      <td>Senza incanto</td>\n",
       "      <td>Senza incanto</td>\n",
       "      <td>Senza incanto</td>\n",
       "    </tr>\n",
       "    <tr>\n",
       "      <th>tribunale</th>\n",
       "      <td>Tribunale di MANTOVA</td>\n",
       "      <td>Tribunale di PESCARA</td>\n",
       "      <td>Tribunale di BUSTO ARSIZIO</td>\n",
       "    </tr>\n",
       "    <tr>\n",
       "      <th>URL</th>\n",
       "      <td>http://localhost:8001/pvp/pvp_property_LTT1000...</td>\n",
       "      <td>http://localhost:8001/pvp/pvp_property_LTT1000...</td>\n",
       "      <td>http://localhost:8001/pvp/pvp_property_LTT1000...</td>\n",
       "    </tr>\n",
       "    <tr>\n",
       "      <th>Localhost URL</th>\n",
       "      <td>http://localhost:8001/pvp/pvp_property_LTT1000...</td>\n",
       "      <td>http://localhost:8001/pvp/pvp_property_LTT1000...</td>\n",
       "      <td>http://localhost:8001/pvp/pvp_property_LTT1000...</td>\n",
       "    </tr>\n",
       "    <tr>\n",
       "      <th>Batch</th>\n",
       "      <td></td>\n",
       "      <td></td>\n",
       "      <td></td>\n",
       "    </tr>\n",
       "  </tbody>\n",
       "</table>\n",
       "</div>"
      ],
      "text/plain": [
       "                                                                                   0  \\\n",
       "allegati                           [Relazione generale Mantova_Omissis.pdf (292 K...   \n",
       "allegati_url                       [/pvp-resources/cms/documents/2018/20181106/af...   \n",
       "Basename                                                                         nan   \n",
       "bene_descrizione                   LOTTO B9Area da urbanizzare di circa 3.286 mq ...   \n",
       "bene_tipologia                                                         Senza incanto   \n",
       "custode                                                                   Sovemo Srl   \n",
       "custode_email                                          immobiliaremantova@sovemo.com   \n",
       "custode_telefono                                                          0376220694   \n",
       "custode_telefono_mobile                                                   0376220694   \n",
       "Data di vendita                                                     14/12/2018 11:00   \n",
       "data_pubblicazione_sul_portale                                            06/11/2018   \n",
       "delegato_alla_vendita                                                           None   \n",
       "descrizione                        LOTTO B9Area da urbanizzare di circa 3.286 mq ...   \n",
       "dettaglio_lotto_descrizione        LOTTO B9_ area da urbanizzare di circa di circ...   \n",
       "dettaglio_lotto_titolo                                                   LOTTO UNICO   \n",
       "giudice                                                                Laura Fioroni   \n",
       "Indirizzo                                                      via rinaldo mantovano   \n",
       "inserzione                                                                  332549.0   \n",
       "Scaricato?                                                                     False   \n",
       "Hyperlink relativo riparato?                                                   False   \n",
       "luogo_vendita                      via primo maggio n. 3 46030 San Giorgio di Man...   \n",
       "modalita_di_vendita                                              Presso il venditore   \n",
       "numero_lotto                                                             LOTTO UNICO   \n",
       "numero_procedura                                                             27/2013   \n",
       "Offerta minima                                                               50000.0   \n",
       "Prezzo Base                                                                  50000.0   \n",
       "pubblicato_in                                                        Sito pubblicità   \n",
       "pubblicato_in_url                                          https://www.ivgmantova.it   \n",
       "Codice dello Stato della Risposta                                                200   \n",
       "Rialzo minimo                                                                    0.0   \n",
       "Nome del Ragno                                                          pvp_property   \n",
       "termine_presentazione_offerta                                       13/12/2018 12:00   \n",
       "tipo_procedura                                             FALLIMENTARE (nuovo rito)   \n",
       "tipologia                                                              Senza incanto   \n",
       "tribunale                                                       Tribunale di MANTOVA   \n",
       "URL                                http://localhost:8001/pvp/pvp_property_LTT1000...   \n",
       "Localhost URL                      http://localhost:8001/pvp/pvp_property_LTT1000...   \n",
       "Batch                                                                                  \n",
       "\n",
       "                                                                                   1  \\\n",
       "allegati                           [Avviso di vendita Spada 4 GEN 19 A.pdf (109 K...   \n",
       "allegati_url                       [https://pvp.giustizia.it/pvp-resources/cms/do...   \n",
       "Basename                                                                         nan   \n",
       "bene_descrizione                   Quota di proprietà del 50% di Appartamento al ...   \n",
       "bene_tipologia                                                         Senza incanto   \n",
       "custode                                                                 Marco Giusti   \n",
       "custode_email                                           marcogiusti@studiogiusti.com   \n",
       "custode_telefono                                                          0856921244   \n",
       "custode_telefono_mobile                                                   3316019558   \n",
       "Data di vendita                                                     04/01/2019 09:00   \n",
       "data_pubblicazione_sul_portale                                            06/11/2018   \n",
       "delegato_alla_vendita                                                           None   \n",
       "descrizione                        Quota di proprietà del 50% di Appartamento al ...   \n",
       "dettaglio_lotto_descrizione        Quota di proprietà del 50% di Appartamento al ...   \n",
       "dettaglio_lotto_titolo                                                   Lotto nr. 1   \n",
       "giudice                                                                         None   \n",
       "Indirizzo                                     VIA MICHELANGELO - CONTRADA TERRAROSSA   \n",
       "inserzione                                                                  332562.0   \n",
       "Scaricato?                                                                     False   \n",
       "Hyperlink relativo riparato?                                                   False   \n",
       "luogo_vendita                      VIA LO FEUDO 1 - TRIBUNALE DI PESCARA 65129 Pe...   \n",
       "modalita_di_vendita                                              Presso il venditore   \n",
       "numero_lotto                                                                       1   \n",
       "numero_procedura                                                              3/2009   \n",
       "Offerta minima                                                               19737.6   \n",
       "Prezzo Base                                                                  19737.6   \n",
       "pubblicato_in                                        Sito pubblicità,Sito pubblicità   \n",
       "pubblicato_in_url                  https://www.astegiudiziarie.it/vendita-asta-ap...   \n",
       "Codice dello Stato della Risposta                                                200   \n",
       "Rialzo minimo                                                                 1000.0   \n",
       "Nome del Ragno                                                          pvp_property   \n",
       "termine_presentazione_offerta                                       03/01/2019 12:00   \n",
       "tipo_procedura                                             FALLIMENTARE (nuovo rito)   \n",
       "tipologia                                                              Senza incanto   \n",
       "tribunale                                                       Tribunale di PESCARA   \n",
       "URL                                http://localhost:8001/pvp/pvp_property_LTT1000...   \n",
       "Localhost URL                      http://localhost:8001/pvp/pvp_property_LTT1000...   \n",
       "Batch                                                                                  \n",
       "\n",
       "                                                                                   2  \n",
       "allegati                           [avviso di vendita.pdf (24 Kb), ordinanza.pdf ...  \n",
       "allegati_url                       [https://pvp.giustizia.it/pvp-resources/cms/do...  \n",
       "Basename                                                                         nan  \n",
       "bene_descrizione                   Appartamento ad uso abitativo al piano terreno...  \n",
       "bene_tipologia                                                         Senza incanto  \n",
       "custode                                                                     Givg Srl  \n",
       "custode_email                                                      visite.ba@givg.it  \n",
       "custode_telefono                                                          0331322665  \n",
       "custode_telefono_mobile                                                   0331322665  \n",
       "Data di vendita                                                     10/01/2019 09:15  \n",
       "data_pubblicazione_sul_portale                                            06/11/2018  \n",
       "delegato_alla_vendita                       Cooperativa Adjuvant Rabuffetti Fabrizio  \n",
       "descrizione                        Appartamento ad uso abitativo al piano terreno...  \n",
       "dettaglio_lotto_descrizione        Appartamento ad uso abitativo al piano terreno...  \n",
       "dettaglio_lotto_titolo                                                   LOTTO UNICO  \n",
       "giudice                                                           Sabrina Passafiume  \n",
       "Indirizzo                                                  Via Alessandro Manzoni 42  \n",
       "inserzione                                                                  329371.0  \n",
       "Scaricato?                                                                     False  \n",
       "Hyperlink relativo riparato?                                                   False  \n",
       "luogo_vendita                      Via Nino Bixio, 2 21052 Busto Arsizio (VA) Italia  \n",
       "modalita_di_vendita                                              Presso il venditore  \n",
       "numero_lotto                                                             LOTTO UNICO  \n",
       "numero_procedura                                                            746/2016  \n",
       "Offerta minima                                                               36000.0  \n",
       "Prezzo Base                                                                  48000.0  \n",
       "pubblicato_in                      Sito pubblicità,Sito pubblicità,Sito pubblicit...  \n",
       "pubblicato_in_url                  https://www.astalegale.net/Immobili/Detail/B15...  \n",
       "Codice dello Stato della Risposta                                                200  \n",
       "Rialzo minimo                                                                 1000.0  \n",
       "Nome del Ragno                                                          pvp_property  \n",
       "termine_presentazione_offerta                                       09/01/2019 12:00  \n",
       "tipo_procedura                                  ESECUZIONE IMMOBILIARE POST LEGGE 80  \n",
       "tipologia                                                              Senza incanto  \n",
       "tribunale                                                 Tribunale di BUSTO ARSIZIO  \n",
       "URL                                http://localhost:8001/pvp/pvp_property_LTT1000...  \n",
       "Localhost URL                      http://localhost:8001/pvp/pvp_property_LTT1000...  \n",
       "Batch                                                                                 "
      ]
     },
     "metadata": {},
     "output_type": "display_data"
    }
   ],
   "source": [
    "properties = properties.rename(columns=scraper.PROPERTY_NAMES)\n",
    "display(properties.head(3).T)"
   ]
  },
  {
   "cell_type": "code",
   "execution_count": null,
   "id": "8394cdc4-c2fc-4129-a492-98842691eb1c",
   "metadata": {},
   "outputs": [],
   "source": []
  }
 ],
 "metadata": {
  "kernelspec": {
   "display_name": "Python 3.11 (py311)",
   "language": "python",
   "name": "py311"
  },
  "language_info": {
   "codemirror_mode": {
    "name": "ipython",
    "version": 3
   },
   "file_extension": ".py",
   "mimetype": "text/x-python",
   "name": "python",
   "nbconvert_exporter": "python",
   "pygments_lexer": "ipython3",
   "version": "3.11.0"
  }
 },
 "nbformat": 4,
 "nbformat_minor": 5
}
