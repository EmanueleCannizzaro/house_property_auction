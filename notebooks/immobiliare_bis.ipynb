{
 "cells": [
  {
   "cell_type": "code",
   "execution_count": 14,
   "id": "679e9c48-665e-4f21-9b68-a2c06106c325",
   "metadata": {
    "tags": []
   },
   "outputs": [],
   "source": [
    "from glob import glob\n",
    "import jsonlines"
   ]
  },
  {
   "cell_type": "code",
   "execution_count": 125,
   "id": "2fcaa189-bc72-4e6b-8cc0-5c1771db7fcd",
   "metadata": {
    "tags": []
   },
   "outputs": [],
   "source": [
    "def walk(d, indent=''):    \n",
    "    if isinstance(d, list):\n",
    "        indent = '    ' + indent\n",
    "        for item in d:\n",
    "            if isinstance(item, str) or isinstance(item, int):\n",
    "                print(f\"{indent}{d}\")\n",
    "                break\n",
    "            else:\n",
    "                walk(item, indent)\n",
    "            #print(f\"{d}\")\n",
    "            #break    \n",
    "    elif isinstance(d, dict):\n",
    "        indent = '    ' + indent\n",
    "        for k, v in d.items():\n",
    "            if (not isinstance(v, list)) and (not isinstance(v, dict)):\n",
    "                print(f\"{indent}{k} -> {v}\")\n",
    "            else:\n",
    "                print(f\"{indent}{k} ->\")\n",
    "            walk(v, indent)\n",
    "    #else: \n",
    "    #    print(f\"{indent}{d}\")"
   ]
  },
  {
   "cell_type": "code",
   "execution_count": 123,
   "id": "2bc2a4b5-05c1-41b6-9f92-5867d66e1e50",
   "metadata": {
    "tags": []
   },
   "outputs": [
    {
     "data": {
      "text/plain": [
       "['/home/git/scrapy-tutorials/example-data/Immobiliare_REAL_ESTATE/Residential_Sale_2022-03-30-14-20-batch-1.jsonl',\n",
       " '/home/git/scrapy-tutorials/example-data/Immobiliare_REAL_ESTATE/Residential_Rent_2022-03-30-14-18.jsonl-batch-1.jsonl',\n",
       " '/home/git/scrapy-tutorials/example-data/Immobiliare_REAL_ESTATE/Residential_Sale_New_2022-03-30-14-19.jsonl-batch-1.jsonl']"
      ]
     },
     "execution_count": 123,
     "metadata": {},
     "output_type": "execute_result"
    }
   ],
   "source": [
    "filenames = glob('/home/git/scrapy-tutorials/example-data/Immobiliare_REAL_ESTATE/*.json*')\n",
    "filenames"
   ]
  },
  {
   "cell_type": "code",
   "execution_count": 33,
   "id": "95e86d30-1abc-4331-9ba8-1bc6b800447d",
   "metadata": {
    "tags": []
   },
   "outputs": [],
   "source": [
    "filename = filenames[-1]"
   ]
  },
  {
   "cell_type": "code",
   "execution_count": 128,
   "id": "c64af4c6-f4a8-4490-87b1-d51737739184",
   "metadata": {
    "tags": []
   },
   "outputs": [],
   "source": [
    "results = []\n",
    "with open(filename, 'r') as f:\n",
    "    content = f.read() \n",
    "    #.replace('\\n ', '').replace('\\n{', '\\n, {')\n",
    "    for ix, line in enumerate(content.split(\"\\n{\")): #splitlines():\n",
    "        if ix > 0:\n",
    "            line = '{' + line\n",
    "            #print(line[2702: 2902])\n",
    "        #print(line)\n",
    "        _result = json.loads(line)\n",
    "        #print(json.dumps(_result, indent=4))\n",
    "        results.append(_result)\n",
    "        #break"
   ]
  },
  {
   "cell_type": "code",
   "execution_count": 130,
   "id": "8c3f9bdd-e578-4f1f-9876-03dbc89c5147",
   "metadata": {
    "tags": []
   },
   "outputs": [
    {
     "name": "stdout",
     "output_type": "stream",
     "text": [
      "    id -> 93806400\n",
      "    url -> https://www.immobiliare.it/annunci/93806400/\n",
      "    city -> Agrigento\n",
      "    title -> Quadrilocale piazza Don Pino Puglisi 3, Agrigento\n",
      "    price -> € 88.000\n",
      "    address -> Agrigento, Piazza Don Pino Puglisi\n",
      "    floor_area -> 139 m²\n",
      "    key_features ->\n",
      "            riferimento e Data annuncio -> Ag524VRG - 16/02/2022\n",
      "            contratto -> Vendita\n",
      "            tipologia -> Appartamento\n",
      "            superficie -> 139 m²\n",
      "            locali -> 4 (3 camere da letto, 1 altro), 2 bagni, cucina abitabile\n",
      "            piano -> 3° piano, con ascensore\n",
      "            totale piani edificio -> 3 piani\n",
      "            Tipo proprietà -> Intera proprietà\n",
      "    energy_certification ->\n",
      "    image_urls ->\n",
      "        ['https://pwm.im-cdn.it/image/1145297352/cover-m-c.jpg', 'https://pwm.im-cdn.it/image/1145297358/m-c.jpg', 'https://pwm.im-cdn.it/image/1145297366/m-c.jpg']\n",
      "    costs ->\n",
      "            prezzo -> € 88.000\n",
      "            spese condominio -> Nessuna spesa condominiale\n",
      "    full_description ->\n",
      "        ['In residence proponiamo grazioso quadrilocale panoramico posto al 3 piano con ascensore, così composto: Ingresso su salone, cucina abitabile, 3 camere da letto, 2 bagni, una camera è provvista di cabina armadio e bagno privato, oltre ripostiglio e lavanderia. Di pertinenza una cantina, garage e posto auto scoperto. Per info: Agenzia Gabetti Agrigento, Via Dante Alighieri n°3 tel: 0922556187 - 0922467933, cell: 3668258022.']\n",
      "    coordinates ->\n",
      "        latitude -> 37.302500000000002\n",
      "        longitude -> 13.5479\n"
     ]
    }
   ],
   "source": [
    "walk(results[10])"
   ]
  },
  {
   "cell_type": "code",
   "execution_count": null,
   "id": "cce25f20-273e-4fe8-9fbf-25a8637aa808",
   "metadata": {
    "tags": []
   },
   "outputs": [],
   "source": []
  },
  {
   "cell_type": "code",
   "execution_count": null,
   "id": "5ed29cf6-0c85-4920-b772-7535e4938f19",
   "metadata": {
    "tags": []
   },
   "outputs": [],
   "source": []
  },
  {
   "cell_type": "code",
   "execution_count": null,
   "id": "cb3507cd-fa5f-496d-bbdf-5490d3bee98c",
   "metadata": {},
   "outputs": [],
   "source": []
  }
 ],
 "metadata": {
  "kernelspec": {
   "display_name": "Python 3.11 (py311)",
   "language": "python",
   "name": "py311"
  },
  "language_info": {
   "codemirror_mode": {
    "name": "ipython",
    "version": 3
   },
   "file_extension": ".py",
   "mimetype": "text/x-python",
   "name": "python",
   "nbconvert_exporter": "python",
   "pygments_lexer": "ipython3",
   "version": "3.11.0"
  }
 },
 "nbformat": 4,
 "nbformat_minor": 5
}
