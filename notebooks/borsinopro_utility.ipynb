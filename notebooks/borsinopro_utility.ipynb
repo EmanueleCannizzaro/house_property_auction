{
 "cells": [
  {
   "cell_type": "code",
   "execution_count": 1,
   "id": "1c9a93de-2528-426d-8b2d-de599d565bef",
   "metadata": {},
   "outputs": [],
   "source": [
    "%load_ext autoreload\n",
    "%autoreload 2"
   ]
  },
  {
   "cell_type": "markdown",
   "id": "dc3af30a-ae1f-4580-88ac-1f4afba48422",
   "metadata": {},
   "source": [
    "# [borsinopro Calcolatori](https://borsinopro.it/utility/)"
   ]
  },
  {
   "cell_type": "markdown",
   "id": "34101272-c22c-4dd6-9172-2dc8fece6aed",
   "metadata": {},
   "source": [
    "## To do:\n",
    "\n",
    "- planimetric_surfaces\n",
    "\n",
    "- "
   ]
  },
  {
   "cell_type": "code",
   "execution_count": 3,
   "id": "c1a032df-dc36-435d-9c31-8285a1a54d79",
   "metadata": {},
   "outputs": [],
   "source": [
    "from IPython.display import display\n",
    "import json\n",
    "import os\n",
    "import requests\n",
    "\n",
    "from property_scraper.borsinopro_utility import BorsinoProUtility"
   ]
  },
  {
   "cell_type": "code",
   "execution_count": 3,
   "id": "cce239bb-1163-4b27-9e5e-12281c4bbe6b",
   "metadata": {},
   "outputs": [],
   "source": [
    "first_execution_flag = True"
   ]
  },
  {
   "cell_type": "code",
   "execution_count": 4,
   "id": "fdda5863-a876-4234-8f3f-848f1f185308",
   "metadata": {},
   "outputs": [],
   "source": [
    "utility = BorsinoProUtility()"
   ]
  },
  {
   "cell_type": "code",
   "execution_count": 5,
   "id": "2b693527-760d-49b7-b565-6b1286834408",
   "metadata": {},
   "outputs": [],
   "source": [
    "await utility.init()"
   ]
  },
  {
   "cell_type": "code",
   "execution_count": 6,
   "id": "70cfca06-c0cc-4a42-8da5-42b9d8e1fab6",
   "metadata": {},
   "outputs": [
    {
     "name": "stdout",
     "output_type": "stream",
     "text": [
      "/home/emanuele/property_scraper.json\n"
     ]
    }
   ],
   "source": [
    "configuration_file = os.path.join(os.path.expanduser('~'), 'property_scraper.json')\n",
    "print(configuration_file)"
   ]
  },
  {
   "cell_type": "code",
   "execution_count": 7,
   "id": "dec7c303-4239-467d-8656-c3cb90c191ed",
   "metadata": {},
   "outputs": [
    {
     "name": "stdout",
     "output_type": "stream",
     "text": [
      "dict_keys(['username', 'password', 'purchase_tax', 'cadastal_value', 'real_estate_capital_gain', 'dry_coupon', 'planimetric_surfaces', 'income_capitalization', 'real_estate_profitability', 'bare_ownership_value', 'commercial_surface_coefficients', 'real_estate_trading_business_plan', 'inheritance_shares'])\n"
     ]
    }
   ],
   "source": [
    "utility.configuration = utility.read_configuration(configuration_file)"
   ]
  },
  {
   "cell_type": "code",
   "execution_count": 8,
   "id": "0348c7bb-6b09-4ba7-9a00-b6aa7658d2c5",
   "metadata": {},
   "outputs": [],
   "source": [
    "#print(json.dumps(utility.configuration['utility.borsinopro.it']['addresses'], indent=4))"
   ]
  },
  {
   "cell_type": "code",
   "execution_count": 9,
   "id": "e734e813-780e-4e38-9f83-60bc7ed58335",
   "metadata": {},
   "outputs": [],
   "source": [
    "await utility.login()"
   ]
  },
  {
   "cell_type": "markdown",
   "id": "7183444f-08e3-459b-9012-635bd38b3094",
   "metadata": {},
   "source": [
    "## FISCO & IMPOSTE\n",
    "\n",
    "- Calcolo Imposte e Costi Acquisto\n",
    "- Calcolo Valore Catastale\n",
    "- Calcolo Imposte Plusvalenza\n",
    "- Calcolo Cedolare Secca"
   ]
  },
  {
   "cell_type": "markdown",
   "id": "bd7d9344-c778-44f0-81c4-730185934074",
   "metadata": {},
   "source": [
    "### Calcolo Imposte e Costi Acquisto\n",
    "Lo strumento calcola tutte le imposte di compravendita in base alle tipologie di immobili e venditori.\n",
    "\n",
    "- TIPOLOGIA IMMOBILIARE\n",
    "- TIPOLOGIA VENDITORE\n",
    "- INDIRIZZO IMMOBILE\n",
    "- RENDITA CATASTALE ABITAZIONE\n",
    "- RENDITA CATASTALE CANTINA\n",
    "- RENDITA CATASTALE BOX E P.AUTO\n",
    "- ONERI NOTARILI\n",
    "- COMPENSI AGENZIA\n",
    "- NOTE"
   ]
  },
  {
   "cell_type": "code",
   "execution_count": 10,
   "id": "bbe0fa90-8c56-44a8-b71f-ad2c1be2ed79",
   "metadata": {},
   "outputs": [
    {
     "data": {
      "application/vnd.jupyter.widget-view+json": {
       "model_id": "b85bbc71f05d4e1496e2ee9a963fb56c",
       "version_major": 2,
       "version_minor": 0
      },
      "text/plain": [
       "  0%|          | 0/1 [00:00<?, ?it/s]"
      ]
     },
     "metadata": {},
     "output_type": "display_data"
    },
    {
     "name": "stdout",
     "output_type": "stream",
     "text": [
      "{\n",
      "    \"inputs\": {\n",
      "        \"Tipologia immobiliare\": \"Abitazioni 1° casa (A2, A3, A4, A5, A6, A7, A11)\",\n",
      "        \"Tipo venditore\": \"Privato\"\n",
      "    },\n",
      "    \"results\": {\n",
      "        \"Base imponibile\": {\n",
      "            \"Valore catastale\": \"€ 74035.5\"\n",
      "        },\n",
      "        \"Imposte applicate\": {\n",
      "            \"Imposta Registro\": \"€ 1480.71\",\n",
      "            \"Imposta Ipotecaria (fissa)\": \"€ 50\",\n",
      "            \"Imposta Catastale (fissa)\": \"€ 50\",\n",
      "            \"*Note\": [\n",
      "                \"Imposta registro\",\n",
      "                \" 2%\"\n",
      "            ],\n",
      "            \"Imposte acquisto\": \"€ 1580.71\",\n",
      "            \"Oneri Notarili\": \"€ 100.00\",\n",
      "            \"Spese Agenzia\": \"€ 100.00\"\n",
      "        },\n",
      "        \"TOTALE\": \"€ 1780.71\"\n",
      "    },\n",
      "    \"type\": \"Imposte e Costi acquisto\"\n",
      "}\n"
     ]
    }
   ],
   "source": [
    "utility.purchase_tax = await utility.get_purchase_tax()"
   ]
  },
  {
   "cell_type": "code",
   "execution_count": 11,
   "id": "d0474225-1c8b-465e-9841-98b10c069634",
   "metadata": {},
   "outputs": [
    {
     "name": "stdout",
     "output_type": "stream",
     "text": [
      "{\n",
      "    \"inputs\": {\n",
      "        \"Tipologia immobiliare\": \"Abitazioni 1° casa (A2, A3, A4, A5, A6, A7, A11)\",\n",
      "        \"Tipo venditore\": \"Privato\"\n",
      "    },\n",
      "    \"results\": {\n",
      "        \"Base imponibile\": {\n",
      "            \"Valore catastale\": \"€ 74035.5\"\n",
      "        },\n",
      "        \"Imposte applicate\": {\n",
      "            \"Imposta Registro\": \"€ 1480.71\",\n",
      "            \"Imposta Ipotecaria (fissa)\": \"€ 50\",\n",
      "            \"Imposta Catastale (fissa)\": \"€ 50\",\n",
      "            \"*Note\": [\n",
      "                \"Imposta registro\",\n",
      "                \" 2%\"\n",
      "            ],\n",
      "            \"Imposte acquisto\": \"€ 1580.71\",\n",
      "            \"Oneri Notarili\": \"€ 100.00\",\n",
      "            \"Spese Agenzia\": \"€ 100.00\"\n",
      "        },\n",
      "        \"TOTALE\": \"€ 1780.71\"\n",
      "    },\n",
      "    \"type\": \"Imposte e Costi acquisto\"\n",
      "}\n"
     ]
    }
   ],
   "source": [
    "print(json.dumps(utility.purchase_tax, ensure_ascii=False, indent=4))"
   ]
  },
  {
   "cell_type": "markdown",
   "id": "cfffd4b2-7c72-4720-8ac4-fb288520abf6",
   "metadata": {},
   "source": [
    "### Calcolo Valore Catastale\n",
    "\n",
    "Il valore catastale o valore fiscale di un immobile, rappresenta la base di calcolo per il pagamento di diverse imposte, quali: imposte di successione, imposte di donazione e imposte di registro, ipotecarie e catastali (in caso di acquisto di immobili ad uso abitativo e relative pertinenze – ovvero il \"prezzo valore\").\n",
    "\n",
    "Il valore catastale è utilizzato anche come riferimento per determinare il valore minimo annuo del canone di locazione che per legge non può essere inferiore al 10% del valore catastale calcolato.\n",
    "\n",
    "Inputs:\n",
    "- INDIRIZZO IMMOBILE\n",
    "- SELEZIONA CATEGORIA CATASTALE\n",
    "- INSERISCI RENDITA CATASTALE - NON RIVALUTATA\n",
    "- Immobile 1°casa"
   ]
  },
  {
   "cell_type": "code",
   "execution_count": 12,
   "id": "faa2a922-7a4b-4771-9a6c-af8db7553679",
   "metadata": {},
   "outputs": [
    {
     "data": {
      "application/vnd.jupyter.widget-view+json": {
       "model_id": "9dc5ae1ef48440a395345204cc641dfa",
       "version_major": 2,
       "version_minor": 0
      },
      "text/plain": [
       "  0%|          | 0/1 [00:00<?, ?it/s]"
      ]
     },
     "metadata": {},
     "output_type": "display_data"
    },
    {
     "name": "stdout",
     "output_type": "stream",
     "text": [
      "{\n",
      "    \"results\": {\n",
      "        \"Valore catastale\": \"€ 74035.5\"\n",
      "    },\n",
      "    \"type\": \"Valore catastale\"\n",
      "}\n"
     ]
    }
   ],
   "source": [
    "utility.cadastal_value = await utility.get_cadastal_value()"
   ]
  },
  {
   "cell_type": "code",
   "execution_count": 13,
   "id": "c2c65fda-972b-4d6b-9b7d-6951c0b23a01",
   "metadata": {},
   "outputs": [
    {
     "name": "stdout",
     "output_type": "stream",
     "text": [
      "{\n",
      "    \"results\": {\n",
      "        \"Valore catastale\": \"€ 74035.5\"\n",
      "    },\n",
      "    \"type\": \"Valore catastale\"\n",
      "}\n"
     ]
    }
   ],
   "source": [
    "print(json.dumps(utility.cadastal_value, ensure_ascii=False, indent=4))"
   ]
  },
  {
   "cell_type": "markdown",
   "id": "185789ad-f52a-42f4-9c18-cd4001a08311",
   "metadata": {},
   "source": [
    "### Calcolo Imposte Plusvalenza\n",
    "\n",
    " La plusvalenza immobiliare consiste nel guadagno realizzato rivendendo un immobile a un prezzo più alto di quello di acquisto entro 5 anni dell'acquisto stesso. Sulla plusvalenza è tassata nella misura del 26%.\n",
    "\n",
    "Non si paga la plusvalenza immobiliare quando:\n",
    "- si riceve un immobile in eredità e si decide di metterlo in vendita;\n",
    "- si acquista un immobile e lo si vende dopo un periodo di 5 anni;\n",
    "- si acquista un immobile con agevolazione di prima casa e per la maggior parte del periodo tra acquisto e vendita l'alloggio viene utilizzato come abitazione principale.\n",
    "\n",
    "Inputs:\n",
    "- INDIRIZZO IMMOBILE\n",
    "- PREZZO ACQUISTO\n",
    "- COSTI DETRAIBILI\n",
    "- PREZZO DI RIVENDITA\n",
    "\n",
    "Costi detraibili\n",
    "- Oneri fiscali per l' acquisto (Imposta registro o IVA ed eventuali imposte ipotecarie e catastali)\n",
    "- Spese notarili (costi per stipula compromesso, rogito ed altri servizi notarili legati all' acquisto)\n",
    "- Eventuali spese mediazione (provvigioni agenzia per acquisto e vendita)\n",
    "- Costi di ristrutturazione e collegati\n",
    "- Tutti i costi che contribuiscono ad aumentare il valore dell' immobile apportandone miglioramenti concreti\n",
    "\n",
    "Costi non detraibili\n",
    "- Costi ordinari che attengono solo alla manutenzione e/o gestione del bene (ad es. condominio ed utenze)\n",
    "- Spese che non apportino maggior valore all' immobile"
   ]
  },
  {
   "cell_type": "code",
   "execution_count": 14,
   "id": "468771f1-76fd-48c9-b6ec-4a2f80938a7e",
   "metadata": {},
   "outputs": [
    {
     "data": {
      "application/vnd.jupyter.widget-view+json": {
       "model_id": "c7a781447e524956ab98a6be4ee5e01e",
       "version_major": 2,
       "version_minor": 0
      },
      "text/plain": [
       "  0%|          | 0/1 [00:00<?, ?it/s]"
      ]
     },
     "metadata": {},
     "output_type": "display_data"
    },
    {
     "name": "stdout",
     "output_type": "stream",
     "text": [
      "['Plusvalenza', 'Plusvalenza Ottenuta', '€ -541', 'Imposta sulla Plusvalenza', '€ -140']\n",
      "{\n",
      "    \"results\": {\n",
      "        \"Plusvalenza Ottenuta\": \"€ -541\",\n",
      "        \"Imposta sulla Plusvalenza\": \"€ -140\"\n",
      "    },\n",
      "    \"type\": \"Plusvalenza\"\n",
      "}\n"
     ]
    }
   ],
   "source": [
    "utility.real_estate_capital_gain = await utility.get_real_estate_capital_gain()"
   ]
  },
  {
   "cell_type": "code",
   "execution_count": 15,
   "id": "81bf2338-4ebe-4373-add8-8c7baa0c8da8",
   "metadata": {},
   "outputs": [
    {
     "name": "stdout",
     "output_type": "stream",
     "text": [
      "{\n",
      "    \"results\": {\n",
      "        \"Plusvalenza Ottenuta\": \"€ -541\",\n",
      "        \"Imposta sulla Plusvalenza\": \"€ -140\"\n",
      "    },\n",
      "    \"type\": \"Plusvalenza\"\n",
      "}\n"
     ]
    }
   ],
   "source": [
    "print(json.dumps(utility.real_estate_capital_gain, ensure_ascii=False, indent=4))"
   ]
  },
  {
   "cell_type": "markdown",
   "id": "d186dd01-1aaf-4878-945c-31d91d7100a0",
   "metadata": {},
   "source": [
    "### Calcolo Cedolare Secca\n",
    "\n",
    "La cedolare secca è un regime di tassazione sulle locazioni di immobili, ad uso residenziale scelto facoltativamente dal contribuente in sostituzione di tutte le altre forme di prelievo fiscale sul reddito di quelle locazioni.\n",
    "\n",
    "- INDIRIZZO IMMOBILE\n",
    "- CANONE MENSILE\n",
    "- TIPO CONTRATTO DI LOCAZIONE"
   ]
  },
  {
   "cell_type": "code",
   "execution_count": 16,
   "id": "3a66a3b3-f244-4713-8f9e-2573791ca94b",
   "metadata": {},
   "outputs": [
    {
     "data": {
      "application/vnd.jupyter.widget-view+json": {
       "model_id": "6370fb852e1b4ce8ad5a9310b65fa5a6",
       "version_major": 2,
       "version_minor": 0
      },
      "text/plain": [
       "  0%|          | 0/1 [00:00<?, ?it/s]"
      ]
     },
     "metadata": {},
     "output_type": "display_data"
    },
    {
     "name": "stdout",
     "output_type": "stream",
     "text": [
      "{\n",
      "    \"results\": {\n",
      "        \"Imposta annuale\": \"€ 1260\",\n",
      "        \"Canone mensile netto\": \"€ 395\"\n",
      "    },\n",
      "    \"type\": \"Cedolare secca\"\n",
      "}\n"
     ]
    }
   ],
   "source": [
    "utility.dry_coupon = await utility.get_dry_coupon()"
   ]
  },
  {
   "cell_type": "code",
   "execution_count": 17,
   "id": "0a400406-ffc1-4c5f-a464-678f4db32f71",
   "metadata": {},
   "outputs": [
    {
     "name": "stdout",
     "output_type": "stream",
     "text": [
      "{\n",
      "    \"results\": {\n",
      "        \"Imposta annuale\": \"€ 1260\",\n",
      "        \"Canone mensile netto\": \"€ 395\"\n",
      "    },\n",
      "    \"type\": \"Cedolare secca\"\n",
      "}\n"
     ]
    }
   ],
   "source": [
    "print(json.dumps(utility.dry_coupon, ensure_ascii=False, indent=4))"
   ]
  },
  {
   "cell_type": "markdown",
   "id": "aa109d32-22fd-4482-9ebd-88f7280af999",
   "metadata": {},
   "source": [
    "## MISURAZIONI & VALUTAZIONI\n",
    "- Calcolo Superfici Planimetrie\n",
    "- Stima Capitalizzazione Redditi\n",
    "- Calcolo Redditività Immobile\n",
    "- Calcolo Valore Nuda Proprietà\n",
    "- Coefficienti superfici commerciali"
   ]
  },
  {
   "cell_type": "markdown",
   "id": "4eccafae-104a-44aa-b6a3-2f9676204154",
   "metadata": {},
   "source": [
    "### Calcolo Superfici Planimetrie\n",
    "\n",
    "Inputs:\n",
    "\n",
    "- INDIRIZZO IMMOBILE\n",
    "- TIPOLOGIA IMMOBILIARE DA MISURARE\n",
    "- SCALA PLANIMETRIA\n",
    "- SELEZIONA AMBIENTE DA MISURARE\n",
    "- INSERISCI  MISURA LATO 1\n",
    "- INSERISCI  MISURA LATO 2\n",
    "- FORMA SUPERF. (Triangolare)\n",
    "- "
   ]
  },
  {
   "cell_type": "code",
   "execution_count": 18,
   "id": "1b64f3fc-5c87-4ed4-aa0b-e8da1ca065d5",
   "metadata": {},
   "outputs": [],
   "source": [
    "#utility.planimetric_surfaces = await utility.get_planimetric_surfaces()"
   ]
  },
  {
   "cell_type": "code",
   "execution_count": 19,
   "id": "8b572f6b-b799-4268-8be0-07d14ed35e96",
   "metadata": {},
   "outputs": [],
   "source": [
    "#print(json.dumps(utility.planimetric_surfaces, ensure_ascii=False, indent=4))"
   ]
  },
  {
   "cell_type": "markdown",
   "id": "ab046ec0-a691-44c8-94f9-170c909fbf21",
   "metadata": {},
   "source": [
    "### Stima Capitalizzazione Redditi\n",
    "\n",
    "La stima per capitalizzazione dei redditi é l' operazione matematico finanziaria per determinare il valore di mercato di un immobile dividendo il reddito il reddito annuo di locazione (o potenziale reddito annuo) per il tasso di capitalizzazione, variabile a seconda della tipologia immobiliare. Il procedimento si basa sull' assunto che un immobile vale tanto quanto rende.\n",
    "\n",
    "Inputs:\n",
    "- INDIRIZZO IMMOBILE\n",
    "- CANONE MENSILE\n",
    "- RENDIMENTO LORDO TASSO CAPITALIZZAZIONE\n"
   ]
  },
  {
   "cell_type": "code",
   "execution_count": 21,
   "id": "c61266fb-f719-431b-a652-df3b2a516283",
   "metadata": {},
   "outputs": [
    {
     "data": {
      "application/vnd.jupyter.widget-view+json": {
       "model_id": "9447fa83e7454f7bb35be0c49514e595",
       "version_major": 2,
       "version_minor": 0
      },
      "text/plain": [
       "  0%|          | 0/4 [00:00<?, ?it/s]"
      ]
     },
     "metadata": {},
     "output_type": "display_data"
    },
    {
     "data": {
      "text/html": [
       "<div>\n",
       "<style scoped>\n",
       "    .dataframe tbody tr th:only-of-type {\n",
       "        vertical-align: middle;\n",
       "    }\n",
       "\n",
       "    .dataframe tbody tr th {\n",
       "        vertical-align: top;\n",
       "    }\n",
       "\n",
       "    .dataframe thead th {\n",
       "        text-align: right;\n",
       "    }\n",
       "</style>\n",
       "<table border=\"1\" class=\"dataframe\">\n",
       "  <thead>\n",
       "    <tr style=\"text-align: right;\">\n",
       "      <th></th>\n",
       "      <th>Indirizzo immobile</th>\n",
       "      <th>Canone_mensile</th>\n",
       "      <th>Tasso_capitalizzazione</th>\n",
       "      <th>Valore</th>\n",
       "    </tr>\n",
       "    <tr>\n",
       "      <th>Address Id</th>\n",
       "      <th></th>\n",
       "      <th></th>\n",
       "      <th></th>\n",
       "      <th></th>\n",
       "    </tr>\n",
       "  </thead>\n",
       "  <tbody>\n",
       "    <tr>\n",
       "      <th>1</th>\n",
       "      <td>undisclosed1</td>\n",
       "      <td>500</td>\n",
       "      <td>5</td>\n",
       "      <td>€ 120000</td>\n",
       "    </tr>\n",
       "    <tr>\n",
       "      <th>2</th>\n",
       "      <td>undisclosed2</td>\n",
       "      <td>500</td>\n",
       "      <td>4</td>\n",
       "      <td>€ 150000</td>\n",
       "    </tr>\n",
       "    <tr>\n",
       "      <th>3</th>\n",
       "      <td>undisclosed3</td>\n",
       "      <td>500</td>\n",
       "      <td>3</td>\n",
       "      <td>€ 200000</td>\n",
       "    </tr>\n",
       "    <tr>\n",
       "      <th>4</th>\n",
       "      <td>undisclosed4</td>\n",
       "      <td>500</td>\n",
       "      <td>2</td>\n",
       "      <td>€ 300000</td>\n",
       "    </tr>\n",
       "  </tbody>\n",
       "</table>\n",
       "</div>"
      ],
      "text/plain": [
       "           Indirizzo immobile  Canone_mensile  Tasso_capitalizzazione  \\\n",
       "Address Id                                                              \n",
       "1                undisclosed1             500                       5   \n",
       "2                undisclosed2             500                       4   \n",
       "3                undisclosed3             500                       3   \n",
       "4                undisclosed4             500                       2   \n",
       "\n",
       "              Valore  \n",
       "Address Id            \n",
       "1           € 120000  \n",
       "2           € 150000  \n",
       "3           € 200000  \n",
       "4           € 300000  "
      ]
     },
     "metadata": {},
     "output_type": "display_data"
    }
   ],
   "source": [
    "utility.income_capitalization = await utility.get_income_capitalization()"
   ]
  },
  {
   "cell_type": "code",
   "execution_count": 22,
   "id": "33d800ef-a582-4113-a106-68938af2a100",
   "metadata": {},
   "outputs": [
    {
     "name": "stdout",
     "output_type": "stream",
     "text": [
      "The shape of 'income_capitalization' is (4, 4).\n",
      "\n"
     ]
    },
    {
     "data": {
      "text/html": [
       "<div>\n",
       "<style scoped>\n",
       "    .dataframe tbody tr th:only-of-type {\n",
       "        vertical-align: middle;\n",
       "    }\n",
       "\n",
       "    .dataframe tbody tr th {\n",
       "        vertical-align: top;\n",
       "    }\n",
       "\n",
       "    .dataframe thead th {\n",
       "        text-align: right;\n",
       "    }\n",
       "</style>\n",
       "<table border=\"1\" class=\"dataframe\">\n",
       "  <thead>\n",
       "    <tr style=\"text-align: right;\">\n",
       "      <th></th>\n",
       "      <th>Indirizzo immobile</th>\n",
       "      <th>Canone_mensile</th>\n",
       "      <th>Tasso_capitalizzazione</th>\n",
       "      <th>Valore</th>\n",
       "    </tr>\n",
       "    <tr>\n",
       "      <th>Address Id</th>\n",
       "      <th></th>\n",
       "      <th></th>\n",
       "      <th></th>\n",
       "      <th></th>\n",
       "    </tr>\n",
       "  </thead>\n",
       "  <tbody>\n",
       "    <tr>\n",
       "      <th>1</th>\n",
       "      <td>undisclosed1</td>\n",
       "      <td>500</td>\n",
       "      <td>5</td>\n",
       "      <td>€ 120000</td>\n",
       "    </tr>\n",
       "    <tr>\n",
       "      <th>2</th>\n",
       "      <td>undisclosed2</td>\n",
       "      <td>500</td>\n",
       "      <td>4</td>\n",
       "      <td>€ 150000</td>\n",
       "    </tr>\n",
       "    <tr>\n",
       "      <th>3</th>\n",
       "      <td>undisclosed3</td>\n",
       "      <td>500</td>\n",
       "      <td>3</td>\n",
       "      <td>€ 200000</td>\n",
       "    </tr>\n",
       "    <tr>\n",
       "      <th>4</th>\n",
       "      <td>undisclosed4</td>\n",
       "      <td>500</td>\n",
       "      <td>2</td>\n",
       "      <td>€ 300000</td>\n",
       "    </tr>\n",
       "  </tbody>\n",
       "</table>\n",
       "</div>"
      ],
      "text/plain": [
       "           Indirizzo immobile  Canone_mensile  Tasso_capitalizzazione  \\\n",
       "Address Id                                                              \n",
       "1                undisclosed1             500                       5   \n",
       "2                undisclosed2             500                       4   \n",
       "3                undisclosed3             500                       3   \n",
       "4                undisclosed4             500                       2   \n",
       "\n",
       "              Valore  \n",
       "Address Id            \n",
       "1           € 120000  \n",
       "2           € 150000  \n",
       "3           € 200000  \n",
       "4           € 300000  "
      ]
     },
     "metadata": {},
     "output_type": "display_data"
    }
   ],
   "source": [
    "print(f\"The shape of 'income_capitalization' is {utility.income_capitalization.shape}.\\n\")\n",
    "display(utility.income_capitalization)"
   ]
  },
  {
   "cell_type": "markdown",
   "id": "67221561-3ea3-4ef9-ae50-04a158986e9f",
   "metadata": {},
   "source": [
    "### Calcolo Redditività Immobile\n",
    "\n",
    "Inputs:\n",
    "\n",
    "- INDIRIZZO IMMOBILE\n",
    "- CANONE MENSILE\n",
    "- VALORE IMMOBILE\n",
    " "
   ]
  },
  {
   "cell_type": "code",
   "execution_count": 23,
   "id": "36d7f675-c25d-4e61-8b1c-73074a2f1f86",
   "metadata": {},
   "outputs": [
    {
     "data": {
      "application/vnd.jupyter.widget-view+json": {
       "model_id": "44255f90e7024413a28529ac5e137588",
       "version_major": 2,
       "version_minor": 0
      },
      "text/plain": [
       "  0%|          | 0/4 [00:00<?, ?it/s]"
      ]
     },
     "metadata": {},
     "output_type": "display_data"
    },
    {
     "data": {
      "text/html": [
       "<div>\n",
       "<style scoped>\n",
       "    .dataframe tbody tr th:only-of-type {\n",
       "        vertical-align: middle;\n",
       "    }\n",
       "\n",
       "    .dataframe tbody tr th {\n",
       "        vertical-align: top;\n",
       "    }\n",
       "\n",
       "    .dataframe thead th {\n",
       "        text-align: right;\n",
       "    }\n",
       "</style>\n",
       "<table border=\"1\" class=\"dataframe\">\n",
       "  <thead>\n",
       "    <tr style=\"text-align: right;\">\n",
       "      <th></th>\n",
       "      <th>Indirizzo immobile</th>\n",
       "      <th>Canone_mensile</th>\n",
       "      <th>Valore_immobile</th>\n",
       "      <th>Valore</th>\n",
       "    </tr>\n",
       "    <tr>\n",
       "      <th>Address Id</th>\n",
       "      <th></th>\n",
       "      <th></th>\n",
       "      <th></th>\n",
       "      <th></th>\n",
       "    </tr>\n",
       "  </thead>\n",
       "  <tbody>\n",
       "    <tr>\n",
       "      <th>1</th>\n",
       "      <td>undisclosed1</td>\n",
       "      <td>500</td>\n",
       "      <td>100000</td>\n",
       "      <td>6.00%</td>\n",
       "    </tr>\n",
       "    <tr>\n",
       "      <th>2</th>\n",
       "      <td>undisclosed2</td>\n",
       "      <td>500</td>\n",
       "      <td>110000</td>\n",
       "      <td>5.45%</td>\n",
       "    </tr>\n",
       "    <tr>\n",
       "      <th>3</th>\n",
       "      <td>undisclosed3</td>\n",
       "      <td>500</td>\n",
       "      <td>120000</td>\n",
       "      <td>5.00%</td>\n",
       "    </tr>\n",
       "    <tr>\n",
       "      <th>4</th>\n",
       "      <td>undisclosed4</td>\n",
       "      <td>500</td>\n",
       "      <td>150000</td>\n",
       "      <td>4.00%</td>\n",
       "    </tr>\n",
       "  </tbody>\n",
       "</table>\n",
       "</div>"
      ],
      "text/plain": [
       "           Indirizzo immobile  Canone_mensile  Valore_immobile Valore\n",
       "Address Id                                                           \n",
       "1                undisclosed1             500           100000  6.00%\n",
       "2                undisclosed2             500           110000  5.45%\n",
       "3                undisclosed3             500           120000  5.00%\n",
       "4                undisclosed4             500           150000  4.00%"
      ]
     },
     "metadata": {},
     "output_type": "display_data"
    }
   ],
   "source": [
    "utility.real_estate_profitability = await utility.get_real_estate_profitability()"
   ]
  },
  {
   "cell_type": "code",
   "execution_count": 24,
   "id": "e493eeb7-d092-4bac-be3a-503b2961d9b0",
   "metadata": {},
   "outputs": [
    {
     "name": "stdout",
     "output_type": "stream",
     "text": [
      "The shape of 'real_estate_profitability' is (4, 4).\n",
      "\n"
     ]
    },
    {
     "data": {
      "text/html": [
       "<div>\n",
       "<style scoped>\n",
       "    .dataframe tbody tr th:only-of-type {\n",
       "        vertical-align: middle;\n",
       "    }\n",
       "\n",
       "    .dataframe tbody tr th {\n",
       "        vertical-align: top;\n",
       "    }\n",
       "\n",
       "    .dataframe thead th {\n",
       "        text-align: right;\n",
       "    }\n",
       "</style>\n",
       "<table border=\"1\" class=\"dataframe\">\n",
       "  <thead>\n",
       "    <tr style=\"text-align: right;\">\n",
       "      <th></th>\n",
       "      <th>Indirizzo immobile</th>\n",
       "      <th>Canone_mensile</th>\n",
       "      <th>Valore_immobile</th>\n",
       "      <th>Valore</th>\n",
       "    </tr>\n",
       "    <tr>\n",
       "      <th>Address Id</th>\n",
       "      <th></th>\n",
       "      <th></th>\n",
       "      <th></th>\n",
       "      <th></th>\n",
       "    </tr>\n",
       "  </thead>\n",
       "  <tbody>\n",
       "    <tr>\n",
       "      <th>1</th>\n",
       "      <td>undisclosed1</td>\n",
       "      <td>500</td>\n",
       "      <td>100000</td>\n",
       "      <td>6.00%</td>\n",
       "    </tr>\n",
       "    <tr>\n",
       "      <th>2</th>\n",
       "      <td>undisclosed2</td>\n",
       "      <td>500</td>\n",
       "      <td>110000</td>\n",
       "      <td>5.45%</td>\n",
       "    </tr>\n",
       "    <tr>\n",
       "      <th>3</th>\n",
       "      <td>undisclosed3</td>\n",
       "      <td>500</td>\n",
       "      <td>120000</td>\n",
       "      <td>5.00%</td>\n",
       "    </tr>\n",
       "    <tr>\n",
       "      <th>4</th>\n",
       "      <td>undisclosed4</td>\n",
       "      <td>500</td>\n",
       "      <td>150000</td>\n",
       "      <td>4.00%</td>\n",
       "    </tr>\n",
       "  </tbody>\n",
       "</table>\n",
       "</div>"
      ],
      "text/plain": [
       "           Indirizzo immobile  Canone_mensile  Valore_immobile Valore\n",
       "Address Id                                                           \n",
       "1                undisclosed1             500           100000  6.00%\n",
       "2                undisclosed2             500           110000  5.45%\n",
       "3                undisclosed3             500           120000  5.00%\n",
       "4                undisclosed4             500           150000  4.00%"
      ]
     },
     "metadata": {},
     "output_type": "display_data"
    }
   ],
   "source": [
    "print(f\"The shape of 'real_estate_profitability' is {utility.real_estate_profitability.shape}.\\n\")\n",
    "display(utility.real_estate_profitability)"
   ]
  },
  {
   "cell_type": "markdown",
   "id": "0bbe2e96-634e-41ea-8a20-665df43dedcf",
   "metadata": {},
   "source": [
    "### Calcolo Valore Nuda Proprietà\n",
    "\n",
    "L'istituto della nuda proprietà, oggi tornato in voga, presenta molti vantaggi sia per chi compra che per chi vende. La nuda proprietà, rappresenta il valore di un immobile decurtato dell'usufrutto, ossia del diritto di altro soggetto di usare il dato bene. In pratica: per chi vende la nuda proprietà vuol dire alienare il proprio immobile riservandosi il diritto di viverci; per chi compra, invece, vuol dire acquistare la proprietà pur non potendola utilizzare."
   ]
  },
  {
   "cell_type": "code",
   "execution_count": 25,
   "id": "24f46f74-6857-4988-9841-e15032c8ea79",
   "metadata": {},
   "outputs": [
    {
     "data": {
      "application/vnd.jupyter.widget-view+json": {
       "model_id": "d9044a65d14844ce90a5478de5672b18",
       "version_major": 2,
       "version_minor": 0
      },
      "text/plain": [
       "  0%|          | 0/18 [00:00<?, ?it/s]"
      ]
     },
     "metadata": {},
     "output_type": "display_data"
    },
    {
     "data": {
      "text/html": [
       "<div>\n",
       "<style scoped>\n",
       "    .dataframe tbody tr th:only-of-type {\n",
       "        vertical-align: middle;\n",
       "    }\n",
       "\n",
       "    .dataframe tbody tr th {\n",
       "        vertical-align: top;\n",
       "    }\n",
       "\n",
       "    .dataframe thead th {\n",
       "        text-align: right;\n",
       "    }\n",
       "</style>\n",
       "<table border=\"1\" class=\"dataframe\">\n",
       "  <thead>\n",
       "    <tr style=\"text-align: right;\">\n",
       "      <th></th>\n",
       "      <th>Indirizzo immobile</th>\n",
       "      <th>Valore immobile</th>\n",
       "      <th>Eta usofruttuario</th>\n",
       "      <th>Valore</th>\n",
       "    </tr>\n",
       "    <tr>\n",
       "      <th>Address Id</th>\n",
       "      <th></th>\n",
       "      <th></th>\n",
       "      <th></th>\n",
       "      <th></th>\n",
       "    </tr>\n",
       "  </thead>\n",
       "  <tbody>\n",
       "    <tr>\n",
       "      <th>1</th>\n",
       "      <td>undisclosed1</td>\n",
       "      <td>100000</td>\n",
       "      <td>da 0 a 20 anni (-95%)</td>\n",
       "      <td>€ 5000</td>\n",
       "    </tr>\n",
       "    <tr>\n",
       "      <th>2</th>\n",
       "      <td>undisclosed2</td>\n",
       "      <td>100000</td>\n",
       "      <td>da 21 a 30 anni (-90%)</td>\n",
       "      <td>€ 10000</td>\n",
       "    </tr>\n",
       "    <tr>\n",
       "      <th>3</th>\n",
       "      <td>undisclosed3</td>\n",
       "      <td>100000</td>\n",
       "      <td>da 31 a 40 anni (-85%)</td>\n",
       "      <td>€ 15000</td>\n",
       "    </tr>\n",
       "    <tr>\n",
       "      <th>4</th>\n",
       "      <td>undisclosed4</td>\n",
       "      <td>100000</td>\n",
       "      <td>da 41 a 45 anni (-80%)</td>\n",
       "      <td>€ 20000</td>\n",
       "    </tr>\n",
       "    <tr>\n",
       "      <th>5</th>\n",
       "      <td>undisclosed5</td>\n",
       "      <td>100000</td>\n",
       "      <td>da 46 a 50 anni (-75%)</td>\n",
       "      <td>€ 25000</td>\n",
       "    </tr>\n",
       "    <tr>\n",
       "      <th>6</th>\n",
       "      <td>undisclosed6</td>\n",
       "      <td>100000</td>\n",
       "      <td>da 51 a 53 anni (-70%)</td>\n",
       "      <td>€ 30000</td>\n",
       "    </tr>\n",
       "    <tr>\n",
       "      <th>7</th>\n",
       "      <td>undisclosed7</td>\n",
       "      <td>100000</td>\n",
       "      <td>da 54 a 56 anni (-65%)</td>\n",
       "      <td>€ 35000</td>\n",
       "    </tr>\n",
       "    <tr>\n",
       "      <th>8</th>\n",
       "      <td>undisclosed8</td>\n",
       "      <td>100000</td>\n",
       "      <td>da 57 a 60 anni (-60%)</td>\n",
       "      <td>€ 40000</td>\n",
       "    </tr>\n",
       "    <tr>\n",
       "      <th>9</th>\n",
       "      <td>undisclosed9</td>\n",
       "      <td>100000</td>\n",
       "      <td>da 61 a 63 anni (-55%)</td>\n",
       "      <td>€ 45000</td>\n",
       "    </tr>\n",
       "    <tr>\n",
       "      <th>10</th>\n",
       "      <td>undisclosed10</td>\n",
       "      <td>100000</td>\n",
       "      <td>da 64 a 66 anni (-50%)</td>\n",
       "      <td>€ 50000</td>\n",
       "    </tr>\n",
       "    <tr>\n",
       "      <th>11</th>\n",
       "      <td>undisclosed11</td>\n",
       "      <td>100000</td>\n",
       "      <td>da 67 a 69 anni (-45%)</td>\n",
       "      <td>€ 55000.00000000001</td>\n",
       "    </tr>\n",
       "    <tr>\n",
       "      <th>12</th>\n",
       "      <td>undisclosed12</td>\n",
       "      <td>100000</td>\n",
       "      <td>da 70 a 72 anni (-40%)</td>\n",
       "      <td>€ 60000</td>\n",
       "    </tr>\n",
       "    <tr>\n",
       "      <th>13</th>\n",
       "      <td>undisclosed13</td>\n",
       "      <td>100000</td>\n",
       "      <td>da 73 a 75 anni (-35%)</td>\n",
       "      <td>€ 65000</td>\n",
       "    </tr>\n",
       "    <tr>\n",
       "      <th>14</th>\n",
       "      <td>undisclosed14</td>\n",
       "      <td>100000</td>\n",
       "      <td>da 76 a 78 anni (-30%)</td>\n",
       "      <td>€ 70000</td>\n",
       "    </tr>\n",
       "    <tr>\n",
       "      <th>15</th>\n",
       "      <td>undisclosed15</td>\n",
       "      <td>100000</td>\n",
       "      <td>da 79 a 82 anni (-25%)</td>\n",
       "      <td>€ 75000</td>\n",
       "    </tr>\n",
       "    <tr>\n",
       "      <th>16</th>\n",
       "      <td>undisclosed16</td>\n",
       "      <td>100000</td>\n",
       "      <td>da 83 a 86 anni (-20%)</td>\n",
       "      <td>€ 80000</td>\n",
       "    </tr>\n",
       "    <tr>\n",
       "      <th>17</th>\n",
       "      <td>undisclosed17</td>\n",
       "      <td>100000</td>\n",
       "      <td>da 87 a 92 anni (-15%)</td>\n",
       "      <td>€ 85000</td>\n",
       "    </tr>\n",
       "    <tr>\n",
       "      <th>18</th>\n",
       "      <td>undisclosed18</td>\n",
       "      <td>100000</td>\n",
       "      <td>da 93 a 99 anni (-10%)</td>\n",
       "      <td>€ 90000</td>\n",
       "    </tr>\n",
       "  </tbody>\n",
       "</table>\n",
       "</div>"
      ],
      "text/plain": [
       "           Indirizzo immobile  Valore immobile       Eta usofruttuario  \\\n",
       "Address Id                                                               \n",
       "1                undisclosed1           100000   da 0 a 20 anni (-95%)   \n",
       "2                undisclosed2           100000  da 21 a 30 anni (-90%)   \n",
       "3                undisclosed3           100000  da 31 a 40 anni (-85%)   \n",
       "4                undisclosed4           100000  da 41 a 45 anni (-80%)   \n",
       "5                undisclosed5           100000  da 46 a 50 anni (-75%)   \n",
       "6                undisclosed6           100000  da 51 a 53 anni (-70%)   \n",
       "7                undisclosed7           100000  da 54 a 56 anni (-65%)   \n",
       "8                undisclosed8           100000  da 57 a 60 anni (-60%)   \n",
       "9                undisclosed9           100000  da 61 a 63 anni (-55%)   \n",
       "10              undisclosed10           100000  da 64 a 66 anni (-50%)   \n",
       "11              undisclosed11           100000  da 67 a 69 anni (-45%)   \n",
       "12              undisclosed12           100000  da 70 a 72 anni (-40%)   \n",
       "13              undisclosed13           100000  da 73 a 75 anni (-35%)   \n",
       "14              undisclosed14           100000  da 76 a 78 anni (-30%)   \n",
       "15              undisclosed15           100000  da 79 a 82 anni (-25%)   \n",
       "16              undisclosed16           100000  da 83 a 86 anni (-20%)   \n",
       "17              undisclosed17           100000  da 87 a 92 anni (-15%)   \n",
       "18              undisclosed18           100000  da 93 a 99 anni (-10%)   \n",
       "\n",
       "                         Valore  \n",
       "Address Id                       \n",
       "1                        € 5000  \n",
       "2                       € 10000  \n",
       "3                       € 15000  \n",
       "4                       € 20000  \n",
       "5                       € 25000  \n",
       "6                       € 30000  \n",
       "7                       € 35000  \n",
       "8                       € 40000  \n",
       "9                       € 45000  \n",
       "10                      € 50000  \n",
       "11          € 55000.00000000001  \n",
       "12                      € 60000  \n",
       "13                      € 65000  \n",
       "14                      € 70000  \n",
       "15                      € 75000  \n",
       "16                      € 80000  \n",
       "17                      € 85000  \n",
       "18                      € 90000  "
      ]
     },
     "metadata": {},
     "output_type": "display_data"
    }
   ],
   "source": [
    "utility.bare_ownership_value = await utility.get_bare_ownership_value()"
   ]
  },
  {
   "cell_type": "code",
   "execution_count": 26,
   "id": "19078673-4014-45b9-9838-4f74e8b610b7",
   "metadata": {},
   "outputs": [
    {
     "name": "stdout",
     "output_type": "stream",
     "text": [
      "The shape of 'bare_ownership_value' is (18, 4).\n",
      "\n"
     ]
    },
    {
     "data": {
      "text/html": [
       "<div>\n",
       "<style scoped>\n",
       "    .dataframe tbody tr th:only-of-type {\n",
       "        vertical-align: middle;\n",
       "    }\n",
       "\n",
       "    .dataframe tbody tr th {\n",
       "        vertical-align: top;\n",
       "    }\n",
       "\n",
       "    .dataframe thead th {\n",
       "        text-align: right;\n",
       "    }\n",
       "</style>\n",
       "<table border=\"1\" class=\"dataframe\">\n",
       "  <thead>\n",
       "    <tr style=\"text-align: right;\">\n",
       "      <th></th>\n",
       "      <th>Indirizzo immobile</th>\n",
       "      <th>Valore immobile</th>\n",
       "      <th>Eta usofruttuario</th>\n",
       "      <th>Valore</th>\n",
       "    </tr>\n",
       "    <tr>\n",
       "      <th>Address Id</th>\n",
       "      <th></th>\n",
       "      <th></th>\n",
       "      <th></th>\n",
       "      <th></th>\n",
       "    </tr>\n",
       "  </thead>\n",
       "  <tbody>\n",
       "    <tr>\n",
       "      <th>1</th>\n",
       "      <td>undisclosed1</td>\n",
       "      <td>100000</td>\n",
       "      <td>da 0 a 20 anni (-95%)</td>\n",
       "      <td>€ 5000</td>\n",
       "    </tr>\n",
       "    <tr>\n",
       "      <th>2</th>\n",
       "      <td>undisclosed2</td>\n",
       "      <td>100000</td>\n",
       "      <td>da 21 a 30 anni (-90%)</td>\n",
       "      <td>€ 10000</td>\n",
       "    </tr>\n",
       "    <tr>\n",
       "      <th>3</th>\n",
       "      <td>undisclosed3</td>\n",
       "      <td>100000</td>\n",
       "      <td>da 31 a 40 anni (-85%)</td>\n",
       "      <td>€ 15000</td>\n",
       "    </tr>\n",
       "    <tr>\n",
       "      <th>4</th>\n",
       "      <td>undisclosed4</td>\n",
       "      <td>100000</td>\n",
       "      <td>da 41 a 45 anni (-80%)</td>\n",
       "      <td>€ 20000</td>\n",
       "    </tr>\n",
       "    <tr>\n",
       "      <th>5</th>\n",
       "      <td>undisclosed5</td>\n",
       "      <td>100000</td>\n",
       "      <td>da 46 a 50 anni (-75%)</td>\n",
       "      <td>€ 25000</td>\n",
       "    </tr>\n",
       "    <tr>\n",
       "      <th>6</th>\n",
       "      <td>undisclosed6</td>\n",
       "      <td>100000</td>\n",
       "      <td>da 51 a 53 anni (-70%)</td>\n",
       "      <td>€ 30000</td>\n",
       "    </tr>\n",
       "    <tr>\n",
       "      <th>7</th>\n",
       "      <td>undisclosed7</td>\n",
       "      <td>100000</td>\n",
       "      <td>da 54 a 56 anni (-65%)</td>\n",
       "      <td>€ 35000</td>\n",
       "    </tr>\n",
       "    <tr>\n",
       "      <th>8</th>\n",
       "      <td>undisclosed8</td>\n",
       "      <td>100000</td>\n",
       "      <td>da 57 a 60 anni (-60%)</td>\n",
       "      <td>€ 40000</td>\n",
       "    </tr>\n",
       "    <tr>\n",
       "      <th>9</th>\n",
       "      <td>undisclosed9</td>\n",
       "      <td>100000</td>\n",
       "      <td>da 61 a 63 anni (-55%)</td>\n",
       "      <td>€ 45000</td>\n",
       "    </tr>\n",
       "    <tr>\n",
       "      <th>10</th>\n",
       "      <td>undisclosed10</td>\n",
       "      <td>100000</td>\n",
       "      <td>da 64 a 66 anni (-50%)</td>\n",
       "      <td>€ 50000</td>\n",
       "    </tr>\n",
       "    <tr>\n",
       "      <th>11</th>\n",
       "      <td>undisclosed11</td>\n",
       "      <td>100000</td>\n",
       "      <td>da 67 a 69 anni (-45%)</td>\n",
       "      <td>€ 55000.00000000001</td>\n",
       "    </tr>\n",
       "    <tr>\n",
       "      <th>12</th>\n",
       "      <td>undisclosed12</td>\n",
       "      <td>100000</td>\n",
       "      <td>da 70 a 72 anni (-40%)</td>\n",
       "      <td>€ 60000</td>\n",
       "    </tr>\n",
       "    <tr>\n",
       "      <th>13</th>\n",
       "      <td>undisclosed13</td>\n",
       "      <td>100000</td>\n",
       "      <td>da 73 a 75 anni (-35%)</td>\n",
       "      <td>€ 65000</td>\n",
       "    </tr>\n",
       "    <tr>\n",
       "      <th>14</th>\n",
       "      <td>undisclosed14</td>\n",
       "      <td>100000</td>\n",
       "      <td>da 76 a 78 anni (-30%)</td>\n",
       "      <td>€ 70000</td>\n",
       "    </tr>\n",
       "    <tr>\n",
       "      <th>15</th>\n",
       "      <td>undisclosed15</td>\n",
       "      <td>100000</td>\n",
       "      <td>da 79 a 82 anni (-25%)</td>\n",
       "      <td>€ 75000</td>\n",
       "    </tr>\n",
       "    <tr>\n",
       "      <th>16</th>\n",
       "      <td>undisclosed16</td>\n",
       "      <td>100000</td>\n",
       "      <td>da 83 a 86 anni (-20%)</td>\n",
       "      <td>€ 80000</td>\n",
       "    </tr>\n",
       "    <tr>\n",
       "      <th>17</th>\n",
       "      <td>undisclosed17</td>\n",
       "      <td>100000</td>\n",
       "      <td>da 87 a 92 anni (-15%)</td>\n",
       "      <td>€ 85000</td>\n",
       "    </tr>\n",
       "    <tr>\n",
       "      <th>18</th>\n",
       "      <td>undisclosed18</td>\n",
       "      <td>100000</td>\n",
       "      <td>da 93 a 99 anni (-10%)</td>\n",
       "      <td>€ 90000</td>\n",
       "    </tr>\n",
       "  </tbody>\n",
       "</table>\n",
       "</div>"
      ],
      "text/plain": [
       "           Indirizzo immobile  Valore immobile       Eta usofruttuario  \\\n",
       "Address Id                                                               \n",
       "1                undisclosed1           100000   da 0 a 20 anni (-95%)   \n",
       "2                undisclosed2           100000  da 21 a 30 anni (-90%)   \n",
       "3                undisclosed3           100000  da 31 a 40 anni (-85%)   \n",
       "4                undisclosed4           100000  da 41 a 45 anni (-80%)   \n",
       "5                undisclosed5           100000  da 46 a 50 anni (-75%)   \n",
       "6                undisclosed6           100000  da 51 a 53 anni (-70%)   \n",
       "7                undisclosed7           100000  da 54 a 56 anni (-65%)   \n",
       "8                undisclosed8           100000  da 57 a 60 anni (-60%)   \n",
       "9                undisclosed9           100000  da 61 a 63 anni (-55%)   \n",
       "10              undisclosed10           100000  da 64 a 66 anni (-50%)   \n",
       "11              undisclosed11           100000  da 67 a 69 anni (-45%)   \n",
       "12              undisclosed12           100000  da 70 a 72 anni (-40%)   \n",
       "13              undisclosed13           100000  da 73 a 75 anni (-35%)   \n",
       "14              undisclosed14           100000  da 76 a 78 anni (-30%)   \n",
       "15              undisclosed15           100000  da 79 a 82 anni (-25%)   \n",
       "16              undisclosed16           100000  da 83 a 86 anni (-20%)   \n",
       "17              undisclosed17           100000  da 87 a 92 anni (-15%)   \n",
       "18              undisclosed18           100000  da 93 a 99 anni (-10%)   \n",
       "\n",
       "                         Valore  \n",
       "Address Id                       \n",
       "1                        € 5000  \n",
       "2                       € 10000  \n",
       "3                       € 15000  \n",
       "4                       € 20000  \n",
       "5                       € 25000  \n",
       "6                       € 30000  \n",
       "7                       € 35000  \n",
       "8                       € 40000  \n",
       "9                       € 45000  \n",
       "10                      € 50000  \n",
       "11          € 55000.00000000001  \n",
       "12                      € 60000  \n",
       "13                      € 65000  \n",
       "14                      € 70000  \n",
       "15                      € 75000  \n",
       "16                      € 80000  \n",
       "17                      € 85000  \n",
       "18                      € 90000  "
      ]
     },
     "metadata": {},
     "output_type": "display_data"
    }
   ],
   "source": [
    "print(f\"The shape of 'bare_ownership_value' is {utility.bare_ownership_value.shape}.\\n\")\n",
    "display(utility.bare_ownership_value)"
   ]
  },
  {
   "cell_type": "markdown",
   "id": "df72ef0b-cd1c-4220-ad57-6038b25e8f0d",
   "metadata": {},
   "source": [
    "### Coefficienti superfici commerciali\n",
    "\n",
    "La superficie commerciale è uno degli elementi necessari per calcolare il valore di mercato degli immobili. Per Superficie Commerciale Vendibile (SCV) si intende la superficie complessiva basata sulla somma delle superfici ponderate che compongono il bene immobiliare. Le unità immobiliari sono composte, da superficie principale e da superfici accessorie. La superficie commerciale vendibile (SCV) è ottenuta omogeneizzando, con opportuni coefficienti di ragguaglio, le superfici accessorie a quella principale."
   ]
  },
  {
   "cell_type": "code",
   "execution_count": 27,
   "id": "83a03bec-e8d1-4113-aed1-7a9d2119288b",
   "metadata": {},
   "outputs": [
    {
     "data": {
      "application/vnd.jupyter.widget-view+json": {
       "model_id": "842569386e7b4c039d10943bf0473412",
       "version_major": 2,
       "version_minor": 0
      },
      "text/plain": [
       "  0%|          | 0/11 [00:00<?, ?it/s]"
      ]
     },
     "metadata": {},
     "output_type": "display_data"
    },
    {
     "data": {
      "text/html": [
       "<div>\n",
       "<style scoped>\n",
       "    .dataframe tbody tr th:only-of-type {\n",
       "        vertical-align: middle;\n",
       "    }\n",
       "\n",
       "    .dataframe tbody tr th {\n",
       "        vertical-align: top;\n",
       "    }\n",
       "\n",
       "    .dataframe thead th {\n",
       "        text-align: right;\n",
       "    }\n",
       "</style>\n",
       "<table border=\"1\" class=\"dataframe\">\n",
       "  <thead>\n",
       "    <tr style=\"text-align: right;\">\n",
       "      <th></th>\n",
       "      <th>Tipo superfice</th>\n",
       "      <th>Coefficiente</th>\n",
       "      <th>Note</th>\n",
       "      <th>Dettaglio</th>\n",
       "      <th>Tipologia Immobile</th>\n",
       "    </tr>\n",
       "  </thead>\n",
       "  <tbody>\n",
       "    <tr>\n",
       "      <th>0</th>\n",
       "      <td>Superfici Coperte</td>\n",
       "      <td>100 %</td>\n",
       "      <td></td>\n",
       "      <td></td>\n",
       "      <td>Ville</td>\n",
       "    </tr>\n",
       "    <tr>\n",
       "      <th>1</th>\n",
       "      <td>Superfici Seminterrate</td>\n",
       "      <td>75 %</td>\n",
       "      <td></td>\n",
       "      <td></td>\n",
       "      <td>Ville</td>\n",
       "    </tr>\n",
       "    <tr>\n",
       "      <th>2</th>\n",
       "      <td>Verande Rifinite</td>\n",
       "      <td>80 %</td>\n",
       "      <td></td>\n",
       "      <td></td>\n",
       "      <td>Ville</td>\n",
       "    </tr>\n",
       "    <tr>\n",
       "      <th>3</th>\n",
       "      <td>Verande Non Rifinite</td>\n",
       "      <td>60 %</td>\n",
       "      <td></td>\n",
       "      <td></td>\n",
       "      <td>Ville</td>\n",
       "    </tr>\n",
       "    <tr>\n",
       "      <th>4</th>\n",
       "      <td>Soppalchi Abitabili</td>\n",
       "      <td>80 %</td>\n",
       "      <td></td>\n",
       "      <td></td>\n",
       "      <td>Ville</td>\n",
       "    </tr>\n",
       "  </tbody>\n",
       "</table>\n",
       "</div>"
      ],
      "text/plain": [
       "           Tipo superfice Coefficiente Note Dettaglio Tipologia Immobile\n",
       "0       Superfici Coperte        100 %                             Ville\n",
       "1  Superfici Seminterrate         75 %                             Ville\n",
       "2        Verande Rifinite         80 %                             Ville\n",
       "3    Verande Non Rifinite         60 %                             Ville\n",
       "4     Soppalchi Abitabili         80 %                             Ville"
      ]
     },
     "metadata": {},
     "output_type": "display_data"
    }
   ],
   "source": [
    "if first_execution_flag:\n",
    "    utility.commercial_surface_coefficients = await utility.get_commercial_surface_coefficients()\n",
    "    first_execution_flag = False"
   ]
  },
  {
   "cell_type": "code",
   "execution_count": 28,
   "id": "9aa858c0-47f7-4eed-84eb-6c233857e269",
   "metadata": {},
   "outputs": [],
   "source": [
    "if first_execution_flag:\n",
    "    print(f\"The shape of 'commercial_surface_coefficients' is {utility.commercial_surface_coefficients.shape}.\\n\")\n",
    "    display(utility.commercial_surface_coefficients[utility.commercial_surface_coefficients['Tipo superfice'] == 'Superfici Coperte'].head(10))"
   ]
  },
  {
   "cell_type": "markdown",
   "id": "88655ef6-77d1-4e46-bfea-09a39716367d",
   "metadata": {},
   "source": [
    "## TRADING IMMOBILIARE\n",
    "\n",
    "### Conto Economico Trading Immobiliare\n",
    "\n",
    "Per Trading Immobiliare si intende un operazione di:\n",
    "- acquisto immobile ad un prezzo più basso rispetto alla media del mercato;\n",
    "- aggiunta di valore con opere di ristrutturazione o frazionamento;\n",
    "- rivendita in tempi ristretti ad una cifra superiore rispetto all' intero importo speso tra acquisto e sistemazione.\n",
    "\n",
    "Il conto economico immobiliare è lo strumento per valutare se una operazione di Trading Immobiliare è più o meno vantaggiosa.\n",
    "\n",
    "Inputs:\n",
    "- INDIRIZZO IMMOBILE\n",
    "- PREZZO ACQUISTO\n",
    "- PREZZO DI RIVENDITA\n",
    "- COSTI DETRAIBILI\n",
    "- COSTI NON DETRAIBILI\n",
    "\n",
    "Costi detraibili\n",
    "- Oneri fiscali per l' acquisto (Imposta registro o IVA ed eventuali imposte ipotecarie e catastali)\n",
    "- Spese notarili (costi per stipula compromesso, rogito ed altri servizi notarili legati all' acquisto)\n",
    "- Eventuali spese mediazione (provvigioni agenzia per acquisto e vendita)\n",
    "- Costi di ristrutturazione e collegati\n",
    "- Tutti i costi che contribuiscono ad aumentare il valore dell' immobile apportandone miglioramenti concreti\n",
    "\n",
    "Costi non detraibili\n",
    "- Costi ordinari che attengono solo alla manutenzione e/o gestione del bene (ad es. condominio ed utenze)\n",
    "- Spese che non apportino maggior valore all' immobile"
   ]
  },
  {
   "cell_type": "code",
   "execution_count": 29,
   "id": "a072243a-309f-48ea-b4cf-f6b2276d03d5",
   "metadata": {},
   "outputs": [
    {
     "data": {
      "application/vnd.jupyter.widget-view+json": {
       "model_id": "844c8ed7978649d7b0681a0ed6ae06b5",
       "version_major": 2,
       "version_minor": 0
      },
      "text/plain": [
       "  0%|          | 0/1 [00:00<?, ?it/s]"
      ]
     },
     "metadata": {},
     "output_type": "display_data"
    },
    {
     "name": "stdout",
     "output_type": "stream",
     "text": [
      "{\n",
      "    \"results\": {\n",
      "        \"Plusvalenza ottenuta\": \"€ 70000\",\n",
      "        \"Imposta Plusvalenza\": \"€ 18200\",\n",
      "        \"Utile Netto\": \"€ 36800\",\n",
      "        \"Redditività (ROI)\": \"22.55 %\"\n",
      "    },\n",
      "    \"type\": \"Conto Economico\"\n",
      "}\n"
     ]
    }
   ],
   "source": [
    "utility.real_estate_trading_business_plan = await utility.get_real_estate_trading_business_plan()"
   ]
  },
  {
   "cell_type": "code",
   "execution_count": 30,
   "id": "a0f8bbf1-c982-4090-a165-de888859ff48",
   "metadata": {},
   "outputs": [
    {
     "name": "stdout",
     "output_type": "stream",
     "text": [
      "{\n",
      "    \"results\": {\n",
      "        \"Plusvalenza ottenuta\": \"€ 70000\",\n",
      "        \"Imposta Plusvalenza\": \"€ 18200\",\n",
      "        \"Utile Netto\": \"€ 36800\",\n",
      "        \"Redditività (ROI)\": \"22.55 %\"\n",
      "    },\n",
      "    \"type\": \"Conto Economico\"\n",
      "}\n"
     ]
    }
   ],
   "source": [
    "print(json.dumps(utility.real_estate_trading_business_plan, ensure_ascii=False, indent=4))"
   ]
  },
  {
   "cell_type": "markdown",
   "id": "9e2d25d1-baa9-49e2-ab3b-267b5d4b710d",
   "metadata": {},
   "source": [
    "## EREDITÀ E SUCCESSIONI\n",
    "\n",
    "### Ripartizione Quote Ereditarie\n",
    "\n",
    "L'applicazione calcola le quote ereditarie spettanti a ciascun erede in caso di successione leggittima.\n",
    "\n",
    "I parenti che possono ereditare in caso di successione legittima (in mancanza di testamento) sono:\n",
    "1) Coniuge\n",
    "2) Figli\n",
    "3) Ascendenti (genitori o nonni) in assenza di figli\n",
    "4) Fratelli in assenza di figli\n",
    "5) Altri parenti fino al 6° grado (se unici eredi)*\n",
    "6) Lo stato in assenza di parenti fino al 6° grado\n",
    "\n",
    "*I parenti fino al 6° grado sono, ad esempio, i figli di fratelli (cugini), che sono parenti di quarto grado, i nipoti in linea retta dei cugini, che sono parenti di sesto grado.\n",
    "\n",
    "Inputs:\n",
    "- INDIRIZZO IMMOBILE\n",
    "- INSERIRE IMPORTO EREDITÀ\n",
    "- CONIUGE\n",
    "- N° FIGLI\n",
    "- ASCENDENTI - GENITORI O NONNI (IN ASSENZA DI FIGLI)\n",
    "- N° FRATELLI - (IN ASSENZA DI FIGLI)\n",
    "- N° PARENTI FINO AL 6° GRADO - (SE UNICI EREDI)"
   ]
  },
  {
   "cell_type": "code",
   "execution_count": 31,
   "id": "99c90c2a-3992-4a71-b009-12dd1e1520da",
   "metadata": {},
   "outputs": [
    {
     "data": {
      "application/vnd.jupyter.widget-view+json": {
       "model_id": "d911ad4d877b4a84bd969d1d6bdb50ad",
       "version_major": 2,
       "version_minor": 0
      },
      "text/plain": [
       "  0%|          | 0/5 [00:00<?, ?it/s]"
      ]
     },
     "metadata": {},
     "output_type": "display_data"
    },
    {
     "data": {
      "text/html": [
       "<div>\n",
       "<style scoped>\n",
       "    .dataframe tbody tr th:only-of-type {\n",
       "        vertical-align: middle;\n",
       "    }\n",
       "\n",
       "    .dataframe tbody tr th {\n",
       "        vertical-align: top;\n",
       "    }\n",
       "\n",
       "    .dataframe thead th {\n",
       "        text-align: right;\n",
       "    }\n",
       "</style>\n",
       "<table border=\"1\" class=\"dataframe\">\n",
       "  <thead>\n",
       "    <tr style=\"text-align: right;\">\n",
       "      <th></th>\n",
       "      <th>Aventi Diritto</th>\n",
       "      <th>Euro spettanti proquota</th>\n",
       "      <th>Indirizzo immobile</th>\n",
       "    </tr>\n",
       "    <tr>\n",
       "      <th>Address Id</th>\n",
       "      <th></th>\n",
       "      <th></th>\n",
       "      <th></th>\n",
       "    </tr>\n",
       "  </thead>\n",
       "  <tbody>\n",
       "    <tr>\n",
       "      <th>1</th>\n",
       "      <td>Coniuge</td>\n",
       "      <td>33300.00</td>\n",
       "      <td>undisclosed1</td>\n",
       "    </tr>\n",
       "    <tr>\n",
       "      <th>1</th>\n",
       "      <td>Figli</td>\n",
       "      <td>33300.00</td>\n",
       "      <td>undisclosed1</td>\n",
       "    </tr>\n",
       "    <tr>\n",
       "      <th>2</th>\n",
       "      <td>Figli</td>\n",
       "      <td>50000.00</td>\n",
       "      <td>undisclosed2</td>\n",
       "    </tr>\n",
       "    <tr>\n",
       "      <th>3</th>\n",
       "      <td>Ascendenti</td>\n",
       "      <td>50000.00</td>\n",
       "      <td>undisclosed3</td>\n",
       "    </tr>\n",
       "    <tr>\n",
       "      <th>3</th>\n",
       "      <td>Fratelli</td>\n",
       "      <td>25000.00</td>\n",
       "      <td>undisclosed3</td>\n",
       "    </tr>\n",
       "    <tr>\n",
       "      <th>4</th>\n",
       "      <td>Fratelli</td>\n",
       "      <td>50000.00</td>\n",
       "      <td>undisclosed4</td>\n",
       "    </tr>\n",
       "    <tr>\n",
       "      <th>5</th>\n",
       "      <td>Parenti</td>\n",
       "      <td>25000.00</td>\n",
       "      <td>undisclosed5</td>\n",
       "    </tr>\n",
       "  </tbody>\n",
       "</table>\n",
       "</div>"
      ],
      "text/plain": [
       "           Aventi Diritto Euro spettanti proquota Indirizzo immobile\n",
       "Address Id                                                          \n",
       "1                 Coniuge                33300.00       undisclosed1\n",
       "1                   Figli                33300.00       undisclosed1\n",
       "2                   Figli                50000.00       undisclosed2\n",
       "3              Ascendenti                50000.00       undisclosed3\n",
       "3                Fratelli                25000.00       undisclosed3\n",
       "4                Fratelli                50000.00       undisclosed4\n",
       "5                 Parenti                25000.00       undisclosed5"
      ]
     },
     "metadata": {},
     "output_type": "display_data"
    }
   ],
   "source": [
    "utility.inheritance_shares = await utility.get_inheritance_shares()"
   ]
  },
  {
   "cell_type": "code",
   "execution_count": 32,
   "id": "08e217e0-d454-40cc-8344-3c93f7660b91",
   "metadata": {},
   "outputs": [
    {
     "name": "stdout",
     "output_type": "stream",
     "text": [
      "The shape of 'inheritance_shares' is (7, 3).\n",
      "\n"
     ]
    },
    {
     "data": {
      "text/html": [
       "<div>\n",
       "<style scoped>\n",
       "    .dataframe tbody tr th:only-of-type {\n",
       "        vertical-align: middle;\n",
       "    }\n",
       "\n",
       "    .dataframe tbody tr th {\n",
       "        vertical-align: top;\n",
       "    }\n",
       "\n",
       "    .dataframe thead th {\n",
       "        text-align: right;\n",
       "    }\n",
       "</style>\n",
       "<table border=\"1\" class=\"dataframe\">\n",
       "  <thead>\n",
       "    <tr style=\"text-align: right;\">\n",
       "      <th></th>\n",
       "      <th>Aventi Diritto</th>\n",
       "      <th>Euro spettanti proquota</th>\n",
       "      <th>Indirizzo immobile</th>\n",
       "    </tr>\n",
       "    <tr>\n",
       "      <th>Address Id</th>\n",
       "      <th></th>\n",
       "      <th></th>\n",
       "      <th></th>\n",
       "    </tr>\n",
       "  </thead>\n",
       "  <tbody>\n",
       "    <tr>\n",
       "      <th>1</th>\n",
       "      <td>Coniuge</td>\n",
       "      <td>33300.00</td>\n",
       "      <td>undisclosed1</td>\n",
       "    </tr>\n",
       "    <tr>\n",
       "      <th>1</th>\n",
       "      <td>Figli</td>\n",
       "      <td>33300.00</td>\n",
       "      <td>undisclosed1</td>\n",
       "    </tr>\n",
       "    <tr>\n",
       "      <th>2</th>\n",
       "      <td>Figli</td>\n",
       "      <td>50000.00</td>\n",
       "      <td>undisclosed2</td>\n",
       "    </tr>\n",
       "    <tr>\n",
       "      <th>3</th>\n",
       "      <td>Ascendenti</td>\n",
       "      <td>50000.00</td>\n",
       "      <td>undisclosed3</td>\n",
       "    </tr>\n",
       "    <tr>\n",
       "      <th>3</th>\n",
       "      <td>Fratelli</td>\n",
       "      <td>25000.00</td>\n",
       "      <td>undisclosed3</td>\n",
       "    </tr>\n",
       "    <tr>\n",
       "      <th>4</th>\n",
       "      <td>Fratelli</td>\n",
       "      <td>50000.00</td>\n",
       "      <td>undisclosed4</td>\n",
       "    </tr>\n",
       "    <tr>\n",
       "      <th>5</th>\n",
       "      <td>Parenti</td>\n",
       "      <td>25000.00</td>\n",
       "      <td>undisclosed5</td>\n",
       "    </tr>\n",
       "  </tbody>\n",
       "</table>\n",
       "</div>"
      ],
      "text/plain": [
       "           Aventi Diritto Euro spettanti proquota Indirizzo immobile\n",
       "Address Id                                                          \n",
       "1                 Coniuge                33300.00       undisclosed1\n",
       "1                   Figli                33300.00       undisclosed1\n",
       "2                   Figli                50000.00       undisclosed2\n",
       "3              Ascendenti                50000.00       undisclosed3\n",
       "3                Fratelli                25000.00       undisclosed3\n",
       "4                Fratelli                50000.00       undisclosed4\n",
       "5                 Parenti                25000.00       undisclosed5"
      ]
     },
     "metadata": {},
     "output_type": "display_data"
    }
   ],
   "source": [
    "print(f\"The shape of 'inheritance_shares' is {utility.inheritance_shares.shape}.\\n\")\n",
    "display(utility.inheritance_shares)"
   ]
  },
  {
   "cell_type": "code",
   "execution_count": 33,
   "id": "8e66e43c-615d-4057-8632-702e1304ba42",
   "metadata": {},
   "outputs": [],
   "source": [
    "await utility.browser.close()"
   ]
  },
  {
   "cell_type": "code",
   "execution_count": null,
   "id": "0cca5411-de7f-4dd3-b59c-11cc63dc8fcf",
   "metadata": {},
   "outputs": [],
   "source": []
  }
 ],
 "metadata": {
  "kernelspec": {
   "display_name": "Python 3.11 (py311)",
   "language": "python",
   "name": "py311"
  },
  "language_info": {
   "codemirror_mode": {
    "name": "ipython",
    "version": 3
   },
   "file_extension": ".py",
   "mimetype": "text/x-python",
   "name": "python",
   "nbconvert_exporter": "python",
   "pygments_lexer": "ipython3",
   "version": "3.11.0"
  }
 },
 "nbformat": 4,
 "nbformat_minor": 5
}
