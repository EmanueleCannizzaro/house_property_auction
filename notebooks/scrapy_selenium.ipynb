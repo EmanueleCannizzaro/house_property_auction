{
 "cells": [
  {
   "cell_type": "code",
   "execution_count": 10,
   "id": "6bfa6f84-f7b1-4215-892c-a8e8fe0de8d9",
   "metadata": {},
   "outputs": [
    {
     "name": "stdout",
     "output_type": "stream",
     "text": [
      "The autoreload extension is already loaded. To reload it, use:\n",
      "  %reload_ext autoreload\n"
     ]
    }
   ],
   "source": [
    "%load_ext autoreload\n",
    "%autoreload 2"
   ]
  },
  {
   "cell_type": "code",
   "execution_count": 11,
   "id": "c1a89a46-c52a-4a4b-837e-aac176d6f6f5",
   "metadata": {},
   "outputs": [],
   "source": [
    "import pandas as pd\n",
    "from requests_html import HTMLSession\n",
    "from tqdm.auto import tqdm"
   ]
  },
  {
   "cell_type": "code",
   "execution_count": 12,
   "id": "a3cecc56-0cb9-4bd6-9be8-0ac7e9c69d4c",
   "metadata": {},
   "outputs": [],
   "source": [
    "url = 'https://www.info-encheres.com/recherche.php?1=1&cat=1&snr=0&nbpage=100'"
   ]
  },
  {
   "cell_type": "code",
   "execution_count": 13,
   "id": "6fd4af84-137f-40a4-b12f-22afac1e8403",
   "metadata": {},
   "outputs": [
    {
     "data": {
      "application/vnd.jupyter.widget-view+json": {
       "model_id": "0aadfb80d345485c816dcb12a3e39857",
       "version_major": 2,
       "version_minor": 0
      },
      "text/plain": [
       "  0%|          | 0/1 [00:00<?, ?it/s]"
      ]
     },
     "metadata": {},
     "output_type": "display_data"
    },
    {
     "data": {
      "text/html": [
       "<div>\n",
       "<style scoped>\n",
       "    .dataframe tbody tr th:only-of-type {\n",
       "        vertical-align: middle;\n",
       "    }\n",
       "\n",
       "    .dataframe tbody tr th {\n",
       "        vertical-align: top;\n",
       "    }\n",
       "\n",
       "    .dataframe thead th {\n",
       "        text-align: right;\n",
       "    }\n",
       "</style>\n",
       "<table border=\"1\" class=\"dataframe\">\n",
       "  <thead>\n",
       "    <tr style=\"text-align: right;\">\n",
       "      <th></th>\n",
       "      <th>N°Ref</th>\n",
       "      <th>Ville</th>\n",
       "      <th>Dept.</th>\n",
       "      <th>Nature du bien</th>\n",
       "      <th>Mise à prix</th>\n",
       "      <th>Date de la vente</th>\n",
       "      <th>Avocat</th>\n",
       "    </tr>\n",
       "  </thead>\n",
       "  <tbody>\n",
       "    <tr>\n",
       "      <th>0</th>\n",
       "      <td>5042</td>\n",
       "      <td>SAINT-LOUBES</td>\n",
       "      <td>33</td>\n",
       "      <td>Maison d'habitation de plain-pied avec terrain</td>\n",
       "      <td>150.000</td>\n",
       "      <td>01/06/2023</td>\n",
       "      <td>Cabinet FORZY - BOCHE-ANNIC - MICHON</td>\n",
       "    </tr>\n",
       "    <tr>\n",
       "      <th>1</th>\n",
       "      <td>5044</td>\n",
       "      <td>LEGE-CAP-FERET</td>\n",
       "      <td>33</td>\n",
       "      <td>Maison avec garage et terrain</td>\n",
       "      <td>700.000 avec possibilité de baisse de mise à ...</td>\n",
       "      <td>01/06/2023</td>\n",
       "      <td>Cabinet FORZY - BOCHE-ANNIC - MICHON</td>\n",
       "    </tr>\n",
       "    <tr>\n",
       "      <th>2</th>\n",
       "      <td>5049</td>\n",
       "      <td>LA SALVETAT SAINT GILLES</td>\n",
       "      <td>31</td>\n",
       "      <td>Maison avec jardin et garage</td>\n",
       "      <td>88.000</td>\n",
       "      <td>01/06/2023</td>\n",
       "      <td>Maître FAIVRE Isabelle</td>\n",
       "    </tr>\n",
       "    <tr>\n",
       "      <th>3</th>\n",
       "      <td>5052</td>\n",
       "      <td>COLOMIERS</td>\n",
       "      <td>31</td>\n",
       "      <td>Maison</td>\n",
       "      <td>80.000</td>\n",
       "      <td>01/06/2023</td>\n",
       "      <td>SELARL ALMUZARA-MUNCK</td>\n",
       "    </tr>\n",
       "    <tr>\n",
       "      <th>4</th>\n",
       "      <td>5058</td>\n",
       "      <td>SAINT JEAN</td>\n",
       "      <td>31</td>\n",
       "      <td>TERRAIN AVEC UNE MAISON EN ETAT DE RUINE</td>\n",
       "      <td>8.000</td>\n",
       "      <td>01/06/2023</td>\n",
       "      <td>SCP MORVILLIERS SENTENAC</td>\n",
       "    </tr>\n",
       "  </tbody>\n",
       "</table>\n",
       "</div>"
      ],
      "text/plain": [
       "   N°Ref                     Ville  Dept.  \\\n",
       "0   5042              SAINT-LOUBES     33   \n",
       "1   5044            LEGE-CAP-FERET     33   \n",
       "2   5049  LA SALVETAT SAINT GILLES     31   \n",
       "3   5052                 COLOMIERS     31   \n",
       "4   5058                SAINT JEAN     31   \n",
       "\n",
       "                                   Nature du bien  \\\n",
       "0  Maison d'habitation de plain-pied avec terrain   \n",
       "1                   Maison avec garage et terrain   \n",
       "2                    Maison avec jardin et garage   \n",
       "3                                          Maison   \n",
       "4        TERRAIN AVEC UNE MAISON EN ETAT DE RUINE   \n",
       "\n",
       "                                         Mise à prix Date de la vente  \\\n",
       "0                                           150.000       01/06/2023   \n",
       "1  700.000 avec possibilité de baisse de mise à ...       01/06/2023   \n",
       "2                                            88.000       01/06/2023   \n",
       "3                                            80.000       01/06/2023   \n",
       "4                                             8.000       01/06/2023   \n",
       "\n",
       "                                 Avocat  \n",
       "0  Cabinet FORZY - BOCHE-ANNIC - MICHON  \n",
       "1  Cabinet FORZY - BOCHE-ANNIC - MICHON  \n",
       "2                Maître FAIVRE Isabelle  \n",
       "3                 SELARL ALMUZARA-MUNCK  \n",
       "4              SCP MORVILLIERS SENTENAC  "
      ]
     },
     "metadata": {},
     "output_type": "display_data"
    }
   ],
   "source": [
    "dfs = pd.read_html(url)\n",
    "pbar = tqdm(dfs)\n",
    "ix = 1\n",
    "for df in pbar:\n",
    "    pbar.set_description(f'Table {ix} : shape = {df.shape}')\n",
    "    ix += 1\n",
    "    display(df.head())"
   ]
  },
  {
   "cell_type": "code",
   "execution_count": null,
   "id": "e03a6635-5110-454e-93be-aa11a30679a6",
   "metadata": {},
   "outputs": [],
   "source": []
  },
  {
   "cell_type": "code",
   "execution_count": null,
   "id": "e5e04e89-2725-40eb-8641-6eee4f040549",
   "metadata": {},
   "outputs": [],
   "source": [
    "\n",
    ">>> session = HTMLSession()\n",
    "\n",
    ">>> r = session.get('https://python.org/')"
   ]
  },
  {
   "cell_type": "code",
   "execution_count": null,
   "id": "2d9d882b-1d15-4781-ba31-1bd66d5fdb66",
   "metadata": {},
   "outputs": [],
   "source": []
  },
  {
   "cell_type": "code",
   "execution_count": null,
   "id": "bbbb12b2-6481-432c-9a87-89c1f5614909",
   "metadata": {},
   "outputs": [],
   "source": []
  },
  {
   "cell_type": "code",
   "execution_count": null,
   "id": "d7771db3-b4cd-4fff-9daf-5c755e3a40d1",
   "metadata": {},
   "outputs": [],
   "source": []
  },
  {
   "cell_type": "code",
   "execution_count": null,
   "id": "24fd37ce-12ed-4699-9d2d-96afb4df4865",
   "metadata": {},
   "outputs": [],
   "source": []
  },
  {
   "cell_type": "code",
   "execution_count": null,
   "id": "f7bbe3d6-637d-472b-9c26-f0f6d1cb9f2d",
   "metadata": {},
   "outputs": [],
   "source": []
  },
  {
   "cell_type": "code",
   "execution_count": null,
   "id": "ad571576-f3ed-478d-92b7-ef45c65ea200",
   "metadata": {},
   "outputs": [],
   "source": []
  },
  {
   "cell_type": "code",
   "execution_count": null,
   "id": "b1fed4a1-b77d-4e24-908e-1e0ceaad7929",
   "metadata": {},
   "outputs": [],
   "source": []
  },
  {
   "cell_type": "code",
   "execution_count": null,
   "id": "b9599310-0f53-4dd5-bbd6-9594ff6879c8",
   "metadata": {},
   "outputs": [],
   "source": []
  },
  {
   "cell_type": "code",
   "execution_count": null,
   "id": "3e224ef9-cbe1-4dd6-873c-f3954f9bdaac",
   "metadata": {},
   "outputs": [],
   "source": []
  },
  {
   "cell_type": "code",
   "execution_count": null,
   "id": "7271eb41-9d5e-4e12-9db9-bc30c0627ac2",
   "metadata": {},
   "outputs": [],
   "source": [
    "#folder = '/home/data/property_scraper/demos/downloads/blinks'"
   ]
  },
  {
   "cell_type": "code",
   "execution_count": null,
   "id": "85c8a6ef-db45-423e-874d-e9d356dcb65e",
   "metadata": {},
   "outputs": [],
   "source": [
    "def parse_result(self, response):\n",
    "    print(response.selector.xpath('//title/@text'))\n",
    "\n",
    "from selenium.webdriver.common.by import By\n",
    "from selenium.webdriver.support import expected_conditions as EC\n",
    "\n",
    "yield SeleniumRequest(\n",
    "    url=url,\n",
    "    callback=self.parse_result,\n",
    "    wait_time=10,\n",
    "    wait_until=EC.element_to_be_clickable((By.ID, 'someid'))\n",
    ")\n",
    "screenshot\n",
    "When used, selenium will take a screenshot of the page and the binary data of the .png captured will be added to the response meta:\n",
    "\n",
    "yield SeleniumRequest(\n",
    "    url=url,\n",
    "    callback=self.parse_result,\n",
    "    screenshot=True\n",
    ")\n",
    "\n",
    "yield SeleniumRequest(\n",
    "    url=url,\n",
    "    callback=self.parse_result,\n",
    "    script='window.scrollTo(0, document.body.scrollHeight);',\n",
    ")"
   ]
  },
  {
   "cell_type": "code",
   "execution_count": 1,
   "id": "f1b6e1c7-2c09-4153-89a4-4a75ec79b084",
   "metadata": {},
   "outputs": [],
   "source": [
    "url = 'https://blinksre.prelios.com/re/tipologia-living/luogo-nazione-italia/contratto-vendita'"
   ]
  },
  {
   "cell_type": "code",
   "execution_count": 4,
   "id": "4976ffcd-aaf1-487e-a7f2-54787f0a2045",
   "metadata": {},
   "outputs": [
    {
     "name": "stdout",
     "output_type": "stream",
     "text": [
      "7\n",
      "['https:', '', 'blinksre.prelios.com', 're', 'tipologia-living', 'luogo-nazione-italia', 'contratto-vendita']\n"
     ]
    }
   ],
   "source": [
    "\n",
    "print(len(tokens))\n",
    "print(tokens)"
   ]
  },
  {
   "cell_type": "code",
   "execution_count": null,
   "id": "d4fe17d3-08bd-4e5a-bc9f-8ce23e7d69c9",
   "metadata": {},
   "outputs": [],
   "source": []
  },
  {
   "cell_type": "code",
   "execution_count": null,
   "id": "d0074599-245a-4322-9051-e54251fd1e2e",
   "metadata": {},
   "outputs": [],
   "source": [
    "def parse_result(self, response):\n",
    "    with open('image.png', 'wb') as image_file:\n",
    "        image_file.write(response.meta['screenshot'])\n",
    "script\n"
   ]
  },
  {
   "cell_type": "code",
   "execution_count": null,
   "id": "8ba63318-c25b-4efa-a7bc-7d2b41cd57df",
   "metadata": {},
   "outputs": [],
   "source": [
    "When used, selenium will execute custom JavaScript code."
   ]
  },
  {
   "cell_type": "code",
   "execution_count": 1,
   "id": "9530905c-1ead-47a0-a4bc-8147377581b0",
   "metadata": {},
   "outputs": [
    {
     "ename": "SyntaxError",
     "evalue": "'yield' outside function (2505887813.py, line 1)",
     "output_type": "error",
     "traceback": [
      "\u001b[0;36m  Cell \u001b[0;32mIn[1], line 1\u001b[0;36m\u001b[0m\n\u001b[0;31m    yield SeleniumRequest(\u001b[0m\n\u001b[0m    ^\u001b[0m\n\u001b[0;31mSyntaxError\u001b[0m\u001b[0;31m:\u001b[0m 'yield' outside function\n"
     ]
    }
   ],
   "source": [
    "yield SeleniumRequest(\n",
    "    url=url,\n",
    "    callback=self.parse_result,\n",
    "    script='window.scrollTo(0, document.body.scrollHeight);',\n",
    ")"
   ]
  },
  {
   "cell_type": "code",
   "execution_count": null,
   "id": "70df5ba1-06c8-4ffb-9065-41dce41eb377",
   "metadata": {},
   "outputs": [],
   "source": []
  },
  {
   "cell_type": "code",
   "execution_count": 37,
   "id": "85b9f279-3f0b-4b20-bbee-cf9eb0017438",
   "metadata": {},
   "outputs": [],
   "source": []
  },
  {
   "cell_type": "code",
   "execution_count": 1,
   "id": "7c4f3773-8f0c-4649-bbdd-c9478646ca0c",
   "metadata": {},
   "outputs": [],
   "source": [
    "from bs4 import BeautifulSoup\n",
    "#from selenium import webdriver\n",
    "from selenium.webdriver import Chrome, ChromeOptions\n",
    "from selenium.webdriver.common.by import By\n",
    "from selenium.webdriver.support import expected_conditions\n",
    "from selenium.webdriver.support.ui import WebDriverWait\n",
    "\n",
    "from time import sleep"
   ]
  },
  {
   "cell_type": "code",
   "execution_count": 2,
   "id": "21d124aa-95d2-4adb-9493-931b9418315e",
   "metadata": {},
   "outputs": [],
   "source": [
    "_timeout = 10  # ⚠ don't forget to set a reasonable timeout\n",
    "url = 'https://resales.intrum.it/risultati-annunci/index.html?fromSearch=true&Contratto=&Categoria=&Provincia=&Comune=&Quartiere=&PrezzoMin=&PrezzoMax=&SuperficieMin=&SuperficieMax=&Locali='"
   ]
  },
  {
   "cell_type": "code",
   "execution_count": 3,
   "id": "7530678a-38fe-4140-ba3c-aa61c129b7c7",
   "metadata": {},
   "outputs": [],
   "source": [
    "options = ChromeOptions()\n",
    "#options.headless = True # False"
   ]
  },
  {
   "cell_type": "code",
   "execution_count": 4,
   "id": "fd89c8a3-f677-4088-bb0c-32cc64ef6811",
   "metadata": {},
   "outputs": [
    {
     "name": "stderr",
     "output_type": "stream",
     "text": [
      "/tmp/ipykernel_34849/2371775352.py:1: DeprecationWarning: executable_path has been deprecated, please pass in a Service object\n",
      "  driver = Chrome(executable_path='/home/emanuele/bin/chromedriver/111.0.5563.64/chromedriver', options=options)\n"
     ]
    }
   ],
   "source": [
    "driver = Chrome(executable_path='/home/emanuele/bin/chromedriver/111.0.5563.64/chromedriver', options=options)"
   ]
  },
  {
   "cell_type": "code",
   "execution_count": 5,
   "id": "bfba910f-618c-45bf-9cc9-db11ba4bec79",
   "metadata": {},
   "outputs": [],
   "source": [
    "driver.get(url)"
   ]
  },
  {
   "cell_type": "code",
   "execution_count": 6,
   "id": "666e9720-edf1-406a-99d6-819289429a86",
   "metadata": {},
   "outputs": [
    {
     "data": {
      "text/plain": [
       "<selenium.webdriver.remote.webelement.WebElement (session=\"27c48a5ca7254cf43e2705e91e518fd7\", element=\"60ee0121-07a1-4e07-8c0b-c5f1d8a7641c\")>"
      ]
     },
     "execution_count": 6,
     "metadata": {},
     "output_type": "execute_result"
    }
   ],
   "source": [
    "WebDriverWait(driver, _timeout).until(\n",
    "    expected_conditions.presence_of_element_located(\n",
    "        # we can wait by any selector type like element id:\n",
    "        #(By.ID, \"operations-tag-Auth\")\n",
    "        # or by class name\n",
    "        (By.CLASS_NAME, \"gx-lista\")\n",
    "        # or by xpath\n",
    "        # (By.XPATH, \"//h1[@class='price']\")\n",
    "        # or by CSS selector\n",
    "        # (By.CSS_SELECTOR, \"h1.price\")\n",
    "    )\n",
    ")"
   ]
  },
  {
   "cell_type": "code",
   "execution_count": 9,
   "id": "a45393a0-58cb-474e-a279-7ce4918bbe80",
   "metadata": {},
   "outputs": [],
   "source": [
    "element = driver.find_element(By.CLASS_NAME, 'gx-next')\n",
    "#element = driver.find_element(By.CSS_SELECTOR, \"input#passwd-id\")\n",
    "#element.click()\n",
    "#element.send_keys(\"\\n\")\n",
    "driver.execute_script(\"arguments[0].click();\", element)\n",
    "WebDriverWait(driver, _timeout).until(\n",
    "    expected_conditions.presence_of_element_located(\n",
    "        (By.CLASS_NAME, \"gx-lista\")\n",
    "    )\n",
    ")\n",
    "#print(driver.current_url)\n",
    "next_page = driver.current_url"
   ]
  },
  {
   "cell_type": "code",
   "execution_count": 63,
   "id": "bd288993-ac8e-4e17-9960-73702e64ce60",
   "metadata": {},
   "outputs": [],
   "source": [
    "soup = BeautifulSoup(driver.page_source, 'html')"
   ]
  },
  {
   "cell_type": "code",
   "execution_count": 78,
   "id": "65ffdfa3-6975-4ecf-a2f2-3653ad02c71a",
   "metadata": {},
   "outputs": [
    {
     "name": "stdout",
     "output_type": "stream",
     "text": [
      "4056\n"
     ]
    }
   ],
   "source": [
    "#<div class=\"gx-lista gx-risultato-numero-colonne-1\"\n",
    "annunci = soup.find(\"div\", class_=\"gx-lista\").find(\"p\").get_text().strip().replace(' Annunci immobiliari', '')\n",
    "print(annunci)"
   ]
  },
  {
   "cell_type": "code",
   "execution_count": 74,
   "id": "a0414205-acde-4278-ae64-50b10e223af9",
   "metadata": {},
   "outputs": [
    {
     "name": "stdout",
     "output_type": "stream",
     "text": [
      "https://resales.intrum.it/scheda-annuncio/index.html?IDImmobile=933203\n",
      "https://resales.intrum.it/scheda-annuncio/index.html?IDImmobile=933203\n",
      "https://resales.intrum.it/scheda-annuncio/index.html?IDImmobile=933203\n",
      "https://resales.intrum.it/scheda-annuncio/index.html?IDImmobile=933203\n",
      "https://resales.intrum.it/scheda-annuncio/index.html?IDImmobile=933203\n",
      "https://resales.intrum.it/scheda-annuncio/index.html?IDImmobile=933203\n",
      "https://resales.intrum.it/scheda-annuncio/index.html?IDImmobile=933203\n",
      "https://resales.intrum.it/scheda-annuncio/index.html?IDImmobile=929566\n",
      "https://resales.intrum.it/scheda-annuncio/index.html?IDImmobile=929566\n",
      "https://resales.intrum.it/scheda-annuncio/index.html?IDImmobile=929566\n",
      "https://resales.intrum.it/scheda-annuncio/index.html?IDImmobile=929566\n",
      "https://resales.intrum.it/scheda-annuncio/index.html?IDImmobile=751941\n",
      "https://resales.intrum.it/scheda-annuncio/index.html?IDImmobile=751941\n",
      "https://resales.intrum.it/scheda-annuncio/index.html?IDImmobile=751941\n",
      "https://resales.intrum.it/scheda-annuncio/index.html?IDImmobile=751941\n",
      "https://resales.intrum.it/scheda-annuncio/index.html?IDImmobile=751941\n",
      "https://resales.intrum.it/scheda-annuncio/index.html?IDImmobile=751941\n",
      "https://resales.intrum.it/scheda-annuncio/index.html?IDImmobile=751941\n",
      "https://resales.intrum.it/scheda-annuncio/index.html?IDImmobile=933202\n",
      "https://resales.intrum.it/scheda-annuncio/index.html?IDImmobile=933202\n",
      "https://resales.intrum.it/scheda-annuncio/index.html?IDImmobile=933202\n",
      "https://resales.intrum.it/scheda-annuncio/index.html?IDImmobile=933202\n",
      "https://resales.intrum.it/scheda-annuncio/index.html?IDImmobile=933202\n",
      "https://resales.intrum.it/scheda-annuncio/index.html?IDImmobile=933202\n",
      "https://resales.intrum.it/scheda-annuncio/index.html?IDImmobile=933202\n",
      "https://resales.intrum.it/scheda-annuncio/index.html?IDImmobile=750711\n",
      "https://resales.intrum.it/scheda-annuncio/index.html?IDImmobile=750711\n",
      "https://resales.intrum.it/scheda-annuncio/index.html?IDImmobile=750711\n",
      "https://resales.intrum.it/scheda-annuncio/index.html?IDImmobile=750711\n",
      "https://resales.intrum.it/scheda-annuncio/index.html?IDImmobile=809815\n",
      "https://resales.intrum.it/scheda-annuncio/index.html?IDImmobile=809815\n",
      "https://resales.intrum.it/scheda-annuncio/index.html?IDImmobile=809815\n",
      "https://resales.intrum.it/scheda-annuncio/index.html?IDImmobile=809815\n",
      "https://resales.intrum.it/scheda-annuncio/index.html?IDImmobile=809815\n",
      "https://resales.intrum.it/scheda-annuncio/index.html?IDImmobile=809815\n",
      "https://resales.intrum.it/scheda-annuncio/index.html?IDImmobile=809815\n",
      "https://resales.intrum.it/scheda-annuncio/index.html?IDImmobile=752136\n",
      "https://resales.intrum.it/scheda-annuncio/index.html?IDImmobile=752136\n",
      "https://resales.intrum.it/scheda-annuncio/index.html?IDImmobile=752136\n",
      "https://resales.intrum.it/scheda-annuncio/index.html?IDImmobile=752136\n",
      "https://resales.intrum.it/scheda-annuncio/index.html?IDImmobile=752136\n",
      "https://resales.intrum.it/scheda-annuncio/index.html?IDImmobile=752136\n",
      "https://resales.intrum.it/scheda-annuncio/index.html?IDImmobile=752136\n",
      "https://resales.intrum.it/scheda-annuncio/index.html?IDImmobile=740947\n",
      "https://resales.intrum.it/scheda-annuncio/index.html?IDImmobile=740947\n",
      "https://resales.intrum.it/scheda-annuncio/index.html?IDImmobile=740947\n",
      "https://resales.intrum.it/scheda-annuncio/index.html?IDImmobile=740947\n",
      "https://resales.intrum.it/scheda-annuncio/index.html?IDImmobile=740947\n",
      "https://resales.intrum.it/scheda-annuncio/index.html?IDImmobile=740947\n",
      "https://resales.intrum.it/scheda-annuncio/index.html?IDImmobile=740947\n",
      "https://resales.intrum.it/scheda-annuncio/index.html?IDImmobile=930054\n",
      "https://resales.intrum.it/scheda-annuncio/index.html?IDImmobile=930054\n",
      "https://resales.intrum.it/scheda-annuncio/index.html?IDImmobile=930054\n",
      "https://resales.intrum.it/scheda-annuncio/index.html?IDImmobile=930054\n"
     ]
    }
   ],
   "source": [
    "urls = []\n",
    "for link in soup.find_all('a', href=True):\n",
    "    x = link['href']\n",
    "    if x.startswith('/scheda-annuncio/index.html?IDImmobile='):\n",
    "        urls.append('https://resales.intrum.it' + x)\n",
    "print('\\n'.join(urls))"
   ]
  },
  {
   "cell_type": "code",
   "execution_count": 81,
   "id": "006c13f7-9b43-45ae-84fc-c573ac0eb877",
   "metadata": {},
   "outputs": [],
   "source": [
    "#print(driver.page_source.encode('utf-8'))"
   ]
  },
  {
   "cell_type": "code",
   "execution_count": 10,
   "id": "3b0e57e3-8739-43d8-80bc-e1aab9303d11",
   "metadata": {},
   "outputs": [
    {
     "data": {
      "text/plain": [
       "'126181'"
      ]
     },
     "execution_count": 10,
     "metadata": {},
     "output_type": "execute_result"
    }
   ],
   "source": [
    "url = 'https://immobiliare.guber.it/Immobile/126181'\n",
    "url.split('/')[-1]"
   ]
  },
  {
   "cell_type": "code",
   "execution_count": null,
   "id": "ae70690f-b2ea-483d-bf19-3389503b2415",
   "metadata": {},
   "outputs": [],
   "source": []
  }
 ],
 "metadata": {
  "kernelspec": {
   "display_name": "Python 3.11 (py311)",
   "language": "python",
   "name": "py311"
  },
  "language_info": {
   "codemirror_mode": {
    "name": "ipython",
    "version": 3
   },
   "file_extension": ".py",
   "mimetype": "text/x-python",
   "name": "python",
   "nbconvert_exporter": "python",
   "pygments_lexer": "ipython3",
   "version": "3.11.0"
  }
 },
 "nbformat": 4,
 "nbformat_minor": 5
}
