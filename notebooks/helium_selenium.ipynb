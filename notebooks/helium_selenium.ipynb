{
 "cells": [
  {
   "cell_type": "code",
   "execution_count": 1,
   "id": "3b068874-77e4-40bd-92b5-cfae34cfa5a5",
   "metadata": {},
   "outputs": [],
   "source": [
    "from helium import *"
   ]
  },
  {
   "cell_type": "code",
   "execution_count": 2,
   "id": "852cf23d-01c2-48f0-b9e1-043630bd9a32",
   "metadata": {},
   "outputs": [],
   "source": [
    "#start_chrome()\n",
    "#start_chrome(headless=True)\n",
    "#start_chrome('google.com', headless=True)\n",
    "#start_firefox()"
   ]
  },
  {
   "cell_type": "code",
   "execution_count": 3,
   "id": "99b8c84a-7ebc-4fcc-810f-a94a0024bb30",
   "metadata": {},
   "outputs": [],
   "source": [
    "start_chrome('google.com')\n",
    "click('Reject all')"
   ]
  },
  {
   "cell_type": "code",
   "execution_count": 4,
   "id": "9a5783dd-05a2-4c23-83fc-4aff4f160a08",
   "metadata": {},
   "outputs": [],
   "source": [
    "write('helium selenium github')\n",
    "press(ENTER)"
   ]
  },
  {
   "cell_type": "code",
   "execution_count": 5,
   "id": "1f5e503b-b9e1-4b1b-9e44-4124f0c94447",
   "metadata": {},
   "outputs": [],
   "source": [
    "#click('Projects · selenium-python-helium')\n",
    "#press(ENTER)"
   ]
  },
  {
   "cell_type": "code",
   "execution_count": 6,
   "id": "46b29196-276d-4fe5-97ca-10449a340364",
   "metadata": {},
   "outputs": [],
   "source": [
    "go_to('github.com/login')"
   ]
  },
  {
   "cell_type": "code",
   "execution_count": 7,
   "id": "b1af9974-d77e-4bf6-91db-eecaa6de4edd",
   "metadata": {},
   "outputs": [],
   "source": [
    "write('username', into='Username')\n",
    "write('password', into='Password')\n",
    "click('Sign in')"
   ]
  },
  {
   "cell_type": "code",
   "execution_count": 8,
   "id": "de473b1f-220b-4553-b2e4-7a9829cd2d50",
   "metadata": {},
   "outputs": [],
   "source": [
    "go_to('https://www.recrowd.com/it/home')"
   ]
  },
  {
   "cell_type": "code",
   "execution_count": 9,
   "id": "13b72c9c-f6a5-46ba-b786-bb633d33df11",
   "metadata": {},
   "outputs": [],
   "source": [
    "click('Usa solo i cookie necessari')"
   ]
  },
  {
   "cell_type": "code",
   "execution_count": 10,
   "id": "b76002cb-d087-463c-9bbe-230b6c0747cd",
   "metadata": {},
   "outputs": [],
   "source": [
    "click('Login')"
   ]
  },
  {
   "cell_type": "code",
   "execution_count": 11,
   "id": "db1fcb65-900b-4d58-b9cb-d5adb158394d",
   "metadata": {},
   "outputs": [],
   "source": [
    "kill_browser()"
   ]
  },
  {
   "cell_type": "code",
   "execution_count": 4,
   "id": "d54ee970-4f11-417b-b237-453d3531f697",
   "metadata": {},
   "outputs": [],
   "source": [
    "go_to('https://www.encheres-publiques.com/resultats/immobilier')"
   ]
  },
  {
   "cell_type": "code",
   "execution_count": 5,
   "id": "06788823-e08b-4809-8f44-be1b0225fb01",
   "metadata": {},
   "outputs": [],
   "source": [
    "click('Accepter')"
   ]
  },
  {
   "cell_type": "code",
   "execution_count": 8,
   "id": "93a46843-dd56-4766-ab3a-43c7e86b03a9",
   "metadata": {},
   "outputs": [],
   "source": [
    "scroll_down(num_pixels=100)"
   ]
  },
  {
   "cell_type": "code",
   "execution_count": null,
   "id": "17fc990a-c554-4fd6-a057-70d05cac7828",
   "metadata": {},
   "outputs": [],
   "source": []
  },
  {
   "cell_type": "code",
   "execution_count": null,
   "id": "51e872c7-0003-4088-903d-f7c5f4927367",
   "metadata": {},
   "outputs": [],
   "source": []
  }
 ],
 "metadata": {
  "kernelspec": {
   "display_name": "Python 3.11 (py311)",
   "language": "python",
   "name": "py311"
  },
  "language_info": {
   "codemirror_mode": {
    "name": "ipython",
    "version": 3
   },
   "file_extension": ".py",
   "mimetype": "text/x-python",
   "name": "python",
   "nbconvert_exporter": "python",
   "pygments_lexer": "ipython3",
   "version": "3.11.0"
  }
 },
 "nbformat": 4,
 "nbformat_minor": 5
}
