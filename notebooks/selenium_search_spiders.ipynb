{
 "cells": [
  {
   "cell_type": "code",
   "execution_count": 1,
   "id": "bea43863-77b0-48a6-bea6-8d8e7ee9af82",
   "metadata": {
    "tags": []
   },
   "outputs": [],
   "source": [
    "%load_ext autoreload\n",
    "%autoreload 2"
   ]
  },
  {
   "cell_type": "markdown",
   "id": "8e9cbd6d-0dcd-43c7-9830-2674fe72def0",
   "metadata": {
    "tags": []
   },
   "source": [
    "# Scrapy Search Spiders"
   ]
  },
  {
   "cell_type": "code",
   "execution_count": 2,
   "id": "93938edf-3b0e-40c8-bbdc-8414ed72e404",
   "metadata": {
    "tags": []
   },
   "outputs": [],
   "source": [
    "import json\n",
    "from math import floor \n",
    "import os\n",
    "from selenium.webdriver import Chrome, ChromeOptions, Firefox, FirefoxOptions\n",
    "from selenium.webdriver.chrome.service import Service\n",
    "from selenium.webdriver.common.by import By\n",
    "from selenium.webdriver.common.keys import Keys\n",
    "from selenium.webdriver.support import expected_conditions as EC\n",
    "from selenium.webdriver.support.ui import WebDriverWait\n",
    "from time import sleep\n",
    "from tqdm.auto import tqdm"
   ]
  },
  {
   "cell_type": "code",
   "execution_count": 3,
   "id": "97126226-045f-459d-9ca2-055ca46b9be2",
   "metadata": {
    "tags": []
   },
   "outputs": [],
   "source": [
    "from datetime import datetime\n",
    "\n",
    "#from property_scraper.encherespubliques.spiders.search import EncheresPubliquesSearchPropertySpider\n",
    "from property_scraper.infoencheres.spiders.search_property import InfoEncheresSearchPropertySpider\n",
    "#from property_scraper.licitor.spiders.search import LicitorSearchSpider\n",
    "\n",
    "from property_scraper.recrowd.spiders.account import RecrowdMyAccountSpider\n",
    "from property_scraper.recrowd.spiders.dashboard import RecrowdMyDashboardSpider\n",
    "from property_scraper.recrowd.spiders.investment import RecrowdMyInvestmentSpider\n",
    "from property_scraper.recrowd.spiders.project import RecrowdProjectSpider\n",
    "from property_scraper.recrowd.spiders.projects import RecrowdProjectsSpider\n",
    "\n",
    "from property_scraper.astagiudiziaria.spiders.search import AstaGiudiziariaSearchSpider\n",
    "from property_scraper.astainsieme.spiders.search import AstaInsiemeSearchSpider\n",
    "from property_scraper.astalegale.spiders.search import AstaLegaleSearchSpider\n",
    "from property_scraper.asteavvisi.spiders.search import AsteAvvisiSearchSpider\n",
    "from property_scraper.astegiudiziarie.spiders.search import AsteGiudiziarieSearchSpider\n",
    "from property_scraper.asteimmobili.spiders.search import AsteImmobiliSearchSpider\n",
    "from property_scraper.astetelematiche.spiders.search import AsteTelematicheSearchSpider\n",
    "from property_scraper.canaleaste.spiders.search import CanaleAsteSearchSpider\n",
    "from property_scraper.entietribunali.spiders.search import EntieTribunaliSearchSpider\n",
    "from property_scraper.fallcoaste.spiders.search import FallcoasteSearchSpider\n",
    "from property_scraper.immobiliallasta.spiders.search import ImmobiliallastaSearchSpider\n",
    "from property_scraper.intribunale.spiders.search import IntribunaleSearchSpider\n",
    "from property_scraper.legalmente.spiders.search import LegalmenteSearchSpider\n",
    "from property_scraper.portaleaste.spiders.search import PortaleAsteSearchSpider\n",
    "from property_scraper.rivistaastegiudiziarie.spiders.search import RivistaAsteGiudiziarieSearchSpider\n",
    "from property_scraper.spazioaste.spiders.search import SpazioAsteSearchSpider\n",
    "\n",
    "from property_scraper.astetribunalelaspezia.spiders.search import AsteTribunaleLaspeziaSearchSpider\n",
    "from property_scraper.astetribunaleravenna.spiders.search import AsteTribunaleRavennaSearchSpider\n",
    "from property_scraper.astetribunalesavona.spiders.search import AsteTribunaleSavonaSearchSpider\n",
    "\n",
    "from property_scraper.guber.spiders.search import GuberSearchSpider\n",
    "from property_scraper.intrum.spiders.search import IntrumSearchSpider\n",
    "from property_scraper.prelios.spiders.search import BlinksSearchSpider\n",
    "\n",
    "from property_scraper.casa.spiders.search import CasaSearchSpider\n",
    "from property_scraper.engelvoelkers.spiders.search import EngelvoelkersSearchSpider\n",
    "from property_scraper.gateaway.spiders.search import GateAwaySearchSpider\n",
    "\n",
    "from property_scraper.idealista.spiders.search import IdealistaSearchSpider\n",
    "from property_scraper.immobiliare.spiders.search import ImmobiliareSearchSpider\n",
    "from property_scraper.lionard.spiders.search import LionardSearchSpider\n",
    "from property_scraper.tecnocasa.spiders.search import TecnocasaSearchSpider\n",
    "from property_scraper.trovocasa.spiders.search import TrovocasaSearchSpider"
   ]
  },
  {
   "cell_type": "markdown",
   "id": "d521aafc-260b-4018-b29f-101f038d33de",
   "metadata": {},
   "source": [
    "## To do\n",
    "\n",
    "- http://www.trovoaste.it/\n",
    "\n",
    "Aste Notarili\n",
    "- https://venditepubblichenotarili.notariato.it it is a list in a PDF file\n",
    "- https://www.avvisinotarili.notariato.it/\n",
    "\n",
    "\n",
    "Altro\n",
    "- https://www.subito.it/annunci-italia/vendita/immobili/\n",
    "- https://www.quimmo.it/\n"
   ]
  },
  {
   "cell_type": "code",
   "execution_count": 4,
   "id": "fb31ab0e-5f9b-4baf-bb9b-de6e9eb293f4",
   "metadata": {
    "tags": []
   },
   "outputs": [],
   "source": [
    "websites = [\n",
    "    #'encherespubliques',\n",
    "    'infoencheres',\n",
    "    #'licitor',\n",
    "    \n",
    "    #'recrowd',\n",
    "    \n",
    "    #'astainsieme',\n",
    "    #'asteavvisi',\n",
    "    #'asteimmobili',\n",
    "    #'canaleaste',\n",
    "\n",
    "    #'astetribunalelaspezia',\n",
    "    #'astetribunaleravenna',\n",
    "    #'astetribunalesavona',\n",
    "    \n",
    "    #'casa'\n",
    "    #'gateaway'\n",
    "    #'immobiliare'\n",
    "    #'idealista'\n",
    "    #'lionard'\n",
    "    #'tecnocasa'\n",
    "\n",
    "]"
   ]
  },
  {
   "cell_type": "markdown",
   "id": "4a410e44-961b-4685-8f17-858168b94c71",
   "metadata": {},
   "source": [
    "## Encheres Publiques"
   ]
  },
  {
   "cell_type": "code",
   "execution_count": 5,
   "id": "c69dfcc3-0f5d-4e59-9e6c-14c6b566581b",
   "metadata": {},
   "outputs": [],
   "source": [
    "if 'encherespubliques' in websites:\n",
    "    spider = EncheresPubliquesSearchSpider(test_only=True)\n",
    "    #spider.closed('')"
   ]
  },
  {
   "cell_type": "markdown",
   "id": "0e1e79d7-749d-4f0e-91f7-4c0bad264720",
   "metadata": {},
   "source": [
    "## Info-encheres"
   ]
  },
  {
   "cell_type": "code",
   "execution_count": 6,
   "id": "bc819fb0-2c39-4fed-847a-909e805bd71d",
   "metadata": {},
   "outputs": [],
   "source": [
    "if 'infoencheres' in websites:\n",
    "    spider = InfoEncheresSearchPropertySpider(test_only=True)\n",
    "    #spider.closed('')"
   ]
  },
  {
   "cell_type": "markdown",
   "id": "a2f7f296-6ee3-4177-82c6-07c0fb1a06b5",
   "metadata": {},
   "source": [
    "## Licitor"
   ]
  },
  {
   "cell_type": "code",
   "execution_count": 7,
   "id": "9c5a6cd7-c389-43b4-bb08-9b45402ac4b7",
   "metadata": {},
   "outputs": [],
   "source": [
    "if 'licitor' in websites:\n",
    "    spider = LicitorSearchSpider(test_only=True)\n",
    "    #spider.closed('')"
   ]
  },
  {
   "cell_type": "markdown",
   "id": "3d45189a-9eb3-4f12-865a-81dfab42c070",
   "metadata": {},
   "source": [
    "# Siti di Crowdfunding"
   ]
  },
  {
   "cell_type": "markdown",
   "id": "811707df-deef-4789-9200-40503aea3cf4",
   "metadata": {},
   "source": [
    "## Recrowd"
   ]
  },
  {
   "cell_type": "code",
   "execution_count": 8,
   "id": "c821b6e1-6d11-4d46-ae13-21db332d9b60",
   "metadata": {
    "tags": []
   },
   "outputs": [],
   "source": [
    "if 'recrowd' in websites:\n",
    "    spider = RecrowdSearchSpider(test_only=True)\n",
    "    #spider.closed('')"
   ]
  },
  {
   "cell_type": "markdown",
   "id": "d33fc266-f682-49a0-a02b-acf9f2ca0609",
   "metadata": {},
   "source": [
    "# Siti Aste"
   ]
  },
  {
   "cell_type": "markdown",
   "id": "ab6da6d9-a7e6-4b80-a914-532fae01c47c",
   "metadata": {},
   "source": [
    "## Asta Giudiziaria"
   ]
  },
  {
   "cell_type": "code",
   "execution_count": 9,
   "id": "656b2792-ae2a-46b7-8768-5ed854e656b4",
   "metadata": {
    "tags": []
   },
   "outputs": [],
   "source": [
    "if 'astagiudiziaria' in websites:\n",
    "    spider = AstaGiudiziariaSearchSpider(test_only=True)\n",
    "    #spider.closed('')"
   ]
  },
  {
   "cell_type": "markdown",
   "id": "a021f058-22f3-4a0f-8d52-cdb6b1d39c82",
   "metadata": {},
   "source": [
    "## [Asta Insieme](https://www.astainsieme.it/IT/Immobili?tipovendita=AST&categ=RESID)"
   ]
  },
  {
   "cell_type": "code",
   "execution_count": 10,
   "id": "669afec6-5f17-4af2-844d-acfa5a81ab69",
   "metadata": {
    "tags": []
   },
   "outputs": [],
   "source": [
    "if 'astainsieme' in websites:\n",
    "    spider = AstaInsiemeSearchSpider(test_only=True)\n",
    "    #spider.closed('')"
   ]
  },
  {
   "cell_type": "markdown",
   "id": "c2e72514-cd0a-4a05-8607-7211928cb180",
   "metadata": {
    "tags": []
   },
   "source": [
    "## [Asta Legale](https://www.astalegale.net/Immobili/Search) + [Portale Aste](https://www.portaleaste.com/Immobili/Search) + [Spazio Aste](https://www.spazioaste.it/Immobili/Search)"
   ]
  },
  {
   "cell_type": "code",
   "execution_count": 11,
   "id": "fd00e82f-2820-4efc-a9ee-71ce529c478b",
   "metadata": {},
   "outputs": [],
   "source": [
    "if 'astalegale' in websites:\n",
    "    spider = AstaLegaleSearchSpider(test_only=True)\n",
    "    spider.closed('')"
   ]
  },
  {
   "cell_type": "code",
   "execution_count": 12,
   "id": "80952de1-1283-4b98-a343-ff201efb23f3",
   "metadata": {
    "tags": []
   },
   "outputs": [],
   "source": [
    "if 'portaleaste' in websites:\n",
    "    spider = PortaleAsteSearchSpider(test_only=True)\n",
    "    spider.closed('')"
   ]
  },
  {
   "cell_type": "code",
   "execution_count": 13,
   "id": "8e830d20-fab6-423c-9bc3-c85162cc6b1b",
   "metadata": {
    "tags": []
   },
   "outputs": [],
   "source": [
    "if 'spazioaste' in websites:\n",
    "    spider = SpazioAsteSearchSpider(test_only=True)\n",
    "    spider.closed('')"
   ]
  },
  {
   "cell_type": "markdown",
   "id": "19ffa6a9-e1eb-4e23-b28c-faa8663e0861",
   "metadata": {
    "tags": []
   },
   "source": [
    "## [Aste Avvisi](https://www.asteavvisi.it/) + [Aste Telematiche](https://www.astetelematiche.it) + [Canale Aste](https://www.canaleaste.it/) + [Rivista Aste Giudiziarie](https://www.rivistaastegiudiziarie.it/aste/cerca?tipologia_lotto=immobiliare&proc_old=true)"
   ]
  },
  {
   "cell_type": "code",
   "execution_count": 14,
   "id": "cf517aeb-7296-4b94-b9c0-61002b93b8f9",
   "metadata": {
    "tags": []
   },
   "outputs": [],
   "source": [
    "if 'asteavvisi' in websites:\n",
    "    spider = AsteAvvisiSearchSpider(number_of_results_per_page=36, test_only=True)\n",
    "    spider.closed('')"
   ]
  },
  {
   "cell_type": "code",
   "execution_count": 15,
   "id": "e46f8062-5a76-4bf4-a0a3-46327480d467",
   "metadata": {},
   "outputs": [],
   "source": [
    "if 'astetelematiche' in websites:\n",
    "    spider = AsteTelematicheSearchSpider(number_of_results_per_page=36, test_only=True)\n",
    "    spider.closed('')"
   ]
  },
  {
   "cell_type": "code",
   "execution_count": 16,
   "id": "1115fa5e-3b15-4df2-bb25-5ce95bb7056f",
   "metadata": {
    "tags": []
   },
   "outputs": [],
   "source": [
    "if 'canaleaste' in websites:\n",
    "    spider = CanaleAsteSearchSpider(number_of_results_per_page=36, test_only=True)\n",
    "    spider.closed('')"
   ]
  },
  {
   "cell_type": "code",
   "execution_count": 17,
   "id": "9cfe5eac-eeef-44d2-ad8f-d4c857691721",
   "metadata": {
    "tags": []
   },
   "outputs": [],
   "source": [
    "if 'rivistaastegiudiziarie' in websites:\n",
    "    spider = RivistaAsteGiudiziarieSearchSpider(number_of_results_per_page=36, test_only=True)\n",
    "    spider.closed('')"
   ]
  },
  {
   "cell_type": "markdown",
   "id": "bc87a01d-135c-4351-806f-1675ebfc735c",
   "metadata": {},
   "source": [
    "## Aste Giudiziarie"
   ]
  },
  {
   "cell_type": "code",
   "execution_count": 18,
   "id": "f0653efa-d89b-4ef6-94c5-88e7a076a04c",
   "metadata": {
    "tags": []
   },
   "outputs": [],
   "source": [
    "if 'astegiudiziarie' in websites:\n",
    "    spider = AsteGiudiziarieSearchSpider(period='past', date=datetime.now(), test_only=True)\n",
    "    spider.closed('')"
   ]
  },
  {
   "cell_type": "code",
   "execution_count": 19,
   "id": "3b671dc3-d5db-425a-910b-a009015e7343",
   "metadata": {
    "tags": []
   },
   "outputs": [],
   "source": [
    "if 'astegiudiziarie' in websites:\n",
    "    spider = AsteGiudiziarieSearchSpider(period='future', date=datetime.now(), test_only=True)\n",
    "    spider.closed('')"
   ]
  },
  {
   "cell_type": "markdown",
   "id": "8879fef9-a2c8-4ad4-aad2-ad15342719f2",
   "metadata": {},
   "source": [
    "## [Aste Immobili](https://www.asteimmobili.it/Immobili/Search)"
   ]
  },
  {
   "cell_type": "code",
   "execution_count": 20,
   "id": "30bc5e13-0bdd-45c4-a640-1591cf5c3238",
   "metadata": {
    "tags": []
   },
   "outputs": [],
   "source": [
    "if 'asteimmobili' in websites:\n",
    "    spider = AsteImmobiliSearchSpider(number_of_results_per_page=120, test_only=True)\n",
    "    spider.closed('')"
   ]
  },
  {
   "cell_type": "markdown",
   "id": "de5fce7b-f9d6-4d4d-a675-9a861864be6e",
   "metadata": {
    "tags": []
   },
   "source": [
    "## [Enti e Tribunali](https://www.entietribunali.it/asta-vendita-immobiliare?utf8=%E2%9C%93&incorso_bandite%5B%5D=published&incorso_bandite%5B%5D=banned&OrdinaPer=)"
   ]
  },
  {
   "cell_type": "code",
   "execution_count": 21,
   "id": "5c2cdf9c-f578-478f-bae3-b592957f6248",
   "metadata": {
    "tags": []
   },
   "outputs": [],
   "source": [
    "if 'asteimmobili' in websites:\n",
    "    spider = EntieTribunaliSearchSpider(test_only=True)\n",
    "    spider.closed('')"
   ]
  },
  {
   "cell_type": "markdown",
   "id": "4bca65c2-2dfb-48a7-9095-15ceeb6b7e98",
   "metadata": {},
   "source": [
    "## [Fallco Aste.it](https://www.fallcoaste.it)\n",
    "\n",
    "Possible values for status are :\n",
    "\n",
    "1. Aperte,\n",
    "2. Chiuse e aggiudicate,\n",
    "3. Chiuse e non aggiudicate\n"
   ]
  },
  {
   "cell_type": "code",
   "execution_count": 22,
   "id": "cf82b6b1-1d3f-4bec-8348-1d5d451468f8",
   "metadata": {
    "tags": []
   },
   "outputs": [],
   "source": [
    "if 'fallcoaste' in websites:\n",
    "    spider = FallcoasteSearchSpider(period='future', test_only=True)\n",
    "    spider.closed('')"
   ]
  },
  {
   "cell_type": "code",
   "execution_count": 23,
   "id": "85d68d17-fc02-4f1d-b40e-da1508992410",
   "metadata": {
    "tags": []
   },
   "outputs": [],
   "source": [
    "if 'fallcoaste' in websites:\n",
    "    spider = FallcoasteSearchSpider(period='past_sold', test_only=True)\n",
    "    spider.closed('')"
   ]
  },
  {
   "cell_type": "code",
   "execution_count": 24,
   "id": "b32620e8-9eae-4f46-9115-eea92f9cc81c",
   "metadata": {
    "tags": []
   },
   "outputs": [],
   "source": [
    "if 'fallcoaste' in websites:\n",
    "    spider = FallcoasteSearchSpider(period='past_non-sold', test_only=True)\n",
    "    spider.closed('')"
   ]
  },
  {
   "cell_type": "markdown",
   "id": "a874cf79-6475-4b1d-941e-50089b113b1e",
   "metadata": {},
   "source": [
    "## [Immobili all'Asta]('https://www.immobiliallasta.it/immobili/ravenna?typology=1&pastAuctions=true')"
   ]
  },
  {
   "cell_type": "code",
   "execution_count": 25,
   "id": "c9190170-c101-40f0-9384-0753dafd6dd7",
   "metadata": {
    "tags": []
   },
   "outputs": [],
   "source": [
    "if 'astetelematiche' in websites:\n",
    "    spider = ImmobiliallastaSearchSpider(test_only=True)\n",
    "    spider.closed('')"
   ]
  },
  {
   "cell_type": "markdown",
   "id": "aacfa67b-baaf-47e9-a2f4-dba196697843",
   "metadata": {
    "tags": []
   },
   "source": [
    "## [In tribunale](https://www.intribunale.net/)"
   ]
  },
  {
   "cell_type": "code",
   "execution_count": 27,
   "id": "77c44a69-12be-4411-933d-a64edf9196f9",
   "metadata": {
    "tags": []
   },
   "outputs": [],
   "source": [
    "if 'intribunale' in websites:\n",
    "    spider = IntribunaleSearchSpider(test_only=True)\n",
    "    spider.closed('')"
   ]
  },
  {
   "cell_type": "markdown",
   "id": "bbd0d8de-e900-433c-b5f3-14bf50e82010",
   "metadata": {},
   "source": [
    "## [Legalmente](https://www.legalmente.net/ricerca.do?rds26=06-05-2023&rmo=D&rds26_op=A)"
   ]
  },
  {
   "cell_type": "code",
   "execution_count": 28,
   "id": "21592b09-1708-4e3d-b37b-f60657b50342",
   "metadata": {
    "tags": []
   },
   "outputs": [],
   "source": [
    "if 'legalmente' in websites:\n",
    "    spider = LegalmenteSearchSpider(test_only=True)\n",
    "    spider.closed('')"
   ]
  },
  {
   "cell_type": "markdown",
   "id": "fcfe32d5-250c-4eb2-aa38-3e94f1dee616",
   "metadata": {},
   "source": [
    "# Siti Tribunali"
   ]
  },
  {
   "cell_type": "markdown",
   "id": "d3e4590b-d6cb-4246-948a-c48d4f327336",
   "metadata": {},
   "source": [
    "## [La Spezia](https://www.tribunale.laspezia.it)"
   ]
  },
  {
   "cell_type": "code",
   "execution_count": 29,
   "id": "0d5b6751-cb7a-493a-87c8-38027508a01e",
   "metadata": {
    "tags": []
   },
   "outputs": [],
   "source": [
    "if 'astetribunalelaspezia' in websites:\n",
    "    spider = AsteTribunaleLaspeziaSearchSpider(number_of_results_per_page=120, test_only=True)\n",
    "    spider.closed('')"
   ]
  },
  {
   "cell_type": "markdown",
   "id": "0a75b080-7bc6-445c-b32d-7e032d30291e",
   "metadata": {},
   "source": [
    "## [Ravenna](https://www.asteravenna.eu)"
   ]
  },
  {
   "cell_type": "code",
   "execution_count": 30,
   "id": "7123af9e-c483-42c4-977e-06528e127e81",
   "metadata": {
    "tags": []
   },
   "outputs": [],
   "source": [
    "if 'astetribunaleravenna' in websites:\n",
    "    spider = AsteTribunaleRavennaSearchSpider(test_only=True)\n",
    "    spider.closed('')"
   ]
  },
  {
   "cell_type": "markdown",
   "id": "21c6949c-fcc9-466b-86a1-283326864be9",
   "metadata": {},
   "source": [
    "## [Savona](https://www.tribunale.savona.giustizia.it/it/Aste/SearchImmobili)"
   ]
  },
  {
   "cell_type": "code",
   "execution_count": 31,
   "id": "b459eb91-ad61-4692-89a8-1d83c3a97628",
   "metadata": {
    "tags": []
   },
   "outputs": [],
   "source": [
    "if 'astetribunalesavona' in websites:\n",
    "    spider = AsteTribunaleSavonaSearchSpider(number_of_results_per_page=48, test_only=True)\n",
    "    spider.closed('')"
   ]
  },
  {
   "cell_type": "markdown",
   "id": "35d5c1b2-c24b-41fb-9221-49f4f5daed57",
   "metadata": {},
   "source": [
    "# Siti SPV"
   ]
  },
  {
   "cell_type": "markdown",
   "id": "d5325e5d-58d8-41cd-a40d-57bc831a94ab",
   "metadata": {},
   "source": [
    "## Blinks"
   ]
  },
  {
   "cell_type": "code",
   "execution_count": 33,
   "id": "87fad630-740f-4242-aaa6-e3c3d7a13bdb",
   "metadata": {
    "tags": []
   },
   "outputs": [],
   "source": [
    "if 'blinks' in websites:\n",
    "    spider = BlinksSearchSpider(test_only=True)\n",
    "    #spider.closed('')"
   ]
  },
  {
   "cell_type": "markdown",
   "id": "ab15d5ad-d87b-455f-833d-5b325f63f760",
   "metadata": {},
   "source": [
    "## Guber"
   ]
  },
  {
   "cell_type": "code",
   "execution_count": 34,
   "id": "b2ab808f-b94a-4f45-bf20-6814fbcbb283",
   "metadata": {
    "tags": []
   },
   "outputs": [],
   "source": [
    "if 'guber' in websites:\n",
    "    spider = GuberSearchSpider(test_only=True)\n",
    "    #spider.closed('')"
   ]
  },
  {
   "cell_type": "markdown",
   "id": "c186553b-2456-4878-9197-f389ff9dd170",
   "metadata": {},
   "source": [
    "## Intrum"
   ]
  },
  {
   "cell_type": "code",
   "execution_count": 35,
   "id": "08b39936-7fd9-46c9-93f4-1a3807ff1859",
   "metadata": {
    "tags": []
   },
   "outputs": [],
   "source": [
    "if 'intrum' in websites:\n",
    "    spider = IntrumSearchSpider(contract_type='Vendita', test_only=True)\n",
    "    spider.closed('')"
   ]
  },
  {
   "cell_type": "markdown",
   "id": "7f6f4cc1-ad0a-44e3-be20-200f36f83428",
   "metadata": {},
   "source": [
    "# Siti Immobiliari"
   ]
  },
  {
   "cell_type": "markdown",
   "id": "1413b53c-4336-47df-8cb9-476f15bbc17b",
   "metadata": {},
   "source": [
    "## [Casa.it](https://www.casa.it)"
   ]
  },
  {
   "cell_type": "code",
   "execution_count": 36,
   "id": "28e4cb2d-fc2a-4c9b-9b84-55f850f3278e",
   "metadata": {},
   "outputs": [],
   "source": [
    "if 'casa' in websites:\n",
    "    spider = CasaSearchSpider(test_only=True)\n",
    "    #spider.closed('')"
   ]
  },
  {
   "cell_type": "markdown",
   "id": "74e7c397-d2c4-4066-876b-8288fba28578",
   "metadata": {},
   "source": [
    "## [Gate-away.com](https://www.gate-away.com)\n",
    "\n",
    "Specializzato nella vendita di immobili in Italia per clientela internazionale."
   ]
  },
  {
   "cell_type": "code",
   "execution_count": 37,
   "id": "321b4e49-7ae0-4543-be08-cfed477ea207",
   "metadata": {},
   "outputs": [],
   "source": [
    "if 'gateaway' in websites:\n",
    "    spider = GateAwaySearchSpider(test_only=True)\n",
    "    #spider.closed('')"
   ]
  },
  {
   "cell_type": "markdown",
   "id": "ad5c3390-8212-4fbd-b27e-604373825d9d",
   "metadata": {},
   "source": [
    "## [Idealista.it](https://www.idealista.it)"
   ]
  },
  {
   "cell_type": "code",
   "execution_count": 38,
   "id": "e5655dde-912d-4d29-8254-f57ab361fa84",
   "metadata": {},
   "outputs": [],
   "source": [
    "if 'idealista' in websites:\n",
    "    spider = IdealistaSearchSpider(test_only=True)\n",
    "    #spider.closed('')"
   ]
  },
  {
   "cell_type": "markdown",
   "id": "ded1c369-23d5-4717-927a-cb873f1c8007",
   "metadata": {},
   "source": [
    "## [Immobiliare.it](https://www.immobiliare.it)\n",
    "\n",
    "#https://www.immobiliare.it/aste-immobiliari/palermo/?criterio=rilevanza&pag=7"
   ]
  },
  {
   "cell_type": "code",
   "execution_count": 39,
   "id": "172973cc-1d34-4d02-83f2-7ab47d02c55f",
   "metadata": {},
   "outputs": [],
   "source": [
    "if 'immobiliare' in websites:\n",
    "    spider = ImmobiliareSearchSpider(test_only=True)\n",
    "    #spider.closed('')"
   ]
  },
  {
   "cell_type": "markdown",
   "id": "a9b81a2e-c1ff-46f1-b256-a07c1ac0bcf0",
   "metadata": {
    "tags": []
   },
   "source": [
    "## [Lionard](https://www.lionard.com/find/property/italy/all/all)"
   ]
  },
  {
   "cell_type": "code",
   "execution_count": 40,
   "id": "6fdacb5a-8937-4d28-a2f8-4e1861f7b464",
   "metadata": {
    "tags": []
   },
   "outputs": [],
   "source": [
    "if 'lionard' in websites:\n",
    "    spider = LionardSearchSpider(test_only=True)\n",
    "    #spider.closed('')"
   ]
  },
  {
   "cell_type": "markdown",
   "id": "4bbd7cc2-1a6c-47c5-90a7-ceea444d2d31",
   "metadata": {},
   "source": [
    "## [Tecnocasa.it](https://www.tecnocasa.it)"
   ]
  },
  {
   "cell_type": "code",
   "execution_count": 41,
   "id": "76d38775-7945-4f39-a060-0a365e8ca165",
   "metadata": {},
   "outputs": [],
   "source": [
    "if 'tecnocasa' in websites:\n",
    "    spider = TecnocasaSearchSpider(test_only=True)\n",
    "    #spider.closed('')"
   ]
  },
  {
   "cell_type": "markdown",
   "id": "438eb74c-938b-4c22-9f49-66c01f6c58c3",
   "metadata": {},
   "source": [
    "## [Trovocasa.it](https://www.trovocasa.it)"
   ]
  },
  {
   "cell_type": "code",
   "execution_count": 42,
   "id": "a91c3e00-ffea-4bac-9bc1-f3077ee685fa",
   "metadata": {},
   "outputs": [],
   "source": [
    "if 'trovocasa' in websites:\n",
    "    spider = TrovocasaSearchSpider(test_only=True)\n",
    "    #spider.closed('')"
   ]
  },
  {
   "cell_type": "code",
   "execution_count": null,
   "id": "d67eed02-6639-461f-b79a-82bc288d3e21",
   "metadata": {},
   "outputs": [],
   "source": []
  },
  {
   "cell_type": "code",
   "execution_count": 43,
   "id": "66e76656-3c63-4a7d-9d95-c099ea17394d",
   "metadata": {},
   "outputs": [],
   "source": [
    "#SoloAffitti.it (https://www.soloaffitti.it)\n",
    "\n",
    "\n",
    "\n",
    "\n",
    "\n",
    "#https://www.casa.it/vendita/residenziale/palermo?page=4\n",
    "#https://www.tecnocasa.it/annunci/immobili/sicilia/palermo/palermo.html/pag-6\n",
    "#https://trovocasa.corriere.it/annunci/search.html?&localitaId=82053&placeName=Palermo&categoriaImmobile=10&version=1.1&localiMin=all&localiMax=all\n",
    "#https://www.remax.it/trova/ricerca/vendita?agency_group_id&agency_id&agent_id&bathrooms&collection&commercial&energy_class[]=1&energy_class[]=8&location&location_type&order=sell_price-desc&price&program&rooms&size&unit_type_id=1&yard_id\n",
    "#https://www.idealista.it/vendita-case/palermo-palermo/con-aste_giudiziarie/lista-2.htm\n",
    "#https://www.idealista.it/vendita-case/palermo-palermo/lista-4.htm"
   ]
  },
  {
   "cell_type": "code",
   "execution_count": null,
   "id": "da9cd265-5562-4852-83e1-46140c4eb98f",
   "metadata": {},
   "outputs": [],
   "source": []
  },
  {
   "cell_type": "markdown",
   "id": "151524dc-a180-4fe5-b759-6a314accf8b1",
   "metadata": {},
   "source": [
    "https://borsinoimmobiliare.it/quotazioni-immobiliari/sicilia/palermo-provincia/palermo/\n",
    "\n",
    "div id=\"zonecentrali\" class=\"tab-pane active\"\n",
    "table class=\"table table-sm table-striped\"\n",
    "\n",
    "div id=\"zonesemicentrali\" class=\"tab-pane active\"\n",
    "table class=\"table table-sm table-striped\"\n",
    "\n",
    "div id=\"zoneperiferiche\" class=\"tab-pane active\"\n",
    "table class=\"table table-sm table-striped\""
   ]
  },
  {
   "cell_type": "code",
   "execution_count": null,
   "id": "4f098061-6e3c-4e8b-a672-60f0e1aee83c",
   "metadata": {},
   "outputs": [],
   "source": []
  },
  {
   "cell_type": "code",
   "execution_count": null,
   "id": "ff8822e9-0952-4d68-a764-977120bb3bf5",
   "metadata": {},
   "outputs": [],
   "source": []
  },
  {
   "cell_type": "code",
   "execution_count": null,
   "id": "12bc5a30-034c-437a-8922-179266660e78",
   "metadata": {},
   "outputs": [],
   "source": []
  },
  {
   "cell_type": "code",
   "execution_count": null,
   "id": "bc4ecadc-c08f-4a00-9bd1-757e0320f304",
   "metadata": {},
   "outputs": [],
   "source": []
  },
  {
   "cell_type": "code",
   "execution_count": null,
   "id": "4c9e8415-6a34-4006-992a-41cfbca1f9ef",
   "metadata": {},
   "outputs": [],
   "source": []
  },
  {
   "cell_type": "code",
   "execution_count": null,
   "id": "8bfff3da-a548-4aa4-8b14-da7744546ba5",
   "metadata": {},
   "outputs": [],
   "source": []
  },
  {
   "cell_type": "code",
   "execution_count": null,
   "id": "dc2a1f18-a129-47f7-af0b-14eaf14eb5f2",
   "metadata": {},
   "outputs": [],
   "source": []
  }
 ],
 "metadata": {
  "kernelspec": {
   "display_name": "Python 3.11 (py311)",
   "language": "python",
   "name": "py311"
  },
  "language_info": {
   "codemirror_mode": {
    "name": "ipython",
    "version": 3
   },
   "file_extension": ".py",
   "mimetype": "text/x-python",
   "name": "python",
   "nbconvert_exporter": "python",
   "pygments_lexer": "ipython3",
   "version": "3.11.0"
  }
 },
 "nbformat": 4,
 "nbformat_minor": 5
}
