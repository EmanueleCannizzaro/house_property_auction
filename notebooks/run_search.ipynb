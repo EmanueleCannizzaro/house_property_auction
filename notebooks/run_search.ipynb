{
 "cells": [
  {
   "cell_type": "code",
   "execution_count": 1,
   "id": "f5def6c3-fa4e-4802-b2f6-81da08d6cbbe",
   "metadata": {},
   "outputs": [],
   "source": [
    "%load_ext autoreload\n",
    "%autoreload 2"
   ]
  },
  {
   "cell_type": "code",
   "execution_count": 2,
   "id": "a8e371ab-2ee8-4cbf-9682-43cc1ad495c1",
   "metadata": {},
   "outputs": [],
   "source": [
    "import logging\n",
    "import sys\n",
    "\n",
    "logging.basicConfig(stream=sys.stdout, level=logging.WARNING)"
   ]
  },
  {
   "cell_type": "markdown",
   "id": "8ff54477-2c3b-486e-839b-f4700154c289",
   "metadata": {
    "tags": []
   },
   "source": [
    "# Encheres Publiques / Info Encheres / La Carte des Colocs / Licitor / Notaires\n",
    "\n",
    "Author : Emanuele Cannizzaro"
   ]
  },
  {
   "cell_type": "code",
   "execution_count": 3,
   "id": "6156e2ee-a073-4802-a67a-1693386232fe",
   "metadata": {
    "tags": []
   },
   "outputs": [
    {
     "name": "stdout",
     "output_type": "stream",
     "text": [
      "WARNING:root:And this, too\n",
      "ERROR:root:And non-ASCII stuff, too, like Øresund and Malmö\n"
     ]
    }
   ],
   "source": [
    "from glob import glob\n",
    "from gql import gql, Client\n",
    "from gql.transport.aiohttp import AIOHTTPTransport\n",
    "import json\n",
    "import os\n",
    "import pandas as pd\n",
    "\n",
    "from property_scraper.gql.spiders.search import GraphQLSearchSpider\n",
    "\n",
    "from property_scraper.store import PropertyStore, SearchStore\n",
    "from property_scraper.infoencheres.items import InfoEncheresColumns"
   ]
  },
  {
   "cell_type": "code",
   "execution_count": 4,
   "id": "4f4fc199-0fbd-45e6-964e-3ee8edb12c04",
   "metadata": {
    "tags": []
   },
   "outputs": [],
   "source": [
    "pd.set_option('display.max_rows', None)\n",
    "pd.set_option('display.max_columns', None)\n",
    "pd.set_option('display.width', None)\n",
    "pd.set_option('display.max_colwidth', None)"
   ]
  },
  {
   "cell_type": "markdown",
   "id": "8a618f0f-5e65-4de5-b4ea-746bdf9a1cb5",
   "metadata": {},
   "source": [
    "Sites:\n",
    "\n",
    " - [Encheres Publiques](https://www.encheres-publiques.com/encheres/immobilier)\n",
    " - [Info-Encheres](https://www.info-encheres.com/recherche.php?1=1&cat=1&snr=0&nbpage=100)\n",
    " - [Licitor](https://www.licitor.com/)\n",
    " - [La carte des colocs](https://www.lacartedescolocs.fr/logements/fr)\n",
    " - [Notaires](https://www.immobilier.notaires.fr/fr/annonces-immobilieres-liste?typeBien=APP,MAI&typeTransaction=VENTE,VNI,VAE)\n"
   ]
  },
  {
   "cell_type": "markdown",
   "id": "ff3c7682-923f-4080-9e9a-d9c478b7e836",
   "metadata": {},
   "source": [
    "## Data Collection"
   ]
  },
  {
   "cell_type": "markdown",
   "id": "98808cfb-dca2-4543-b0d8-f8940e2b3732",
   "metadata": {},
   "source": [
    "To create the data from , run the following bash shell script in demos folder:\n",
    "\n",
    "```bash\n",
    "cd /home/data/property_scraper/demos\n",
    "./run_search.bash  --site [encherespubliques, infoencheres, lacartedescolocs, licitor, ...]\n",
    "```"
   ]
  },
  {
   "cell_type": "markdown",
   "id": "ca0b8f97-07b8-4f0c-8adb-95096ad09441",
   "metadata": {
    "tags": []
   },
   "source": [
    "## Search property"
   ]
  },
  {
   "cell_type": "markdown",
   "id": "1a154d71-8ab1-480f-ad5e-14b4a2b82b60",
   "metadata": {},
   "source": [
    "### Past Search"
   ]
  },
  {
   "cell_type": "markdown",
   "id": "83d3567c-0437-4b90-9f1b-34fccce2a52f",
   "metadata": {},
   "source": [
    "### Future Search"
   ]
  },
  {
   "cell_type": "code",
   "execution_count": 5,
   "id": "b81d7c85-9ce9-40e5-989d-e018df45dcac",
   "metadata": {},
   "outputs": [],
   "source": [
    "search_engines = [\n",
    "    'encherespubliques',\n",
    "    'infoencheres', \n",
    "    'lacartedescolocs',\n",
    "    'licitor',\n",
    "    'notaires'\n",
    "]"
   ]
  },
  {
   "cell_type": "code",
   "execution_count": 6,
   "id": "f6466940-cede-476d-aa01-2464769f161f",
   "metadata": {},
   "outputs": [],
   "source": [
    "#search_engine = 'encherespubliques'\n",
    "#search_engine = 'infoencheres'\n",
    "#search_engine = 'lacartedescolocs'\n",
    "search_engine = 'licitor'\n",
    "#search_engine = 'notaires'"
   ]
  },
  {
   "cell_type": "code",
   "execution_count": 7,
   "id": "9fabbba8-c4ca-48ab-9ab4-53292b5bc901",
   "metadata": {},
   "outputs": [],
   "source": [
    "assert(search_engine in search_engines)"
   ]
  },
  {
   "cell_type": "code",
   "execution_count": 8,
   "id": "83c9d545-099b-4fd7-b825-b78732d80cf6",
   "metadata": {},
   "outputs": [],
   "source": [
    "if search_engine == 'encherespubliques':\n",
    "    spider = GraphQLSearchSpider()"
   ]
  },
  {
   "cell_type": "markdown",
   "id": "4e67f912-71f1-447d-b60a-f555bd8db75f",
   "metadata": {},
   "source": [
    "## Encheres"
   ]
  },
  {
   "cell_type": "code",
   "execution_count": 9,
   "id": "d54e0bc5-f7f4-4ef0-85a4-2cbd86ff962b",
   "metadata": {},
   "outputs": [],
   "source": [
    "if search_engine == 'encherespubliques':\n",
    "    spider.encheres = await spider.get_encheres()"
   ]
  },
  {
   "cell_type": "markdown",
   "id": "ad64c0bf-f4d7-4272-ad53-82d6729a115b",
   "metadata": {},
   "source": [
    "Let's query the results."
   ]
  },
  {
   "cell_type": "code",
   "execution_count": 10,
   "id": "b872bca3-fa09-47e0-8774-900027875505",
   "metadata": {
    "scrolled": true
   },
   "outputs": [],
   "source": [
    "if search_engine == 'encherespubliques':\n",
    "    print(spider.encheres.shape)\n",
    "    display(spider.encheres.head(3).T)"
   ]
  },
  {
   "cell_type": "code",
   "execution_count": 11,
   "id": "df0113cd-4f5f-4d0c-9e6d-a54b96073e65",
   "metadata": {},
   "outputs": [],
   "source": [
    "if search_engine == 'encherespubliques':\n",
    "    spider.affaire = spider.encheres[(spider.encheres['resultat'] == 'ADJUGE') & (spider.encheres['prix_adjuge'] < 1.2 * spider.encheres['mise_a_prix'])]\n",
    "    print(spider.affaire.shape)\n",
    "    display(spider.affaire.head().T)"
   ]
  },
  {
   "cell_type": "code",
   "execution_count": 12,
   "id": "5932f75c-6928-4fe1-8eb1-9ea34707bad0",
   "metadata": {},
   "outputs": [],
   "source": [
    "if search_engine == 'encherespubliques':\n",
    "    display(spider.affaire.head())"
   ]
  },
  {
   "cell_type": "code",
   "execution_count": 13,
   "id": "29e74b24-4739-4c05-ba06-789f97748e04",
   "metadata": {
    "scrolled": true
   },
   "outputs": [],
   "source": [
    "if search_engine == 'encherespubliques':\n",
    "    filename = f'/home/data/property_scraper/demos/downloads/{search_engine}_encheres.parquet'\n",
    "    spider.encheres.to_parquet(filename)"
   ]
  },
  {
   "cell_type": "markdown",
   "id": "f61938d4-56fe-4d9b-b81a-fe85f6ab4822",
   "metadata": {},
   "source": [
    "## Evenements"
   ]
  },
  {
   "cell_type": "code",
   "execution_count": 14,
   "id": "3e14d6da-ffcb-4d48-98fc-9da149402850",
   "metadata": {},
   "outputs": [],
   "source": [
    "if search_engine == 'encherespubliques':\n",
    "    spider.evenements = await spider.get_evenements()"
   ]
  },
  {
   "cell_type": "markdown",
   "id": "ce20612c-88cd-4bf2-b96d-ece772431abb",
   "metadata": {},
   "source": [
    "Let's query the results."
   ]
  },
  {
   "cell_type": "code",
   "execution_count": 15,
   "id": "f5b51313-ffce-4575-a5b3-45cf9383fed4",
   "metadata": {
    "scrolled": true
   },
   "outputs": [],
   "source": [
    "if search_engine == 'encherespubliques':\n",
    "    print(spider.evenements.shape)\n",
    "    display(spider.evenements.head(3).T)"
   ]
  },
  {
   "cell_type": "code",
   "execution_count": 16,
   "id": "409fb5a3-ed60-4d5d-8278-64c5f449f5de",
   "metadata": {},
   "outputs": [],
   "source": [
    "if search_engine == 'encherespubliques':\n",
    "    pass\n",
    "    #spider.affaire = spider.encheres[(spider.encheres['resultat'] == 'ADJUGE') & (spider.encheres['prix_adjuge'] < 1.2 * spider.encheres['mise_a_prix'])]\n",
    "    #print(spider.affaire.shape)\n",
    "    #display(spider.affaire.head().T)"
   ]
  },
  {
   "cell_type": "code",
   "execution_count": 17,
   "id": "8dc865c9-fff5-4db7-a3b9-52a8dfd6f28b",
   "metadata": {},
   "outputs": [],
   "source": [
    "#display(spider.affaire.head())"
   ]
  },
  {
   "cell_type": "code",
   "execution_count": 18,
   "id": "41a22c4e-997a-4881-8fad-fcfb380b0790",
   "metadata": {
    "scrolled": true
   },
   "outputs": [],
   "source": [
    "if search_engine == 'encherespubliques':\n",
    "    filename = f'/home/data/property_scraper/demos/downloads/{search_engine}/{search_engine}_evenements.parquet'\n",
    "    spider.evenements.to_parquet(filename)"
   ]
  },
  {
   "cell_type": "markdown",
   "id": "6add06ef-0d33-4b74-8f35-67b9cd5b7bd3",
   "metadata": {},
   "source": [
    "## Resultats"
   ]
  },
  {
   "cell_type": "code",
   "execution_count": 19,
   "id": "fbb5c5a9-6b46-4d10-9cba-e24a7a37a6de",
   "metadata": {},
   "outputs": [],
   "source": [
    "if search_engine == 'encherespubliques':\n",
    "    spider.resultats = await spider.get_resultats()"
   ]
  },
  {
   "cell_type": "markdown",
   "id": "dc8f36bf-a739-4eff-a64c-fc0b98812346",
   "metadata": {},
   "source": [
    "Let's query the results."
   ]
  },
  {
   "cell_type": "code",
   "execution_count": 20,
   "id": "a20b6e7e-32c9-46af-a40e-5977028159ca",
   "metadata": {
    "scrolled": true
   },
   "outputs": [],
   "source": [
    "if search_engine == 'encherespubliques':\n",
    "    print(spider.resultats.shape)\n",
    "    display(spider.resultats.head(3).T)"
   ]
  },
  {
   "cell_type": "code",
   "execution_count": 21,
   "id": "3eb1d2bb-0a1b-42e0-982d-1f9a3781180d",
   "metadata": {},
   "outputs": [],
   "source": [
    "if search_engine == 'encherespubliques':\n",
    "    pass\n",
    "    #spider.affaire = spider.encheres[(spider.encheres['resultat'] == 'ADJUGE') & (spider.encheres['prix_adjuge'] < 1.2 * spider.encheres['mise_a_prix'])]\n",
    "    #print(spider.affaire.shape)\n",
    "    #display(spider.affaire.head().T)"
   ]
  },
  {
   "cell_type": "code",
   "execution_count": 22,
   "id": "4dde350e-3929-4eae-a8d7-5e4e0a3f3acf",
   "metadata": {},
   "outputs": [],
   "source": [
    "if search_engine == 'encherespubliques':\n",
    "    pass\n",
    "    #display(spider.affaire.head())"
   ]
  },
  {
   "cell_type": "code",
   "execution_count": 23,
   "id": "236c0610-6e7f-4aae-9e58-56d7a5d6329c",
   "metadata": {
    "scrolled": true
   },
   "outputs": [],
   "source": [
    "if search_engine == 'encherespubliques':\n",
    "    filename = f'/home/data/property_scraper/demos/downloads/{search_engine}/{search_engine}_resultats.parquet'\n",
    "    spider.resultats.to_parquet(filename)"
   ]
  },
  {
   "cell_type": "markdown",
   "id": "e97b3044-9758-4330-85aa-d38d3cd874cc",
   "metadata": {},
   "source": [
    "## Data Post Processing"
   ]
  },
  {
   "cell_type": "code",
   "execution_count": 24,
   "id": "7e86bf81-b592-49f4-9806-df0daf1f9b66",
   "metadata": {
    "scrolled": true
   },
   "outputs": [
    {
     "name": "stdout",
     "output_type": "stream",
     "text": [
      "dict_keys(['name', 'credentials', 'workbook_id', 'folder', 'JSON filename', 'search excel filename', 'search CSV filename', 'search parquet filename', 'search by location CSV filename', 'search by location parquet filename', 'search pattern', 'search property excel filename', 'search property CSV filename', 'search property parquet filename', 'search property pattern', 'property excel filename', 'property CSV filename', 'property parquet filename', 'property pattern', 'output folder', 'geo.iproyal.com', 'recrowd', 'astagiudiziaria', 'astainsieme', 'astalegale', 'astegiudiziarie', 'asteravenna', 'astetelematiche', 'avvisinotarili', 'canaleaste', 'idealista', 'iqera', 'immobiliare', 'encherespubliques', 'infoencheres', 'licitor', 'pvp', 'quimmo', 'repubblica', 'subito', 'tribunale_laspezia', 'tribunale_savona', 'trovoaste', 'trovocasa'])\n"
     ]
    }
   ],
   "source": [
    "rc_filename = os.path.expanduser('~/property_scraper.json')\n",
    "with open(rc_filename, 'r') as f:\n",
    "    configuration = json.load(f)\n",
    "    print(configuration.keys())"
   ]
  },
  {
   "cell_type": "code",
   "execution_count": 25,
   "id": "9ac4f33c-6f08-4d53-9698-ef9c2aee3b31",
   "metadata": {
    "tags": []
   },
   "outputs": [
    {
     "name": "stdout",
     "output_type": "stream",
     "text": [
      "/home/data/property_scraper/demos/licitor_pastsearch_2023-07-17T17-58-25.csv\n",
      "/home/data/property_scraper/demos/licitor_search_2023-09-26T07-47-25.csv\n",
      "/home/data/property_scraper/demos/licitor_pastsearch_2023-09-26T07-49-15.csv\n",
      "/home/data/property_scraper/demos/licitor_search_2023-07-17T17-58-15.csv\n"
     ]
    }
   ],
   "source": [
    "filenames = glob(f'/home/data/property_scraper/demos/{search_engine}_*.csv')\n",
    "print('\\n'.join(filenames))\n",
    "#'/home/data/property_scraper/demos/infoencheres_search.csv'"
   ]
  },
  {
   "cell_type": "markdown",
   "id": "4c023479-eec1-43e4-a2fd-d2212755bbf3",
   "metadata": {
    "tags": []
   },
   "source": [
    "## Search property"
   ]
  },
  {
   "cell_type": "markdown",
   "id": "dcfea45b-9bcc-4bd3-bf0a-87f8ee2ad0a8",
   "metadata": {},
   "source": [
    "### Past Search"
   ]
  },
  {
   "cell_type": "code",
   "execution_count": 28,
   "id": "e9fabbca-dae0-455f-b8f2-f9c4da743c1d",
   "metadata": {
    "tags": []
   },
   "outputs": [],
   "source": [
    "if search_engine != 'licitor':\n",
    "    _filenames = sorted(glob(f'/home/data/property_scraper/demos/{search_engine}_pastsearchproperty_*.csv'))\n",
    "    filenames = [x for x in _filenames if os.stat(x).st_size > 0]\n",
    "    print('\\n'.join(filenames))\n",
    "    #'/home/data/property_scraper/demos/infoencheres_search.csv'"
   ]
  },
  {
   "cell_type": "code",
   "execution_count": 29,
   "id": "dd9993e5-e032-4684-bb47-64c14e25cfbc",
   "metadata": {
    "tags": []
   },
   "outputs": [],
   "source": [
    "if search_engine != 'licitor':\n",
    "    search_past = pd.read_csv(filenames[-1])\n",
    "    print(search_past.shape)\n",
    "    display(search_past.head(3).T)"
   ]
  },
  {
   "cell_type": "markdown",
   "id": "d79fb479-297d-437b-b1ac-d829c99c6c3e",
   "metadata": {},
   "source": [
    "### Future Search"
   ]
  },
  {
   "cell_type": "code",
   "execution_count": 30,
   "id": "0108d3a2-3681-4ee3-b7c9-7ee072f0e643",
   "metadata": {},
   "outputs": [],
   "source": [
    "if search_engine != 'licitor':\n",
    "    _filenames = sorted(glob(f'/home/data/property_scraper/demos/{search_engine}_searchproperty_*.csv'))\n",
    "    filenames = [x for x in _filenames if os.stat(x).st_size > 0]\n",
    "    print('\\n'.join(filenames))\n",
    "    #'/home/data/property_scraper/demos/infoencheres_search.csv'"
   ]
  },
  {
   "cell_type": "code",
   "execution_count": 31,
   "id": "a7dea7dc-e93c-40bf-a600-dc6c9aeb3f04",
   "metadata": {
    "tags": []
   },
   "outputs": [],
   "source": [
    "if search_engine != 'licitor':\n",
    "    search_future = pd.read_csv(filenames[-1])\n",
    "    print(search_future.shape)\n",
    "    display(search_future.head(3).T)"
   ]
  },
  {
   "cell_type": "markdown",
   "id": "be231ef0-3d56-44d6-ba17-885b09b2cbd0",
   "metadata": {},
   "source": [
    "### All Searches"
   ]
  },
  {
   "cell_type": "code",
   "execution_count": 32,
   "id": "11427f0d-e08a-413d-a6fd-2a7926b468b7",
   "metadata": {
    "tags": []
   },
   "outputs": [],
   "source": [
    "if search_engine != 'licitor':\n",
    "    _search = pd.concat([search_past, search_future])\n",
    "    print(_search.shape)\n",
    "    _search = _search.dropna().dropna(axis=1)\n",
    "    print(_search.shape)\n",
    "    _search = _search.drop_duplicates()\n",
    "    print(_search.shape)\n",
    "    display(_search.head(3).T)"
   ]
  },
  {
   "cell_type": "code",
   "execution_count": 33,
   "id": "6af9895e-5fc8-4e3f-99de-2030ff293121",
   "metadata": {
    "tags": []
   },
   "outputs": [],
   "source": [
    "if search_engine != 'licitor':\n",
    "    ofilename = f'/home/data/property_scraper/demos/{search_engine}_searchproperty.parquet' \n",
    "    #filenames[-1].replace('.csv', '.parquet')\n",
    "    print(ofilename)\n",
    "    _search.to_parquet(ofilename)"
   ]
  },
  {
   "cell_type": "markdown",
   "id": "c3b1d1b3-5f70-488e-ad3b-628542f1f9b7",
   "metadata": {
    "tags": []
   },
   "source": [
    "## Property"
   ]
  },
  {
   "cell_type": "code",
   "execution_count": 35,
   "id": "816229c2-9f6f-4e7e-a1c8-75237097db0d",
   "metadata": {
    "tags": []
   },
   "outputs": [
    {
     "name": "stdout",
     "output_type": "stream",
     "text": [
      "\n"
     ]
    }
   ],
   "source": [
    "_filenames = sorted(glob(f'/home/data/property_scraper/demos/{search_engine}_property_*.csv'))\n",
    "filenames = [x for x in _filenames if os.stat(x).st_size > 0]\n",
    "print('\\n'.join(filenames))"
   ]
  },
  {
   "cell_type": "markdown",
   "id": "432703b8-f7b7-443d-a9c5-9a9ae99abc96",
   "metadata": {},
   "source": [
    "# It must be replaced with a concatenate approach!"
   ]
  },
  {
   "cell_type": "code",
   "execution_count": 36,
   "id": "03a72da4-d882-4cd3-8868-539fec6360a8",
   "metadata": {
    "scrolled": true,
    "tags": []
   },
   "outputs": [
    {
     "ename": "IndexError",
     "evalue": "list index out of range",
     "output_type": "error",
     "traceback": [
      "\u001b[0;31m---------------------------------------------------------------------------\u001b[0m",
      "\u001b[0;31mIndexError\u001b[0m                                Traceback (most recent call last)",
      "Cell \u001b[0;32mIn[36], line 1\u001b[0m\n\u001b[0;32m----> 1\u001b[0m _property \u001b[38;5;241m=\u001b[39m pd\u001b[38;5;241m.\u001b[39mread_csv(\u001b[43mfilenames\u001b[49m\u001b[43m[\u001b[49m\u001b[38;5;241;43m-\u001b[39;49m\u001b[38;5;241;43m1\u001b[39;49m\u001b[43m]\u001b[49m)\n\u001b[1;32m      2\u001b[0m \u001b[38;5;28mprint\u001b[39m(_property\u001b[38;5;241m.\u001b[39mshape)\n\u001b[1;32m      3\u001b[0m _property \u001b[38;5;241m=\u001b[39m _property\u001b[38;5;241m.\u001b[39mdrop_duplicates()\n",
      "\u001b[0;31mIndexError\u001b[0m: list index out of range"
     ]
    }
   ],
   "source": [
    "_property = pd.read_csv(filenames[-1])\n",
    "print(_property.shape)\n",
    "_property = _property.drop_duplicates()\n",
    "print(_property.shape)\n",
    "display(_property.tail(3).T)"
   ]
  },
  {
   "cell_type": "code",
   "execution_count": null,
   "id": "306b2e39-105b-426b-a071-3296fc48a87b",
   "metadata": {},
   "outputs": [],
   "source": [
    "property = pd.merge(_property, _search.drop(['property_type', 'date_of_sale', 'lawyer', 'price'], axis=1), how='outer', on=['ref'])\n",
    "print(_property.shape, _search.shape, property.shape)\n",
    "property = property.sort_values(by=['ref'])\n",
    "property = property.rename(columns=InfoEncheresColumns.NAMES)\n",
    "for cid in PropertyStore.COLUMNS:\n",
    "    if cid not in property.columns:\n",
    "        property[cid] = None\n",
    "property = property.set_index(['Référence'])"
   ]
  },
  {
   "cell_type": "code",
   "execution_count": null,
   "id": "95414603-cf6b-4125-999a-a91a3ef27d11",
   "metadata": {},
   "outputs": [],
   "source": [
    "from price_parser import Price\n",
    "property['Chiffre de Prix'] = property['Mise à Prix'].apply(lambda x: Price.fromstring(x).amount_float)"
   ]
  },
  {
   "cell_type": "code",
   "execution_count": null,
   "id": "ec110cf2-39a1-4095-bfdf-3ebc728feeb9",
   "metadata": {},
   "outputs": [],
   "source": [
    "if 0 == 1:\n",
    "    property['Département'] = property['Département'].fillna(0).astype(int)\n",
    "    property[\"Numéro de Téléphone de l'Avocat\"] = property[\"Numéro de Téléphone de l'Avocat\"].str.replace('.', ' ')\n",
    "    EXTRA_PRICE_WORDS = [\n",
    "        ' Avec faculté de baisse du quart puis de moitié',\n",
    "        \" Avec faculté de baisse d'une fois à défaut d'enchérisseur\",\n",
    "        \" Avec baisse de mise à prix de deux fois 5000 euros, à défaut d'enchères\",\n",
    "        \" Faculté de baisse de mise à prix d’un quart à défaut d’enchères.\",\n",
    "        \" Avec faculté de baisse d'un quart puis de moitié\",\n",
    "        \" Avec baisse d'un quart puis de moitié\",\n",
    "        \" avec faculté de baisse d’un tiers et de moitié.\",\n",
    "        ' vec possibilité de baisse de mise à prix DU QUART en cas de désertion d’enchère.',\n",
    "        ' Précision faite qu’en cas de carence d’enchère, cette mise à prix sera baissée d’un quart (135\\xa0000) puis de moitié (90\\xa0000)',\n",
    "        \" En cas de carence d'enchère, la mise à prix sera baissée successivement pour atteindre la somme initiale prévue au Cahier des conditions de la vente.\",\n",
    "        ' avec baisse de mise à prix à 50000 euros, outre charges.',\n",
    "        ' Avec possibilité de baisse de un quart à défaut d’enchères.',\n",
    "        ' Avec possibilité de baisse d’un quart à défaut d’enchères.',\n",
    "        \" Etant précisé qu'en cas de carence d'enchère, la mise à prix sera baissée successivement pour atteindre la somme prévue initiale au Cahier des Conditions (article R 322-47 du code des Procédures Civiles d'Exécution)\",\n",
    "        ' Etant précisé qu’en cas de carence d’enchère, la mise à prix sera baissée successivement pour atteindre la somme initiale prévue au Cahier des Conditions (article R 322-47 du Code des Procédures Civiles d’Exécution).',\n",
    "        \" LES FRAIS faits pour parvenir à la vente et ceux d'adjudication sont payables en sus du prix par l'adjudicataire dans les délais prévus au Cahier des Conditions de Vente.\",\n",
    "        ' avec faculté de baisse d’1/4 faute d’enchères',\n",
    "        ' Avec possibilité de baisse du quart',\n",
    "        ' Avec faculté de baisse du quart',\n",
    "        \" avec faculté de baisse d'un quart\",\n",
    "        \" Avec possibilité de baisse de moitié à défaut d'enchères soit 7500 euros\",\n",
    "        \" avec possibilité de baisse de mise à prix du quart en cas de désertion d'enchères\",\n",
    "        ' avec possibilité de baisse de mise à prix\\xa0à 38 000 euros',\n",
    "        ', clauses et conditions du cahier des conditions de la vente',\n",
    "        ' et clauses du cahier des conditions de vente',\n",
    "        \" Avec faculté de baisse d'un quart à défaut d'enchères\",\n",
    "        ' AVEC FACULTE DE BAISSE DU QUART PUIS DE MOITIE',\n",
    "        \" Avec faculté de baisse séance tenante du quart puis de moitié en cas de carence d'enchères\",\n",
    "        \" Avec possibilité de baisse de la mise à prix du quart ou de la moitié en cas de carence d'enchères\",\n",
    "        \" Avec faculté de baisse séance tenant du quart puis de moitié en cas de carence d'enchères\",\n",
    "        \", clauses du cahier des conditions de la vente, avec faculté de baisse d'un quart puis de la moitié en cas de carence d'enchères\",\n",
    "        ' avec faculté de baisse d’un QUART puis de MOITIÉ en cas de carence d’enchère',\n",
    "        \" Avec faculté de baisse séance tenante du quart puis de moitié en cas de carences d'enchères\",\n",
    "        \" en cas de carence d'enchères\",\n",
    "        \" en cas de carence d'enchère\",\n",
    "        ' Après surenchère du dixième', '557 700 Après surenchère',\n",
    "        ' Outre les charges, clauses et conditions énoncées au cahier des conditions de vente',\n",
    "        ' Avec faculté de baisse par dixième',\n",
    "        ' et clauses du cahier des conditions de de vente',\n",
    "        ' en cas de carence d’enchère',\n",
    "        ', clauses et conditions énoncées au cahier des conditions de vente payable en sus du prix de vente',\n",
    "        ' frais de poursuites payables en sus outre la TVA le cas échéant',\n",
    "        ' Frais de poursuites payables en sus',\n",
    "        \" avec faculté de baisse de deux fois un quart du prix à défaut d'enchérisseurs\",\n",
    "        \" Les frais de poursuites sont payables en sus du prix d'adjudication outre la TVA le cas échéant\",\n",
    "        ' Outre charges',\n",
    "        ' Outre frais',\n",
    "        ' Frais en sus',\n",
    "        #' €',\n",
    "        #' '\n",
    "    ]\n",
    "    for v in EXTRA_PRICE_WORDS:\n",
    "        property['Mise à Prix'] = property['Mise à Prix'].str.replace(v, '', case=False)\n",
    "    #property['Mise à Prix'] = property['Mise à Prix'].str.replace(' ', '')\n",
    "    #property['Mise à Prix'] = property['Mise à Prix'].fillna(0).astype(float)"
   ]
  },
  {
   "cell_type": "code",
   "execution_count": null,
   "id": "3c6b33e9-ef6e-442e-879a-4cbe63669198",
   "metadata": {},
   "outputs": [],
   "source": [
    "#_df = property[~property['Mise à Prix'].str.contains('[^a-zA-Z]$')]['Mise à Prix'].unique()\n",
    "#print(len(_df))\n",
    "#display(_df)"
   ]
  },
  {
   "cell_type": "code",
   "execution_count": null,
   "id": "f50f161e-7917-49a2-9390-9adf13b77c81",
   "metadata": {},
   "outputs": [],
   "source": []
  },
  {
   "cell_type": "code",
   "execution_count": null,
   "id": "a4703e98-3876-486f-bba6-b3e34ecbba92",
   "metadata": {},
   "outputs": [],
   "source": []
  },
  {
   "cell_type": "code",
   "execution_count": null,
   "id": "88e6a48c-92ea-42d2-90e2-dad06a6b4d81",
   "metadata": {
    "tags": []
   },
   "outputs": [],
   "source": [
    "ofilename = f'/home/data/property_scraper/demos/{search_engine}_property.parquet'\n",
    "print(ofilename)\n",
    "property.to_parquet(ofilename)"
   ]
  },
  {
   "cell_type": "code",
   "execution_count": null,
   "id": "fcf326f4-c393-45de-9e4d-6850f8fc35d3",
   "metadata": {
    "scrolled": true
   },
   "outputs": [],
   "source": [
    "if 0 == 1:\n",
    "    search_store = SearchStore(name=configuration['name'], \n",
    "                    credentials=os.path.expanduser(configuration['credentials']), \n",
    "                    workbook_id=configuration[f'{search_engine}']['property']['workbook_id'])\n",
    "    property.to_gsheet(sheetname=configuration[f'{search_engine}']['property']['sheetname'], \n",
    "                       bylocation_sheetname=None)"
   ]
  },
  {
   "cell_type": "code",
   "execution_count": null,
   "id": "f2d90444-9323-43da-bfeb-1f26c71bef59",
   "metadata": {},
   "outputs": [],
   "source": [
    "property.to_excel('/home/data/property_scraper/demos/infoencheres_property.xlsx', index=True)"
   ]
  },
  {
   "cell_type": "code",
   "execution_count": null,
   "id": "89644b7d-304f-4828-aa70-374a6b4b8dc7",
   "metadata": {},
   "outputs": [],
   "source": [
    "property.head(1).T"
   ]
  },
  {
   "cell_type": "code",
   "execution_count": null,
   "id": "cc1cc559-c690-448f-9e65-9e4f08d8a334",
   "metadata": {},
   "outputs": [],
   "source": [
    "print(configuration[f'{search_engine}']['property']['workbook_id'])\n",
    "print(configuration[f'{search_engine}']['property']['sheetname'])"
   ]
  },
  {
   "cell_type": "code",
   "execution_count": null,
   "id": "29d9e036-d386-4c2e-ac99-315f96d567d0",
   "metadata": {},
   "outputs": [],
   "source": [
    "display(property[~pd.isnull(property['actual_sale_price'])].tail(3).T)"
   ]
  },
  {
   "cell_type": "code",
   "execution_count": null,
   "id": "827e2678-db28-4765-acff-9089073d678d",
   "metadata": {
    "scrolled": true
   },
   "outputs": [],
   "source": [
    "display(property[~pd.isnull(property['file_urls'])].tail(3).T)"
   ]
  },
  {
   "cell_type": "markdown",
   "id": "30cca10e-abf8-4510-aedf-396b0ce04a7c",
   "metadata": {},
   "source": [
    "## Data Exploration"
   ]
  },
  {
   "cell_type": "code",
   "execution_count": null,
   "id": "8fa8e502-24b3-4978-9496-8b26836a13ac",
   "metadata": {},
   "outputs": [],
   "source": [
    "id = 5117"
   ]
  },
  {
   "cell_type": "code",
   "execution_count": null,
   "id": "b386bad1-4714-4369-98b9-8f9e42272c21",
   "metadata": {},
   "outputs": [],
   "source": [
    "search.shape"
   ]
  },
  {
   "cell_type": "code",
   "execution_count": null,
   "id": "9bf9ef8c-284e-4c43-b9d2-66c798ada794",
   "metadata": {},
   "outputs": [],
   "source": [
    "display(search[search['ref'] == id].T)"
   ]
  },
  {
   "cell_type": "code",
   "execution_count": null,
   "id": "247c1395-1677-497d-aaf3-8ed69cfef331",
   "metadata": {},
   "outputs": [],
   "source": [
    "display(property[property['ref'] == id].T)"
   ]
  },
  {
   "cell_type": "code",
   "execution_count": null,
   "id": "297d1c2a-f2e8-44bd-a4d0-a9d9240cbb80",
   "metadata": {},
   "outputs": [],
   "source": [
    "text = property[property['ref'] == id]['description']\n",
    "print(text)"
   ]
  },
  {
   "cell_type": "code",
   "execution_count": null,
   "id": "fcbaeadf-2cdb-4069-8dc4-346fd229c0e8",
   "metadata": {},
   "outputs": [],
   "source": []
  }
 ],
 "metadata": {
  "kernelspec": {
   "display_name": "Python 3.11 (py311)",
   "language": "python",
   "name": "py311"
  },
  "language_info": {
   "codemirror_mode": {
    "name": "ipython",
    "version": 3
   },
   "file_extension": ".py",
   "mimetype": "text/x-python",
   "name": "python",
   "nbconvert_exporter": "python",
   "pygments_lexer": "ipython3",
   "version": "3.11.0"
  }
 },
 "nbformat": 4,
 "nbformat_minor": 5
}
