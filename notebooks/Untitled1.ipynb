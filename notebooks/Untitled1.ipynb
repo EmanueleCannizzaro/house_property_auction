{
 "cells": [
  {
   "cell_type": "code",
   "execution_count": 14,
   "id": "2e4135fe-d713-4340-bfec-99b48db49a04",
   "metadata": {},
   "outputs": [],
   "source": [
    "from bs4 import BeautifulSoup\n",
    "import requests\n",
    "\n",
    "from property_scraper import DEFAULT_HTML_PARSER, RIGHTMOVE_URL_ROOTNAME, add_classes"
   ]
  },
  {
   "cell_type": "code",
   "execution_count": 72,
   "id": "c38ca77e-dc0d-40fd-aea5-4e50415c87ed",
   "metadata": {},
   "outputs": [],
   "source": [
    "#url = \"https://www.rightmove.co.uk/property-for-sale/find.html?locationIdentifier=REGION%5E219&minBedrooms=1&sortType=1&propertyTypes=&includeSSTC=false&mustHave=&dontShow=&furnishTypes=&keywords=\"\n",
    "#url = 'https://www.rightmove.co.uk/property-for-sale/find.html?locationIdentifier=REGION%5E219&minBedrooms=2&maxPrice=125000&minPrice=20000&propertyTypes=detached%2Cflat%2Csemi-detached%2Cterraced&includeSSTC=false&mustHave=&dontShow=&furnishTypes=&keywords='\n",
    "url = 'https://www.rightmove.co.uk/property-for-sale/find.html?locationIdentifier=REGION%5E219&minBedrooms=1&sortType=1&propertyTypes=&includeSSTC=false&mustHave=&dontShow=&furnishTypes=&keywords='\n",
    "#url = \"https://www.rightmove.co.uk/properties/130942031#/?channel=RES_BUY\""
   ]
  },
  {
   "cell_type": "code",
   "execution_count": 73,
   "id": "5ccfe8ca-1d0a-4a7a-bc1c-8cd5182e2145",
   "metadata": {},
   "outputs": [],
   "source": [
    "r = requests.get(url)\n",
    "# Requests to scrape lots of pages eventually get status 400, so:\n",
    "if r.status_code != 200:\n",
    "    raise ValueError('The request status code is {r.status_code}.')"
   ]
  },
  {
   "cell_type": "code",
   "execution_count": 74,
   "id": "83ae5f60-9905-4e27-b729-f2c52123d869",
   "metadata": {},
   "outputs": [
    {
     "data": {
      "text/plain": [
       "200"
      ]
     },
     "execution_count": 74,
     "metadata": {},
     "output_type": "execute_result"
    }
   ],
   "source": [
    "r.status_code"
   ]
  },
  {
   "cell_type": "code",
   "execution_count": 88,
   "id": "3f51a9e5-441b-4b56-a9f1-802086de376c",
   "metadata": {},
   "outputs": [
    {
     "name": "stdout",
     "output_type": "stream",
     "text": [
      "'3 bedroom terraced house for sale in Scandrett Close, Henbury, Bristol, BS10.html'\n",
      "'Properties For Sale in BS10 _ Rightmove_01.html'\n",
      "'Properties For Sale in BS10 _ Rightmove_02.html'\n",
      "'Properties For Sale in BS10 _ Rightmove_03.html'\n",
      "'Properties For Sale in BS10 _ Rightmove_04.html'\n",
      "'Properties For Sale in BS10 _ Rightmove_05.html'\n"
     ]
    }
   ],
   "source": [
    "!ls ../data/rightmove/BS10\n",
    "#r.content"
   ]
  },
  {
   "cell_type": "code",
   "execution_count": 106,
   "id": "4e5092e7-b837-49fe-9a29-549355817cbe",
   "metadata": {},
   "outputs": [],
   "source": [
    "filename = '../data/rightmove/BS10/Properties For Sale in BS10 _ Rightmove_01.html'\n",
    "with open(filename, 'r') as f:\n",
    "    content = f.read()"
   ]
  },
  {
   "cell_type": "code",
   "execution_count": 107,
   "id": "c7a58074-f3f3-409b-a6f2-3513c2eab726",
   "metadata": {},
   "outputs": [],
   "source": [
    "soup = BeautifulSoup(content, 'html.parser')"
   ]
  },
  {
   "cell_type": "code",
   "execution_count": 108,
   "id": "fd9d392c-cfe1-4e19-bdab-fc2ebffe6c1e",
   "metadata": {},
   "outputs": [],
   "source": [
    "blocks = soup.find_all(\"id\", \"root\")\n",
    "x = 0\n",
    "for block in blocks:\n",
    "    for child in block.children:\n",
    "        strings = child.stripped_strings\n",
    "        txt = ''\n",
    "        for string in strings:\n",
    "            txt += string + \", \"\n",
    "        if txt:\n",
    "            print(f'{ix} -> {txt}\\n')\n",
    "    ix += 1 "
   ]
  },
  {
   "cell_type": "code",
   "execution_count": 109,
   "id": "c55bb564-9bdb-4e96-820f-fd60e85d942b",
   "metadata": {},
   "outputs": [
    {
     "data": {
      "text/plain": [
       "[]"
      ]
     },
     "execution_count": 109,
     "metadata": {},
     "output_type": "execute_result"
    }
   ],
   "source": [
    "#TAGS = ['div', 'a', 'h1', 'h2', 'address', 'span']\n",
    "informations = soup.find_all(\"div\", {\"class\" : \"property-information\"})\n",
    "#print([x.string for x in informations])\n",
    "informations\n",
    "soup.find_all(\"div\", {\"class\" : \"property-information\"})"
   ]
  },
  {
   "cell_type": "code",
   "execution_count": 96,
   "id": "66279938-21c5-460d-a2b7-38672ba2d158",
   "metadata": {},
   "outputs": [],
   "source": [
    "def get_all_tags(soup):\n",
    "    blocks = soup.find_all(None)\n",
    "    \n",
    "    _classes = set()\n",
    "    _names = set()\n",
    "    for child in soup.findChildren(None, recursive=True):\n",
    "        #print(child.tag)\n",
    "        _names.add(child.name)\n",
    "        add_classes(_classes, child, [])\n",
    "    #for key in _classes.keys():\n",
    "    #    print(key, len(_classes[key]), sorted(_classes[key]))\n",
    "    print(sorted(_names), '\\n')\n",
    "    \n",
    "    print(len(_classes), sorted(_classes))"
   ]
  },
  {
   "cell_type": "code",
   "execution_count": 97,
   "id": "d02fa112-8d09-44a8-99c3-24cdaef2a1ff",
   "metadata": {},
   "outputs": [
    {
     "name": "stdout",
     "output_type": "stream",
     "text": [
      "['a', 'address', 'b', 'body', 'button', 'circle', 'defs', 'div', 'ellipse', 'form', 'g', 'h1', 'h2', 'h3', 'h4', 'head', 'header', 'html', 'iframe', 'img', 'input', 'label', 'li', 'link', 'mask', 'meta', 'nav', 'noscript', 'optgroup', 'option', 'p', 'path', 'rect', 'script', 'select', 'span', 'style', 'svg', 'symbol', 'title', 'ul', 'use'] \n",
      "\n",
      "322 ['account-link', 'addedToSiteAndLetType', 'addedToSiteAndLetType-flexSpaceWrapper', 'addedToSiteAndLetType-flexSpacer', 'aocls-1', 'aspect-3x2', 'autocomplete-suggestions-underlay', 'bkst0', 'blst0', 'bmst0', 'bnst0', 'bost0', 'bpst0', 'bqst0', 'brst0', 'button', 'button--full', 'button--primary', 'buy', 'bvst0', 'camera', 'cecls-1', 'channel--buy', 'clear', 'close-button', 'close-button-svg', 'commercial', 'commercial-tray', 'enhancedZeroResults-body', 'enhancedZeroResults-message', 'enhancedZeroResults-title', 'filter-tray-underlay', 'filter-tray-underlay-header', 'filters-action', 'filters-action--clear', 'filters-action--submit', 'filters-actions', 'filters-dropdown', 'filters-dropdown--double', 'filters-label', 'filters-location', 'filters-selectWrapper', 'filters-suggestions', 'filters-text', 'filters-totalResults', 'filters-totalResultsCount', 'filtersBar', 'filtersBar-bedrooms', 'filtersBar-filter', 'filtersBar-location', 'filtersBar-more', 'filtersBar-moreText', 'filtersBar-price', 'filtersBar-propertyType', 'filtersBar-propertyTypeWrapper', 'filtersBar-radius', 'filtersTray', 'filtersTray-addedToSiteAndStatus', 'filtersTray-bedrooms', 'filtersTray-content', 'filtersTray-dropdown', 'filtersTray-filter', 'filtersTray-price', 'filtersTray-propertyType', 'filtersTray-radius', 'find-agent', 'fraud-advice', 'fraud-arrow', 'fraud-body', 'fraud-header', 'fraud-link', 'fsw-saved-search-var-a-enabled', 'globalFooter', 'globalFooter-chevron', 'globalFooter-cities', 'globalFooter-citiesHeader', 'globalFooter-citiesSelect', 'globalFooter-citiesSelectWrapper', 'globalFooter-legal', 'globalFooter-legalLink', 'globalFooter-legalLink--secondary', 'globalFooter-legalTitle', 'globalFooter-menu', 'globalFooter-menuFooter', 'globalFooter-menuGroup', 'globalFooter-menuGroupHeader', 'globalFooter-menuGroupHeader-checkbox', 'globalFooter-subMenu', 'globalFooter-subMenuItem', 'globalFooter-subMenuItem--secondary', 'globalFooter-subMenuItem-black', 'globalFooter-subMenuLink', 'header-rebranding', 'house-prices', 'hst0', 'icon-calc', 'info-lozenge', 'input', 'input--full', 'inspire', 'is-hidden', 'is-list', 'is-not-modern', 'keyword', 'ksc_info-lozenge', 'l-container', 'l-filters', 'l-filtersBar', 'l-filtersBar-container', 'l-propertySearch', 'l-propertySearch-enhanced-zero-results', 'l-propertySearch-enhancedZeroResultsContent', 'l-propertySearch-header', 'l-propertySearch-headerContent', 'l-propertySearch-keywords', 'l-propertySearch-keywordsContent', 'l-propertySearch-main', 'l-propertySearch-paginationAndSearchFooter', 'l-propertySearch-paginationWrapper', 'l-propertySearch-results', 'l-propertySearch-sidebar', 'l-propertySearch-title', 'l-propertySearch-titleWrapper', 'l-searchResult', 'l-searchResults', 'link-item', 'linkBox', 'linkBox-body', 'linkBox-bodyLink', 'linkBox-header', 'links-group', 'links-group-header', 'links-group-list', 'links-group-list-open', 'main', 'mobile-autocomplete-suggestions', 'mortgage-ad', 'mortgage-ad-and-image', 'mortgage-disclaimer', 'mortgage-header', 'mortgage-intro', 'mortgage-link-box', 'mortgage-widget', 'no-svg-DAS', 'no-svg-arrow', 'no-svg-awaiting-image', 'no-svg-camera', 'no-svg-chevron', 'no-svg-chevron-line', 'no-svg-close', 'no-svg-envelope', 'no-svg-floorplan', 'no-svg-heart-saved', 'no-svg-heart-unsaved', 'no-svg-list-icon', 'no-svg-map-pointer-icon', 'no-svg-phone', 'no-svg-virtualtour', 'optanon-show-settings-button', 'optanon-toggle-display', 'overseas', 'property-for-sale', 'property-hide-button', 'property-hide-button-square', 'property-hide-button-x', 'property-tray-underlay', 'property-tray-underlay-header', 'propertyCard', 'propertyCard--featured', 'propertyCard--premium', 'propertyCard-additionalImg', 'propertyCard-additionalImg--gridLayout', 'propertyCard-additionalImgs', 'propertyCard-address', 'propertyCard-anchor', 'propertyCard-awaitingImage', 'propertyCard-branchLogo', 'propertyCard-branchLogo-image', 'propertyCard-branchLogo-link', 'propertyCard-branchSummary', 'propertyCard-branchSummary-addedOrReduced', 'propertyCard-branchSummary-branchName', 'propertyCard-carousel', 'propertyCard-contactButton', 'propertyCard-contactButton--phone', 'propertyCard-contactButtonIcon', 'propertyCard-contactButtonIcon--envelope', 'propertyCard-contactButtonIcon--phone', 'propertyCard-contacts', 'propertyCard-contactsAddedOrReduced', 'propertyCard-contactsItem', 'propertyCard-contactsItem--save', 'propertyCard-contactsItemDetails', 'propertyCard-contactsItemDetails--email', 'propertyCard-contactsItemDetails--phone', 'propertyCard-contactsPhoneNumber', 'propertyCard-contactsPhoneRates', 'propertyCard-content', 'propertyCard-cutout', 'propertyCard-description', 'propertyCard-details', 'propertyCard-detailsFooter', 'propertyCard-fadeOut', 'propertyCard-header', 'propertyCard-headerLabel', 'propertyCard-headerLink', 'propertyCard-images', 'propertyCard-img', 'propertyCard-img-link', 'propertyCard-keywordTag', 'propertyCard-keywordTags', 'propertyCard-keywords', 'propertyCard-keywordsContainer', 'propertyCard-keywordsFeaturedProperty', 'propertyCard-link', 'propertyCard-main-img', 'propertyCard-main-img-mask', 'propertyCard-moreInfo', 'propertyCard-moreInfoFeaturedTitle', 'propertyCard-moreInfoIcon', 'propertyCard-moreInfoItem', 'propertyCard-moreInfoMeta', 'propertyCard-moreInfoNumber', 'propertyCard-price', 'propertyCard-priceContacts', 'propertyCard-priceLink', 'propertyCard-priceQualifier', 'propertyCard-priceValue', 'propertyCard-salePrice', 'propertyCard-save', 'propertyCard-save--saved', 'propertyCard-save--unsaved', 'propertyCard-section', 'propertyCard-tag', 'propertyCard-tagLink', 'propertyCard-tagLink-chevron', 'propertyCard-tagTitle', 'propertyCard-tagTitle--display-status', 'propertyCard-title', 'propertyCard-wrapper', 'propertySearch-results', 'propertyType-actions', 'rebranded-logo', 'rent', 'saveSearch-btn-mvt', 'search-related-links-column', 'search-related-links-container', 'searchControls', 'searchControls-item', 'searchControls-item--layout', 'searchHeader', 'searchHeader-bar', 'searchHeader-controls', 'searchHeader-resultCount', 'searchHeader-title', 'searchLayoutControls', 'searchLayoutControls-icon', 'searchLayoutControls-icon--map', 'searchLayoutControls-label', 'searchLayoutControls-link', 'searchLayoutControls-link--list', 'searchLayoutControls-link--map', 'searchSidebar', 'searchSidebar-copyright', 'searchSidebar-copyrightLink', 'searchSidebar-drawASearch', 'searchSidebar-drawASearchLink', 'searchSidebar-map', 'searchSidebar-mapIcon', 'searchSidebar-mapLink', 'searchSidebar-mpu', 'searchSidebar-ukCreditCheckSponsorshipAdSlot', 'searchSidebar-widget', 'searchTitle', 'searchTitle-heading', 'select', 'select-chevron', 'select-value', 'select-valuePrefix', 'select-wrapper', 'seo-globalHeader', 'seo-globalHeader-noJavascript', 'seo-header', 'seo-header-container', 'seo-link', 'seo-logo', 'seo-mob-nav-account', 'seo-mob-nav-display-action', 'seo-mob-nav-display-action-svg', 'seo-mob-nav-header', 'seo-mob-nav-home-link', 'seo-mob-nav-home-link-svg', 'seo-mob-nav-link', 'seo-mob-nav-link-group', 'seo-mob-nav-link-group-title', 'seo-mob-nav-modal-content', 'seo-mob-nav-tray-action', 'seo-mob-nav-tray-action-mobile', 'seo-mob-nav-tray-action-mobile-svg', 'seo-nav', 'seo-nav-backdrop', 'seo-nav-item', 'seo-nav-item-user', 'seo-nav-link', 'seo-nav-subNav', 'seo-nav-subNav-background', 'seo-nav-subNav-col', 'seo-nav-subNav-link', 'seo-nav-tray-action', 'sidebarLink', 'sidebarLink-link', 'sidebarLink-linkIcon', 'sign-in-link', 'skipToContent', 'sort-label', 'sort-select', 'sort-selectWrapper', 'sortSelect', 'subNav-reverse', 'unit-size-price-tray-underlay', 'unit-size-price-tray-underlay-header', 'user-text']\n"
     ]
    }
   ],
   "source": [
    "get_all_tags(soup)"
   ]
  },
  {
   "cell_type": "code",
   "execution_count": 11,
   "id": "16aca372-a2fc-4b26-9f71-8f59ca652e8f",
   "metadata": {},
   "outputs": [],
   "source": [
    "for block in blocks:\n",
    "    properties = block.find_all(\"div\", \"propertyCard\")\n",
    "    for p in properties:\n",
    "        bs = BeautifulSoup(str(p), 'xml')\n",
    "        pretty_xml = bs.prettify()\n",
    "        print(pretty_xml)\n",
    "        break"
   ]
  },
  {
   "cell_type": "code",
   "execution_count": null,
   "id": "0459c4d1-e055-4bb9-8596-a182e8e40f47",
   "metadata": {},
   "outputs": [],
   "source": []
  }
 ],
 "metadata": {
  "kernelspec": {
   "display_name": "Python 3.10 (py310)",
   "language": "python",
   "name": "py310"
  },
  "language_info": {
   "codemirror_mode": {
    "name": "ipython",
    "version": 3
   },
   "file_extension": ".py",
   "mimetype": "text/x-python",
   "name": "python",
   "nbconvert_exporter": "python",
   "pygments_lexer": "ipython3",
   "version": "3.10.4"
  }
 },
 "nbformat": 4,
 "nbformat_minor": 5
}
