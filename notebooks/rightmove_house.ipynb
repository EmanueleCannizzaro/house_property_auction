{
 "cells": [
  {
   "cell_type": "code",
   "execution_count": 1,
   "metadata": {},
   "outputs": [],
   "source": [
    "from property_scraper.rightmove_house import House"
   ]
  },
  {
   "cell_type": "code",
   "execution_count": 2,
   "metadata": {},
   "outputs": [],
   "source": [
    "search_URL = \"https://www.rightmove.co.uk/property-for-sale/find.html?minBedrooms=2&includeSSTC=false&keywords=&sortType=2&viewType=LIST&channel=BUY&index=0&maxPrice=150000&radius=0.0&locationIdentifier=REGION%5E94513\""
   ]
  },
  {
   "cell_type": "code",
   "execution_count": 3,
   "metadata": {},
   "outputs": [],
   "source": [
    "house = House(search_URL)"
   ]
  },
  {
   "cell_type": "code",
   "execution_count": 4,
   "metadata": {},
   "outputs": [],
   "source": [
    "#house.page"
   ]
  },
  {
   "cell_type": "code",
   "execution_count": 5,
   "metadata": {},
   "outputs": [
    {
     "name": "stderr",
     "output_type": "stream",
     "text": [
      "100%|███████████████████████████████████████████████████████████████████████████████████████████████████████████████████████████████████████████████████████████████████████████████████████████████████████| 20/20 [00:19<00:00,  1.05it/s]\n"
     ]
    },
    {
     "data": {
      "text/plain": [
       "['https://www.rightmove.co.uk/properties/125508512#/?channel=RES_BUY',\n",
       " 'https://www.rightmove.co.uk/properties/126750833#/?channel=RES_BUY',\n",
       " 'https://www.rightmove.co.uk/properties/123018566#/?channel=RES_BUY',\n",
       " 'https://www.rightmove.co.uk/properties/126663842#/?channel=RES_BUY',\n",
       " 'https://www.rightmove.co.uk/properties/126926543#/?channel=RES_BUY',\n",
       " 'https://www.rightmove.co.uk/properties/126751118#/?channel=RES_BUY',\n",
       " 'https://www.rightmove.co.uk/properties/122243117#/?channel=RES_BUY',\n",
       " 'https://www.rightmove.co.uk/properties/123704576#/?channel=RES_BUY',\n",
       " 'https://www.rightmove.co.uk/properties/126905054#/?channel=RES_BUY',\n",
       " 'https://www.rightmove.co.uk/properties/126904355#/?channel=RES_BUY',\n",
       " 'https://www.rightmove.co.uk/properties/126882464#/?channel=RES_BUY',\n",
       " 'https://www.rightmove.co.uk/properties/126891686#/?channel=RES_BUY',\n",
       " 'https://www.rightmove.co.uk/properties/86523400#/?channel=RES_BUY',\n",
       " 'https://www.rightmove.co.uk/properties/121349270#/?channel=RES_BUY',\n",
       " 'https://www.rightmove.co.uk/properties/126533180#/?channel=RES_BUY',\n",
       " 'https://www.rightmove.co.uk/properties/124314848#/?channel=RES_BUY',\n",
       " 'https://www.rightmove.co.uk/properties/108206408#/?channel=RES_BUY',\n",
       " 'https://www.rightmove.co.uk/properties/125667473#/?channel=RES_BUY',\n",
       " 'https://www.rightmove.co.uk/properties/126931940#/?channel=RES_BUY',\n",
       " 'https://www.rightmove.co.uk/properties/126823082#/?channel=RES_BUY',\n",
       " 'https://www.rightmove.co.uk/properties/124792337#/?channel=RES_BUY',\n",
       " 'https://www.rightmove.co.uk/properties/124192580#/?channel=RES_BUY',\n",
       " 'https://www.rightmove.co.uk/properties/126679427#/?channel=RES_BUY',\n",
       " 'https://www.rightmove.co.uk/properties/126147500#/?channel=RES_BUY',\n",
       " 'https://www.rightmove.co.uk/properties/126114170#/?channel=RES_BUY']"
      ]
     },
     "execution_count": 5,
     "metadata": {},
     "output_type": "execute_result"
    }
   ],
   "source": [
    "house.urls"
   ]
  },
  {
   "cell_type": "code",
   "execution_count": 6,
   "metadata": {},
   "outputs": [
    {
     "name": "stderr",
     "output_type": "stream",
     "text": [
      "100%|███████████████████████████████████████████████████████████████████████████████████████████████████████████████████████████████████████████████████████████████████████████████████████████████████████| 20/20 [00:17<00:00,  1.11it/s]\n"
     ]
    },
    {
     "data": {
      "text/plain": [
       "'https://www.rightmove.co.uk/properties/125508512#/?channel=RES_BUY'"
      ]
     },
     "execution_count": 6,
     "metadata": {},
     "output_type": "execute_result"
    }
   ],
   "source": [
    "house.url = house.urls[0]\n",
    "house.url"
   ]
  },
  {
   "cell_type": "code",
   "execution_count": 7,
   "metadata": {},
   "outputs": [],
   "source": [
    "#house.url = \"https://www.rightmove.co.uk/properties/86492998#/\" # house.URL[0]"
   ]
  },
  {
   "cell_type": "code",
   "execution_count": 8,
   "metadata": {},
   "outputs": [
    {
     "data": {
      "text/plain": [
       "{'URL': 'https://www.rightmove.co.uk/properties/125508512#/?channel=RES_BUY',\n",
       " 'Street Address': 'Shrubbery Avenue, Weston-Super-Mare, North Somerset, BS23',\n",
       " 'Property Type': 'PROPERTY TYPE',\n",
       " 'Bedrooms': 'NA',\n",
       " 'Bathrooms': 'NA',\n",
       " 'Size (sq ft)': 'NA',\n",
       " 'Guide Price': 150000}"
      ]
     },
     "execution_count": 8,
     "metadata": {},
     "output_type": "execute_result"
    }
   ],
   "source": [
    "house.info"
   ]
  },
  {
   "cell_type": "code",
   "execution_count": 9,
   "metadata": {},
   "outputs": [
    {
     "name": "stderr",
     "output_type": "stream",
     "text": [
      "100%|███████████████████████████████████████████████████████████████████████████████████████████████████████████████████████████████████████████████████████████████████████████████████████████████████████| 20/20 [00:23<00:00,  1.17s/it]\n",
      "100%|███████████████████████████████████████████████████████████████████████████████████████████████████████████████████████████████████████████████████████████████████████████████████████████████████████| 25/25 [23:23<00:00, 56.12s/it]\n"
     ]
    },
    {
     "data": {
      "text/html": [
       "<div>\n",
       "<style scoped>\n",
       "    .dataframe tbody tr th:only-of-type {\n",
       "        vertical-align: middle;\n",
       "    }\n",
       "\n",
       "    .dataframe tbody tr th {\n",
       "        vertical-align: top;\n",
       "    }\n",
       "\n",
       "    .dataframe thead th {\n",
       "        text-align: right;\n",
       "    }\n",
       "</style>\n",
       "<table border=\"1\" class=\"dataframe\">\n",
       "  <thead>\n",
       "    <tr style=\"text-align: right;\">\n",
       "      <th></th>\n",
       "      <th>URL</th>\n",
       "      <th>Street Address</th>\n",
       "      <th>Property Type</th>\n",
       "      <th>Bedrooms</th>\n",
       "      <th>Bathrooms</th>\n",
       "      <th>Size (sq ft)</th>\n",
       "      <th>Guide Price</th>\n",
       "    </tr>\n",
       "  </thead>\n",
       "  <tbody>\n",
       "    <tr>\n",
       "      <th>0</th>\n",
       "      <td>https://www.rightmove.co.uk/properties/1255085...</td>\n",
       "      <td>Shrubbery Avenue, Weston-Super-Mare, North Som...</td>\n",
       "      <td>PROPERTY TYPE</td>\n",
       "      <td>NA</td>\n",
       "      <td>NA</td>\n",
       "      <td>NA</td>\n",
       "      <td>150000</td>\n",
       "    </tr>\n",
       "    <tr>\n",
       "      <th>1</th>\n",
       "      <td>https://www.rightmove.co.uk/properties/1267508...</td>\n",
       "      <td>Milton Park Road, BS22</td>\n",
       "      <td>PROPERTY TYPE</td>\n",
       "      <td>NA</td>\n",
       "      <td>NA</td>\n",
       "      <td>NA</td>\n",
       "      <td>150000</td>\n",
       "    </tr>\n",
       "    <tr>\n",
       "      <th>2</th>\n",
       "      <td>https://www.rightmove.co.uk/properties/1230185...</td>\n",
       "      <td>Bransby Way, Weston Super Mare</td>\n",
       "      <td>PROPERTY TYPE</td>\n",
       "      <td>NA</td>\n",
       "      <td>NA</td>\n",
       "      <td>NA</td>\n",
       "      <td>149500</td>\n",
       "    </tr>\n",
       "    <tr>\n",
       "      <th>3</th>\n",
       "      <td>https://www.rightmove.co.uk/properties/1266638...</td>\n",
       "      <td>Poplar Walk, Oaktree Park, Locking, Weston-sup...</td>\n",
       "      <td>PROPERTY TYPE</td>\n",
       "      <td>NA</td>\n",
       "      <td>NA</td>\n",
       "      <td>NA</td>\n",
       "      <td>140000</td>\n",
       "    </tr>\n",
       "    <tr>\n",
       "      <th>4</th>\n",
       "      <td>https://www.rightmove.co.uk/properties/1269265...</td>\n",
       "      <td>NA</td>\n",
       "      <td>NA</td>\n",
       "      <td>NA</td>\n",
       "      <td>NA</td>\n",
       "      <td>NA</td>\n",
       "      <td>125000</td>\n",
       "    </tr>\n",
       "  </tbody>\n",
       "</table>\n",
       "</div>"
      ],
      "text/plain": [
       "                                                 URL  \\\n",
       "0  https://www.rightmove.co.uk/properties/1255085...   \n",
       "1  https://www.rightmove.co.uk/properties/1267508...   \n",
       "2  https://www.rightmove.co.uk/properties/1230185...   \n",
       "3  https://www.rightmove.co.uk/properties/1266638...   \n",
       "4  https://www.rightmove.co.uk/properties/1269265...   \n",
       "\n",
       "                                      Street Address  Property Type Bedrooms  \\\n",
       "0  Shrubbery Avenue, Weston-Super-Mare, North Som...  PROPERTY TYPE       NA   \n",
       "1                             Milton Park Road, BS22  PROPERTY TYPE       NA   \n",
       "2                     Bransby Way, Weston Super Mare  PROPERTY TYPE       NA   \n",
       "3  Poplar Walk, Oaktree Park, Locking, Weston-sup...  PROPERTY TYPE       NA   \n",
       "4                                                 NA             NA       NA   \n",
       "\n",
       "  Bathrooms Size (sq ft) Guide Price  \n",
       "0        NA           NA      150000  \n",
       "1        NA           NA      150000  \n",
       "2        NA           NA      149500  \n",
       "3        NA           NA      140000  \n",
       "4        NA           NA      125000  "
      ]
     },
     "execution_count": 9,
     "metadata": {},
     "output_type": "execute_result"
    }
   ],
   "source": [
    "%%time\n",
    "\n",
    "df = house.to_dataframe()\n",
    "df.head()"
   ]
  },
  {
   "cell_type": "code",
   "execution_count": 11,
   "metadata": {},
   "outputs": [],
   "source": [
    "filename = '../output/rightmove_rents_bs.xlsx'\n",
    "df.to_excel(filename)"
   ]
  },
  {
   "cell_type": "code",
   "execution_count": null,
   "metadata": {},
   "outputs": [],
   "source": []
  }
 ],
 "metadata": {
  "kernelspec": {
   "display_name": "Python 3.10 (py310)",
   "language": "python",
   "name": "py310"
  },
  "language_info": {
   "codemirror_mode": {
    "name": "ipython",
    "version": 3
   },
   "file_extension": ".py",
   "mimetype": "text/x-python",
   "name": "python",
   "nbconvert_exporter": "python",
   "pygments_lexer": "ipython3",
   "version": "3.10.4"
  }
 },
 "nbformat": 4,
 "nbformat_minor": 4
}
