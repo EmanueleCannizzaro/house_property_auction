{
 "cells": [
  {
   "cell_type": "code",
   "execution_count": 1,
   "id": "df495470-6e70-43da-9ad9-a568c1425918",
   "metadata": {},
   "outputs": [],
   "source": [
    "%load_ext autoreload\n",
    "%autoreload 2"
   ]
  },
  {
   "cell_type": "code",
   "execution_count": 2,
   "id": "b7f91acb-6b56-4f5f-9591-7e9153628142",
   "metadata": {},
   "outputs": [],
   "source": [
    "#from bs4 import BeautifulSoup\n",
    "from glob import glob\n",
    "#import linkcheck\n",
    "import os\n",
    "import pandas as pd\n",
    "from subprocess import run\n",
    "from tqdm import tqdm\n",
    "\n",
    "from property_scraper import convert_hyperlink_rel2global, fix_hyperlinks, get_filename_from_identifier\n",
    "from property_scraper.scraper import Scraper"
   ]
  },
  {
   "cell_type": "code",
   "execution_count": 3,
   "id": "9542a600-0088-4942-8f07-d7d7388d1cd4",
   "metadata": {
    "tags": []
   },
   "outputs": [],
   "source": [
    "rc_filename = os.path.join(os.path.expanduser('~'), 'property_scraper.json')"
   ]
  },
  {
   "cell_type": "code",
   "execution_count": 4,
   "id": "67e5d310-0029-4f18-b716-01f7bc7a2d50",
   "metadata": {
    "tags": []
   },
   "outputs": [],
   "source": [
    "scraper = Scraper()"
   ]
  },
  {
   "cell_type": "code",
   "execution_count": 5,
   "id": "c4899784-91d3-4771-a39e-790d5e29990c",
   "metadata": {
    "tags": []
   },
   "outputs": [
    {
     "ename": "JSONDecodeError",
     "evalue": "Expecting property name enclosed in double quotes: line 281 column 9 (char 16791)",
     "output_type": "error",
     "traceback": [
      "\u001b[0;31m---------------------------------------------------------------------------\u001b[0m",
      "\u001b[0;31mJSONDecodeError\u001b[0m                           Traceback (most recent call last)",
      "Cell \u001b[0;32mIn[5], line 1\u001b[0m\n\u001b[0;32m----> 1\u001b[0m scraper\u001b[38;5;241m.\u001b[39mconfiguration \u001b[38;5;241m=\u001b[39m \u001b[43mscraper\u001b[49m\u001b[38;5;241;43m.\u001b[39;49m\u001b[43mread_configuration\u001b[49m\u001b[43m(\u001b[49m\u001b[43mrc_filename\u001b[49m\u001b[43m)\u001b[49m\n\u001b[1;32m      2\u001b[0m \u001b[38;5;66;03m#scraper.show_configuration()\u001b[39;00m\n",
      "File \u001b[0;32m~/.conda/envs/py311/lib/python3.11/site-packages/autologging.py:799\u001b[0m, in \u001b[0;36m_make_traceable_function.<locals>.autologging_traced_function_delegator\u001b[0;34m(*args, **keywords)\u001b[0m\n\u001b[1;32m    797\u001b[0m     \u001b[38;5;28;01mreturn\u001b[39;00m proxy(function, args, keywords)\n\u001b[1;32m    798\u001b[0m \u001b[38;5;28;01melse\u001b[39;00m:\n\u001b[0;32m--> 799\u001b[0m     \u001b[38;5;28;01mreturn\u001b[39;00m \u001b[43mfunction\u001b[49m\u001b[43m(\u001b[49m\u001b[38;5;241;43m*\u001b[39;49m\u001b[43margs\u001b[49m\u001b[43m,\u001b[49m\u001b[43m \u001b[49m\u001b[38;5;241;43m*\u001b[39;49m\u001b[38;5;241;43m*\u001b[39;49m\u001b[43mkeywords\u001b[49m\u001b[43m)\u001b[49m\n",
      "File \u001b[0;32m~/.conda/envs/py311/lib/python3.11/site-packages/property_scraper/scraper.py:67\u001b[0m, in \u001b[0;36mScraper.read_configuration\u001b[0;34m(filename)\u001b[0m\n\u001b[1;32m     64\u001b[0m \u001b[38;5;129m@staticmethod\u001b[39m\n\u001b[1;32m     65\u001b[0m \u001b[38;5;28;01mdef\u001b[39;00m \u001b[38;5;21mread_configuration\u001b[39m(filename:\u001b[38;5;28mstr\u001b[39m):\n\u001b[1;32m     66\u001b[0m     \u001b[38;5;28;01mwith\u001b[39;00m \u001b[38;5;28mopen\u001b[39m(filename, \u001b[38;5;124m'\u001b[39m\u001b[38;5;124mr\u001b[39m\u001b[38;5;124m'\u001b[39m) \u001b[38;5;28;01mas\u001b[39;00m f:\n\u001b[0;32m---> 67\u001b[0m         _configuration \u001b[38;5;241m=\u001b[39m \u001b[43mjson\u001b[49m\u001b[38;5;241;43m.\u001b[39;49m\u001b[43mload\u001b[49m\u001b[43m(\u001b[49m\u001b[43mf\u001b[49m\u001b[43m)\u001b[49m\n\u001b[1;32m     68\u001b[0m     \u001b[38;5;28;01mreturn\u001b[39;00m _configuration\n",
      "File \u001b[0;32m~/.conda/envs/py311/lib/python3.11/json/__init__.py:293\u001b[0m, in \u001b[0;36mload\u001b[0;34m(fp, cls, object_hook, parse_float, parse_int, parse_constant, object_pairs_hook, **kw)\u001b[0m\n\u001b[1;32m    274\u001b[0m \u001b[38;5;28;01mdef\u001b[39;00m \u001b[38;5;21mload\u001b[39m(fp, \u001b[38;5;241m*\u001b[39m, \u001b[38;5;28mcls\u001b[39m\u001b[38;5;241m=\u001b[39m\u001b[38;5;28;01mNone\u001b[39;00m, object_hook\u001b[38;5;241m=\u001b[39m\u001b[38;5;28;01mNone\u001b[39;00m, parse_float\u001b[38;5;241m=\u001b[39m\u001b[38;5;28;01mNone\u001b[39;00m,\n\u001b[1;32m    275\u001b[0m         parse_int\u001b[38;5;241m=\u001b[39m\u001b[38;5;28;01mNone\u001b[39;00m, parse_constant\u001b[38;5;241m=\u001b[39m\u001b[38;5;28;01mNone\u001b[39;00m, object_pairs_hook\u001b[38;5;241m=\u001b[39m\u001b[38;5;28;01mNone\u001b[39;00m, \u001b[38;5;241m*\u001b[39m\u001b[38;5;241m*\u001b[39mkw):\n\u001b[1;32m    276\u001b[0m \u001b[38;5;250m    \u001b[39m\u001b[38;5;124;03m\"\"\"Deserialize ``fp`` (a ``.read()``-supporting file-like object containing\u001b[39;00m\n\u001b[1;32m    277\u001b[0m \u001b[38;5;124;03m    a JSON document) to a Python object.\u001b[39;00m\n\u001b[1;32m    278\u001b[0m \n\u001b[0;32m   (...)\u001b[0m\n\u001b[1;32m    291\u001b[0m \u001b[38;5;124;03m    kwarg; otherwise ``JSONDecoder`` is used.\u001b[39;00m\n\u001b[1;32m    292\u001b[0m \u001b[38;5;124;03m    \"\"\"\u001b[39;00m\n\u001b[0;32m--> 293\u001b[0m     \u001b[38;5;28;01mreturn\u001b[39;00m \u001b[43mloads\u001b[49m\u001b[43m(\u001b[49m\u001b[43mfp\u001b[49m\u001b[38;5;241;43m.\u001b[39;49m\u001b[43mread\u001b[49m\u001b[43m(\u001b[49m\u001b[43m)\u001b[49m\u001b[43m,\u001b[49m\n\u001b[1;32m    294\u001b[0m \u001b[43m        \u001b[49m\u001b[38;5;28;43mcls\u001b[39;49m\u001b[38;5;241;43m=\u001b[39;49m\u001b[38;5;28;43mcls\u001b[39;49m\u001b[43m,\u001b[49m\u001b[43m \u001b[49m\u001b[43mobject_hook\u001b[49m\u001b[38;5;241;43m=\u001b[39;49m\u001b[43mobject_hook\u001b[49m\u001b[43m,\u001b[49m\n\u001b[1;32m    295\u001b[0m \u001b[43m        \u001b[49m\u001b[43mparse_float\u001b[49m\u001b[38;5;241;43m=\u001b[39;49m\u001b[43mparse_float\u001b[49m\u001b[43m,\u001b[49m\u001b[43m \u001b[49m\u001b[43mparse_int\u001b[49m\u001b[38;5;241;43m=\u001b[39;49m\u001b[43mparse_int\u001b[49m\u001b[43m,\u001b[49m\n\u001b[1;32m    296\u001b[0m \u001b[43m        \u001b[49m\u001b[43mparse_constant\u001b[49m\u001b[38;5;241;43m=\u001b[39;49m\u001b[43mparse_constant\u001b[49m\u001b[43m,\u001b[49m\u001b[43m \u001b[49m\u001b[43mobject_pairs_hook\u001b[49m\u001b[38;5;241;43m=\u001b[39;49m\u001b[43mobject_pairs_hook\u001b[49m\u001b[43m,\u001b[49m\u001b[43m \u001b[49m\u001b[38;5;241;43m*\u001b[39;49m\u001b[38;5;241;43m*\u001b[39;49m\u001b[43mkw\u001b[49m\u001b[43m)\u001b[49m\n",
      "File \u001b[0;32m~/.conda/envs/py311/lib/python3.11/json/__init__.py:346\u001b[0m, in \u001b[0;36mloads\u001b[0;34m(s, cls, object_hook, parse_float, parse_int, parse_constant, object_pairs_hook, **kw)\u001b[0m\n\u001b[1;32m    341\u001b[0m     s \u001b[38;5;241m=\u001b[39m s\u001b[38;5;241m.\u001b[39mdecode(detect_encoding(s), \u001b[38;5;124m'\u001b[39m\u001b[38;5;124msurrogatepass\u001b[39m\u001b[38;5;124m'\u001b[39m)\n\u001b[1;32m    343\u001b[0m \u001b[38;5;28;01mif\u001b[39;00m (\u001b[38;5;28mcls\u001b[39m \u001b[38;5;129;01mis\u001b[39;00m \u001b[38;5;28;01mNone\u001b[39;00m \u001b[38;5;129;01mand\u001b[39;00m object_hook \u001b[38;5;129;01mis\u001b[39;00m \u001b[38;5;28;01mNone\u001b[39;00m \u001b[38;5;129;01mand\u001b[39;00m\n\u001b[1;32m    344\u001b[0m         parse_int \u001b[38;5;129;01mis\u001b[39;00m \u001b[38;5;28;01mNone\u001b[39;00m \u001b[38;5;129;01mand\u001b[39;00m parse_float \u001b[38;5;129;01mis\u001b[39;00m \u001b[38;5;28;01mNone\u001b[39;00m \u001b[38;5;129;01mand\u001b[39;00m\n\u001b[1;32m    345\u001b[0m         parse_constant \u001b[38;5;129;01mis\u001b[39;00m \u001b[38;5;28;01mNone\u001b[39;00m \u001b[38;5;129;01mand\u001b[39;00m object_pairs_hook \u001b[38;5;129;01mis\u001b[39;00m \u001b[38;5;28;01mNone\u001b[39;00m \u001b[38;5;129;01mand\u001b[39;00m \u001b[38;5;129;01mnot\u001b[39;00m kw):\n\u001b[0;32m--> 346\u001b[0m     \u001b[38;5;28;01mreturn\u001b[39;00m \u001b[43m_default_decoder\u001b[49m\u001b[38;5;241;43m.\u001b[39;49m\u001b[43mdecode\u001b[49m\u001b[43m(\u001b[49m\u001b[43ms\u001b[49m\u001b[43m)\u001b[49m\n\u001b[1;32m    347\u001b[0m \u001b[38;5;28;01mif\u001b[39;00m \u001b[38;5;28mcls\u001b[39m \u001b[38;5;129;01mis\u001b[39;00m \u001b[38;5;28;01mNone\u001b[39;00m:\n\u001b[1;32m    348\u001b[0m     \u001b[38;5;28mcls\u001b[39m \u001b[38;5;241m=\u001b[39m JSONDecoder\n",
      "File \u001b[0;32m~/.conda/envs/py311/lib/python3.11/json/decoder.py:337\u001b[0m, in \u001b[0;36mJSONDecoder.decode\u001b[0;34m(self, s, _w)\u001b[0m\n\u001b[1;32m    332\u001b[0m \u001b[38;5;28;01mdef\u001b[39;00m \u001b[38;5;21mdecode\u001b[39m(\u001b[38;5;28mself\u001b[39m, s, _w\u001b[38;5;241m=\u001b[39mWHITESPACE\u001b[38;5;241m.\u001b[39mmatch):\n\u001b[1;32m    333\u001b[0m \u001b[38;5;250m    \u001b[39m\u001b[38;5;124;03m\"\"\"Return the Python representation of ``s`` (a ``str`` instance\u001b[39;00m\n\u001b[1;32m    334\u001b[0m \u001b[38;5;124;03m    containing a JSON document).\u001b[39;00m\n\u001b[1;32m    335\u001b[0m \n\u001b[1;32m    336\u001b[0m \u001b[38;5;124;03m    \"\"\"\u001b[39;00m\n\u001b[0;32m--> 337\u001b[0m     obj, end \u001b[38;5;241m=\u001b[39m \u001b[38;5;28;43mself\u001b[39;49m\u001b[38;5;241;43m.\u001b[39;49m\u001b[43mraw_decode\u001b[49m\u001b[43m(\u001b[49m\u001b[43ms\u001b[49m\u001b[43m,\u001b[49m\u001b[43m \u001b[49m\u001b[43midx\u001b[49m\u001b[38;5;241;43m=\u001b[39;49m\u001b[43m_w\u001b[49m\u001b[43m(\u001b[49m\u001b[43ms\u001b[49m\u001b[43m,\u001b[49m\u001b[43m \u001b[49m\u001b[38;5;241;43m0\u001b[39;49m\u001b[43m)\u001b[49m\u001b[38;5;241;43m.\u001b[39;49m\u001b[43mend\u001b[49m\u001b[43m(\u001b[49m\u001b[43m)\u001b[49m\u001b[43m)\u001b[49m\n\u001b[1;32m    338\u001b[0m     end \u001b[38;5;241m=\u001b[39m _w(s, end)\u001b[38;5;241m.\u001b[39mend()\n\u001b[1;32m    339\u001b[0m     \u001b[38;5;28;01mif\u001b[39;00m end \u001b[38;5;241m!=\u001b[39m \u001b[38;5;28mlen\u001b[39m(s):\n",
      "File \u001b[0;32m~/.conda/envs/py311/lib/python3.11/json/decoder.py:353\u001b[0m, in \u001b[0;36mJSONDecoder.raw_decode\u001b[0;34m(self, s, idx)\u001b[0m\n\u001b[1;32m    344\u001b[0m \u001b[38;5;250m\u001b[39m\u001b[38;5;124;03m\"\"\"Decode a JSON document from ``s`` (a ``str`` beginning with\u001b[39;00m\n\u001b[1;32m    345\u001b[0m \u001b[38;5;124;03ma JSON document) and return a 2-tuple of the Python\u001b[39;00m\n\u001b[1;32m    346\u001b[0m \u001b[38;5;124;03mrepresentation and the index in ``s`` where the document ended.\u001b[39;00m\n\u001b[0;32m   (...)\u001b[0m\n\u001b[1;32m    350\u001b[0m \n\u001b[1;32m    351\u001b[0m \u001b[38;5;124;03m\"\"\"\u001b[39;00m\n\u001b[1;32m    352\u001b[0m \u001b[38;5;28;01mtry\u001b[39;00m:\n\u001b[0;32m--> 353\u001b[0m     obj, end \u001b[38;5;241m=\u001b[39m \u001b[38;5;28;43mself\u001b[39;49m\u001b[38;5;241;43m.\u001b[39;49m\u001b[43mscan_once\u001b[49m\u001b[43m(\u001b[49m\u001b[43ms\u001b[49m\u001b[43m,\u001b[49m\u001b[43m \u001b[49m\u001b[43midx\u001b[49m\u001b[43m)\u001b[49m\n\u001b[1;32m    354\u001b[0m \u001b[38;5;28;01mexcept\u001b[39;00m \u001b[38;5;167;01mStopIteration\u001b[39;00m \u001b[38;5;28;01mas\u001b[39;00m err:\n\u001b[1;32m    355\u001b[0m     \u001b[38;5;28;01mraise\u001b[39;00m JSONDecodeError(\u001b[38;5;124m\"\u001b[39m\u001b[38;5;124mExpecting value\u001b[39m\u001b[38;5;124m\"\u001b[39m, s, err\u001b[38;5;241m.\u001b[39mvalue) \u001b[38;5;28;01mfrom\u001b[39;00m \u001b[38;5;28mNone\u001b[39m\n",
      "\u001b[0;31mJSONDecodeError\u001b[0m: Expecting property name enclosed in double quotes: line 281 column 9 (char 16791)"
     ]
    }
   ],
   "source": [
    "scraper.configuration = scraper.read_configuration(rc_filename)\n",
    "#scraper.show_configuration()"
   ]
  },
  {
   "cell_type": "code",
   "execution_count": 56,
   "id": "9aff28f0-d651-431b-9271-18d59f1bd7a1",
   "metadata": {
    "tags": []
   },
   "outputs": [
    {
     "name": "stdout",
     "output_type": "stream",
     "text": [
      "/home/data/property_scraper/demos/downloads\n",
      "/home/www/html/italia.estate-database.com\n"
     ]
    }
   ],
   "source": [
    "print(scraper.configuration['folder'])\n",
    "print(scraper.configuration['output folder'])"
   ]
  },
  {
   "cell_type": "code",
   "execution_count": 57,
   "id": "a57043b4-2670-4170-a9dc-ee074d2a2395",
   "metadata": {
    "tags": []
   },
   "outputs": [
    {
     "name": "stdout",
     "output_type": "stream",
     "text": [
      "ls: cannot access '../data/*.txt': No such file or directory\n"
     ]
    }
   ],
   "source": [
    "!ls ../data/*.txt"
   ]
  },
  {
   "cell_type": "code",
   "execution_count": 58,
   "id": "4ef40bf6-ecb7-4bff-86e7-24150b9c556c",
   "metadata": {
    "tags": []
   },
   "outputs": [],
   "source": [
    "filename = '../data/spiders.txt'"
   ]
  },
  {
   "cell_type": "code",
   "execution_count": 59,
   "id": "88edb3b7-9717-465d-be77-a7f21269bd25",
   "metadata": {
    "tags": []
   },
   "outputs": [
    {
     "name": "stdout",
     "output_type": "stream",
     "text": [
      "The following scrapy spider searches are available:\n",
      "  - astagiudiziaria\n",
      "  - astainsieme\n",
      "  - astalegale\n",
      "  - asteavvisi\n",
      "  - astegiudiziarie\n",
      "  - asteimmobili\n",
      "  - astetelematiche\n",
      "  - astetribunalelaspezia\n",
      "  - astetribunaleravenna\n",
      "  - astetribunalesavona\n",
      "  - blinks\n",
      "  - canaleaste\n",
      "  - casa\n",
      "  - entietribunali\n",
      "  - fallcoaste\n",
      "  - gateaway\n",
      "  - guber\n",
      "  - idealista\n",
      "  - immobiliallasta\n",
      "  - immobiliare\n",
      "  - intribunale\n",
      "  - intrum\n",
      "  - legalmente\n",
      "  - lionard\n",
      "  - portaleaste\n",
      "  - pvp\n",
      "  - spazioaste\n",
      "  - tecnocasa\n",
      "  - trovoaste\n",
      "  - trovocasa\n"
     ]
    }
   ],
   "source": [
    "folder = '/home/data/property_scraper/demos/downloads'\n",
    "spiders = sorted([os.path.relpath(x, folder) for x in glob(os.path.join(folder, '*')) if os.path.isdir(x)])\n",
    "print('The following scrapy spider searches are available:\\n  - ' + '\\n  - '.join(spiders))"
   ]
  },
  {
   "cell_type": "code",
   "execution_count": 60,
   "id": "9cc2bec4-b52c-48b3-8e66-72e1e99a5724",
   "metadata": {
    "tags": []
   },
   "outputs": [],
   "source": [
    "if 0 == 1:\n",
    "    with open(filename, 'r') as f:\n",
    "        spiders = sorted([x.strip() for x in f.readlines() if not x.startswith('#')])\n",
    "    print('The following scrapy spiders are available:\\n\\t' + '\\n\\t'.join(spiders))"
   ]
  },
  {
   "cell_type": "code",
   "execution_count": 61,
   "id": "6adad449-4e82-4526-a874-d4f55ea917bd",
   "metadata": {},
   "outputs": [],
   "source": [
    "spider = 'astagiudiziaria'"
   ]
  },
  {
   "cell_type": "code",
   "execution_count": 62,
   "id": "9f96022d-8027-4d1c-89c0-688e468b555c",
   "metadata": {
    "tags": []
   },
   "outputs": [
    {
     "name": "stdout",
     "output_type": "stream",
     "text": [
      "{'root': 'https://www.astagiudiziaria.com'}\n"
     ]
    }
   ],
   "source": [
    "print(scraper.configuration[spider])"
   ]
  },
  {
   "cell_type": "code",
   "execution_count": 63,
   "id": "0611eea5-fbb1-4169-87ad-d476f9c87f89",
   "metadata": {
    "tags": []
   },
   "outputs": [
    {
     "name": "stdout",
     "output_type": "stream",
     "text": [
      "https://www.astagiudiziaria.com\n"
     ]
    }
   ],
   "source": [
    "rootname = scraper.configuration[spider]['root']\n",
    "print(rootname)"
   ]
  },
  {
   "cell_type": "code",
   "execution_count": 67,
   "id": "56239cbb-983d-479d-b363-d29af77241aa",
   "metadata": {
    "tags": []
   },
   "outputs": [
    {
     "name": "stdout",
     "output_type": "stream",
     "text": [
      "There are 660 files for this spider.\n"
     ]
    },
    {
     "data": {
      "text/plain": [
       "['/home/data/property_scraper/demos/downloads/astagiudiziaria/astagiudiziaria_20230321015034_00.html',\n",
       " '/home/data/property_scraper/demos/downloads/astagiudiziaria/astagiudiziaria_20230321015045_00.html',\n",
       " '/home/data/property_scraper/demos/downloads/astagiudiziaria/astagiudiziaria_20230321015056_00.html',\n",
       " '/home/data/property_scraper/demos/downloads/astagiudiziaria/astagiudiziaria_20230321015107_00.html',\n",
       " '/home/data/property_scraper/demos/downloads/astagiudiziaria/astagiudiziaria_20230321015118_00.html',\n",
       " '/home/data/property_scraper/demos/downloads/astagiudiziaria/astagiudiziaria_20230321015128_00.html',\n",
       " '/home/data/property_scraper/demos/downloads/astagiudiziaria/astagiudiziaria_20230321015139_00.html',\n",
       " '/home/data/property_scraper/demos/downloads/astagiudiziaria/astagiudiziaria_20230321015150_00.html',\n",
       " '/home/data/property_scraper/demos/downloads/astagiudiziaria/astagiudiziaria_20230321020432_00.html',\n",
       " '/home/data/property_scraper/demos/downloads/astagiudiziaria/astagiudiziaria_20230321020444_00.html']"
      ]
     },
     "execution_count": 67,
     "metadata": {},
     "output_type": "execute_result"
    }
   ],
   "source": [
    "filenames = sorted(glob(os.path.join(folder, spider, f'{spider}_*.html')))\n",
    "print(f'There are {len(filenames)} files for this spider.')\n",
    "filenames[:10]"
   ]
  },
  {
   "cell_type": "code",
   "execution_count": 71,
   "id": "9398800d-5cfb-4cbb-931c-ab71ee47fc10",
   "metadata": {
    "tags": []
   },
   "outputs": [
    {
     "name": "stderr",
     "output_type": "stream",
     "text": [
      "astagiudiziaria_20230321015034_00.html:   0%|                                                                                                                                                                       | 0/660 [00:00<?, ?it/s]"
     ]
    },
    {
     "name": "stdout",
     "output_type": "stream",
     "text": [
      "/convegni\n",
      "https://www.astagiudiziaria.com/convegni\n",
      "/guida\n",
      "https://www.astagiudiziaria.com/guida\n",
      "/servizi\n",
      "https://www.astagiudiziaria.com/servizi\n",
      "/bollettini/search?type=i&title=Bollettino+Immobiliare\n",
      "https://www.astagiudiziaria.com/bollettini/search?type=i&title=Bollettino+Immobiliare\n",
      "/bollettini/search?type=m&title=Bollettino+Mobiliare\n",
      "https://www.astagiudiziaria.com/bollettini/search?type=m&title=Bollettino+Mobiliare\n",
      "/myAsta/login\n",
      "https://www.astagiudiziaria.com/myAsta/login\n",
      "/reserved/login\n",
      "https://www.astagiudiziaria.com/reserved/login\n",
      "/\n",
      "https://www.astagiudiziaria.com/\n",
      "/\n",
      "https://www.astagiudiziaria.com/\n",
      "/categoria/immobili\n",
      "https://www.astagiudiziaria.com/categoria/immobili\n",
      "/categoria/mobili\n",
      "https://www.astagiudiziaria.com/categoria/mobili\n",
      "/categoria/aziende\n",
      "https://www.astagiudiziaria.com/categoria/aziende\n",
      "/categoria/altro\n",
      "https://www.astagiudiziaria.com/categoria/altro\n",
      "/categoria/valoricrediti\n",
      "https://www.astagiudiziaria.com/categoria/valoricrediti\n",
      "/categoria/immobili\n",
      "https://www.astagiudiziaria.com/categoria/immobili\n",
      "/categoria/mobili\n",
      "https://www.astagiudiziaria.com/categoria/mobili\n",
      "/categoria/aziende\n",
      "https://www.astagiudiziaria.com/categoria/aziende\n",
      "/categoria/altro\n",
      "https://www.astagiudiziaria.com/categoria/altro\n",
      "/categoria/valoricrediti\n",
      "https://www.astagiudiziaria.com/categoria/valoricrediti\n",
      "/\n",
      "https://www.astagiudiziaria.com/\n",
      "/\n",
      "https://www.astagiudiziaria.com/\n",
      "/\n",
      "https://www.astagiudiziaria.com/\n",
      "/categoria/immobili\n",
      "https://www.astagiudiziaria.com/categoria/immobili\n",
      "/categoria/mobili\n",
      "https://www.astagiudiziaria.com/categoria/mobili\n",
      "/categoria/aziende\n",
      "https://www.astagiudiziaria.com/categoria/aziende\n",
      "/categoria/altro\n",
      "https://www.astagiudiziaria.com/categoria/altro\n",
      "/categoria/valoricrediti\n",
      "https://www.astagiudiziaria.com/categoria/valoricrediti\n",
      "/privacy-policy\n",
      "https://www.astagiudiziaria.com/privacy-policy\n",
      "/bollettini/search?type=i&title=Bollettino+Immobiliare\n",
      "https://www.astagiudiziaria.com/bollettini/search?type=i&title=Bollettino+Immobiliare\n",
      "/bollettini/search?type=m&title=Bollettino+Mobiliare\n",
      "https://www.astagiudiziaria.com/bollettini/search?type=m&title=Bollettino+Mobiliare\n",
      "/guida\n",
      "https://www.astagiudiziaria.com/guida\n",
      "/servizi\n",
      "https://www.astagiudiziaria.com/servizi\n",
      "/reserved/login\n",
      "https://www.astagiudiziaria.com/reserved/login\n"
     ]
    },
    {
     "name": "stderr",
     "output_type": "stream",
     "text": [
      "\n"
     ]
    }
   ],
   "source": [
    "pbar = tqdm(filenames, position=0)\n",
    "filenames = ['/home/data/property_scraper/demos/downloads/astagiudiziaria/astagiudiziaria_20230321015045_00.html']\n",
    "for filename in pbar:\n",
    "    with open(filename, 'r') as f:\n",
    "        content = f.read()\n",
    "        soup = convert_hyperlink_rel2global(content, rootname)\n",
    "        basename = os.path.basename(filename)\n",
    "        ofilename = os.path.join(scraper.configuration['output folder'], spider, basename)\n",
    "        pbar.set_description(f'{basename}')\n",
    "        with open(ofilename, 'wb') as f:\n",
    "            f.write(soup.prettify(\"utf-8\"))\n",
    "        break"
   ]
  },
  {
   "cell_type": "code",
   "execution_count": null,
   "id": "ed825488-6843-4858-8986-ce9b1f694903",
   "metadata": {},
   "outputs": [],
   "source": []
  },
  {
   "cell_type": "code",
   "execution_count": null,
   "id": "19ab2e29-7571-4774-97f5-66359a15cd85",
   "metadata": {},
   "outputs": [],
   "source": []
  },
  {
   "cell_type": "code",
   "execution_count": 6,
   "id": "ffaa7339-37bd-4bff-bf63-da09e5397d0c",
   "metadata": {},
   "outputs": [],
   "source": [
    "script_filename = '../demos/run_spiders.bash'\n",
    "with open(script_filename, 'w') as f:\n",
    "    f.write('#!/bin/bash\\n\\n')\n",
    "    for spider in spiders:\n",
    "        folder = f\"../www/{spider}\"\n",
    "        if not os.path.exists(folder):\n",
    "            os.makedirs(folder)\n",
    "\n",
    "        command = f\"echo scrapy runspider ../property_scraper/{spider}/spiders/{spider}.py --output ../demos/{spider}.csv\"\n",
    "        f.write(command + '\\n')\n",
    "        #run(command, shell=True, check=True) #, bufsize=bufsize, stdin=PIPE, stdout=PIPE, close_fds=True)\n",
    "    f.write('')"
   ]
  },
  {
   "cell_type": "code",
   "execution_count": 7,
   "id": "a771d0be-8a5b-46e8-a123-e06d7c217d4d",
   "metadata": {},
   "outputs": [
    {
     "ename": "SyntaxError",
     "evalue": "invalid syntax (4067800170.py, line 1)",
     "output_type": "error",
     "traceback": [
      "\u001b[0;36m  Input \u001b[0;32mIn [7]\u001b[0;36m\u001b[0m\n\u001b[0;31m    stop here\u001b[0m\n\u001b[0m         ^\u001b[0m\n\u001b[0;31mSyntaxError\u001b[0m\u001b[0;31m:\u001b[0m invalid syntax\n"
     ]
    }
   ],
   "source": [
    "stop here"
   ]
  },
  {
   "cell_type": "code",
   "execution_count": 13,
   "id": "76a93ef3-a5ee-477a-86a4-0a42adaac3b4",
   "metadata": {
    "tags": []
   },
   "outputs": [
    {
     "data": {
      "text/plain": [
       "'resultados-de-la-busqueda'"
      ]
     },
     "execution_count": 13,
     "metadata": {},
     "output_type": "execute_result"
    }
   ],
   "source": [
    "url = 'https://www.atico.es/resultados-de-la-busqueda/page/2/'\n"
   ]
  },
  {
   "cell_type": "code",
   "execution_count": 11,
   "id": "35c9e4e8-c290-4762-843b-a3ec0a611d8a",
   "metadata": {
    "tags": []
   },
   "outputs": [
    {
     "data": {
      "text/html": [
       "<div>\n",
       "<style scoped>\n",
       "    .dataframe tbody tr th:only-of-type {\n",
       "        vertical-align: middle;\n",
       "    }\n",
       "\n",
       "    .dataframe tbody tr th {\n",
       "        vertical-align: top;\n",
       "    }\n",
       "\n",
       "    .dataframe thead th {\n",
       "        text-align: right;\n",
       "    }\n",
       "</style>\n",
       "<table border=\"1\" class=\"dataframe\">\n",
       "  <thead>\n",
       "    <tr style=\"text-align: right;\">\n",
       "      <th></th>\n",
       "      <th>0</th>\n",
       "      <th>1</th>\n",
       "      <th>2</th>\n",
       "    </tr>\n",
       "  </thead>\n",
       "  <tbody>\n",
       "    <tr>\n",
       "      <th>home_listing_id</th>\n",
       "      <td>1331326</td>\n",
       "      <td>NaN</td>\n",
       "      <td>NaN</td>\n",
       "    </tr>\n",
       "    <tr>\n",
       "      <th>name</th>\n",
       "      <td>100 Monticello  Road, Pawtucket</td>\n",
       "      <td>NaN</td>\n",
       "      <td>NaN</td>\n",
       "    </tr>\n",
       "    <tr>\n",
       "      <th>availability</th>\n",
       "      <td>for_sale</td>\n",
       "      <td>for_sale</td>\n",
       "      <td>for_sale</td>\n",
       "    </tr>\n",
       "    <tr>\n",
       "      <th>address.addr1</th>\n",
       "      <td>100 Monticello  Road</td>\n",
       "      <td>NaN</td>\n",
       "      <td>NaN</td>\n",
       "    </tr>\n",
       "    <tr>\n",
       "      <th>address.city</th>\n",
       "      <td>Pawtucket</td>\n",
       "      <td>NaN</td>\n",
       "      <td>NaN</td>\n",
       "    </tr>\n",
       "    <tr>\n",
       "      <th>address.region</th>\n",
       "      <td>Rhode Island</td>\n",
       "      <td>NaN</td>\n",
       "      <td>NaN</td>\n",
       "    </tr>\n",
       "    <tr>\n",
       "      <th>address.country</th>\n",
       "      <td>United States</td>\n",
       "      <td>United States</td>\n",
       "      <td>United States</td>\n",
       "    </tr>\n",
       "    <tr>\n",
       "      <th>address.postal_code</th>\n",
       "      <td>02861</td>\n",
       "      <td>NaN</td>\n",
       "      <td>NaN</td>\n",
       "    </tr>\n",
       "    <tr>\n",
       "      <th>image[0].url</th>\n",
       "      <td>https://t3.realgeeks.media/thumbnail/m0Ppx5fJw...</td>\n",
       "      <td>NaN</td>\n",
       "      <td>NaN</td>\n",
       "    </tr>\n",
       "    <tr>\n",
       "      <th>price</th>\n",
       "      <td>$325,000</td>\n",
       "      <td>NaN</td>\n",
       "      <td>NaN</td>\n",
       "    </tr>\n",
       "    <tr>\n",
       "      <th>url</th>\n",
       "      <td>https://www.alltownri.com/search/details/535/0/</td>\n",
       "      <td>https://www.alltownri.com/member/contact/63b77...</td>\n",
       "      <td>https://www.alltownri.com/member/contact/63c82...</td>\n",
       "    </tr>\n",
       "    <tr>\n",
       "      <th>description</th>\n",
       "      <td>3BR | 1BA | 1,800 sqft</td>\n",
       "      <td>NaN</td>\n",
       "      <td>NaN</td>\n",
       "    </tr>\n",
       "    <tr>\n",
       "      <th>num_beds</th>\n",
       "      <td>3</td>\n",
       "      <td>NaN</td>\n",
       "      <td>NaN</td>\n",
       "    </tr>\n",
       "    <tr>\n",
       "      <th>num_baths</th>\n",
       "      <td>1</td>\n",
       "      <td>NaN</td>\n",
       "      <td>NaN</td>\n",
       "    </tr>\n",
       "    <tr>\n",
       "      <th>property_type</th>\n",
       "      <td>Single Family Residential</td>\n",
       "      <td>NaN</td>\n",
       "      <td>NaN</td>\n",
       "    </tr>\n",
       "    <tr>\n",
       "      <th>listing_type</th>\n",
       "      <td>for_sale_by_agent</td>\n",
       "      <td>for_sale_by_agent</td>\n",
       "      <td>for_sale_by_agent</td>\n",
       "    </tr>\n",
       "    <tr>\n",
       "      <th>year_built</th>\n",
       "      <td>1954</td>\n",
       "      <td>NaN</td>\n",
       "      <td>NaN</td>\n",
       "    </tr>\n",
       "    <tr>\n",
       "      <th>size</th>\n",
       "      <td>1,800</td>\n",
       "      <td>NaN</td>\n",
       "      <td>NaN</td>\n",
       "    </tr>\n",
       "    <tr>\n",
       "      <th>status</th>\n",
       "      <td>ACTIVE</td>\n",
       "      <td>NaN</td>\n",
       "      <td>NaN</td>\n",
       "    </tr>\n",
       "    <tr>\n",
       "      <th>mls_num</th>\n",
       "      <td>1331326</td>\n",
       "      <td>NaN</td>\n",
       "      <td>NaN</td>\n",
       "    </tr>\n",
       "    <tr>\n",
       "      <th>county</th>\n",
       "      <td>Providence</td>\n",
       "      <td>NaN</td>\n",
       "      <td>NaN</td>\n",
       "    </tr>\n",
       "  </tbody>\n",
       "</table>\n",
       "</div>"
      ],
      "text/plain": [
       "                                                                     0  \\\n",
       "home_listing_id                                                1331326   \n",
       "name                                   100 Monticello  Road, Pawtucket   \n",
       "availability                                                  for_sale   \n",
       "address.addr1                                     100 Monticello  Road   \n",
       "address.city                                                 Pawtucket   \n",
       "address.region                                            Rhode Island   \n",
       "address.country                                          United States   \n",
       "address.postal_code                                              02861   \n",
       "image[0].url         https://t3.realgeeks.media/thumbnail/m0Ppx5fJw...   \n",
       "price                                                         $325,000   \n",
       "url                    https://www.alltownri.com/search/details/535/0/   \n",
       "description                                     3BR | 1BA | 1,800 sqft   \n",
       "num_beds                                                             3   \n",
       "num_baths                                                            1   \n",
       "property_type                                Single Family Residential   \n",
       "listing_type                                         for_sale_by_agent   \n",
       "year_built                                                        1954   \n",
       "size                                                             1,800   \n",
       "status                                                          ACTIVE   \n",
       "mls_num                                                        1331326   \n",
       "county                                                      Providence   \n",
       "\n",
       "                                                                     1  \\\n",
       "home_listing_id                                                    NaN   \n",
       "name                                                               NaN   \n",
       "availability                                                  for_sale   \n",
       "address.addr1                                                      NaN   \n",
       "address.city                                                       NaN   \n",
       "address.region                                                     NaN   \n",
       "address.country                                          United States   \n",
       "address.postal_code                                                NaN   \n",
       "image[0].url                                                       NaN   \n",
       "price                                                              NaN   \n",
       "url                  https://www.alltownri.com/member/contact/63b77...   \n",
       "description                                                        NaN   \n",
       "num_beds                                                           NaN   \n",
       "num_baths                                                          NaN   \n",
       "property_type                                                      NaN   \n",
       "listing_type                                         for_sale_by_agent   \n",
       "year_built                                                         NaN   \n",
       "size                                                               NaN   \n",
       "status                                                             NaN   \n",
       "mls_num                                                            NaN   \n",
       "county                                                             NaN   \n",
       "\n",
       "                                                                     2  \n",
       "home_listing_id                                                    NaN  \n",
       "name                                                               NaN  \n",
       "availability                                                  for_sale  \n",
       "address.addr1                                                      NaN  \n",
       "address.city                                                       NaN  \n",
       "address.region                                                     NaN  \n",
       "address.country                                          United States  \n",
       "address.postal_code                                                NaN  \n",
       "image[0].url                                                       NaN  \n",
       "price                                                              NaN  \n",
       "url                  https://www.alltownri.com/member/contact/63c82...  \n",
       "description                                                        NaN  \n",
       "num_beds                                                           NaN  \n",
       "num_baths                                                          NaN  \n",
       "property_type                                                      NaN  \n",
       "listing_type                                         for_sale_by_agent  \n",
       "year_built                                                         NaN  \n",
       "size                                                               NaN  \n",
       "status                                                             NaN  \n",
       "mls_num                                                            NaN  \n",
       "county                                                             NaN  "
      ]
     },
     "metadata": {},
     "output_type": "display_data"
    }
   ],
   "source": [
    "search_filename = '../demos/alltownri.csv'\n",
    "properties = pd.read_csv(search_filename)\n",
    "display(properties.head(3).T)"
   ]
  },
  {
   "cell_type": "code",
   "execution_count": null,
   "id": "b853eb8b-9ad3-4d1a-b114-8f3a4df1df81",
   "metadata": {},
   "outputs": [],
   "source": [
    "name = 'immobiliare'"
   ]
  },
  {
   "cell_type": "code",
   "execution_count": null,
   "id": "e11de6ef-0e2e-4f8a-85f8-4ff9d1520f5b",
   "metadata": {
    "tags": []
   },
   "outputs": [],
   "source": [
    "s = 'https://www.idealista.it/vendita-case/ravenna-ravenna/'\n",
    "s.split('/')[4]"
   ]
  },
  {
   "cell_type": "code",
   "execution_count": null,
   "id": "b6ddfe82-1a1c-4f1f-8c07-496729a88540",
   "metadata": {},
   "outputs": [],
   "source": [
    "s = 'https://www.immobiliare.it/vendita-case/ravenna-provincia/?criterio=rilevanza'\n",
    "s.split('/')[4]"
   ]
  },
  {
   "cell_type": "markdown",
   "id": "abfdfa8b-4470-4569-a8dc-8096bca3964b",
   "metadata": {},
   "source": [
    "### PVP"
   ]
  },
  {
   "cell_type": "code",
   "execution_count": null,
   "id": "fae2ea41-00cb-4ad8-8cda-42a5179623f4",
   "metadata": {},
   "outputs": [],
   "source": [
    "#filenames = glob('/home/git/property_scraper/www/pvp/pvp_LTT*.html')\n",
    "#_filenames = glob('/home/git/property_scraper/www/pvp/pvp_*.html')\n",
    "#filenames = [x for x in _filenames if 'pvp_LTT' not in x]\n",
    "filenames = glob(f'/home/git/property_scraper/www/{name}/{name}_*.html')\n",
    "print(len(filenames))"
   ]
  },
  {
   "cell_type": "code",
   "execution_count": null,
   "id": "5078e3ce-4f2c-448b-9d1e-365a45c0d855",
   "metadata": {},
   "outputs": [],
   "source": [
    "func = {'https://pvp.giustizia.it/pvp/it/dettaglio_annuncio.page?': get_filename_from_identifier}\n",
    "keys = ['contentId']\n",
    "root = 'http://localhost:8000/{name}/{name}'"
   ]
  },
  {
   "cell_type": "code",
   "execution_count": null,
   "id": "b583bb81-d4aa-4760-a969-b6e10cdac1d5",
   "metadata": {},
   "outputs": [],
   "source": [
    "pbar = tqdm(list(reversed(filenames)), position=0)\n",
    "for filename in pbar:\n",
    "    fix_hyperlinks(filename, func, keys, root, True)"
   ]
  },
  {
   "cell_type": "markdown",
   "id": "7a548807-cf30-4dad-895e-ee65f65f7071",
   "metadata": {},
   "source": [
    "### Intrum"
   ]
  },
  {
   "cell_type": "code",
   "execution_count": 5,
   "id": "28bede69-d603-4df9-a342-ab5425c7fd02",
   "metadata": {},
   "outputs": [
    {
     "name": "stdout",
     "output_type": "stream",
     "text": [
      "1\n"
     ]
    }
   ],
   "source": [
    "name = 'intrum'\n",
    "#filenames = glob('/home/git/property_scraper/www/pvp/pvp_LTT*.html')\n",
    "#_filenames = glob('/home/git/property_scraper/www/pvp/pvp_*.html')\n",
    "#filenames = [x for x in _filenames if 'pvp_LTT' not in x]\n",
    "filenames = glob(f'/home/git/property_scraper/www/{name}/{name}_*.html')\n",
    "print(len(filenames))"
   ]
  },
  {
   "cell_type": "code",
   "execution_count": 6,
   "id": "0d1727d0-db7d-4f7f-9f1e-8591f1ba3ae5",
   "metadata": {},
   "outputs": [],
   "source": [
    "func = {}\n",
    "keys = []\n",
    "root = 'http://localhost:8000/{name}/{name}'"
   ]
  },
  {
   "cell_type": "code",
   "execution_count": 7,
   "id": "30072447-d842-4b9a-bc76-6a377fb9c950",
   "metadata": {},
   "outputs": [
    {
     "name": "stderr",
     "output_type": "stream",
     "text": [
      "100%|█████████████████████████████████████████████████████████████████████████████████████████████████████████████████████████████████████████████████████████████████████████████████████████████████████████| 1/1 [00:00<00:00, 16.33it/s]\n"
     ]
    }
   ],
   "source": [
    "\n",
    "pbar = tqdm(filenames, position=0)\n",
    "\n",
    "for filename in pbar:\n",
    "    with open(filename, 'r') as f:\n",
    "        content = f.read()\n",
    "        soup = convert_hyperlink_rel2global(content, rootname)\n",
    "    ofilename = filename\n",
    "    with open(ofilename, 'wb') as f:\n",
    "        f.write(soup.prettify(\"utf-8\"))        "
   ]
  },
  {
   "cell_type": "code",
   "execution_count": null,
   "id": "b21b937d-c589-4318-be45-d21e9e7ebca7",
   "metadata": {
    "tags": []
   },
   "outputs": [],
   "source": [
    "#linkcheck.LinkChecker"
   ]
  },
  {
   "cell_type": "code",
   "execution_count": null,
   "id": "ca6b4757-a4d1-44bb-bc3b-0509ef7f7ca1",
   "metadata": {
    "tags": []
   },
   "outputs": [],
   "source": [
    "#linkcheck.LinkChecker"
   ]
  },
  {
   "cell_type": "code",
   "execution_count": null,
   "id": "1bbd734a-a9be-4427-94d9-a3237c2db450",
   "metadata": {},
   "outputs": [],
   "source": []
  }
 ],
 "metadata": {
  "kernelspec": {
   "display_name": "Python 3.11 (py311)",
   "language": "python",
   "name": "py311"
  },
  "language_info": {
   "codemirror_mode": {
    "name": "ipython",
    "version": 3
   },
   "file_extension": ".py",
   "mimetype": "text/x-python",
   "name": "python",
   "nbconvert_exporter": "python",
   "pygments_lexer": "ipython3",
   "version": "3.11.0"
  }
 },
 "nbformat": 4,
 "nbformat_minor": 5
}
