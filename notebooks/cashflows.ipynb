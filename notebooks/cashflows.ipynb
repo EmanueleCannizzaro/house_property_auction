{
 "cells": [
  {
   "cell_type": "code",
   "execution_count": 1,
   "id": "b23d46eb-f5b3-4d16-abef-2ca0135b4baa",
   "metadata": {
    "tags": []
   },
   "outputs": [],
   "source": [
    "%load_ext autoreload\n",
    "%autoreload 2"
   ]
  },
  {
   "cell_type": "markdown",
   "id": "dd8fe1f5-2c02-4c95-9a50-74c6dc227c4d",
   "metadata": {},
   "source": [
    "# Cashflows\n",
    "\n",
    "Author: \n",
    "\n",
    "Extracted from example [here](https://cashflows.readthedocs.io/en/latest/tvmm.html#overview)."
   ]
  },
  {
   "cell_type": "code",
   "execution_count": 36,
   "id": "214a4d4f-9e8e-4a2f-836e-d2238bb9f490",
   "metadata": {
    "tags": []
   },
   "outputs": [],
   "source": [
    "from cashflows import tvmm, amortize, cashflow, interest_rate, after_tax_cashflow"
   ]
  },
  {
   "cell_type": "markdown",
   "id": "07be425f-5297-42e5-8ecd-d346030c77f3",
   "metadata": {},
   "source": [
    "### Details\n",
    "\n",
    "The amortize function computes and returns the columns of a amortization schedule of a loan. The function returns the interest payment, the principal repayment, the periodic payment and the balance at the end of each period.\n",
    "\n",
    "### Examples\n",
    "\n",
    "The amortization schedule for a loan of 100, at a interest rate of 10%, and a life of 5 periods, can be computed as:"
   ]
  },
  {
   "cell_type": "code",
   "execution_count": 3,
   "id": "19d0060c-0002-4389-9c69-e1c8617b5f9c",
   "metadata": {
    "tags": []
   },
   "outputs": [],
   "source": [
    "pmt = tvmm(pval=100, nrate=10, nper=5, fval=0)"
   ]
  },
  {
   "cell_type": "code",
   "execution_count": 4,
   "id": "2ab20b4c-9721-4579-bebd-11c33d5307de",
   "metadata": {
    "tags": []
   },
   "outputs": [
    {
     "name": "stdout",
     "output_type": "stream",
     "text": [
      "t      Beginning     Periodic     Interest    Principal        Final\n",
      "       Principal      Payment      Payment    Repayment    Principal\n",
      "          Amount       Amount                                 Amount\n",
      "--------------------------------------------------------------------\n",
      "0         100.00         0.00         0.00         0.00       100.00\n",
      "1         100.00       -26.38        10.00       -16.38        83.62\n",
      "2          83.62       -26.38         8.36       -18.02        65.60\n",
      "3          65.60       -26.38         6.56       -19.82        45.78\n",
      "4          45.78       -26.38         4.58       -21.80        23.98\n",
      "5          23.98       -26.38         2.40       -23.98         0.00\n"
     ]
    }
   ],
   "source": [
    "amortize(pval=100, nrate=10, nper=5, fval=0, noprint=False) "
   ]
  },
  {
   "cell_type": "code",
   "execution_count": 5,
   "id": "0b87db01-bdb3-461b-9815-8308d2586fd5",
   "metadata": {
    "tags": []
   },
   "outputs": [
    {
     "name": "stdout",
     "output_type": "stream",
     "text": [
      "t      Beginning     Periodic     Interest    Principal        Final\n",
      "       Principal      Payment      Payment    Repayment    Principal\n",
      "          Amount       Amount                                 Amount\n",
      "--------------------------------------------------------------------\n",
      "0        -100.00         0.00         0.00         0.00      -100.00\n",
      "1        -100.00        26.38       -10.00        16.38       -83.62\n",
      "2         -83.62        26.38        -8.36        18.02       -65.60\n",
      "3         -65.60        26.38        -6.56        19.82       -45.78\n",
      "4         -45.78        26.38        -4.58        21.80       -23.98\n",
      "5         -23.98        26.38        -2.40        23.98        -0.00\n"
     ]
    }
   ],
   "source": [
    "amortize(pval=-100, nrate=10, nper=5, fval=0, noprint=False)"
   ]
  },
  {
   "cell_type": "code",
   "execution_count": 6,
   "id": "b62e9c2b-fa05-407b-976b-9be0d5bb3187",
   "metadata": {
    "tags": []
   },
   "outputs": [
    {
     "name": "stdout",
     "output_type": "stream",
     "text": [
      "t      Beginning     Periodic     Interest    Principal        Final\n",
      "       Principal      Payment      Payment    Repayment    Principal\n",
      "          Amount       Amount                                 Amount\n",
      "--------------------------------------------------------------------\n",
      "0         100.00       -23.98         0.00       -23.98        76.02\n",
      "1          76.02       -23.98         7.60       -16.38        59.64\n",
      "2          59.64       -23.98         5.96       -18.02        41.62\n",
      "3          41.62       -23.98         4.16       -19.82        21.80\n",
      "4          21.80       -23.98         2.18       -21.80         0.00\n",
      "5           0.00         0.00         0.00         0.00         0.00\n"
     ]
    }
   ],
   "source": [
    "amortize(pval=100, nrate=10, nper=5, fval=0, due=1, noprint=False)"
   ]
  },
  {
   "cell_type": "code",
   "execution_count": 7,
   "id": "45f8244a-c8d0-4cf4-92f7-fe1d794758da",
   "metadata": {
    "tags": []
   },
   "outputs": [
    {
     "data": {
      "text/plain": [
       "([0,\n",
       "  -16.37974807947452,\n",
       "  -18.017722887421975,\n",
       "  -19.819495176164168,\n",
       "  -21.801444693780585,\n",
       "  -23.981589163158645],\n",
       " [0,\n",
       "  10.0,\n",
       "  8.362025192052547,\n",
       "  6.560252903310351,\n",
       "  4.578303385693935,\n",
       "  2.3981589163158756],\n",
       " [0,\n",
       "  -26.37974807947452,\n",
       "  -26.37974807947452,\n",
       "  -26.37974807947452,\n",
       "  -26.37974807947452,\n",
       "  -26.37974807947452],\n",
       " [100,\n",
       "  83.62025192052548,\n",
       "  65.60252903310351,\n",
       "  45.78303385693934,\n",
       "  23.981589163158755,\n",
       "  1.1013412404281553e-13])"
      ]
     },
     "execution_count": 7,
     "metadata": {},
     "output_type": "execute_result"
    }
   ],
   "source": [
    "principal, interest, payment, balance = amortize(pval=100, nrate=10, nper=5, fval=0)\n",
    "principal, interest, payment, balance"
   ]
  },
  {
   "cell_type": "code",
   "execution_count": 8,
   "id": "d7b0bf82-52bf-47f8-ab7e-6d0a55a73bb8",
   "metadata": {
    "tags": []
   },
   "outputs": [
    {
     "data": {
      "text/plain": [
       "([0,\n",
       "  -16.37974807947452,\n",
       "  -18.017722887421975,\n",
       "  -19.819495176164168,\n",
       "  -21.801444693780585,\n",
       "  -23.981589163158645],\n",
       " [0,\n",
       "  10.0,\n",
       "  8.362025192052547,\n",
       "  6.560252903310351,\n",
       "  4.578303385693935,\n",
       "  2.3981589163158756],\n",
       " [0,\n",
       "  -26.37974807947452,\n",
       "  -26.37974807947452,\n",
       "  -26.37974807947452,\n",
       "  -26.37974807947452,\n",
       "  -26.37974807947452],\n",
       " [100,\n",
       "  83.62025192052548,\n",
       "  65.60252903310351,\n",
       "  45.78303385693934,\n",
       "  23.981589163158755,\n",
       "  1.1013412404281553e-13])"
      ]
     },
     "execution_count": 8,
     "metadata": {},
     "output_type": "execute_result"
    }
   ],
   "source": [
    "principal, interest, payment, balance = amortize(pval=100, nrate=10, nper=5, pmt=pmt)\n",
    "principal, interest, payment, balance"
   ]
  },
  {
   "cell_type": "code",
   "execution_count": 9,
   "id": "5ef3423c-78d8-4df6-bc2e-c04267a81c9a",
   "metadata": {
    "tags": []
   },
   "outputs": [
    {
     "data": {
      "text/plain": [
       "31.89874039737271"
      ]
     },
     "execution_count": 9,
     "metadata": {},
     "output_type": "execute_result"
    }
   ],
   "source": [
    "sum(interest)"
   ]
  },
  {
   "cell_type": "code",
   "execution_count": 10,
   "id": "1716482b-80ef-499a-83cd-e6d418b368f8",
   "metadata": {
    "tags": []
   },
   "outputs": [
    {
     "data": {
      "text/plain": [
       "-99.99999999999989"
      ]
     },
     "execution_count": 10,
     "metadata": {},
     "output_type": "execute_result"
    }
   ],
   "source": [
    "sum(principal)"
   ]
  },
  {
   "cell_type": "code",
   "execution_count": 11,
   "id": "b0aa6a04-914a-4d91-8da4-52b13ecfeb77",
   "metadata": {
    "tags": []
   },
   "outputs": [],
   "source": [
    "principal, interest, payment, balance = amortize(fval=0, nrate=10, nper=5, pmt=pmt)"
   ]
  },
  {
   "cell_type": "code",
   "execution_count": 12,
   "id": "bcd7f288-506b-4ae1-aaba-f23a4ce5abf8",
   "metadata": {
    "tags": []
   },
   "outputs": [
    {
     "data": {
      "text/plain": [
       "31.89874039737271"
      ]
     },
     "execution_count": 12,
     "metadata": {},
     "output_type": "execute_result"
    }
   ],
   "source": [
    "sum(interest)"
   ]
  },
  {
   "cell_type": "code",
   "execution_count": 13,
   "id": "185db62d-d66c-4a08-9e06-5872120baefe",
   "metadata": {
    "tags": []
   },
   "outputs": [
    {
     "data": {
      "text/plain": [
       "-99.99999999999989"
      ]
     },
     "execution_count": 13,
     "metadata": {},
     "output_type": "execute_result"
    }
   ],
   "source": [
    "sum(principal)"
   ]
  },
  {
   "cell_type": "code",
   "execution_count": 14,
   "id": "d05d4bf6-a212-478c-a484-5128bc2c431b",
   "metadata": {
    "tags": []
   },
   "outputs": [],
   "source": [
    "principal, interest, payment, balance = amortize(pval=100, fval=0, nper=5, pmt=pmt) "
   ]
  },
  {
   "cell_type": "code",
   "execution_count": 15,
   "id": "5e6aa6df-bfa5-444a-abed-60898bf46c71",
   "metadata": {
    "tags": []
   },
   "outputs": [
    {
     "data": {
      "text/plain": [
       "31.898740397372677"
      ]
     },
     "execution_count": 15,
     "metadata": {},
     "output_type": "execute_result"
    }
   ],
   "source": [
    "sum(interest)"
   ]
  },
  {
   "cell_type": "code",
   "execution_count": 16,
   "id": "f7b28fd2-4689-4d74-b076-3f934d3e9cfa",
   "metadata": {
    "tags": []
   },
   "outputs": [
    {
     "data": {
      "text/plain": [
       "-99.99999999999991"
      ]
     },
     "execution_count": 16,
     "metadata": {},
     "output_type": "execute_result"
    }
   ],
   "source": [
    "sum(principal)"
   ]
  },
  {
   "cell_type": "code",
   "execution_count": 17,
   "id": "607025ad-1888-4e0f-89d5-228f621a345b",
   "metadata": {
    "tags": []
   },
   "outputs": [
    {
     "name": "stdout",
     "output_type": "stream",
     "text": [
      "t      Beginning     Periodic     Interest    Principal        Final\n",
      "       Principal      Payment      Payment    Repayment    Principal\n",
      "          Amount       Amount                                 Amount\n",
      "--------------------------------------------------------------------\n",
      "0         100.00         0.00         0.00         0.00       100.00\n",
      "1         100.00       -26.38        10.00       -16.38        83.62\n",
      "2          83.62       -26.38         8.36       -18.02        65.60\n",
      "3          65.60       -26.38         6.56       -19.82        45.78\n",
      "4          45.78       -26.38         4.58       -21.80        23.98\n",
      "5          23.98       -26.38         2.40       -23.98         0.00\n"
     ]
    }
   ],
   "source": [
    "amortize(pval=100, fval=0, nrate=10, pmt=pmt, noprint=False)"
   ]
  },
  {
   "cell_type": "code",
   "execution_count": 18,
   "id": "76f30f92-6ae0-4173-9a0a-ec97e372aa6b",
   "metadata": {
    "tags": []
   },
   "outputs": [],
   "source": [
    "principal, interest, payment, balance = amortize(pval=100, fval=0, nrate=10, pmt=pmt)"
   ]
  },
  {
   "cell_type": "code",
   "execution_count": 19,
   "id": "5e875c2a-dbbd-4e70-b3c0-73ff99ea6de3",
   "metadata": {
    "tags": []
   },
   "outputs": [
    {
     "data": {
      "text/plain": [
       "31.89874039737271"
      ]
     },
     "execution_count": 19,
     "metadata": {},
     "output_type": "execute_result"
    }
   ],
   "source": [
    "sum(interest)"
   ]
  },
  {
   "cell_type": "code",
   "execution_count": 20,
   "id": "21aa96ce-6a94-4244-88c4-7888bf8e5816",
   "metadata": {
    "tags": []
   },
   "outputs": [
    {
     "data": {
      "text/plain": [
       "-99.99999999999989"
      ]
     },
     "execution_count": 20,
     "metadata": {},
     "output_type": "execute_result"
    }
   ],
   "source": [
    "sum(principal)"
   ]
  },
  {
   "cell_type": "markdown",
   "id": "87c54788-8edd-4549-8cda-a5d9ed1a27ae",
   "metadata": {
    "tags": []
   },
   "source": [
    "### Details\n",
    "\n",
    "The tvmmm function computes and returns the missing value (pmt, fval, pval, nper, nrate) in a model relating a finite sequence of payments made at the beginning or at the end of each period, a present value, a future value, and a nominal interest rate. The time intervals between consecutive payments are assumed to be equal. For internal computations, the effective interest rate per period is calculated as nrate / pyr.\n",
    "\n",
    "### Examples\n",
    "\n",
    "This example shows how to find different values for a loan of 5000, with a monthly payment of 130 at the end of the month, a life of 48 periods, and a interest rate of 0.94 per month (equivalent to a nominal interest rate of 11.32%). For a loan, the future value is 0.\n",
    "\n",
    "Monthly payments: Note that the parameter pmt is set to None."
   ]
  },
  {
   "cell_type": "code",
   "execution_count": 21,
   "id": "805714c3-8e1d-4e01-9bc3-ab45269e2c85",
   "metadata": {
    "tags": []
   },
   "outputs": [
    {
     "data": {
      "text/plain": [
       "-130.00599637931407"
      ]
     },
     "execution_count": 21,
     "metadata": {},
     "output_type": "execute_result"
    }
   ],
   "source": [
    "tvmm(pval=5000, nrate=11.32, nper=48, fval=0, pyr=12)"
   ]
  },
  {
   "cell_type": "markdown",
   "id": "a4f118a0-6586-417c-9b07-d32b1f724c48",
   "metadata": {},
   "source": [
    "When the parameter noprint is set to False, a user friendly table with the data computed by the function is print."
   ]
  },
  {
   "cell_type": "code",
   "execution_count": 22,
   "id": "236f2ce2-b837-4777-8b4e-f15076c95a0e",
   "metadata": {
    "tags": []
   },
   "outputs": [
    {
     "name": "stdout",
     "output_type": "stream",
     "text": [
      "Present Value: .......  5000.00\n",
      "Future Value: ........     0.00\n",
      "Payment: .............  -130.01\n",
      "Due: .................      END\n",
      "No. of Periods: ......    48.00\n",
      "Compoundings per Year:    12\n",
      "Nominal Rate: .......     11.32\n",
      "Effective Rate: .....     11.93\n",
      "Periodic Rate: ......      0.94\n"
     ]
    }
   ],
   "source": [
    "tvmm(pval=5000, nrate=11.32, nper=48, fval=0, pyr=12, noprint=False)"
   ]
  },
  {
   "cell_type": "code",
   "execution_count": 23,
   "id": "b5c62e5a-b9a4-48a5-be0b-30d3be7ad0b1",
   "metadata": {
    "tags": []
   },
   "outputs": [
    {
     "data": {
      "text/plain": [
       "-6254.652751253401"
      ]
     },
     "execution_count": 23,
     "metadata": {},
     "output_type": "execute_result"
    }
   ],
   "source": [
    "tvmm(pval=5000, nrate=11.32, nper=48, pmt=pmt, fval=None, pyr=12)"
   ]
  },
  {
   "cell_type": "code",
   "execution_count": 24,
   "id": "4e8b77d5-f3c5-4827-91a3-7693ab2c0af9",
   "metadata": {
    "tags": []
   },
   "outputs": [
    {
     "data": {
      "text/plain": [
       "1014.5588978260366"
      ]
     },
     "execution_count": 24,
     "metadata": {},
     "output_type": "execute_result"
    }
   ],
   "source": [
    "tvmm(nrate=11.32, nper=48, pmt=pmt, fval = 0.0, pval=None, pyr=12)"
   ]
  },
  {
   "cell_type": "markdown",
   "id": "ae9b2a21-11e9-4fbb-89f6-b5c4303fdfc0",
   "metadata": {},
   "source": [
    "All the arguments support lists as inputs. When a argument is a list and the noprint is set to False, a table with the data is print."
   ]
  },
  {
   "cell_type": "code",
   "execution_count": 25,
   "id": "854ac563-fbad-4b14-9ccf-240dd0782b64",
   "metadata": {
    "tags": []
   },
   "outputs": [
    {
     "name": "stdout",
     "output_type": "stream",
     "text": [
      "#   pval   fval    pmt   nper  nrate  erate  prate due\n",
      "------------------------------------------------------\n",
      "0   5.00   0.00  -0.13  48.00  11.32  11.93   0.94 END\n",
      "1 500.00   0.00  -0.13  48.00  11.32  11.93   0.94 END\n",
      "2   5.00   0.00  -0.13  48.00  11.32  11.93   0.94 END\n"
     ]
    }
   ],
   "source": [
    "tvmm(pval=[5, 500, 5], nrate=11.32, nper=48, fval=0, pyr=12, noprint=False)"
   ]
  },
  {
   "cell_type": "code",
   "execution_count": 26,
   "id": "a8e4263a-53e8-47c3-ba25-90227fa43064",
   "metadata": {
    "tags": []
   },
   "outputs": [
    {
     "data": {
      "text/plain": [
       "-55.73059025743211"
      ]
     },
     "execution_count": 26,
     "metadata": {},
     "output_type": "execute_result"
    }
   ],
   "source": [
    "tvmm(pval=5000, nper=48, pmt=pmt, fval = 0.0, pyr=12) "
   ]
  },
  {
   "cell_type": "code",
   "execution_count": 27,
   "id": "56bef7c0-8b55-4855-9935-eb0c971cb47d",
   "metadata": {
    "tags": []
   },
   "outputs": [
    {
     "name": "stderr",
     "output_type": "stream",
     "text": [
      "/home/emanuele/.conda/envs/py311/lib/python3.11/site-packages/numpy_financial/_financial.py:297: RuntimeWarning: invalid value encountered in log\n",
      "  B = np.log((-fv+z) / (pv+z))/np.log(1+rate)\n"
     ]
    },
    {
     "data": {
      "text/plain": [
       "nan"
      ]
     },
     "execution_count": 27,
     "metadata": {},
     "output_type": "execute_result"
    }
   ],
   "source": [
    "tvmm(pval=5000, nrate=11.32/12, pmt=pmt, fval=0.0)"
   ]
  },
  {
   "cell_type": "code",
   "execution_count": 30,
   "id": "e9baf001-eb05-4fce-b998-96825a67065a",
   "metadata": {
    "tags": []
   },
   "outputs": [
    {
     "data": {
      "text/plain": [
       "2000Q1    1.0\n",
       "2000Q2    1.0\n",
       "2000Q3    1.0\n",
       "2000Q4    1.0\n",
       "2001Q1    1.0\n",
       "2001Q2    1.0\n",
       "2001Q3    1.0\n",
       "2001Q4    1.0\n",
       "Freq: Q-DEC, dtype: float64"
      ]
     },
     "execution_count": 30,
     "metadata": {},
     "output_type": "execute_result"
    }
   ],
   "source": [
    "cashflow(const_value=1.0, start='2000Q1', periods=8, freq='Q')"
   ]
  },
  {
   "cell_type": "code",
   "execution_count": 31,
   "id": "a5983a31-c095-4b92-98b5-d5f53cbb69ce",
   "metadata": {
    "tags": []
   },
   "outputs": [
    {
     "data": {
      "text/plain": [
       "2000Q1    10.0\n",
       "2000Q2    10.0\n",
       "2000Q3    10.0\n",
       "2000Q4    10.0\n",
       "2001Q1    10.0\n",
       "2001Q2    10.0\n",
       "2001Q3    10.0\n",
       "2001Q4    10.0\n",
       "2002Q1    10.0\n",
       "2002Q2    10.0\n",
       "Freq: Q-DEC, dtype: float64"
      ]
     },
     "execution_count": 31,
     "metadata": {},
     "output_type": "execute_result"
    }
   ],
   "source": [
    "cashflow(const_value=[10]*10, start='2000Q1', freq='Q')"
   ]
  },
  {
   "cell_type": "code",
   "execution_count": 32,
   "id": "6dc18baa-8f66-40a7-a2f1-aa91e2465288",
   "metadata": {
    "tags": []
   },
   "outputs": [
    {
     "data": {
      "text/plain": [
       "2000Q1     0.0\n",
       "2000Q2     1.0\n",
       "2000Q3     2.0\n",
       "2000Q4    10.0\n",
       "Freq: Q-DEC, dtype: float64"
      ]
     },
     "execution_count": 32,
     "metadata": {},
     "output_type": "execute_result"
    }
   ],
   "source": [
    "x = cashflow(const_value=[0, 1, 2, 3], start='2000Q1', freq='Q')\n",
    "x[3] = 10\n",
    "x"
   ]
  },
  {
   "cell_type": "code",
   "execution_count": 33,
   "id": "8e719362-0f2c-4752-8225-b7e876e90b7f",
   "metadata": {
    "tags": []
   },
   "outputs": [
    {
     "data": {
      "text/plain": [
       "2000Q1    0.0\n",
       "2000Q2    1.0\n",
       "2000Q3    2.0\n",
       "2000Q4    0.0\n",
       "Freq: Q-DEC, dtype: float64"
      ]
     },
     "execution_count": 33,
     "metadata": {},
     "output_type": "execute_result"
    }
   ],
   "source": [
    "x['2000Q4'] = 0\n",
    "x "
   ]
  },
  {
   "cell_type": "code",
   "execution_count": 34,
   "id": "cbd37aed-6c1a-44ec-8ff2-78158e4e715c",
   "metadata": {
    "tags": []
   },
   "outputs": [
    {
     "data": {
      "text/plain": [
       "2000Q1     0.0\n",
       "2000Q2     1.0\n",
       "2000Q3     3.0\n",
       "2000Q4     6.0\n",
       "2001Q1    10.0\n",
       "2001Q2    15.0\n",
       "Freq: Q-DEC, dtype: float64"
      ]
     },
     "execution_count": 34,
     "metadata": {},
     "output_type": "execute_result"
    }
   ],
   "source": [
    "cashflow(const_value=[0, 1, 2, 3, 4, 5], freq='Q', start='2000Q1').cumsum()"
   ]
  },
  {
   "cell_type": "code",
   "execution_count": 38,
   "id": "e9d99631-7528-493c-9a50-9b296a317f29",
   "metadata": {
    "tags": []
   },
   "outputs": [
    {
     "data": {
      "text/plain": [
       "2010    -50.0\n",
       "2011    100.0\n",
       "2012    100.0\n",
       "2013    100.0\n",
       "2014    100.0\n",
       "Freq: A-DEC, dtype: float64"
      ]
     },
     "execution_count": 38,
     "metadata": {},
     "output_type": "execute_result"
    }
   ],
   "source": [
    "cflo = cashflow(const_value=[-50] + [100] * 4, start='2010', freq='A')\n",
    "cflo"
   ]
  },
  {
   "cell_type": "code",
   "execution_count": 39,
   "id": "eb151a9e-3c61-4710-88b6-967803d951b1",
   "metadata": {
    "tags": []
   },
   "outputs": [
    {
     "data": {
      "text/plain": [
       "2010    10.0\n",
       "2011    10.0\n",
       "2012    10.0\n",
       "2013    10.0\n",
       "2014    10.0\n",
       "Freq: A-DEC, dtype: float64"
      ]
     },
     "execution_count": 39,
     "metadata": {},
     "output_type": "execute_result"
    }
   ],
   "source": [
    "tax_rate = interest_rate(const_value=[10] * 5, start='2010', freq='A')\n",
    "tax_rate"
   ]
  },
  {
   "cell_type": "code",
   "execution_count": 40,
   "id": "f917a2d4-dd9b-471c-acfa-0c63544a9a07",
   "metadata": {
    "tags": []
   },
   "outputs": [
    {
     "data": {
      "text/plain": [
       "2010     0.0\n",
       "2011    10.0\n",
       "2012    10.0\n",
       "2013    10.0\n",
       "2014    10.0\n",
       "Freq: A-DEC, dtype: float64"
      ]
     },
     "execution_count": 40,
     "metadata": {},
     "output_type": "execute_result"
    }
   ],
   "source": [
    "after_tax_cashflow(cflo=cflo, tax_rate=tax_rate)"
   ]
  },
  {
   "cell_type": "code",
   "execution_count": null,
   "id": "33ede695-9aed-4e2d-9458-61326ed378f7",
   "metadata": {},
   "outputs": [],
   "source": []
  }
 ],
 "metadata": {
  "kernelspec": {
   "display_name": "Python 3.11 (py311)",
   "language": "python",
   "name": "py311"
  },
  "language_info": {
   "codemirror_mode": {
    "name": "ipython",
    "version": 3
   },
   "file_extension": ".py",
   "mimetype": "text/x-python",
   "name": "python",
   "nbconvert_exporter": "python",
   "pygments_lexer": "ipython3",
   "version": "3.11.0"
  }
 },
 "nbformat": 4,
 "nbformat_minor": 5
}
