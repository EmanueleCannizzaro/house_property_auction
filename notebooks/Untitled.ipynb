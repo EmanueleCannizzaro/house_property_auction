{
 "cells": [
  {
   "cell_type": "code",
   "execution_count": 2,
   "id": "0dd1afae-e047-4284-ad8b-d80039085ce6",
   "metadata": {
    "tags": []
   },
   "outputs": [],
   "source": [
    "import os\n",
    "import pandas as pd"
   ]
  },
  {
   "cell_type": "code",
   "execution_count": 6,
   "id": "e0a2f806-d5d9-4882-a497-0e72a091939b",
   "metadata": {
    "tags": []
   },
   "outputs": [
    {
     "name": "stdout",
     "output_type": "stream",
     "text": [
      "True\n"
     ]
    },
    {
     "data": {
      "text/plain": [
       "'/home/emanuele/Downloads/GenovaNPLRESrl-598838924_exportlog.json'"
      ]
     },
     "execution_count": 6,
     "metadata": {},
     "output_type": "execute_result"
    }
   ],
   "source": [
    "filename = os.path.join(os.path.expanduser('~'), 'Downloads', 'GenovaNPLRESrl-598838924_exportlog.json')\n",
    "print(os.path.exists(filename))\n",
    "filename"
   ]
  },
  {
   "cell_type": "code",
   "execution_count": 8,
   "id": "b7a7e3a2-ca82-4c42-a663-2fd526da4aea",
   "metadata": {
    "tags": []
   },
   "outputs": [
    {
     "data": {
      "text/html": [
       "<div>\n",
       "<style scoped>\n",
       "    .dataframe tbody tr th:only-of-type {\n",
       "        vertical-align: middle;\n",
       "    }\n",
       "\n",
       "    .dataframe tbody tr th {\n",
       "        vertical-align: top;\n",
       "    }\n",
       "\n",
       "    .dataframe thead th {\n",
       "        text-align: right;\n",
       "    }\n",
       "</style>\n",
       "<table border=\"1\" class=\"dataframe\">\n",
       "  <thead>\n",
       "    <tr style=\"text-align: right;\">\n",
       "      <th></th>\n",
       "      <th>0</th>\n",
       "      <th>1</th>\n",
       "      <th>2</th>\n",
       "    </tr>\n",
       "  </thead>\n",
       "  <tbody>\n",
       "    <tr>\n",
       "      <th>UserId</th>\n",
       "      <td>598838924</td>\n",
       "      <td>598838924</td>\n",
       "      <td>598838924</td>\n",
       "    </tr>\n",
       "    <tr>\n",
       "      <th>EventTableName</th>\n",
       "      <td>NaN</td>\n",
       "      <td>NaN</td>\n",
       "      <td>NaN</td>\n",
       "    </tr>\n",
       "    <tr>\n",
       "      <th>EventTableTimestamp</th>\n",
       "      <td>2023-03-16T06:47:17.7334625+00:00</td>\n",
       "      <td>2023-03-16T06:47:14.7091322+00:00</td>\n",
       "      <td>2023-03-16T06:45:32.9251595+00:00</td>\n",
       "    </tr>\n",
       "    <tr>\n",
       "      <th>Data</th>\n",
       "      <td></td>\n",
       "      <td></td>\n",
       "      <td></td>\n",
       "    </tr>\n",
       "    <tr>\n",
       "      <th>Operation</th>\n",
       "      <td>AppSubscriberChangeEvent</td>\n",
       "      <td>AppSubscriberChangeEvent</td>\n",
       "      <td>AppSubscriberChangeEvent</td>\n",
       "    </tr>\n",
       "    <tr>\n",
       "      <th>Properties</th>\n",
       "      <td>{'Action': 'Update role and/or version', 'Subs...</td>\n",
       "      <td>{'Action': 'Added', 'Subscriber Email': 'lukan...</td>\n",
       "      <td>{'Action': 'Removed', 'Subscriber Email': 'gio...</td>\n",
       "    </tr>\n",
       "    <tr>\n",
       "      <th>RecordType</th>\n",
       "      <td>Start</td>\n",
       "      <td>Start</td>\n",
       "      <td>Start</td>\n",
       "    </tr>\n",
       "    <tr>\n",
       "      <th>Result</th>\n",
       "      <td>Success</td>\n",
       "      <td>Success</td>\n",
       "      <td>Success</td>\n",
       "    </tr>\n",
       "    <tr>\n",
       "      <th>TableName</th>\n",
       "      <td></td>\n",
       "      <td></td>\n",
       "      <td></td>\n",
       "    </tr>\n",
       "    <tr>\n",
       "      <th>Timestamp</th>\n",
       "      <td>2023-03-16 06:47:17.733462500+00:00</td>\n",
       "      <td>2023-03-16 06:47:14.709132200+00:00</td>\n",
       "      <td>2023-03-16 06:45:32.925159500+00:00</td>\n",
       "    </tr>\n",
       "  </tbody>\n",
       "</table>\n",
       "</div>"
      ],
      "text/plain": [
       "                                                                     0  \\\n",
       "UserId                                                       598838924   \n",
       "EventTableName                                                     NaN   \n",
       "EventTableTimestamp                  2023-03-16T06:47:17.7334625+00:00   \n",
       "Data                                                                     \n",
       "Operation                                     AppSubscriberChangeEvent   \n",
       "Properties           {'Action': 'Update role and/or version', 'Subs...   \n",
       "RecordType                                                       Start   \n",
       "Result                                                         Success   \n",
       "TableName                                                                \n",
       "Timestamp                          2023-03-16 06:47:17.733462500+00:00   \n",
       "\n",
       "                                                                     1  \\\n",
       "UserId                                                       598838924   \n",
       "EventTableName                                                     NaN   \n",
       "EventTableTimestamp                  2023-03-16T06:47:14.7091322+00:00   \n",
       "Data                                                                     \n",
       "Operation                                     AppSubscriberChangeEvent   \n",
       "Properties           {'Action': 'Added', 'Subscriber Email': 'lukan...   \n",
       "RecordType                                                       Start   \n",
       "Result                                                         Success   \n",
       "TableName                                                                \n",
       "Timestamp                          2023-03-16 06:47:14.709132200+00:00   \n",
       "\n",
       "                                                                     2  \n",
       "UserId                                                       598838924  \n",
       "EventTableName                                                     NaN  \n",
       "EventTableTimestamp                  2023-03-16T06:45:32.9251595+00:00  \n",
       "Data                                                                    \n",
       "Operation                                     AppSubscriberChangeEvent  \n",
       "Properties           {'Action': 'Removed', 'Subscriber Email': 'gio...  \n",
       "RecordType                                                       Start  \n",
       "Result                                                         Success  \n",
       "TableName                                                               \n",
       "Timestamp                          2023-03-16 06:45:32.925159500+00:00  "
      ]
     },
     "metadata": {},
     "output_type": "display_data"
    }
   ],
   "source": [
    "df = pd.read_json(filename)\n",
    "display(df.head(3).T)"
   ]
  },
  {
   "cell_type": "code",
   "execution_count": 15,
   "id": "70ed626b-4cd1-47cf-9ec6-ea05ab2e0d07",
   "metadata": {
    "tags": []
   },
   "outputs": [
    {
     "data": {
      "text/plain": [
       "['acarlevaris@gmail.com',\n",
       " 'ale.lanci@gmail.com',\n",
       " 'armando.scarpetta.as@gmail.com',\n",
       " 'emanuele.cannizzaro@gmail.com',\n",
       " 'fabio.giovanetti.1967@gmail.com',\n",
       " 'gianlucaricotta79@gmail.com',\n",
       " 'giorgiageminiani777@gmail.com',\n",
       " 'giu.bombardieri@gmail.com',\n",
       " 'laserante@gmail.com',\n",
       " 'lukanapp@fastwebnet.it',\n",
       " 'purgatorio.gaetano@gmail.com']"
      ]
     },
     "execution_count": 15,
     "metadata": {},
     "output_type": "execute_result"
    }
   ],
   "source": [
    "users = set()\n",
    "for idx in df.index:\n",
    "    properties = df.loc[idx, 'Properties']\n",
    "    if isinstance(properties, dict):\n",
    "        if 'Subscriber Email' in properties.keys():\n",
    "            users.add(properties['Subscriber Email'])\n",
    "users = sorted(users)\n",
    "users"
   ]
  },
  {
   "cell_type": "code",
   "execution_count": null,
   "id": "fd4e1461-658b-4f69-b34e-a74c58ae6422",
   "metadata": {},
   "outputs": [],
   "source": []
  }
 ],
 "metadata": {
  "kernelspec": {
   "display_name": "Python 3.11 (py311)",
   "language": "python",
   "name": "py311"
  },
  "language_info": {
   "codemirror_mode": {
    "name": "ipython",
    "version": 3
   },
   "file_extension": ".py",
   "mimetype": "text/x-python",
   "name": "python",
   "nbconvert_exporter": "python",
   "pygments_lexer": "ipython3",
   "version": "3.11.0"
  }
 },
 "nbformat": 4,
 "nbformat_minor": 5
}
