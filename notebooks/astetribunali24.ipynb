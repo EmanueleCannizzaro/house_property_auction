{
 "cells": [
  {
   "cell_type": "code",
   "execution_count": null,
   "id": "434f33d6-3404-4099-a920-4ce58a59ab15",
   "metadata": {},
   "outputs": [],
   "source": []
  },
  {
   "cell_type": "code",
   "execution_count": 47,
   "id": "2f5b0d1f-8755-4941-ac32-533e572de213",
   "metadata": {},
   "outputs": [],
   "source": [
    "from bs4 import BeautifulSoup\n",
    "from lxml import etree\n",
    "import pandas as pd\n",
    "import requests"
   ]
  },
  {
   "cell_type": "code",
   "execution_count": null,
   "id": "5527173a-8c59-42d0-ade7-5311d28040d4",
   "metadata": {},
   "outputs": [],
   "source": []
  },
  {
   "cell_type": "code",
   "execution_count": 4,
   "id": "da796d84-96ac-4be3-81eb-90031ddf0e84",
   "metadata": {},
   "outputs": [],
   "source": [
    "HEADERS = ({'User-Agent':\n",
    "            'Mozilla/5.0 (X11; Linux x86_64) AppleWebKit/537.36 \\\n",
    "            (KHTML, like Gecko) Chrome/44.0.2403.157 Safari/537.36',\\\n",
    "            'Accept-Language': 'en-US, en;q=0.5'})"
   ]
  },
  {
   "cell_type": "code",
   "execution_count": 3,
   "id": "1b616cbb-d4f2-43a8-a8cc-e73bb887310b",
   "metadata": {},
   "outputs": [],
   "source": [
    "URL = 'https://astetribunali24.ilsole24ore.com/elenco-tribunali/'"
   ]
  },
  {
   "cell_type": "code",
   "execution_count": 5,
   "id": "f6313e20-7331-471a-9af5-ef7a1a6b7fc9",
   "metadata": {},
   "outputs": [],
   "source": [
    "webpage = requests.get(URL, headers=HEADERS)"
   ]
  },
  {
   "cell_type": "code",
   "execution_count": 6,
   "id": "e60f0934-80b8-4549-a2e1-d59ab8d5bba5",
   "metadata": {},
   "outputs": [],
   "source": [
    "soup = BeautifulSoup(webpage.content, \"html.parser\")"
   ]
  },
  {
   "cell_type": "code",
   "execution_count": 7,
   "id": "0abc44b1-8b7c-425b-8fc1-5dea229254d4",
   "metadata": {},
   "outputs": [],
   "source": [
    "dom = etree.HTML(str(soup))"
   ]
  },
  {
   "cell_type": "code",
   "execution_count": null,
   "id": "6c16b2f2-af67-468c-a83d-bea15c2290e5",
   "metadata": {},
   "outputs": [],
   "source": [
    "    <div class= id=\"tribunale-di-chieti\"><h3 class=\"t3 brd-btm pb-3 d-flex align-items-center justify-content-between\">Tribunale di Chieti <a href=\"http://www.tribunalechieti.it/\" target=\"_blank\" class=\"btn btn-blue\">Vai al sito</a></h3><div class=\"card-item\"><span class=\"card-item__icon icon-map\"></span><p><span class=\"_Xbe\">Piazza Malta 1<br>\n",
    "</span><span class=\"_Xbe\">66100 Chieti<br>\n",
    "</span></p>\n",
    "</div></div>\n"
   ]
  },
  {
   "cell_type": "code",
   "execution_count": 48,
   "id": "4dd6fedf-b2f5-4626-801e-2898af9fb667",
   "metadata": {},
   "outputs": [
    {
     "data": {
      "text/html": [
       "<div>\n",
       "<style scoped>\n",
       "    .dataframe tbody tr th:only-of-type {\n",
       "        vertical-align: middle;\n",
       "    }\n",
       "\n",
       "    .dataframe tbody tr th {\n",
       "        vertical-align: top;\n",
       "    }\n",
       "\n",
       "    .dataframe thead th {\n",
       "        text-align: right;\n",
       "    }\n",
       "</style>\n",
       "<table border=\"1\" class=\"dataframe\">\n",
       "  <thead>\n",
       "    <tr style=\"text-align: right;\">\n",
       "      <th></th>\n",
       "      <th>Region</th>\n",
       "      <th>Name</th>\n",
       "      <th>Address</th>\n",
       "      <th>URL</th>\n",
       "    </tr>\n",
       "  </thead>\n",
       "  <tbody>\n",
       "    <tr>\n",
       "      <th>0</th>\n",
       "      <td>Abruzzo</td>\n",
       "      <td>Tribunale Di Chieti</td>\n",
       "      <td>Piazza Malta 1, 66100 Chieti</td>\n",
       "      <td>http://www.tribunalechieti.it/</td>\n",
       "    </tr>\n",
       "    <tr>\n",
       "      <th>1</th>\n",
       "      <td>Abruzzo</td>\n",
       "      <td>Tribunale Di L’Aquila</td>\n",
       "      <td>Via dell’ industria, 67100 Bazzano, L’Aquila AQ</td>\n",
       "      <td>http://www.tribunale.laquila.giustizia.it/</td>\n",
       "    </tr>\n",
       "    <tr>\n",
       "      <th>2</th>\n",
       "      <td>Abruzzo</td>\n",
       "      <td>Tribunale Di Pescara</td>\n",
       "      <td>Via Antonio Lo Feudo 1, 65129 Pescara (PE)</td>\n",
       "      <td>https://tribunale.pescara.it/</td>\n",
       "    </tr>\n",
       "    <tr>\n",
       "      <th>3</th>\n",
       "      <td>Abruzzo</td>\n",
       "      <td>Tribunale Di Teramo</td>\n",
       "      <td>Via Cesare Beccaria 1, 64100 Teramo TE</td>\n",
       "      <td>http://www.tribunale.teramo.giustizia.it</td>\n",
       "    </tr>\n",
       "    <tr>\n",
       "      <th>4</th>\n",
       "      <td>Basilicata</td>\n",
       "      <td>Tribunale Di Matera</td>\n",
       "      <td>Viale Aldo Moro 26, 75100 Matera MT</td>\n",
       "      <td>http://www.tribunale.matera.it/</td>\n",
       "    </tr>\n",
       "  </tbody>\n",
       "</table>\n",
       "</div>"
      ],
      "text/plain": [
       "       Region                    Name  \\\n",
       "0     Abruzzo    Tribunale Di Chieti    \n",
       "1     Abruzzo  Tribunale Di L’Aquila    \n",
       "2     Abruzzo   Tribunale Di Pescara    \n",
       "3     Abruzzo    Tribunale Di Teramo    \n",
       "4  Basilicata    Tribunale Di Matera    \n",
       "\n",
       "                                           Address  \\\n",
       "0                     Piazza Malta 1, 66100 Chieti   \n",
       "1  Via dell’ industria, 67100 Bazzano, L’Aquila AQ   \n",
       "2       Via Antonio Lo Feudo 1, 65129 Pescara (PE)   \n",
       "3           Via Cesare Beccaria 1, 64100 Teramo TE   \n",
       "4              Viale Aldo Moro 26, 75100 Matera MT   \n",
       "\n",
       "                                          URL  \n",
       "0              http://www.tribunalechieti.it/  \n",
       "1  http://www.tribunale.laquila.giustizia.it/  \n",
       "2               https://tribunale.pescara.it/  \n",
       "3    http://www.tribunale.teramo.giustizia.it  \n",
       "4             http://www.tribunale.matera.it/  "
      ]
     },
     "metadata": {},
     "output_type": "display_data"
    }
   ],
   "source": [
    "cards = dom.xpath('//section')\n",
    "data = {}\n",
    "COLUMNS = ['Region', 'Name', 'Address', 'URL']\n",
    "for cid in COLUMNS:\n",
    "    data[cid] = []\n",
    "for card in cards:\n",
    "    items = card.xpath('./h2[@class=\"t2 t--section\"]/text()')\n",
    "    regions = [t.strip() for t in items]\n",
    "    if len(regions) == 1:\n",
    "        region = regions[0]\n",
    "    else:\n",
    "        raise ValueError('The length of the list of regions is not correct!')\n",
    "    subcards = card.xpath('.//div[@class=\"widget card-tribunale card-box\"]')\n",
    "    for subcard in subcards:\n",
    "        names = subcard.xpath('./h3/text()')\n",
    "        if len(names) == 1:\n",
    "            name = names[0].title()\n",
    "        else:\n",
    "            raise ValueError('The length of the list of names is not correct!')\n",
    "        urls = subcard.xpath('./h3/a[@class=\"btn btn-blue\"]/@href')\n",
    "        if len(urls) == 1:\n",
    "            url = urls[0]\n",
    "        else:\n",
    "            raise ValueError('The length of the list of urls is not correct!')\n",
    "        #addresses = ', '.join([x for x in subcard.xpath('.//span[@class=\"_Xbe\"]/text()') if x.strip()])\n",
    "        address = ', '.join([x.replace(',', '').replace('\\n', '') for x in subcard.xpath('.//p//text()') if x.strip()])\n",
    "        #tribunals = [t.strip() for t in items]\n",
    "        data['Region'].append(region)\n",
    "        data['Name'].append(name)\n",
    "        data['URL'].append(url)\n",
    "        data['Address'].append(address)\n",
    "\n",
    "df = pd.DataFrame(data)\n",
    "print(df.shape)\n",
    "display(df.head())\n",
    "#print(f\"{region}, {name}, {url}, {address}\")"
   ]
  },
  {
   "cell_type": "code",
   "execution_count": 51,
   "id": "018cc574-f514-49ad-bd51-284f1a22bbb0",
   "metadata": {},
   "outputs": [],
   "source": [
    "ofilename = 'tribunals.xlsx'\n",
    "df.to_excel(ofilename)"
   ]
  },
  {
   "cell_type": "code",
   "execution_count": 12,
   "id": "44cc180b-2498-46b4-a35d-f8af18a14fbb",
   "metadata": {},
   "outputs": [],
   "source": [
    "items = dom.xpath('//h2[@class=\"t2 t--section\"]/text()')\n",
    "regions = [t.strip() for t in items]"
   ]
  },
  {
   "cell_type": "code",
   "execution_count": 14,
   "id": "f2ee4a74-153c-4ba3-b8ca-f6464bbe9d5c",
   "metadata": {},
   "outputs": [
    {
     "data": {
      "text/plain": [
       "['Abruzzo',\n",
       " 'Basilicata',\n",
       " 'Calabria',\n",
       " 'Campania',\n",
       " 'Emilia-Romagna',\n",
       " 'Friuli-Venezia Giulia',\n",
       " 'Lazio',\n",
       " 'Liguria',\n",
       " 'Lombardia',\n",
       " 'Marche',\n",
       " 'Molise',\n",
       " 'Piemonte',\n",
       " 'Puglia',\n",
       " 'Sardegna',\n",
       " 'Sicilia',\n",
       " 'Toscana',\n",
       " 'Trentino-Alto Adige',\n",
       " 'Umbria',\n",
       " \"Valle d'Aosta\",\n",
       " 'Veneto']"
      ]
     },
     "execution_count": 14,
     "metadata": {},
     "output_type": "execute_result"
    }
   ],
   "source": [
    "items = dom.xpath('//h2[@class=\"t2 t--section\"]/text()')\n",
    "regions = [t.strip() for t in items]"
   ]
  },
  {
   "cell_type": "code",
   "execution_count": 9,
   "id": "c7f0926d-99d9-4db2-bf2d-257709cbf333",
   "metadata": {},
   "outputs": [
    {
     "name": "stdout",
     "output_type": "stream",
     "text": [
      "\n",
      "        Abruzzo      \n"
     ]
    }
   ],
   "source": [
    "print([0].text)"
   ]
  },
  {
   "cell_type": "code",
   "execution_count": null,
   "id": "b970c1d1-61c7-47ab-a49f-702bcf49c403",
   "metadata": {},
   "outputs": [],
   "source": [
    "<h2 class=\"t2 t--section\">\n",
    "        Abruzzo      </h2>"
   ]
  }
 ],
 "metadata": {
  "kernelspec": {
   "display_name": "Python 3.11 (py311)",
   "language": "python",
   "name": "py311"
  },
  "language_info": {
   "codemirror_mode": {
    "name": "ipython",
    "version": 3
   },
   "file_extension": ".py",
   "mimetype": "text/x-python",
   "name": "python",
   "nbconvert_exporter": "python",
   "pygments_lexer": "ipython3",
   "version": "3.11.0"
  }
 },
 "nbformat": 4,
 "nbformat_minor": 5
}
